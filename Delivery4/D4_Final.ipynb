{
  "nbformat": 4,
  "nbformat_minor": 0,
  "metadata": {
    "colab": {
      "name": "D4_Final.ipynb",
      "provenance": [],
      "collapsed_sections": []
    },
    "kernelspec": {
      "display_name": "Python 3",
      "language": "python",
      "name": "python3"
    },
    "language_info": {
      "codemirror_mode": {
        "name": "ipython",
        "version": 3
      },
      "file_extension": ".py",
      "mimetype": "text/x-python",
      "name": "python",
      "nbconvert_exporter": "python",
      "pygments_lexer": "ipython3",
      "version": "3.7.7"
    }
  },
  "cells": [
    {
      "cell_type": "code",
      "metadata": {
        "colab_type": "code",
        "id": "tUjTgNadAlzP",
        "colab": {}
      },
      "source": [
        "import pandas as pd\n",
        "import seaborn as sns\n",
        "import numpy as np"
      ],
      "execution_count": 0,
      "outputs": []
    },
    {
      "cell_type": "code",
      "metadata": {
        "colab_type": "code",
        "id": "hzibCbIkA6ig",
        "colab": {}
      },
      "source": [
        "sdata = pd.read_csv('2014_2020DJIA.csv')"
      ],
      "execution_count": 0,
      "outputs": []
    },
    {
      "cell_type": "code",
      "metadata": {
        "colab_type": "code",
        "id": "LK34ktLTBHpr",
        "outputId": "27fc6064-5f73-47dc-c393-abb8218bb3fd",
        "colab": {
          "base_uri": "https://localhost:8080/",
          "height": 224
        }
      },
      "source": [
        "sdata.head()"
      ],
      "execution_count": 0,
      "outputs": [
        {
          "output_type": "execute_result",
          "data": {
            "text/html": [
              "<div>\n",
              "<style scoped>\n",
              "    .dataframe tbody tr th:only-of-type {\n",
              "        vertical-align: middle;\n",
              "    }\n",
              "\n",
              "    .dataframe tbody tr th {\n",
              "        vertical-align: top;\n",
              "    }\n",
              "\n",
              "    .dataframe thead th {\n",
              "        text-align: right;\n",
              "    }\n",
              "</style>\n",
              "<table border=\"1\" class=\"dataframe\">\n",
              "  <thead>\n",
              "    <tr style=\"text-align: right;\">\n",
              "      <th></th>\n",
              "      <th>Date</th>\n",
              "      <th>Open</th>\n",
              "      <th>High</th>\n",
              "      <th>Low</th>\n",
              "      <th>Close</th>\n",
              "      <th>Adj Close</th>\n",
              "      <th>Volume</th>\n",
              "      <th>Label</th>\n",
              "    </tr>\n",
              "  </thead>\n",
              "  <tbody>\n",
              "    <tr>\n",
              "      <th>0</th>\n",
              "      <td>4/3/2020</td>\n",
              "      <td>21285.92969</td>\n",
              "      <td>21447.81055</td>\n",
              "      <td>20863.08984</td>\n",
              "      <td>21052.52930</td>\n",
              "      <td>21052.52930</td>\n",
              "      <td>450010000</td>\n",
              "      <td>0</td>\n",
              "    </tr>\n",
              "    <tr>\n",
              "      <th>1</th>\n",
              "      <td>4/2/2020</td>\n",
              "      <td>20819.46094</td>\n",
              "      <td>21477.76953</td>\n",
              "      <td>20735.01953</td>\n",
              "      <td>21413.43945</td>\n",
              "      <td>21413.43945</td>\n",
              "      <td>529540000</td>\n",
              "      <td>1</td>\n",
              "    </tr>\n",
              "    <tr>\n",
              "      <th>2</th>\n",
              "      <td>4/1/2020</td>\n",
              "      <td>21227.38086</td>\n",
              "      <td>21487.24023</td>\n",
              "      <td>20784.42969</td>\n",
              "      <td>20943.50977</td>\n",
              "      <td>20943.50977</td>\n",
              "      <td>506680000</td>\n",
              "      <td>0</td>\n",
              "    </tr>\n",
              "    <tr>\n",
              "      <th>3</th>\n",
              "      <td>3/31/2020</td>\n",
              "      <td>22208.41992</td>\n",
              "      <td>22480.36914</td>\n",
              "      <td>21852.08008</td>\n",
              "      <td>21917.16016</td>\n",
              "      <td>21917.16016</td>\n",
              "      <td>571210000</td>\n",
              "      <td>0</td>\n",
              "    </tr>\n",
              "    <tr>\n",
              "      <th>4</th>\n",
              "      <td>3/30/2020</td>\n",
              "      <td>21678.22070</td>\n",
              "      <td>22378.08984</td>\n",
              "      <td>21522.08008</td>\n",
              "      <td>22327.48047</td>\n",
              "      <td>22327.48047</td>\n",
              "      <td>545540000</td>\n",
              "      <td>1</td>\n",
              "    </tr>\n",
              "  </tbody>\n",
              "</table>\n",
              "</div>"
            ],
            "text/plain": [
              "        Date         Open         High  ...    Adj Close     Volume  Label\n",
              "0   4/3/2020  21285.92969  21447.81055  ...  21052.52930  450010000      0\n",
              "1   4/2/2020  20819.46094  21477.76953  ...  21413.43945  529540000      1\n",
              "2   4/1/2020  21227.38086  21487.24023  ...  20943.50977  506680000      0\n",
              "3  3/31/2020  22208.41992  22480.36914  ...  21917.16016  571210000      0\n",
              "4  3/30/2020  21678.22070  22378.08984  ...  22327.48047  545540000      1\n",
              "\n",
              "[5 rows x 8 columns]"
            ]
          },
          "metadata": {
            "tags": []
          },
          "execution_count": 203
        }
      ]
    },
    {
      "cell_type": "code",
      "metadata": {
        "colab_type": "code",
        "id": "j5eCux5iFmwj",
        "outputId": "9b97bd0a-5b4b-41ba-c2c2-896ec1c91a49",
        "colab": {
          "resources": {
            "http://localhost:8080/nbextensions/google.colab/files.js": {
              "data": "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",
              "headers": [
                [
                  "content-type",
                  "application/javascript"
                ]
              ],
              "ok": true,
              "status": 200,
              "status_text": ""
            }
          },
          "base_uri": "https://localhost:8080/",
          "height": 74
        }
      },
      "source": [
        "\n",
        "#from google.colab import files\n",
        "#uploaded = files.upload()"
      ],
      "execution_count": 0,
      "outputs": [
        {
          "output_type": "display_data",
          "data": {
            "text/html": [
              "\n",
              "     <input type=\"file\" id=\"files-b1a4ef2c-4566-428b-a2d5-a5fc25a52033\" name=\"files[]\" multiple disabled />\n",
              "     <output id=\"result-b1a4ef2c-4566-428b-a2d5-a5fc25a52033\">\n",
              "      Upload widget is only available when the cell has been executed in the\n",
              "      current browser session. Please rerun this cell to enable.\n",
              "      </output>\n",
              "      <script src=\"/nbextensions/google.colab/files.js\"></script> "
            ],
            "text/plain": [
              "<IPython.core.display.HTML object>"
            ]
          },
          "metadata": {
            "tags": []
          }
        },
        {
          "output_type": "stream",
          "text": [
            "Saving NewsHeadlines3.csv to NewsHeadlines3.csv\n"
          ],
          "name": "stdout"
        }
      ]
    },
    {
      "cell_type": "code",
      "metadata": {
        "colab_type": "code",
        "id": "1oIruf1iI8o6",
        "colab": {}
      },
      "source": [
        "import pandas as pd\n",
        "newsdata1 = pd.read_csv('NewsHeadlines3.csv')"
      ],
      "execution_count": 0,
      "outputs": []
    },
    {
      "cell_type": "code",
      "metadata": {
        "colab_type": "code",
        "id": "6huPyMTwPPkC",
        "outputId": "676797fe-8cc1-492f-d5b5-8e1881d7c17f",
        "colab": {
          "base_uri": "https://localhost:8080/",
          "height": 119
        }
      },
      "source": [
        "print(newsdata1.shape)\n",
        "print(newsdata1.dtypes)"
      ],
      "execution_count": 535,
      "outputs": [
        {
          "output_type": "stream",
          "text": [
            "(999, 4)\n",
            "Index          int64\n",
            "title         object\n",
            "date          object\n",
            "Label_News     int64\n",
            "dtype: object\n"
          ],
          "name": "stdout"
        }
      ]
    },
    {
      "cell_type": "code",
      "metadata": {
        "colab_type": "code",
        "id": "BTVAQT8DNOJN",
        "outputId": "c2aed92f-1a22-4a40-ef26-8407d63e6723",
        "colab": {
          "base_uri": "https://localhost:8080/",
          "height": 187
        }
      },
      "source": [
        "print(sdata.shape)\n",
        "print(sdata.dtypes)"
      ],
      "execution_count": 0,
      "outputs": [
        {
          "output_type": "stream",
          "text": [
            "(1408, 8)\n",
            "Date          object\n",
            "Open         float64\n",
            "High         float64\n",
            "Low          float64\n",
            "Close        float64\n",
            "Adj Close    float64\n",
            "Volume         int64\n",
            "Label          int64\n",
            "dtype: object\n"
          ],
          "name": "stdout"
        }
      ]
    },
    {
      "cell_type": "code",
      "metadata": {
        "colab_type": "code",
        "id": "DWqxG734Vzeo",
        "colab": {}
      },
      "source": [
        "sdata['Date'] = pd.to_datetime(sdata['Date'])"
      ],
      "execution_count": 0,
      "outputs": []
    },
    {
      "cell_type": "code",
      "metadata": {
        "colab_type": "code",
        "id": "NPWhjHxYV_mC",
        "outputId": "246b2f1c-f48e-471e-89e0-aed5379b7fd4",
        "colab": {
          "base_uri": "https://localhost:8080/",
          "height": 170
        }
      },
      "source": [
        "print(sdata.dtypes)"
      ],
      "execution_count": 0,
      "outputs": [
        {
          "output_type": "stream",
          "text": [
            "Date         datetime64[ns]\n",
            "Open                float64\n",
            "High                float64\n",
            "Low                 float64\n",
            "Close               float64\n",
            "Adj Close           float64\n",
            "Volume                int64\n",
            "Label                 int64\n",
            "dtype: object\n"
          ],
          "name": "stdout"
        }
      ]
    },
    {
      "cell_type": "code",
      "metadata": {
        "colab_type": "code",
        "id": "ErTBcTNrPXNg",
        "colab": {}
      },
      "source": [
        "train = sdata[(sdata['Date']) < '2017-06-13']\n",
        "test = sdata[(sdata['Date']) > '2017-06-09']"
      ],
      "execution_count": 0,
      "outputs": []
    },
    {
      "cell_type": "code",
      "metadata": {
        "colab_type": "code",
        "id": "JPz8WCNR08_b",
        "outputId": "9e201a5f-e54f-4b60-d43e-f5d19a659a19",
        "colab": {
          "base_uri": "https://localhost:8080/",
          "height": 204
        }
      },
      "source": [
        "print(train.shape)\n",
        "print(train.dtypes)\n",
        "print(test.shape)"
      ],
      "execution_count": 0,
      "outputs": [
        {
          "output_type": "stream",
          "text": [
            "(700, 8)\n",
            "Date         datetime64[ns]\n",
            "Open                float64\n",
            "High                float64\n",
            "Low                 float64\n",
            "Close               float64\n",
            "Adj Close           float64\n",
            "Volume                int64\n",
            "Label                 int64\n",
            "dtype: object\n",
            "(709, 8)\n"
          ],
          "name": "stdout"
        }
      ]
    },
    {
      "cell_type": "code",
      "metadata": {
        "colab_type": "code",
        "id": "_JywPwQTqUSv",
        "colab": {}
      },
      "source": [
        "trainNews = newsdata1[(newsdata1['Index']) < 701]\n",
        "testNews = newsdata1[(newsdata1['Index']) > 700]"
      ],
      "execution_count": 0,
      "outputs": []
    },
    {
      "cell_type": "code",
      "metadata": {
        "colab_type": "code",
        "id": "VASz-LJtq2Zz",
        "outputId": "c25bdc4e-240b-4a27-cf1a-f66aa4cd5043",
        "colab": {
          "base_uri": "https://localhost:8080/",
          "height": 136
        }
      },
      "source": [
        "print(trainNews.shape)\n",
        "print(trainNews.dtypes)\n",
        "print(testNews.shape)"
      ],
      "execution_count": 0,
      "outputs": [
        {
          "output_type": "stream",
          "text": [
            "(700, 4)\n",
            "Index          int64\n",
            "title         object\n",
            "date          object\n",
            "Label_News     int64\n",
            "dtype: object\n",
            "(299, 4)\n"
          ],
          "name": "stdout"
        }
      ]
    },
    {
      "cell_type": "code",
      "metadata": {
        "id": "PdhQxMVBMVl5",
        "colab_type": "code",
        "outputId": "cb9e9a1c-91ef-475b-b8ed-bf8b94bfcb63",
        "colab": {
          "base_uri": "https://localhost:8080/",
          "height": 221
        }
      },
      "source": [
        "trainNews.title"
      ],
      "execution_count": 0,
      "outputs": [
        {
          "output_type": "execute_result",
          "data": {
            "text/plain": [
              "299    Most people who sat out the 2018 elections now...\n",
              "300    President Donald Trump on Friday signed legisl...\n",
              "301    Jennie-O Recalls More Than 164,000 Pounds of G...\n",
              "302    Ruth Bader Ginsburg Eager to Hit the Gym After...\n",
              "303    Man wrongfully convicted for doppelganger's cr...\n",
              "                             ...                        \n",
              "994    Measles returns: Of vaccines and vacuous starl...\n",
              "995    Netflix is Planning to put an End to Geographi...\n",
              "996    'Unintelligent' blacks 'brainwashed' to choose...\n",
              "997    Video shows S.C. trooper shoot unarmed, cooper...\n",
              "998    Two Cops Taser Black Man Trying To Pick Up His...\n",
              "Name: title, Length: 700, dtype: object"
            ]
          },
          "metadata": {
            "tags": []
          },
          "execution_count": 209
        }
      ]
    },
    {
      "cell_type": "code",
      "metadata": {
        "id": "ADKc7CuwKmfd",
        "colab_type": "code",
        "outputId": "1c1cf632-e1e6-4bf5-a875-0e7d627a1e09",
        "colab": {
          "base_uri": "https://localhost:8080/",
          "height": 34
        }
      },
      "source": [
        "allNewsTrain=trainNews['title'].tolist()\n",
        "len(allNewsTrain)"
      ],
      "execution_count": 0,
      "outputs": [
        {
          "output_type": "execute_result",
          "data": {
            "text/plain": [
              "700"
            ]
          },
          "metadata": {
            "tags": []
          },
          "execution_count": 210
        }
      ]
    },
    {
      "cell_type": "code",
      "metadata": {
        "colab_type": "code",
        "id": "eDr5EZLs1gmf",
        "outputId": "1b5b6e9f-9df9-4b83-d9bc-db6d4cf2bd90",
        "colab": {
          "base_uri": "https://localhost:8080/",
          "height": 54
        }
      },
      "source": [
        "print(allNewsTrain)"
      ],
      "execution_count": 0,
      "outputs": [
        {
          "output_type": "stream",
          "text": [
            "[\"Most people who sat out the 2018 elections now say they wish they'd voted\", 'President Donald Trump on Friday signed legislation ramping up quantum computing research and development: \"The National Quantum Initiative Act (H.R. 6227) authorizes $1.2 billion over five years for federal activities aimed at boosting investment in quantum information science\"', 'Jennie-O Recalls More Than 164,000 Pounds of Ground Turkey', \"Ruth Bader Ginsburg Eager to Hit the Gym After Cancer Surgery: 'When Can We Go Back to Training?'\", \"Man wrongfully convicted for doppelganger's crime awarded $1.1 million\", 'Trump signs farm bill that backs climate change programs, avoids food stamp cuts', 'An Epidemic Is Killing Thousands Of Coal Miners. Regulators Could Have Stopped It', 'Staff at a bank in Ohio called police on a black man trying to cash his paycheck', 'Almost half of U.S. adults have seen a family member jailed, study shows -- About 6.5 million adults have an immediate family member incarcerated.', \"Harvey Weinstein 'bragged of sex with Jennifer Lawrence', lawsuit alleges\", 'Mobile billboard takes over the D.C. streets exposing “Net Neutrality Traitors” who have failed to support the Congressional Review Act', 'Trump Inauguration Spending Under Criminal Investigation', 'Alleged Russian spy Maria Butina pleads guilty to engaging in conspiracy against US', 'Publisher of National Enquirer admits paying hush money to help Trump ahead of 2016 election', 'National Debt Under Trump Is Surging at Its Fastest Pace Since 2012', 'Trump said he is not afraid of an impeachment', 'Inslee, Governor of Washington State, wants 100 percent clean energy in Washington by 2045', \"Biden hits Sanders' home turf as he tests 2020 waters\", \"Trump 'at center of massive fraud against Americans', top Democrat says\", '13-year-old student with autism dies after being physically restrained at school', 'Renowned Chinese-American Stanford theoretical physicist Shoucheng Zhang who discovered a new state of matter called topological insulator, explained fractional quantum Hall effect and founded venture capital firm Danhua Capital dies at 55', 'Dow falls 600 points after Trump advisers simultaneously contradict each other on trade', 'Tucker Carlson says Trump is ‘not capable’ and hasn’t kept his promises', 'California Democrats plan to extend Medicaid to illegal immigrants', 'Border Patrol agent charged with capital murder in Texas, after telling investigators he killed four sex workers whom he considered worthless and that he thought he was performing a service for his Texas border hometown', 'Serial sex abuser Jeffrey Epstein apologizes — but not to his victims', 'Dow sinks nearly 600 points as U.S.-China trade, falling 10-year yield spook investors', 'Lobbyists Are Working to Sneak a Dangerous Copyright Bill into Must-Pass Spending Legislation that Could Revive Website Blocking Proposals Like SOPA', \"'SpongeBob SquarePants' Fans Petition NFL for Super Bowl Tribute to Late Creator\", 'More than 5,500 women came to Illinois to have an abortion last year amid growing restrictions in the Midwest', 'George HW Bush dies at 94', 'U.S. Marshal shot and killed outside Arizona house while trying to serve felony warrant', 'Republicans Senators Who Tried to Kill Yemen War Resolution Were Paid by Saudi Lobbyists', \"Veterans Affairs Dept. tells congressional staffers it won't repay underpaid GI Bill benefits recipients\", \"Mom suing U.S. government for $60 million after toddler dies following 'neglectful' immigration detainment\", \"Stephen Hillenburg, creator of 'SpongeBob SquarePants,' has died\", \"Bernie Sanders: I will probably run in 2020 if I'm the best candidate to beat Trump\", \"Black man killed by Alabama police during mall shooting was 'likely' not the gunman\", '190 sea turtles found frozen to death along Cape Cod', 'Girl Who Wrote Essay About “Senseless Gun Violence” Killed by Stray Bullet in Milwaukee', 'Oregon man tried to bribe ICE officer to deport his wife and her child. Antonio Burgos married the woman and brought her and her child to the United States from El Salvador, according to his guilty plea.', 'Nearly 30 families to be released from South Texas detention center after a federal judge blocked new rules by President Donald Trump that limited the ability of immigrants to request asylum.', 'NFL star Aaron Rodgers pledges $1 million to Camp Fire relief efforts', 'PSA: CDC warns against eating any type of Romaine lettuce due to health risk', 'Ivanka Trump used a personal email account to send hundreds of emails about government business last year', 'Anti-vaccine community behind North Carolina chickenpox outbreak', \"‘You don’t go to jail for lying on TV’: GoFundMe scam suspect allegedly says in bombshell recording. Woman arrested in $400,000 GoFundMe fraud scandal was just trying to help homeless veteran and is 'a bit naive,' lawyer says.\", 'Living with an Unmarried Partner Now Common for Young Adults', 'Bankrupt Sears wants to give executives $19 million in bonuses', 'Coast Guard seizes about $500 million worth of cocaine', 'New Jersey couple and homeless man whose feel-good story went viral charged with GoFundMe scam. Their GoFundMe story was fake', 'Montana: Federal judge denies motion to dismiss case against publisher of neo-Nazi website', 'FBI: Reported hate crimes surged by 17 percent in US last year', 'CNN sues President Trump and top White House aides for barring Jim Acosta', 'Death toll in California wildfire rises to 42, marking worst in state history', 'Security guard Jemel Roberson shot dead by police while holding suspect at Chicago bar', \"Marvel's Stan Lee dies, aged 95.\", \"Veterans haven't received GI Bill benefits for months due to ongoing IT issues at VA\", 'CA-48 NEWS: Harley Rouda declares victory, unseating antigay Congressman Dana Rohrabacher', 'Fires across California have forced 157,000 people from their homes; 5 found dead in vehicles', \"Antifa at Tucker Carlson's home: Group breaks door, chants at Fox host\", 'Sessions out at Justice Department', 'Michigan becomes 10th state to legalize recreational use of Marijuana', 'Reports of long lines, broken machines as voters go to polls', \"Three US Girl Scouts killed 'by intoxicated driver' in hit-and-run\", \"Ivanka Trump's Business Wins Approval for 16 New Chinese Trademarks Despite Shutting Down\", 'Utah mayor killed in \"insider attack\" in Afghanistan, officials say', \"In Wisconsin, Some Fear Foxconn Factory's Main Product Is Smoke and Mirrors\", 'The Cop Said He “Slipped.” The Video Shows Him Forcing An 11-Year-Old Girl To The Ground. He Wasn’t Punished.', 'Local, national officials decline to appear with Trump in Pittsburgh', 'Trump’s Saudi Arabia Response Shows His Foreign Policy Is Only About Money', 'Texas admits: Voting machines are changing Texas voters ballots', 'Google sacks dozens over sexual harassment', 'Dow tumbles more than 600 points and sheds year-to-date gains amid late-session drop', \"Secret Service intercepts 2 'suspicious packages' addressed to Obama, Clinton\", 'New Jersey mom helps thwart school shooting plot in Kentucky', 'Mikhail Gorbachev warns Donald Trump against pulling out of missile treaty with Russia', 'Remains of 63 Fetuses and Infants Found at Second Detroit Funeral Home', 'Over 1,000 Remain Missing A Week After Hurricane Michael', 'U.S. retailer Sears files for Chapter 11 bankruptcy', 'Rates of unvaccinated children on the rise, says CDC', 'Chief Justice Roberts Requests Tenth Circuit To Investigate Kavanaugh Ethics Questions', 'Video Released of White Man Shooting at 14-Year-Old Black Teen Who Asked for Directions', 'Utah just experienced its driest year since scientists have kept records', 'Bride goes ahead with wedding photos, despite tragic loss of firefighter fiance', \"Colin Powell Says Donald Trump has Turned America from 'We the People' to 'Me the President'\", 'Officer who fatally shot Tamir Rice hired by Bellaire, Ohio, police department', 'Popular sparkling water company LaCroix is facing a lawsuit that alleges its products are mislabeled as \"all-natural,\" and the allegations are weighing on the shares of its parent company National Beverage', 'Undercover cops break Facebook rules to track protesters, ensnare criminals', 'Heitkamp To Vote No On Kavanaugh', 'Palin’s son to spend year in custody after third assault allegation', 'Trump Engaged in Suspect Tax Schemes as He Reaped Riches From His Father', 'L.A. airport allowing passengers to carry marijuana', \"California's tough net neutrality bill prompts US lawsuit\", \"Warren plans to take a 'hard look' at running for president\", 'Nashville police officer charged with criminal homicide after shooting black man in the back', 'Ford CEO says metals tariffs cost company $1 billion', 'Dallas officer fired for killing innocent man in his own apartment', 'Man who impregnated 10-year-old girl sentenced to 160 years in prison', 'Duke Energy confirms new coal ash spill in North Carolina', \"McCaskill says she's voting 'no' on Brett Kavanaugh for Supreme Court\", 'New research shows that, post net neutrality, internet providers are slowing down your streaming', \"Trump's Space Force could cost nearly $13B over 5 years\", \"Brett Kavanaugh 'sexual assault victim' speaks\", 'BREAKING: 6 people dead, including suspect, following multiple shootings in Southeast Bakersfield', 'Court rules man in ICE custody for nearly two years is US citizen: report', 'Pentagon Was Not Notified Of Proposal To Change Military Lending Act : NPR', 'President Trump caught cracking joke about terrorists while discussing Niger ambush where four U.S. soldiers died', 'Louisiana Mayor Bans All Nike Purchases For City Recreation Programs', 'Ford Recalls 2,000,000 Pickup Trucks; Seat Belts Can Cause Fires', 'A teen who spent his free time speaking out against gun violence was shot and killed in Chicago', \"Colin Kaepernick's Nike commercial is a big hit with consumers, according to industry group\", \"US police captain's son jailed for terror plot\", 'Lawmakers seek answers for why Native American women vanish', \"LeBron James: 'I Stand with Nike' After Colin Kaepernick 'Just Do It' Ad\", 'Kavanaugh Hearing Instantly Melts Down: ‘This is a Charade and a Mockery’', \"Colin Kaepernick Named Face of Nike's 30th Anniversary of 'Just Do It' Campaign\", 'You Did It: California Net Neutrality Passes State Assembly', 'California looks to adopt Obama-style net neutrality rules', \"John McCain's 106-year-old mother expected to attend memorial services in DC, Maryland\", \"Jacksonville shooter legally armed himself in state with one of USA's toughest gun laws\", \"Trump accuses Google of hiding 'fair media' coverage of him\", 'White House urged to lower flag for McCain', \"'Mass shooting' at Madden video game tournament in Jacksonville, Florida\", \"Trump meets with promoter of 'QAnon' conspiracy theory in Oval Office\", 'Longtime Trump Organization CFO Weisselberg granted immunity in Cohen probe', 'Verizon Throttled California Firefighters’ Internet Speeds Amid Blaze', 'Hurricane Lane Strengthens to Category 5, Hawaii Braces for ‘Life-Threatening’ Winds', 'Immigrant charged with murder of Iowa college student MONTEZUMA, Iowa (AP) — A man from Mexico living in the U.S. illegally has confessed to kidnapping college student Mollie Tibbetts while she was running in her small Iowa hometown, killing her and dumping her body in a rural field', \"Twenty-two states ask U.S. appeals court to reinstate 'net neutrality' rules\", 'ICE says man taken while rushing pregnant wife to hospital is wanted for murder in Mexico', 'Satanic Temple Unveils Baphomet Statue at Arkansas Capitol', '87-year-old woman tasered by US police while cutting dandelions in Georgia', 'Teen who survived fall from 60-foot bridge speaks out: I want pusher in jail', 'NYU Makes Tuition Free for All Medical Students School has raised more than $450 million of its estimated $600 million needed to cover tuition in perpetuity', 'Reddit sleuth identifies car part leading to hit-and-run arrest', 'Google tracks users who turn off location history', 'Trump signs defense bill suspending delivery of F-35 warplanes to Turkey', \"Ark. officer fired for telling black men they 'don't belong' in city\", 'Sex scandal claims megachurch leadership', 'There Will Now Likely Be Two Democratic Socialists of America Members in Congress', 'The private prison industry, explained -- The federal government was phasing out private prisons until the Trump administration took office. Why the reversal?', 'West Hollywood City Council passes resolution to remove Donald Trump Walk of Fame star: Mayor', 'Facebook, Apple, YouTube and Spotify take down Alex Jones content', 'No, U.S. Steel is not opening six new mills as Donald Trump said', \"'It's going to be hard': Sears pension payments cut by 30% this week | CBC News\", '395 People in 15 States Infected in McDonald’s Salad Outbreak', \"Sarah Jeong's racist tweets spotlighted after New York Times hiring: 'White men are bulls--'. Writer: 'It's sick how much joy I get from being cruel to old white men'\", 'Ted Cruz 2018 election: new polls show challenger Beto O’Rourke has a real shot', 'Supreme Court rejects Trump bid to halt climate change case', \"New York Times urges Trump to end 'enemy' rhetoric\", 'Facebook suspends US conspiracy theorist Alex Jones | Technology', 'U.S. Senate quietly votes to cut tariffs on hundreds of Chinese goods', 'U.S. border guards target Canadian cannabis executives. At least a dozen executives in the past three months have been banned for life from entering America', 'U.S. home sales fall as prices hit record high', 'Steve Tisch rips President Trump, says Giants won’t punish anthem protesters', 'Father of Parkland survivors shot dead', 'Measure to break California into 3 states removed from November ballot after court ruling', 'Secret Service agent traveling with Trump dies in Scotland', 'States sue U.S. to void state and local tax deduction cap', \"Trump praises Putin's 'incredible' offer for special counsel investigators to 'come and work' with Russia on probe\", \"Black farmers file lawsuit alleging company sold 'inferior' seeds on purpose\", 'ICE agents arrest 18 human smugglers, 117 illegal immigrants in Texas, New Mexico', 'Charges against Stormy Daniels are dismissed after Ohio strip club arrest', 'Northern California jail ends federal immigration contract', 'Trump pardons ranchers whose arrests led to armed occupation of wildlife refuge', \"91-year-old man beaten with brick, told 'go back to your own country'\", 'National debt at highest level since after WWII', \"US malls haven't been this empty since 2012\", 'Trump unexpectedly reveals Scott Pruitt has resigned', \"Former Donald Trump personal attorney Michael Cohen scrubbed the president's name from his Twitter account\", 'Idaho: 9 people, including refugees, targeted in stabbings on State Street in Boise, police say', 'Iowa Supreme Court rejects 72-hour abortion waiting period requirement, says women have right to abortion', 'Justice Kennedy retiring; Trump gets 2nd Supreme Court pick', 'U.S. approves first marijuana plant-derived drug for epilepsy', 'HBO Website Is Down in China After John Oliver Skewers Xi', 'AT&T Employees Reportedly Encouraged to Use Unethical Sales Tactics to Drive Up DirecTV Now Subscriptions', 'Border patrol agents are stopping people on highways in New England to check their citizenship', \"Woman 'humiliated' by Walgreens over drugs to end pregnancy\", 'Trump signs order to end migrant separation', 'NFL Players Association May Challenge New Anthem Policy In Court', \"Teens are having less sex and doing drugs less often, but they're sad\", 'New York\\'s attorney general is suing the Trump Foundation, as well as Donald Trump and his children, alleging \"extensive and persistent\" lawbreaking.', 'Dancing FBI agent who dropped gun during backflip charged in shooting', 'Florida revoked 291 concealed weapons permits after an employee stopped reviewing background checks', \"Trump: Yes, I'll probably back Elizabeth Warren's bill to force the feds to follow state marijuana laws\", 'Navy intelligence compromised by Chinese hackers in massive data breach: Report', \"CNN's Anthony Bourdain dead at 61\", 'Billions in U.S. solar projects shelved after Trump panel tariff', 'America may soon face its biggest labor strike in decades', 'The home of Parkland survivor David Hogg was swatted this morning', 'Justices side with Colorado baker on same-sex wedding cake', 'EPA paid $1,560 for 12 fountain pens', 'Thieves in Inglewood steal $18K in chemo medicine from man battling cancer', 'Hitting pay dirt: American firms reveal the gulf between bosses’ and workers’ pay -- Some states either already have, or are considering imposing, higher taxes on companies with especially big gaps', \"Dick's soaring sales prove it can succeed without assault rifles\", 'Grand jury indicts Harvey Weinstein in rape case', 'Ambien maker responds to Roseanne: Racism is ‘not a known side effect’', 'U.S. economy grew slightly slower 2.2% in first quarter, revised GDP figures show', 'Missouri Governor Eric Greitens resigns amid sex scandal', 'Harvard study: Black defendants get longer sentences from GOP-appointed judges', \"ABC cancels 'Roseanne' after star's racist Twitter rant\", 'Rudy Giuliani booed by Yankee fans on his birthday', 'Ex-Green Beret, NFLer weighs in on anthem rule', 'Telemarketing: America is losing the war against robocalls -- Install a blocking app on your phone—not much else can be done', 'The mid-terms: We think the Democrats are favoured to take the House -- But the contest is finely balanced', 'President George H.W. Bush hospitalized after experiencing low blood pressure Sunday', 'California video shows sharks being finned alive and beaten with bats', 'Shootings mark a violent Memorial Day weekend in DC', 'An American Airlines Passenger Was Refused Beer - So He Screamed, Fought And Spit Blood, FBI Says', 'Ball and chain: Lawmakers are trying to curb contracts that make it harder to change jobs -- Non-compete agreements are startlingly common in America, even for workers on low pay', 'Teacher corrects White House letter, sends it back to Trump', \"TotalBiscuit, one of gaming's most popular YouTubers, has passed away\", \"Border Patrol slightly changes account of undocumented woman's fatal shooting\", 'BREAKING: Armed Citizen Kills Mass Shooter At Oklahoma Restaurant', 'Male student detained as suspect in shooting at Indiana middle school, Noblesville police chief says. Adult teacher, juvenile shooter transported to hospital', 'Suspect in custody after shots reported fired at a Indiana middle school', 'Elon Musk To Develop Media Bias Rating Website: Media Freaks Out', 'Trump pulls out of North Korea summit', \"Jets CEO Chris Johnson Says He'll Pay The Fines For His Players Who Want To Protest During Anthem\", 'Judge Rules Trump Can’t Block People on Twitter', \"Judge rules 30-year-old must move out of his parents' house\", 'Nearly 100 illegal immigrants found hiding in trailer during traffic stop', 'US couple sue son who refuses to move out', 'California Becomes First State to Require Solar Panels on New Houses', 'Hawaii volcano lava flows into power plant, sparking fears of deadly gas release', 'Sinkhole appears on White House lawn', 'Trump says summit with Kim may be delayed', 'Barack and Michelle Obama to make TV and films for Netflix', \"White House, EPA headed off chemical pollution study -- The intervention by Scott Pruitt’s aides came after one White House official warned the findings would cause a ‘public relations nightmare.'\", 'The payers’ revolt: Americans, tired of high-priced drugs, are fighting back -- Whatever Donald Trump says, pharma firms should feel queasy', \"FYI: English isn't the official language of the United States. A lot of multilingual countries promote an official language, but the United States has never done so with English. In fact, the US has no official language.\", 'US and China halt imposing import tariffs', \"China will 'significantly increase' purchases of US goods and services\", 'Houston Police Chief Says He’s Sick Of Inaction On Gun Control', 'Houston Texans defensive end to pay for Texas shooting funerals', 'In April, they walked out to protest school shootings. Today, they were victims of one', 'LIVE COVERAGE: At least 8 killed in Santa Fe High School shooting', \"'Eight killed' in Texas school shooting\", 'US birth rates hit record low and diaper, baby bottle companies are feeling the pinch', 'Man yelling about the President opens fire at Trump golf resort', '25-year-old posed as Dallas ISD student to relive basketball glory at Hillcrest High, officials say', \"Explosive eruption rocks Hawaii's Kilauea volcano: USGS\", \"When a 5-year-old returned to school for the first time after his police officer dad's death, 70 cops stood beside him\", 'Senate Votes to Save Net Neutrality, Proving Shame Still Works Sometimes', 'Documents show Ajit Pai met with AT&T execs right after the company started paying Michael Cohen.', 'American Airlines bans insects, hedgehogs and goats as emotional support animals', \"Tom Wolfe, pioneering 'New Journalist,' dead at 88\", 'Melania Trump hospitalized after kidney procedure', 'Google Employees Resign in Protest Against Pentagon Contract', 'The US has a salmonella outbreak caused by eggs, leading to the largest recall since 2010', '67 Environmental Rules on the Way Out Under Trump', 'Firm That Denied Its Cohen Payment Was Connected to Russian Billionaire Turns Out to Be Super-Connected to Russian Billionaire', 'Authorities respond to reports of shots fired at Highland High School in Palmdale, California', 'Hurting from low sales and Trump tariffs, Harley Davidson will close its Kansas City plant', 'Mormon church severing ties with Boy Scouts, ending century-long bond', \"Native American men removed from university tour after parent tells cops they made her 'nervous'\", \"Homeless man breaks into California governor's residence, says he's an 'open-door policy kind of guy'\", 'Federal agents peered into a duffel bag on the Mexico border. They found a tiger cub.', \"Bill Cosby 'guilty' of sexual assault\", \"N.J. officers praised after weathering official's profane outburst\", 'Report: Suspected East Area Rapist — who murdered 12, raped 45 — held in Sacramento jail', 'Waffle House shooter was once arrested by Secret Service for trespassing near White House', 'Indiana abortion law signed by Mike Pence ruled unconstitutional by 7th Circuit', 'Minnesota: Prince was a high-profile casualty to fentanyl-laced pill scourge - On Thursday, Carver County Attorney Mark Metz said evidence suggested that Prince unknowingly took counterfeit Vicodin painkillers that actually contained fentanyl.', 'Wells Fargo will be fined $1 billion', 'U.S. appeals court says Ohio cannot block Planned Parenthood funds', 'Ajit Pai’s FCC broadband adviser arrested on fraud charges', 'E.P.A. Chief’s $43,000 Phone Booth Broke the Law, Congressional Auditors Say', 'TSA finds three loaded guns in one morning at Tampa International Airport', 'Trump lawyer arranged $1.6 million payoff to Playboy Playmate for Republican fundraiser: source', \"4 in 10 millennials don't know 6 million Jews were killed in Holocaust, study shows\", 'Zuckerberg deflects senators’ Facebook questions, and gets $3 billion for the effort', 'FDA now accepting comments to reclassify marijuana', \"Dow's 400-point rally is nearly erased in final hour on report of FBI raid of Trump's lawyer\", 'Trump Tower blaze kills man on floor without sprinklers', 'Dow tumbles 572 points as trade war fears pummel stocks', 'Facebook sent a doctor on a secret mission to ask hospitals to share patient data', \"'Tired of begging': Teacher rebellion shuts down Oklahoma, Kentucky schools\", 'Texas megachurch pastor charged by federal authorities with defrauding elderly investors', 'No, Parkland Student Emma González Did Not Rip Up the U.S. Constitution', \"Jared Kushner's Younger Brother Had Vowed To #MarchForOurLives. And He Did.\", \"March for Our Lives could be the biggest single-day protest in D.C.'s history\", 'Father gets 60 years for trying to sell 4-year-old daughter for sex', 'Patriots loan plane to Parkland students for D.C. trip', 'Saudi Crown Prince Boasted That Jared Kushner Was “In His Pocket”', 'Federal judge blocks Mississippi 15-week abortion ban from going into effect', 'high school on lockdown after shooting in maryland.', 'Trump’s election consultants filmed saying they use bribes and sex workers to entrap politicians', \"Under Trump's watch, national debt tops $21 trillion for first time ever\", 'National Walkout: Nickelodeon off air for 17 minutes recognizing Parkland', 'There have been 17 officers shot to death in the first 10 weeks of this year', 'Shooting at Alabama high school; one student killed, another injured', 'Reddit Confirms What Users Were Warning — The Site, Especially The_Donald, Was Haven For Russian Propaganda', 'West Virginia Schools Closing Monday as Strike Set to Enter 12th Day', 'Alex Jones Accused of Sexual Harassment, Bullying at InfoWars - The Daily Beast', \"'$5,000 will not even buy a decent chair': HUD staffer files complaint over Ben Carson office redecoration\", 'Broward Deputies Reportedly Told Not To Enter School During Shooting Unless Body Cameras Were On', \"Why Your Pharmacist Can't Tell You That $20 Prescription Could Cost Only $8 - States are moving to block “gag clauses” that prohibit pharmacists from telling customers that they could save money by paying cash for prescription drugs rather than using their health insurance.\", 'Trump considers pulling ICE out of California to let the state learn', 'Fla. shooting survivor and family receive death threats after conspiracy theories circulate that they are \"actors\"', 'West Virginia: Statewide walkout announced for school teachers, employees on Thursday and Friday', 'Hero Citizen Stops Mass Shooting in a Church, Cops Show Up and Shoot HIM—Media Silent', 'White House refuses to release photo of Trump signing bill to weaken gun law', \"Ajit Pai Is Reportedly Being Investigated by the FCC's Inspector General\", 'A football coach who shielded students from the Florida shooter died as he lived -- by putting himself second', 'EPA Head Says He Needs to Fly First Class Because People Are Mean to Him in Coach', \"Pepsi announced it's laying off employees the same day it touted $1,000 bonuses because of the new tax law\", 'Bill, Melinda Gates turn attention toward poverty in America', \"Trump's budget hits poor Americans the hardest; aims to replace food stamps with high-end meal kits\", 'EPA chief Scott Pruitt thinks $1,600 is reasonable for a D.C.-New York flight', \"California launches probe into Aetna after former director admits he didn't look at patients' medical records when denying them treatment\", 'Flu still on the rise, hospitalizations high, CDC says', \"George Bush: 'pretty clear evidence Russia meddled' in US election\", 'Donald Trump orders Pentagon to plan grand military parade | US news', 'Dow Jones share index down 1,175 points on closing in biggest ever one-day point drop and biggest fall since 2008 financial crisis', \"Judge says she will not punish victims' father who lunged at Larry Nasser\", 'Hawaii’s false missile alert sent by worker who thought attack on U.S. was imminent, FCC says', '\"I’m the one that saved coal,” says Trump as miner deaths nearly double in first year of office', 'CVS bans photo manipulation in store beauty brands, pressures suppliers', 'Idaho: Girl ordered to leave school after being twice raped in computer lab by older boy files lawsuit in federal court', 'Obama rips Fox News viewers: ‘You are living on a different planet’', 'Colorado administrators indicted for suspending student who reported sex assault by teacher', 'California inhales: The Golden State’s new pot laws are almost comically progressive -- Some cities plan to give people with marijuana convictions priority when setting up legal pot shops', \"The DOJ Charged a White Supremacist With Terrorism But Didn't Tell Anyone\", 'FBI: Man with white supremacist ties stopped train in rural Nebraska with intent to harm passengers', 'ATT sued over layoffs after promising more investment because of tax cut', 'U.S. officials say they wrongly announced coal mine expansion', \"Louisiana: Police nab 'Nigerian prince.' He's a 67-year-old guy in Slidell. Who knew?\", 'Donald Trump said he’d be ‘back to work’ the day after Christmas but instead he played golf', 'Thomas Fire becomes the largest in recorded California history', 'California: Defying Trump again, Gov. Jerry Brown pardons immigrants about to be deported', 'AT&T is giving $1,000 bonuses to 200,000 employees after tax bill', 'California state senator pledges to bring back net neutrality rules just as FCC votes to repeal them', 'Accused of molesting teen, Kentucky Rep. Dan Johnson commits suicide', 'Alabama: Doug Jones defeats Roy Moore for U.S. Senate seat', 'At 230,000 acres, Thomas fire is now the fifth-largest wildfire in modern California history', 'U.S. gymnastics team doctor sentenced to 60 years for child pornography', 'A woman approached The Post with dramatic — and false — tale about Roy Moore. She appears to be part of undercover sting operation.', 'Veterans are key as surge of states OK medical cannabis for PTSD', \"What happens once 'net neutrality' rules bite the dust?\", 'Former FCC chair Tom Wheeler discusses what ending net neutrality means.', 'If you want to see what America would be like if it ditched net neutrality, just look at Portugal', 'Charles Manson, mastermind of 1969 murders, dies at 83', 'Florida let hepatitis C go untreated in prisons. Now it may cost taxpayers millions.', 'Keystone Pipeline closed after major oil spill', 'The Boomtown That Shouldn’t Exist -- Cape Coral, Florida, was built on total lies. One big storm could wipe it off the map. Oh, and it’s also the fastest-growing city in the United States.', 'Joe Biden claims Barack Obama repeatedly discouraged him from running for US president', 'Amazon faces fines following the death of a second warehouse worker in as many months', \"Bill Gates firm buys Arizona land for $80 million to create 'smart city\", 'Trump thinks Scientology should lose tax-exempt status', 'Pastor: Texas church that was attacked will be demolished. Pastor Frank Pomeroy told leaders of the Southern Baptist Convention earlier this week that it would be too painful to continue using First Baptist Church as a place of worship.', 'Alt-right blogger Jenna Abrams, who has 70,000 followers, does not exist, was created by St. Petersburg troll farm', 'Texas church shooter previously escaped mental health institution while facing military charges', 'Fox News cancels Donald Trump impeachment adverts', 'The Incarcerated Women Who Fight California’s Wildfires -- By choice, for less than $2 an hour, the female inmate firefighters of California work their bodies to the breaking point. Sometimes they even risk their lives.', 'At least 27 people have been killed and 30 people have been injured in a mass shooting at a church in Sutherland Springs, Texas.', 'The party is over -- Both the Republican and Democratic Parties are in crisis — and may be headed for worse', \"Thousands of Americans Will Scream Helplessly at the Sky on Trump's Election Anniversary\", 'Killer of Navajo Nation girl gets life prison sentence', \"Kansas stole 23 years of Lamonte McIntyre's life. His compensation: $0 - Kansas is one of 18 states that offers zero compensation for individuals who have been wrongly incarcerated and later exonerated.\", 'Hustler’s Flynt runs ad offering $10 million for ‘smoking gun’ leading to Trump impeachment', 'Donald Trump attacked for authoritarian threat to shut down critical news stations', 'U.S. House panel approves $36.5 billion for hurricane, wildfire relief', 'Actor Terry Crews says he was groped by a ‘high level Hollywood executive’', \"Arizona: Maricopa County's Tent City jail officially shut down\", 'Nazi-killing video game \"Wolfenstein II\" angers Nazis with \\'Make America Nazi-Free Again\\' slogans', 'VP Pence walks out of Colts game after National Anthem.( Players kneeled)', \"Company behind 'Fearless Girl' statue hit with $5M fine for underpaid female workers - State Street Corp. settles with U.S. Dept. of Labor for race and gender discrimination\", 'Oregon pays out $85 million in pot taxes to school fund, cops, other services', 'This Couple Scammed Amazon Out of $1.2 Million. Now They Have to Pay It Back', 'More than 50 people killed, 200 hurt in Las Vegas Strip shooting', \"'Active shooter' near Las Vegas casino\", 'Trump lashes out at San Juan mayor who begged for more help', \"Head Of Air Force Academy Tells Cadets: 'You Should Be Outraged' By Racial Slurs\", 'Former neo-Nazi removes swastika tattoos after unlikely friendship', 'NY Governor Cuomo: Stop arguing about football protests and start helping Puerto Rico', 'Georgia: Bounty hunters took the wrong woman into custody at Columbus Walmart. A jury awarded her $950,000.', \"Study: Flint water killed unborn babies; many moms who drank it couldn't get pregnant - Babies born in Flint after switch to river water also nearly 150 grams lighter than those born in other areas of Michigan, and gained less weight.\", 'U.S. Bans All Federal Agencies From Using Kaspersky Software', \"Utah blood nurse arrest 'violated police codes', says report\", 'Irma: Six dead at Florida nursing home left without power', 'New Hampshire family says 8-year-old biracial boy injured after he was hung from a tree', 'Equifax hit with at least 23 class-action lawsuits over massive cyberbreach', 'Florida Risks More Irma Devastation Because Gov. Rick Scott Defunded Wetlands Agency', 'Equifax execs sold stock before hack was disclosed', 'Hurricane Irma: Florida sheriff warns sex offenders not welcome at storm shelters', 'Police Officer Who Arrested Utah Nurse Gets Fired From Medic Job', 'Florida Declares State of Emergency as Hurricane Irma Becomes Category 5 Superstorm', \"Utah nurse who was arrested says officer was on a 'war path'\", 'DOJ confirms Obama did not wiretap Trump during 2016 campaign', 'Video shows Utah nurse screaming, being handcuffed after refusing to take blood from unconscious victim', 'Leonardo DiCaprio Just Gave $1 Million Toward Hurricane Harvey Relief Efforts', '‘Nazi scum,’ ‘Die Nazi!’ painted across Republican headquarters in Lexington', 'More than 200 doomed Puerto Rico dogs saved by airlift to US', 'Court: Johnson & Johnson ordered to pay $417M in civil lawsuit linking talcum powder to cancer', 'Trump is Totally Wrong, Anti-Racist Protesters Actually Did Have Permits', 'Holocaust Memorial in Boston damaged for second time this summer', 'Protesters Swarm Trump Tower After Charlottesville: ‘No Trump, No KKK, No Fascist USA!’', 'Chicago Public Schools to pay $850 million in interest on $500 million loan', 'Amazon jacked up Prime Day prices, misleading consumers, says vendor', \"Trump, Scaramucci distract from ‘most important,' chilling Senate hearing\", 'Trump: no transgender people will serve in U.S. military - Twitter', 'Teens who laughed as man drowned will face charges', 'Tennessee county inmates offered reduced jail time for getting a vasectomy', 'Donald Trump reportedly exploring ways to hamper Russia probe, pardon himself', 'Sessions: Trump Directed Law Enforcement Agencies to Go After Darknet Markets Like AlphaBay', 'Cop Suspended After Body Camera Video Shows Him Planting Drugs', 'Disgraced former U.S. House Speaker Dennis Hastert faces sex-offender treatment with prison release', '30 people shot, 3 fatally, in 18 hours in Chicago', 'Audio Interview Confirms Dejuan Guillory Was Unarmed, Lying on Ground When Cop Shot Him in the Back', 'Trump moves to dismiss lawsuit from woman who accused him of assault', \"Now 44 States Have Refused Trump Commission's Demand For Personal Info On Voters\", 'Buzz Aldrin’s many faces during Trump’s space speech', 'Maine and New Jersey state governments shut down by budget failures', 'Nevada launches sales of legal recreational marijuana', \"Poll: Americans feel 'alarmed' and 'uneasy' about Trump, Washington\", \"US woman shoots boyfriend dead in YouTube stunt to 'boost online profile'\", \"Billionaire Warren Buffett says 'the real problem' with the US economy is people like him\", 'White House blocks cameras, CNN hires sketch artist', \"Tour group says no more Americans to North Korea after Warmbier's death\", 'Kentucky Coal Mining Museum converts to solar power', \"Special counsel Mueller investigating Jared Kushner's finances, Washington Post reports\", 'Polygamous sect leader Lyle Jeffs captured after a year on the run', 'Bernie Sanders says Alexandria shooter was campaign volunteer', \"Trump, in Miami speech, set to roll back Obama's Cuba policy\", 'White Professor Fired From Black College Gets $4.9 Million', 'Accused Leaker of Top-Secret U.S. Report Loses Bail Request', 'Walmart is asking employees to deliver packages on their way home from work', 'After Trump announcement, Minnesota will proceed with its own climate change strategy - With a plan adopted in 2007, the state has been a national leader in pursuing an aggressive plan to reduce emissions.', 'Doorway to profit: When bosses visit the White House, their firms make more money -- White House visitor logs help show that lobbying pays', 'Witnesses: Man Cut the Throats of Two MAX Passengers Who Tried to Stop Anti-Muslim Bullying of Women on Northeast Portland Train', \"Walmart to ban woman who told customer to 'go back to Mexico,' called another the N-word\", 'Clinton: Trump\\'s budget shows \"unimaginable level of cruelty\"', 'Trump budget would sell entire U.S. Northeast gasoline reserve', 'U.S. households now have as much debt as they had in 2008', \"Fox News' ex-CEO Roger Ailes dead\", 'Trump asked Comey to end investigation of Michael Flynn: source', 'Florida: Former U.S. Rep. Corrine Brown was convicted Thursday on 18 counts of conspiracy, mail and wire fraud, and tax charges.', 'FBI Director James Comey Is Fired by Trump', \"Woman who said Johnson's baby powder gave her cancer wins $110.5 million in lawsuit\", 'FCC opens investigation into Stephen Colbert’s controversial Trump insult', 'Miami doctor’s call to broker during baby’s delivery leads to $33.8 million judgment', 'Convicted terrorist admits she lied to become US citizen', 'Donald Trump signs executive order that could allow companies to mine and drill for oil at national monuments', 'New Orleans begins controversial removal of Confederate monuments', 'Appalachian Power president says company is looking toward renewables - “At the end of the day, West Virginia may not require us to be clean, but our customers are.”', 'Bill O’Reilly Severance: Fox News Host to Get $25 Million', 'Aaron Hernandez commits suicide in prison', 'Cleveland murder suspect Steve Stephens kills himself after pursuit', 'Police announce $50,000 reward for arrest of Facebook killer as search intensifies', 'Trump privately signs anti-Planned Parenthood law', 'Last surviving person born in 1800s dies at age 117', \"United States' first female Muslim judge found dead in Hudson River\", 'Police: Shooting reported at elementary school in San Bernardino', 'Police violently drag man from United plane after airline reportedly overbooked flight', 'The IRS took millions from innocent people because of how they managed their bank accounts, Inspector General finds', 'White House stacked with millionaires, financial disclosures reveal.', 'Congress just voted to let ISPs sell your browsing history to advertisers', 'Three teenage burglars shot dead in US', 'States Give New Parents Baby Boxes To Encourage Safe Sleep Habits', \"Report: Bannon told conservatives 'this is not a debate,' you have to back bill.\", 'Devin Nunes Vanished the Night Before He Made Trump Surveillance Claims. The Republican intelligence chairman got a message and jumped out of an Uber. The next morning he dropped a bombshell based on classified information.', 'Bernie Sanders thinks this $89,000-a-year drug should be $1,000 a year', 'Texas teacher charged with improper relationship with a student', \"Waiter fired after asking Latinas for 'proof of residency' at upscale Huntington Beach eatery\", \"Chuck Berry Dies at 90; Helped Define Rock 'n' Roll\", 'Kentucky: Louisville Mayor Greg Fischer announced Friday that he has asked the FBI to investigate what he called “our worst nightmare,” the alleged sexual abuse of children in the police department’s Youth Explorer program.', 'NYPD officers who assaulted postal worker acquitted by judge.', 'Conservative Oklahoma senator charged with three felonies after child prostitution investigation', 'The federal government has no idea how to grow marijuana. The US grows marijuana for research. But it’s so awful it’s basically useless.', 'Poland will seek the arrest and extradition of a Minnesota man exposed by The Associated Press as a former commander in an SS-led unit that burned Polish villages and killed civilians in World War II, prosecutors said Monday.', 'Sen. Tim Kaine’s son among several arrested after protesters disrupt Trump rally in Minnesota', 'Sikh man shot in an apparent hate crime in Kent, near Seattle WA.', 'The Kansas Supreme Court on Thursday ruled unanimously that state funding to schools is inadequate and gave the Legislature a June deadline to enact changes, scrambling a legislative session already consumed by a sprawling budget debate.', 'Nigerian engineer handed written test at New York airport - BBC News', 'Trump says Obama behind leaks', 'Trump wants to add $54 billion to defense budget while slashing domestic spending and foreign aid', \"Attorney General Sessions has said 'good people don't smoke marijuana' — that belief could lead to fuller jails\", 'Justice Department will again use private prisons', 'Mother finds missing teenage daughter being sold on website, fights back - Kubiiki Pride was scrolling through ads on Backpage.com when she saw an ad selling something that belonged to her. It was her missing 14-year-old daughter.', 'Next month, the U.S. Supreme court will hear its first transgender rights case. This is the high school student behind it.', 'You No Longer Need A License To Carry A Concealed Weapon In New Hampshire', 'Up to 200 headstones damaged at Jewish cemetery, director says', 'Former Swedish PM: More murders in Florida where Trump spoke than in Sweden last year', \"Education Secretary DeVos criticized teachers at D.C. school she visited — and they're not having it.\", 'The Resistance Is Winning As Trump Whines About Senate Democrats Refusing To Work With Him', 'Republican Health Proposal Would Redirect Money From Poor to Rich', 'Oklahoma just hit temperatures of 100 Fahrenheit in the depths of winter', \"FBI arrests man in Myrtle Beach allegedly planning attack 'in the spirit of Dylann Roof'\", 'Donald Trump knew for weeks that Michael Flynn withheld the truth on his call with Russia', 'Trump campaign aides had repeated contacts with Russian intelligence', \"White House posts wrong versions of Trump's orders on its website\", '188,000 evacuated, emergency declared as California’s massive Oroville Dam threatens floods', 'Republican green-card holder who voted illegally in Texas gets 8 years in prison', 'Revealed: FBI terrorism taskforce investigating Standing Rock activists | US news', \"Kellyanne Conway Tells Americans To Buy Ivanka Trump's Products\", 'Trump Signs 3 Executive Orders Targeting Drug Cartels, Crimes Against Police', 'Trump makes false statement about U.S. murder rate to sheriffs’ group', 'Mike Pence: Trump ‘Has Every Right to Criticize’ Other Branches of Government', 'Nearly 500 arrested in California human trafficking raids', 'Billionaire Trump Adviser Peter Thiel Bought His New Zealand Citizenship, Documents Show', 'Trump Fires Acting Attorney General', 'A bill has already been introduced in Congress to remove the US from the United Nations', 'Minnesota protesters erupt after Republicans pass bill to charge demonstrators for police overtime costs', 'Standing Rock Sioux tribe says Trump is breaking law with Dakota Access order', 'Trump White House senior staff have private RNC email accounts', 'Donald Trump’s chief economic advisor set to receive $284m payday from Goldman Sachs', 'California steaming: Democrats are learning to invoke states’ rights -- America’s most progressive state is set to lead the new fight against federal power', \"Trump signs order withdrawing from TPP, reinstate 'Mexico City policy' on abortion\", \"Trump's first executive action: Cancel Obama's mortgage premium cuts\", 'Anti-Trump protesters block some entry points to inauguration', 'Congress moves to give away national lands, discounting billions in revenue and millions of jobs', 'CIA director rips into Donald Trump over tweets, Russia', 'US agrees to pay billions to Marines affected by toxic water - The Obama administration has agreed to provide disability benefits totaling more than $2 billion to veterans who had been exposed to contaminated drinking water while assigned to Camp Lejeune in North Carolina.', 'In Tampa, Food Not Bombs activists arrested for feeding the homelessâ\\x80\\x94again', '4 arrested in Facebook Live beating', 'Report: Megyn Kelly To Leave Fox News For NBC', 'The Pentagon has struggled with a jump in child abuse in military families since America went to war', 'Carrie Fisher Dies at 60', 'Man gets $75 after being wrongly imprisoned for 31 years', 'Nuke Experts Say Trump’s Tweet Is ‘A Very Bad Sign’', \"Walmart Pulling Some 'Black Lives Matter' Clothes After Police Union Complains\", 'Four more officials charged over Flint, Michigan, water crisis', 'DEA Quietly Classifies CBD Oil as Schedule 1 Drug', 'Aging baby boomers increasingly embrace marijuana, heavy alcohol use', 'New DEA rules aim to outlaw medicinal marijuana CBD extracts', \"Police charge Muslim woman who falsely claimed she was called a 'terrorist' on the subway\", 'Ohio Supreme Court rules damages cap means girl raped by minister will get $250,000 — not $3.5 million', \"Sen. Rand Paul Pushes For Probe Into Russia's Election Hacking\", 'Ex-Philadelphia congressman gets 10 years for corruption', 'The Number of Marijuana Jobs Could Triple in the Years to Come. The pot industry could add up to 300,000 additional jobs, according to analysts.', 'Heroin deaths surpass gun homicides for the first time, CDC data shows', 'Sandy Hook denier arrested after death threats made to parent of victim', 'As her rapist seeks to have a relationship with her child, a Massachusetts woman is appealing to the highest court in the state.', 'To Reduce Infant Mortality, U.S. Cities Adopt the Finland Way', 'North Carolina man told police he went to Comet Ping Pong pizzeria in D.C. with assault rifle to ‘self-investigate’ election-related conspiracy theory, charged with assault with a dangerous weapon', 'Federal Officials to Explore Different Route for Dakota Pipeline', 'America Needs a Sane Left -- Radicalism at one end of the political spectrum means radicalism at the other [Opinion]', 'Next test for pipeline protesters: the North Dakota winter', \"BREAKING: Sheriff's Dept to Fine People $1K for Bringing in Food and Supplies to Standing Rock\", 'Kansas judge rules sperm donor not on hook for child support', 'UPDATE: Governor orders immediate evacuation of Dakota Access...', 'Bernie Sanders to propose Outsourcing Prevention Act to keep jobs in US', 'Clinton campaign will participate in Wisconsin recount, with an eye on ‘outside interference,’ lawyer says', \"Wisconsin Agrees To Presidential Vote Recount At Third-Party Candidates' Request\", \"Reddit CEO admits editing pro-Trump users' comments\", 'Wal-Mart loses minimum wage pay fight as jury awards California truck drivers $54 million', 'Dallas woman faked a pregnancy - then killed another woman and stole her baby: police', 'Standing Rock protest: hundreds clash with police over Dakota Access Pipeline', 'Trump agrees to $25 million settlement in Trump University fraud cases', \"Donald Trump's 'new national security adviser' thinks fear of Muslims is 'rational'\", 'Almost 60 per cent of Americans say President-elect Donald Trump should compromise with Democrats', \"'Making a Murderer': Brendan Dassey to Be Released by End of Week\", 'Trump, Putin agree in phone call to improve ‘unsatisfactory’ relations between their countries, Kremlin says', 'Donald Trump Says He Won’t Take A Salary While President. “I’ll take $1 a year,” he vowed.', 'Day Five of Anti-Trump: Protests Planned in a Number of Cities', \"Puerto Rico's solution to heroin crisis: one-way tickets to Philly - Since the late 1990s, pastors, police, and mayors in Puerto Rico have been sending hundreds of heroin addicts, many of them HIV-positive, to Philadelphia, New York, Chicago, and other cities.\", 'Lafayette woman faces criminal charges after falsely claiming Trump supporters attacked her', 'Glenn Greenwald: Trump will have vast powers. He can thank Democrats for them.', 'Anti-Trump protests, some violent, erupt for 3rd night nationwide', \"This is Donald Trump's contract for the first 100 days as POTUS\", 'Idaho mom loses custody of children after giving daughter marijuana butter to relieve seizures', 'The man arrested after authorities found a woman chained on his property in rural South Carolina killed at least seven people, and his confessions have solved a 13-year-old case, Sheriff Chuck Wright said Saturday.', \"FBI director James Coney accused of breaking law as Hillary Clinton's 12-point lead 'wiped out': Monday US election briefing\", 'Recent Poll Shows More Americans Want Clinton Indicted than Want Her to Be President', 'Two women busted for election fraud in Miami-Dade', 'South Korean Adopted At Age 3 Is To Be Deported Nearly 40 Years Later', 'Thousands of California soldiers forced to repay enlistment bonuses a decade after going to war', \"Study: 'Only' 36 percent of Colorado residents would kill someone for money\", 'Freed From Gag Order, Google Reveals It Received Secret FBI Subpoena', 'WikiLeaks releases transcripts of Clinton Goldman Sachs speeches', 'Librarian Arrested at Kansas City Public Library for Defending Free Speech', 'HPD: 911 operator says \"ain\\'t nobody got time for this\" and hangs up on callers', \"Colorado pot isn’t affecting Kansas like you think - Kansas State Attorney General Derek Schmidt surveyed the state's law enforcement agencies, with some interesting results.\", 'DOJ will pursue criminal contempt charge against Sheriff Joe Arpaio', 'Yahoo helped the U.S. government spy on emails, report says', 'WikiLeaks plans to release documents on US election and Google over the next ten weeks', 'A black 17-year-old reported his stolen car using an app ... and police reportedly arrested him instead', \"'Disgruntled' Houston lawyer wearing Nazi uniform opens fire at strip mall; nine injured, suspect shot dead by police\", 'Officer accused of murdering 6-year-old claims self-defense', '45 Congressmen Ask DEA Not to Ban Kratom Next Week', \"Paul Combetta, 'Stonetear,' and the Reddit Thread that could Rock Hillary Clinton | The Daily Dot\", 'Tulsa, OK Police Officer Betty Shelby Shot Unarmed Man With Hands Up', 'Chris Christie Knew About Bridge Lane Closings as They Happened, Prosecutors Say', 'Device near New Jersey train station explodes while FBI investigates', 'California added 63,000 jobs in August, 42% of U.S. total', 'Abducted Woman Calls 911 as Alleged Captor Sleeps – Leading to Discovery of 3 More Bodies', 'American trust in news media falls to lowest level in history: Gallup poll', 'Colin Powell Called Benghazi ‘Stupid Witch Hunt’ In Email To Condi Rice', \"New York Teen Dies from Brain-Eating Amoeba After Contracting Infection on Vacation: 'She Was a Shining Light,' Says Mom\", 'Hillary Clinton has pneumonia, doctor says - POLITICO', \"CDC Director: 'Essentially out of money' to fight Zika\", 'More State Department Docs Show Hillary Should Have Been Aware of Classification Rules | The Weekly Standard', 'Female WWII pilot will finally be laid to rest at Arlington', 'New ISIS Military Commander Was Trained by State Department as Recently as 2014 | PJ Media', 'The DEA thinks herbal supplement kratom is as dangerous as heroin', 'FBI Says a Laptop That Held Clintonâ\\x80\\x99s E-Mails Has Gone Missing', 'Virginia: Man dies in Hampton Roads Regional Jail 2 days after filing emergency grievance begging for help', \"Remember Brock Turner? From 3 Months Ago? He'll Leave Jail On Friday.\", 'Clinton emailed classified information after leaving State Dept. | New York Post', 'A record number of Americans now dislike Hillary Clinton', 'FBI Recovers 30 Hillary Clinton Emails Involving Benghazi Attack | TIME', 'Gene Wilder Dead: ‘Young Frankenstein’ Star Was 83', \"Donald Trump wants to track U.S. entrants to ensure they don't overstay their visas\", \"Dr Drew fired by CNN for talking about Clinton's health\", 'Georgia man who threw boiled water on gay men gets 40 years', 'U.S. Army fudged its accounts by trillions of dollars, auditor finds', 'FBI found nearly 15,000 new Hillary Clinton emails - Washington Times', 'In an unprecedented move, Montana Fish, Wildlife and Parks is closing 183 miles of the Yellowstone River from Gardiner to Laurel to all water-based recreation — fishing, wading, floating, tubing, boating — due to a parasite outbreak.', 'Jury: Pennsylvania Attorney General Kane guilty of perjury, obstruction, all other charges', '5 dead, 19 wounded in Chicago shootings in less than 24 hours', 'Study: High levels of toxic chemicals in drinking water of 6 million Americans', 'Woman, 73, fatally shot by Florida officer role-playing as ‘bad guy’ during citizen police academy', 'HOAs from hell: Homes associations that once protected residents now torment them', 'Penthouse Magazine Targets Utah For Declaring Pornography A Health Crisis', 'With 1 vote today, New Jersey will make it harder to graduate from high school', 'Homeownership Rate in the U.S. Drops to Lowest Since 1965', 'Turkey surrounds NATO US nuclear base. Turkish troops have sealed off Incirlik base.', 'Freddie Gray case: Charges against three remaining officers dropped', 'DNC Leak Shows Mechanics of a Slanted Campaign', 'Leaked DNC Documents Show Plans To Reward Big Donors With Federal Appointments', 'Wasserman Schultz resigning as party leader', 'Police: Ex-Marine, 81, held hostage in motel for 4 years', 'Faced with 30 years in prison, New Jersey actor takes plea deal on gun charge - comedian/actor faced charges for possessing a BB gun while filming a movie last year', 'Police Capt. Robert Melton has died; second Kansas City, Kansas officer shot and killed in two months', 'The feds want to launch peanut butter drone strikes to save endangered ferrets', \"Secretary Kerry's Call With Turkish Minister. Turkish government officials on Saturday said they would view the U.S. as an enemy if the Obama administration doesn’t hand over Mr. Gülen, who is a reclusive but influential Turkish cleric living in self-imposed exile in the U.S. for nearly two decades.\", 'Three officers dead; 1 suspect dead as officers work active shooting on Airline Highway in Baton Rouge, Louisiana', 'LAPD Investigating Playboy Model Who Shared Body-Shaming Photo of Naked Woman Secretly Shot at Gym', 'Former Fox News commentator sentenced to prison for faking CIA ties', 'Everything we love to eat is a scam', 'No racial bias in police shootings, study by Harvard professor shows', \"She wasn't a cop and she wasn't white, but she took a bullet in Dallas while protecting her sons\", 'Arizona is site of largest current US measles outbreak', 'Reports of shots fired at downtown Dallas rally following deaths of Alton Sterling, Philando Castile', 'Streetlights May Be Hurting Public Health', 'No charges for concealed carrier who wounded South Carolina club shooter', 'The U.S. Supreme Court decision making it harder to prosecute public officials could help U.S. Senator Robert Menendez (D-NJ) as he fights federal corruption charges [re: possible impact of Bob McDonnell case]', 'Ban on transgender troops to be lifted July 1', \"NYC faked day care centers' lead water level test records\", \"Heroin use at 20-year high in U.S. drug 'epidemic', U.N. says\", 'Trump directs nearly one-fifth of his money to his own businesses', 'Donald Trump on Pace to Raise Less Money Than Almost Any Presidential Candidate in Modern Era', 'Starbucks Cards Hold So Much Money The Company Could Be A Mid-Sized Bank', 'Philadelphia Becomes 1st Major U.S. City To Pass A Tax On Soda', \"Yale may cave on English poets course after students called it 'too white'\", \"Toddler dragged by gator into water near Disney's Grand Floridian\", 'Killings of LGBT and HIV-affected people rose 20% in 2015, report finds', \"Gunmakers' shares jump after Orlando nightclub massacre\", \"U.S. top court tosses Puerto Rico's debt restructuring law\", 'ISIS Officially Claims Responsibility For Orlando Massacre', '50 Killed in Florida Nightclub Shooting', 'Florida Nightclub Shooting: Around 20 Killed, 42 Injured, Say Police', 'Rapist Brock Turner gets lifetime ban from Team USA swimming', 'A United Nations whistleblower who was suspended for exposing the sexual abuse of children by peacekeepers has resigned over the organization’s failure to hold senior officials to account', 'The innovative diamond design of highways has been implemented in 62 intersections across 22 states and since 2009, so far, has worked', 'Hillary Clinton’s Energy Initiative Pressed Countries to Embrace Fracking, New Emails Reveal', 'Female General Becomes First Woman to Lead US Military Combat Command', 'Denied Breaks, U.S. Poultry Workers Wear Diapers on the Job', 'Abortion Clinics In Blue States Are Closing, Too', 'Teen birthrate hits all-time low, led by 50 percent decline among Hispanics and blacks', 'Trump Accused Of Fraud & will go to trial, N.Y. judge rules, Trump could testify during campaign', 'Harriet Tubman to be first African-American on U.S. currency', '54,000 Brooklyn voters ‘vanish’ ahead of primary day', 'Supreme court considers taking case of man given life in prison for growing pot', 'Bill Nye Says Climate Change Denial Is \"Running Out of Steam,\" Thanks to Millennials', 'Man Faces Life In Prison For Stealing $31 Worth Of Candy', 'Cops: Gun store owner stops would-be campus shooter', 'Liberal-leaning Vermont could become the first U.S. state to legalize recreational marijuana use through legislation, rather than by voter initiative, in a move that advocates for the drug say could speed its acceptance across the nation.', 'NSFW Cop with hand on gun intentionally walks up to dog to shoot it, owner stops him and then gets assaulted.', 'NY judge: US cannot make Apple provide iPhone data', 'Ku Klux Klan rally in Anaheim erupts in violence; three stabbed', 'MSNBC cuts away from Bernie Sanders as he condemns Trans-pacific partnership', 'Man Charged for Throwing Tomatoes at Donald Trump During Iowa City Stop', 'Since 9/11, according to congressional reports, U.S. taxpayers have given Pakistan at least eighteen billion dollars, much of it to the military. Last year alone, the U.S. gave Pakistan $1.5 billion dollars.', 'U.S. adds 2.65 million jobs in 2015 for 2nd best year since 1999', 'California law allowing seizure of guns without notice begins Jan. 1', 'Cop Ruthlessly Beats his k9 Dog, Picks Animal Up and Rams Its Body Into the Ground', 'Leaked Documents Reveal Dothan Police Department Planted Drugs on Young Black Men For Years, District Attorney Doug Valeska Complicit', 'Maine Wants Candy, Soda Excluded From Food Stamps', 'White supremacists charged in terror plot', 'New Poll Shows 60% of Americans Think Hillary Clinton is Untrustworthy and Dishonest', 'Court says it’s again legal for NSA to spy on you because Congress says it’s OK', \"An anti-animal cruelty group says it has secretly recorded Tyson Foods workers punching, throwing and pulling the heads off of live broiler chickens at one of the mega meat producer's plants in Mississippi where up to 2.5 million chickens are slaughtered each week.\", \"The hero Army veteran who was shot five times as he 'charged at Oregon college shooter'\", 'Cameraman and Reporter shot during live interview. Gunman on the run', 'Family Values Activist Josh Duggar Had a Paid Ashley Madison Account', 'The Coddling of the American Mind: In the name of emotional well-being, college students are increasingly demanding protection from words and ideas they don’t like. Here’s why that’s disastrous for education—and mental health.', 'Police kill a white teen, and the silence raises questions', 'Police are Killing Native Americans at Higher Rate than Any Race, and Nobody is Talking About It', 'Too Much Praise Promotes Narcissism: The first longitudinal study in children supports the theory that parents with unrealistically positive views of their kids foster narcissistic qualities', 'Supreme Court Declares Same-Sex Marriage Legal In All 50 States', 'Judge rules Ellen Pao must pay $276,000 to Kleiner Perkins to reimburse the venture capital firm for its expenses during the five-week trial', \"Ellen Pao's Husband accused of cheating Massachusetts and Louisiana cops and firefighters out of more than $100 million and not paying close to $3 million in taxes.\", 'Measles returns: Of vaccines and vacuous starlets - A rise in anti-vaccine sentiment has put everyone at risk', 'Netflix is Planning to put an End to Geographical Blocking', \"'Unintelligent' blacks 'brainwashed' to choose street cred over success: Charles Barkley\", 'Video shows S.C. trooper shoot unarmed, cooperative man', 'Two Cops Taser Black Man Trying To Pick Up His Kids From School, in Minnesota for doing nothing wrong']\n"
          ],
          "name": "stdout"
        }
      ]
    },
    {
      "cell_type": "code",
      "metadata": {
        "colab_type": "code",
        "id": "bf1UY7LsivXy",
        "colab": {}
      },
      "source": [
        "from sklearn.feature_extraction.text import CountVectorizer"
      ],
      "execution_count": 0,
      "outputs": []
    },
    {
      "cell_type": "code",
      "metadata": {
        "colab_type": "code",
        "id": "q63c6i7diwCh",
        "colab": {}
      },
      "source": [
        "#countVectorizer - Python Sci-kit Learn library - sklearn has this tool\n",
        "#It counts the occurrences of the words in the document to be tested\n",
        "#mostly used in "
      ],
      "execution_count": 0,
      "outputs": []
    },
    {
      "cell_type": "code",
      "metadata": {
        "colab_type": "code",
        "id": "GLXbagBMiViv",
        "outputId": "fa9882f5-6a11-40b6-ce25-c051879503c1",
        "colab": {
          "base_uri": "https://localhost:8080/",
          "height": 34
        }
      },
      "source": [
        "cv1=CountVectorizer()\n",
        "cvtrain1=cv1.fit_transform(allNewsTrain)\n",
        "print(cvtrain1.shape)"
      ],
      "execution_count": 0,
      "outputs": [
        {
          "output_type": "stream",
          "text": [
            "(700, 3324)\n"
          ],
          "name": "stdout"
        }
      ]
    },
    {
      "cell_type": "code",
      "metadata": {
        "id": "H-qn8I3HWCQE",
        "colab_type": "code",
        "colab": {}
      },
      "source": [
        "#tokens=cv.get_feature_names()"
      ],
      "execution_count": 0,
      "outputs": []
    },
    {
      "cell_type": "code",
      "metadata": {
        "id": "sGiV8PV2WCQW",
        "colab_type": "code",
        "colab": {}
      },
      "source": [
        "#df_cv=(cvtrain,tokens)"
      ],
      "execution_count": 0,
      "outputs": []
    },
    {
      "cell_type": "code",
      "metadata": {
        "id": "CSiErC2mWCQo",
        "colab_type": "code",
        "colab": {}
      },
      "source": [
        "#df_cv"
      ],
      "execution_count": 0,
      "outputs": []
    },
    {
      "cell_type": "code",
      "metadata": {
        "id": "9gqR-hjwWCQ_",
        "colab_type": "code",
        "colab": {}
      },
      "source": [
        "#df_cv1=pd.DataFrame(data=cvtrain.toarray(), columns=tokens)"
      ],
      "execution_count": 0,
      "outputs": []
    },
    {
      "cell_type": "code",
      "metadata": {
        "id": "cQJwpeetWCRN",
        "colab_type": "code",
        "colab": {}
      },
      "source": [
        "#df_cv1"
      ],
      "execution_count": 0,
      "outputs": []
    },
    {
      "cell_type": "code",
      "metadata": {
        "colab_type": "code",
        "id": "-ZR28kbjiw-p",
        "colab": {}
      },
      "source": [
        "#logisticRegression\n",
        "#categorical usage"
      ],
      "execution_count": 0,
      "outputs": []
    },
    {
      "cell_type": "code",
      "metadata": {
        "colab_type": "code",
        "id": "V79RvFnWoJgs",
        "colab": {}
      },
      "source": [
        "from sklearn.linear_model import LogisticRegression"
      ],
      "execution_count": 0,
      "outputs": []
    },
    {
      "cell_type": "code",
      "metadata": {
        "colab_type": "code",
        "id": "qQ9HMY15oLXR",
        "colab": {}
      },
      "source": [
        "trainNews['Index']"
      ],
      "execution_count": 0,
      "outputs": []
    },
    {
      "cell_type": "code",
      "metadata": {
        "id": "86sthwh6Qm9G",
        "colab_type": "code",
        "outputId": "431aed0f-79cb-4291-e55e-d5f85fed1494",
        "colab": {
          "base_uri": "https://localhost:8080/",
          "height": 34
        }
      },
      "source": [
        "len(trainNews['Label_News'])"
      ],
      "execution_count": 0,
      "outputs": [
        {
          "output_type": "execute_result",
          "data": {
            "text/plain": [
              "700"
            ]
          },
          "metadata": {
            "tags": []
          },
          "execution_count": 217
        }
      ]
    },
    {
      "cell_type": "code",
      "metadata": {
        "colab_type": "code",
        "id": "Npy5StS9imUW",
        "colab": {}
      },
      "source": [
        "lr=LogisticRegression()\n",
        "lr=lr.fit(cvtrain1, trainNews[\"Label_News\"])"
      ],
      "execution_count": 0,
      "outputs": []
    },
    {
      "cell_type": "code",
      "metadata": {
        "id": "h_xe9rk0S6u3",
        "colab_type": "code",
        "outputId": "87d74530-1639-4a3c-bc28-4d7160dc85b9",
        "colab": {
          "base_uri": "https://localhost:8080/",
          "height": 34
        }
      },
      "source": [
        "allNewsTest=testNews['title'].tolist()\n",
        "len(allNewsTest)"
      ],
      "execution_count": 0,
      "outputs": [
        {
          "output_type": "execute_result",
          "data": {
            "text/plain": [
              "299"
            ]
          },
          "metadata": {
            "tags": []
          },
          "execution_count": 192
        }
      ]
    },
    {
      "cell_type": "code",
      "metadata": {
        "colab_type": "code",
        "id": "WluIcqK_1-NU",
        "colab": {}
      },
      "source": [
        "cvtest1=cv1.transform(allNewsTest)"
      ],
      "execution_count": 0,
      "outputs": []
    },
    {
      "cell_type": "code",
      "metadata": {
        "id": "AOUrSrgdUIH4",
        "colab_type": "code",
        "outputId": "11acee14-90c8-45fb-f5f5-f06ffd839495",
        "colab": {
          "base_uri": "https://localhost:8080/",
          "height": 51
        }
      },
      "source": [
        "cvtest1"
      ],
      "execution_count": 0,
      "outputs": [
        {
          "output_type": "execute_result",
          "data": {
            "text/plain": [
              "<299x3324 sparse matrix of type '<class 'numpy.int64'>'\n",
              "\twith 2929 stored elements in Compressed Sparse Row format>"
            ]
          },
          "metadata": {
            "tags": []
          },
          "execution_count": 224
        }
      ]
    },
    {
      "cell_type": "code",
      "metadata": {
        "colab_type": "code",
        "id": "ATsGbDIy2lA9",
        "outputId": "e31a0d9a-a52a-4455-90e4-cc80eb54676c",
        "colab": {
          "base_uri": "https://localhost:8080/",
          "height": 170
        }
      },
      "source": [
        "prediction=lr.predict(cvtest1)\n",
        "print(prediction)"
      ],
      "execution_count": 0,
      "outputs": [
        {
          "output_type": "stream",
          "text": [
            "[1 0 1 2 2 0 1 2 0 0 0 2 0 2 0 1 2 1 1 2 2 1 1 0 2 0 1 1 2 1 0 2 1 0 0 1 0\n",
            " 2 0 0 1 1 1 1 1 2 1 1 1 1 1 1 1 1 1 0 1 1 1 1 1 1 1 0 0 2 1 0 1 1 2 1 1 0\n",
            " 2 1 2 1 2 1 0 0 1 1 1 0 1 1 0 1 0 0 1 0 1 0 1 1 0 0 0 0 0 1 0 0 1 0 0 1 2\n",
            " 2 1 1 0 0 1 0 0 0 1 0 0 0 1 0 2 1 2 2 0 1 0 0 1 1 1 1 1 1 2 0 1 2 0 1 1 1\n",
            " 0 0 1 1 1 1 1 2 1 2 0 2 0 2 2 2 1 1 0 2 2 2 1 1 0 1 2 2 1 1 1 0 2 2 1 0 1\n",
            " 1 1 2 0 0 0 1 1 1 0 1 2 1 1 2 0 1 0 2 1 1 1 1 1 1 1 0 0 2 2 1 0 1 0 0 0 2\n",
            " 0 1 1 0 1 2 1 0 1 1 2 1 0 1 2 1 2 1 1 1 0 1 2 0 1 1 1 0 1 0 2 2 0 0 2 1 1\n",
            " 1 1 2 1 0 2 1 0 1 2 0 0 0 0 0 1 1 0 1 1 1 2 1 0 2 0 1 1 2 2 1 0 2 1 0 0 0\n",
            " 2 1 0]\n"
          ],
          "name": "stdout"
        }
      ]
    },
    {
      "cell_type": "code",
      "metadata": {
        "colab_type": "code",
        "id": "A5ELpvj2292q",
        "colab": {}
      },
      "source": [
        "from sklearn.metrics import accuracy_score, confusion_matrix"
      ],
      "execution_count": 0,
      "outputs": []
    },
    {
      "cell_type": "code",
      "metadata": {
        "colab_type": "code",
        "id": "ZxBfOjpI2vbj",
        "outputId": "6bafabfe-5060-431d-ab61-d5d426abd233",
        "colab": {
          "base_uri": "https://localhost:8080/",
          "height": 34
        }
      },
      "source": [
        "accuracy=accuracy_score(testNews[\"Label_News\"],prediction)\n",
        "print(\"Accuracy LR\", accuracy)"
      ],
      "execution_count": 0,
      "outputs": [
        {
          "output_type": "stream",
          "text": [
            "Accuracy LR 0.3879598662207358\n"
          ],
          "name": "stdout"
        }
      ]
    },
    {
      "cell_type": "code",
      "metadata": {
        "colab_type": "code",
        "id": "6bualVw64Jyg",
        "outputId": "c8b7f4ef-0500-4907-ec6c-ab802e174d10",
        "colab": {
          "base_uri": "https://localhost:8080/",
          "height": 54
        }
      },
      "source": [
        "print(cv1.vocabulary_)"
      ],
      "execution_count": 0,
      "outputs": [
        {
          "output_type": "stream",
          "text": [
            "{'most': 1925, 'people': 2150, 'who': 3244, 'sat': 2557, 'out': 2075, 'the': 2946, '2018': 44, 'elections': 999, 'now': 2011, 'say': 2564, 'they': 2956, 'wish': 3264, 'voted': 3169, 'president': 2257, 'donald': 933, 'trump': 3050, 'on': 2052, 'friday': 1231, 'signed': 2679, 'legislation': 1717, 'ramping': 2360, 'up': 3111, 'quantum': 2344, 'computing': 690, 'research': 2448, 'and': 238, 'development': 876, 'national': 1960, 'initiative': 1512, 'act': 133, '6227': 88, 'authorizes': 318, 'billion': 409, 'over': 2083, 'five': 1184, 'years': 3305, 'for': 1206, 'federal': 1136, 'activities': 139, 'aimed': 192, 'at': 305, 'boosting': 443, 'investment': 1551, 'in': 1485, 'information': 1508, 'science': 2577, 'jennie': 1580, 'recalls': 2379, 'more': 1920, 'than': 2942, '164': 18, '000': 0, 'pounds': 2244, 'of': 2029, 'ground': 1310, 'turkey': 3062, 'ruth': 2537, 'bader': 334, 'ginsburg': 1270, 'eager': 978, 'to': 2989, 'hit': 1408, 'gym': 1325, 'after': 171, 'cancer': 529, 'surgery': 2866, 'when': 3238, 'can': 525, 'we': 3210, 'go': 1278, 'back': 328, 'training': 3026, 'man': 1798, 'wrongfully': 3296, 'convicted': 729, 'doppelganger': 940, 'crime': 764, 'awarded': 321, 'million': 1882, 'signs': 2682, 'farm': 1121, 'bill': 407, 'that': 2945, 'backs': 332, 'climate': 638, 'change': 583, 'programs': 2291, 'avoids': 320, 'food': 1202, 'stamp': 2776, 'cuts': 786, 'an': 235, 'epidemic': 1043, 'is': 1559, 'killing': 1636, 'thousands': 2966, 'coal': 650, 'miners': 1890, 'regulators': 2407, 'could': 744, 'have': 1359, 'stopped': 2815, 'it': 1565, 'staff': 2773, 'bank': 344, 'ohio': 2045, 'called': 515, 'police': 2217, 'black': 418, 'trying': 3053, 'cash': 558, 'his': 1405, 'paycheck': 2133, 'almost': 218, 'half': 1333, 'adults': 157, 'seen': 2607, 'family': 1117, 'member': 1858, 'jailed': 1571, 'study': 2835, 'shows': 2672, 'about': 116, 'immediate': 1468, 'incarcerated': 1489, 'harvey': 1354, 'weinstein': 3226, 'bragged': 459, 'sex': 2643, 'with': 3266, 'jennifer': 1581, 'lawrence': 1687, 'lawsuit': 1689, 'alleges': 214, 'mobile': 1904, 'billboard': 408, 'takes': 2893, 'streets': 2827, 'exposing': 1089, 'net': 1980, 'neutrality': 1982, 'traitors': 3027, 'failed': 1103, 'support': 2858, 'congressional': 700, 'review': 2479, 'inauguration': 1488, 'spending': 2752, 'under': 3084, 'criminal': 766, 'investigation': 1549, 'alleged': 212, 'russian': 2536, 'spy': 2766, 'maria': 1806, 'butina': 504, 'pleads': 2207, 'guilty': 1318, 'engaging': 1027, 'conspiracy': 709, 'against': 173, 'us': 3116, 'publisher': 2324, 'enquirer': 1032, 'admits': 152, 'paying': 2136, 'hush': 1455, 'money': 1913, 'help': 1378, 'ahead': 187, '2016': 43, 'election': 998, 'debt': 823, 'surging': 2867, 'its': 1566, 'fastest': 1124, 'pace': 2089, 'since': 2687, '2012': 40, 'said': 2544, 'he': 1364, 'not': 2006, 'afraid': 169, 'impeachment': 1475, 'inslee': 1520, 'governor': 1297, 'washington': 3202, 'state': 2789, 'wants': 3191, '100': 2, 'percent': 2153, 'clean': 634, 'energy': 1024, 'by': 509, '2045': 46, 'biden': 404, 'hits': 1409, 'sanders': 2552, 'home': 1419, 'turf': 3061, 'as': 291, 'tests': 2939, '2020': 45, 'waters': 3207, 'center': 572, 'massive': 1823, 'fraud': 1226, 'americans': 231, 'top': 2998, 'democrat': 849, 'says': 2566, '13': 10, 'year': 3304, 'old': 2049, 'student': 2833, 'autism': 319, 'dies': 889, 'being': 383, 'physically': 2176, 'restrained': 2466, 'school': 2574, 'renowned': 2430, 'chinese': 608, 'american': 230, 'stanford': 2782, 'theoretical': 2951, 'physicist': 2177, 'shoucheng': 2668, 'zhang': 3321, 'discovered': 903, 'new': 1985, 'matter': 1825, 'topological': 2999, 'insulator': 1526, 'explained': 1082, 'fractional': 1223, 'hall': 1334, 'effect': 988, 'founded': 1217, 'venture': 3139, 'capital': 538, 'firm': 1177, 'danhua': 803, '55': 80, 'dow': 945, 'falls': 1112, '600': 85, 'points': 2215, 'advisers': 161, 'simultaneously': 2686, 'contradict': 724, 'each': 977, 'other': 2073, 'trade': 3018, 'tucker': 3057, 'carlson': 548, 'capable': 536, 'hasn': 1356, 'kept': 1625, 'promises': 2295, 'california': 513, 'democrats': 851, 'plan': 2191, 'extend': 1090, 'medicaid': 1846, 'illegal': 1465, 'immigrants': 1470, 'border': 445, 'patrol': 2130, 'agent': 178, 'charged': 590, 'murder': 1939, 'texas': 2941, 'telling': 2923, 'investigators': 1550, 'killed': 1634, 'four': 1219, 'workers': 3281, 'whom': 3245, 'considered': 706, 'worthless': 3289, 'thought': 2965, 'was': 3201, 'performing': 2154, 'service': 2631, 'hometown': 1424, 'serial': 2629, 'abuser': 119, 'jeffrey': 1576, 'epstein': 1045, 'apologizes': 258, 'but': 503, 'victims': 3148, 'sinks': 2690, 'nearly': 1972, 'china': 607, 'falling': 1111, '10': 1, 'yield': 3310, 'spook': 2760, 'investors': 1552, 'lobbyists': 1755, 'are': 274, 'working': 3282, 'sneak': 2716, 'dangerous': 802, 'copyright': 735, 'into': 1542, 'must': 1948, 'pass': 2118, 'revive': 2482, 'website': 3217, 'blocking': 423, 'proposals': 2305, 'like': 1742, 'sopa': 2734, 'spongebob': 2759, 'squarepants': 2767, 'fans': 1118, 'petition': 2165, 'nfl': 1988, 'super': 2853, 'bowl': 454, 'tribute': 3039, 'late': 1675, 'creator': 761, '500': 78, 'women': 3274, 'came': 518, 'illinois': 1467, 'abortion': 115, 'last': 1674, 'amid': 232, 'growing': 1313, 'restrictions': 2467, 'midwest': 1875, 'george': 1263, 'hw': 1457, 'bush': 499, '94': 108, 'marshal': 1816, 'shot': 2666, 'outside': 2080, 'arizona': 278, 'house': 1436, 'while': 3240, 'serve': 2630, 'felony': 1142, 'warrant': 3199, 'republicans': 2443, 'senators': 2617, 'tried': 3040, 'kill': 1633, 'yemen': 3308, 'war': 3192, 'resolution': 2458, 'were': 3232, 'paid': 2093, 'saudi': 2560, 'veterans': 3145, 'affairs': 165, 'dept': 863, 'tells': 2924, 'staffers': 2775, 'won': 3275, 'repay': 2432, 'underpaid': 3086, 'gi': 1268, 'benefits': 390, 'recipients': 2384, 'mom': 1910, 'suing': 2849, 'government': 1295, '60': 84, 'toddler': 2991, 'following': 1201, 'neglectful': 1977, 'immigration': 1471, 'detainment': 871, 'stephen': 2802, 'hillenburg': 1399, 'has': 1355, 'died': 888, 'bernie': 394, 'will': 3254, 'probably': 2278, 'run': 2530, 'if': 1463, 'best': 397, 'candidate': 530, 'beat': 368, 'alabama': 201, 'during': 974, 'mall': 1796, 'shooting': 2662, 'likely': 1743, 'gunman': 1322, '190': 27, 'sea': 2591, 'turtles': 3068, 'found': 1215, 'frozen': 1234, 'death': 820, 'along': 220, 'cape': 537, 'cod': 653, 'girl': 1271, 'wrote': 3298, 'essay': 1055, 'senseless': 2622, 'gun': 1320, 'violence': 3156, 'stray': 2823, 'bullet': 493, 'milwaukee': 1886, 'oregon': 2068, 'bribe': 470, 'ice': 1458, 'officer': 2038, 'deport': 861, 'wife': 3248, 'her': 1384, 'child': 604, 'antonio': 253, 'burgos': 497, 'married': 1815, 'woman': 3273, 'brought': 486, 'united': 3096, 'states': 2791, 'from': 1233, 'el': 995, 'salvador': 2549, 'according': 124, 'plea': 2206, '30': 59, 'families': 1116, 'be': 365, 'released': 2416, 'south': 2736, 'detention': 872, 'judge': 1600, 'blocked': 422, 'rules': 2528, 'limited': 1744, 'ability': 114, 'request': 2444, 'asylum': 304, 'star': 2783, 'aaron': 111, 'rodgers': 2511, 'pledges': 2208, 'camp': 522, 'fire': 1172, 'relief': 2418, 'efforts': 990, 'psa': 2321, 'cdc': 569, 'warns': 3197, 'eating': 983, 'any': 254, 'type': 3076, 'romaine': 2516, 'lettuce': 1726, 'due': 969, 'health': 1370, 'risk': 2500, 'ivanka': 1567, 'used': 3119, 'personal': 2162, 'email': 1005, 'account': 125, 'send': 2618, 'hundreds': 1446, 'emails': 1007, 'business': 500, 'anti': 250, 'vaccine': 3127, 'community': 679, 'behind': 382, 'north': 2003, 'carolina': 549, 'chickenpox': 601, 'outbreak': 2076, 'you': 3312, 'don': 932, 'jail': 1570, 'lying': 1779, 'tv': 3069, 'gofundme': 1281, 'scam': 2567, 'suspect': 2876, 'allegedly': 213, 'bombshell': 436, 'recording': 2390, 'arrested': 288, '400': 69, 'scandal': 2569, 'just': 1608, 'homeless': 1420, 'veteran': 3144, 'bit': 416, 'naive': 1951, 'lawyer': 1691, 'living': 1750, 'unmarried': 3101, 'partner': 2115, 'common': 678, 'young': 3313, 'bankrupt': 345, 'sears': 2594, 'give': 1273, 'executives': 1071, '19': 26, 'bonuses': 438, 'coast': 651, 'guard': 1315, 'seizes': 2608, 'worth': 3288, 'cocaine': 652, 'jersey': 1584, 'couple': 753, 'whose': 3246, 'feel': 1139, 'good': 1288, 'story': 2821, 'went': 3231, 'viral': 3159, 'their': 2948, 'fake': 1107, 'montana': 1914, 'denies': 857, 'motion': 1928, 'dismiss': 912, 'case': 556, 'neo': 1978, 'nazi': 1968, 'fbi': 1129, 'reported': 2438, 'hate': 1358, 'crimes': 765, 'surged': 2865, '17': 19, 'cnn': 648, 'sues': 2846, 'white': 3243, 'aides': 189, 'barring': 355, 'jim': 1588, 'acosta': 129, 'toll': 2993, 'wildfire': 3251, 'rises': 2499, '42': 71, 'marking': 1813, 'worst': 3287, 'history': 1407, 'security': 2602, 'jemel': 1578, 'roberson': 2505, 'dead': 816, 'holding': 1416, 'chicago': 600, 'bar': 352, 'marvel': 1818, 'stan': 2778, 'lee': 1712, 'aged': 175, '95': 109, 'haven': 1360, 'received': 2381, 'months': 1917, 'ongoing': 2055, 'issues': 1564, 'va': 3125, 'ca': 510, '48': 76, 'news': 1986, 'harley': 1350, 'rouda': 2520, 'declares': 829, 'victory': 3149, 'unseating': 3105, 'antigay': 252, 'congressman': 701, 'dana': 799, 'rohrabacher': 2513, 'fires': 1176, 'across': 132, 'forced': 1208, '157': 15, 'homes': 1423, 'vehicles': 3137, 'antifa': 251, 'group': 1311, 'breaks': 467, 'door': 938, 'chants': 586, 'fox': 1220, 'host': 1432, 'sessions': 2634, 'justice': 1609, 'department': 860, 'michigan': 1872, 'becomes': 375, '10th': 4, 'legalize': 1715, 'recreational': 2395, 'use': 3118, 'marijuana': 1808, 'reports': 2441, 'long': 1760, 'lines': 1745, 'broken': 482, 'machines': 1781, 'voters': 3171, 'polls': 2224, 'three': 2972, 'scouts': 2583, 'intoxicated': 1543, 'driver': 960, 'wins': 3257, 'approval': 270, '16': 16, 'trademarks': 3019, 'despite': 869, 'shutting': 2675, 'down': 946, 'utah': 3124, 'mayor': 1828, 'insider': 1519, 'attack': 307, 'afghanistan': 168, 'officials': 2042, 'wisconsin': 3263, 'some': 2727, 'fear': 1133, 'foxconn': 1221, 'factory': 1101, 'main': 1788, 'product': 2284, 'smoke': 2713, 'mirrors': 1896, 'cop': 733, 'slipped': 2706, 'video': 3150, 'him': 1400, 'forcing': 1209, '11': 5, 'wasn': 3203, 'punished': 2331, 'local': 1756, 'decline': 831, 'appear': 264, 'pittsburgh': 2187, 'arabia': 273, 'response': 2462, 'foreign': 1211, 'policy': 2218, 'only': 2057, 'voting': 3173, 'changing': 585, 'ballots': 342, 'google': 1290, 'sacks': 2540, 'dozens': 949, 'sexual': 2644, 'harassment': 1346, 'tumbles': 3060, 'sheds': 2652, 'date': 808, 'gains': 1246, 'session': 2633, 'drop': 963, 'secret': 2598, 'intercepts': 1533, 'suspicious': 2881, 'packages': 2091, 'addressed': 148, 'obama': 2026, 'clinton': 640, 'helps': 1382, 'thwart': 2979, 'plot': 2209, 'kentucky': 1624, 'mikhail': 1878, 'gorbachev': 1292, 'pulling': 2326, 'missile': 1899, 'treaty': 3034, 'russia': 2535, 'remains': 2423, '63': 89, 'fetuses': 1146, 'infants': 1502, 'second': 2597, 'detroit': 873, 'funeral': 1241, 'remain': 2421, 'missing': 1900, 'week': 3219, 'hurricane': 1451, 'michael': 1870, 'retailer': 2470, 'files': 1155, 'chapter': 587, 'bankruptcy': 346, 'rates': 2369, 'unvaccinated': 3109, 'children': 605, 'rise': 2498, 'chief': 603, 'roberts': 2507, 'requests': 2445, 'tenth': 2930, 'circuit': 617, 'investigate': 1545, 'kavanaugh': 1618, 'ethics': 1058, 'questions': 2347, '14': 12, 'teen': 2918, 'asked': 295, 'directions': 892, 'experienced': 1079, 'driest': 956, 'scientists': 2578, 'records': 2391, 'bride': 473, 'goes': 1280, 'wedding': 3218, 'photos': 2175, 'tragic': 3022, 'loss': 1770, 'firefighter': 1174, 'fiance': 1147, 'colin': 658, 'powell': 2247, 'turned': 3065, 'america': 229, 'me': 1835, 'fatally': 1126, 'tamir': 2898, 'rice': 2487, 'hired': 1402, 'bellaire': 385, 'popular': 2230, 'sparkling': 2741, 'water': 3206, 'company': 681, 'lacroix': 1660, 'facing': 1099, 'products': 2285, 'mislabeled': 1897, 'all': 209, 'natural': 1965, 'allegations': 211, 'weighing': 3223, 'shares': 2649, 'parent': 2107, 'beverage': 401, 'undercover': 3085, 'cops': 734, 'break': 465, 'facebook': 1096, 'track': 3016, 'protesters': 2314, 'ensnare': 1033, 'criminals': 767, 'heitkamp': 1375, 'vote': 3168, 'no': 1999, 'palin': 2098, 'son': 2731, 'spend': 2751, 'custody': 782, 'third': 2961, 'assault': 297, 'allegation': 210, 'engaged': 1026, 'tax': 2910, 'schemes': 2572, 'reaped': 2375, 'riches': 2489, 'father': 1127, 'airport': 199, 'allowing': 217, 'passengers': 2121, 'carry': 552, 'tough': 3007, 'prompts': 2300, 'warren': 3200, 'plans': 2196, 'take': 2891, 'hard': 1347, 'look': 1764, 'running': 2531, 'nashville': 1957, 'homicide': 1425, 'ford': 1210, 'ceo': 575, 'metals': 1866, 'tariffs': 2905, 'cost': 742, 'dallas': 794, 'fired': 1173, 'innocent': 1516, 'own': 2087, 'apartment': 257, 'impregnated': 1481, 'sentenced': 2625, '160': 17, 'prison': 2273, 'duke': 972, 'confirms': 698, 'ash': 292, 'spill': 2755, 'mccaskill': 1831, 'she': 2651, 'brett': 469, 'supreme': 2863, 'court': 755, 'post': 2238, 'internet': 1538, 'providers': 2318, 'slowing': 2709, 'your': 3315, 'streaming': 2824, 'space': 2739, 'force': 1207, '13b': 11, 'victim': 3147, 'speaks': 2744, 'breaking': 466, 'including': 1491, 'multiple': 1938, 'shootings': 2663, 'southeast': 2737, 'bakersfield': 338, 'two': 3075, 'citizen': 620, 'report': 2437, 'pentagon': 2148, 'notified': 2009, 'proposal': 2304, 'military': 1880, 'lending': 1721, 'npr': 2012, 'caught': 563, 'cracking': 758, 'joke': 1594, 'terrorists': 2935, 'discussing': 907, 'niger': 1991, 'ambush': 228, 'where': 3239, 'soldiers': 2724, 'louisiana': 1772, 'bans': 349, 'nike': 1996, 'purchases': 2332, 'city': 622, 'recreation': 2394, 'pickup': 2180, 'trucks': 3049, 'seat': 2595, 'belts': 388, 'cause': 564, 'spent': 2753, 'free': 1229, 'time': 2985, 'speaking': 2743, 'kaepernick': 1613, 'commercial': 675, 'big': 405, 'consumers': 713, 'industry': 1500, 'captain': 541, 'terror': 2932, 'lawmakers': 1685, 'seek': 2605, 'answers': 247, 'why': 3247, 'native': 1963, 'vanish': 3132, 'lebron': 1710, 'james': 1573, 'stand': 2779, 'do': 920, 'ad': 143, 'hearing': 1372, 'instantly': 1523, 'melts': 1857, 'this': 2962, 'charade': 588, 'mockery': 1905, 'named': 1954, 'face': 1095, '30th': 61, 'anniversary': 242, 'campaign': 523, 'did': 885, 'passes': 2122, 'assembly': 299, 'looks': 1766, 'adopt': 153, 'style': 2838, 'john': 1592, 'mccain': 1830, '106': 3, 'mother': 1927, 'expected': 1077, 'attend': 309, 'memorial': 1860, 'services': 2632, 'dc': 814, 'maryland': 1819, 'jacksonville': 1569, 'shooter': 2661, 'legally': 1716, 'armed': 282, 'himself': 1401, 'one': 2054, 'usa': 3117, 'toughest': 3008, 'laws': 1688, 'accuses': 128, 'hiding': 1390, 'fair': 1106, 'media': 1844, 'coverage': 757, 'urged': 3114, 'lower': 1776, 'flag': 1186, 'mass': 1820, 'madden': 1782, 'game': 1248, 'tournament': 3010, 'florida': 1192, 'meets': 1850, 'promoter': 2298, 'qanon': 2342, 'theory': 2954, 'oval': 2082, 'office': 2037, 'longtime': 1763, 'organization': 2069, 'cfo': 576, 'weisselberg': 3227, 'granted': 1301, 'immunity': 1473, 'cohen': 656, 'probe': 2279, 'verizon': 3140, 'throttled': 2975, 'firefighters': 1175, 'speeds': 2750, 'blaze': 420, 'lane': 1666, 'strengthens': 2828, 'category': 562, 'hawaii': 1362, 'braces': 458, 'life': 1737, 'threatening': 2969, 'winds': 3255, 'immigrant': 1469, 'iowa': 1555, 'college': 659, 'montezuma': 1915, 'ap': 256, 'mexico': 1868, 'illegally': 1466, 'confessed': 696, 'kidnapping': 1629, 'mollie': 1909, 'tibbetts': 2980, 'small': 2711, 'dumping': 973, 'body': 432, 'rural': 2533, 'field': 1148, 'twenty': 3072, 'ask': 294, 'appeals': 263, 'reinstate': 2410, 'taken': 2892, 'rushing': 2534, 'pregnant': 2254, 'hospital': 1428, 'wanted': 3190, 'satanic': 2558, 'temple': 2926, 'unveils': 3110, 'baphomet': 350, 'statue': 2795, 'arkansas': 280, 'capitol': 539, '87': 102, 'tasered': 2907, 'cutting': 787, 'dandelions': 801, 'georgia': 1264, 'survived': 2872, 'fall': 1110, 'foot': 1204, 'bridge': 474, 'want': 3189, 'pusher': 2337, 'nyu': 2025, 'makes': 1793, 'tuition': 3058, 'medical': 1847, 'students': 2834, 'raised': 2357, '450': 75, 'estimated': 1057, 'needed': 1975, 'cover': 756, 'perpetuity': 2159, 'reddit': 2396, 'sleuth': 2703, 'identifies': 1462, 'car': 544, 'part': 2112, 'leading': 1698, 'arrest': 287, 'tracks': 3017, 'users': 3121, 'turn': 3064, 'off': 2030, 'location': 1757, 'defense': 836, 'suspending': 2879, 'delivery': 846, '35': 64, 'warplanes': 3198, 'ark': 279, 'men': 1861, 'belong': 386, 'claims': 627, 'megachurch': 1852, 'leadership': 1697, 'there': 2955, 'democratic': 850, 'socialists': 2719, 'members': 1859, 'congress': 699, 'private': 2275, 'phasing': 2169, 'prisons': 2274, 'until': 3106, 'administration': 150, 'took': 2997, 'reversal': 2478, 'west': 3233, 'hollywood': 1417, 'council': 746, 'remove': 2426, 'walk': 3184, 'fame': 1115, 'apple': 266, 'youtube': 3317, 'spotify': 2761, 'alex': 206, 'jones': 1595, 'content': 718, 'steel': 2801, 'opening': 2059, 'six': 2693, 'mills': 1885, 'going': 1282, 'pension': 2147, 'payments': 2138, 'cut': 785, 'cbc': 567, '395': 66, '15': 13, 'infected': 1503, 'mcdonald': 1832, 'salad': 2545, 'sarah': 2556, 'jeong': 1582, 'racist': 2352, 'tweets': 3071, 'spotlighted': 2762, 'york': 3311, 'times': 2986, 'hiring': 1404, 'bulls': 494, 'writer': 3293, 'sick': 2676, 'how': 1440, 'much': 1935, 'joy': 1598, 'get': 1265, 'cruel': 773, 'ted': 2917, 'cruz': 775, 'show': 2671, 'challenger': 582, 'beto': 398, 'rourke': 2522, 'real': 2374, 'rejects': 2411, 'bid': 403, 'halt': 1335, 'urges': 3115, 'end': 1019, 'enemy': 1023, 'rhetoric': 2486, 'suspends': 2880, 'theorist': 2953, 'technology': 2916, 'senate': 2615, 'quietly': 2348, 'votes': 3172, 'goods': 1289, 'guards': 1316, 'target': 2900, 'canadian': 526, 'cannabis': 533, 'least': 1707, 'dozen': 948, 'past': 2123, 'been': 376, 'banned': 347, 'entering': 1036, 'sales': 2547, 'prices': 2267, 'record': 2388, 'high': 1391, 'steve': 2805, 'tisch': 2988, 'rips': 2497, 'giants': 1269, 'punish': 2330, 'anthem': 248, 'parkland': 2110, 'survivors': 2875, 'measure': 1840, 'removed': 2427, 'november': 2010, 'ballot': 341, 'ruling': 2529, 'traveling': 3032, 'scotland': 2580, 'sue': 2844, 'void': 3165, 'deduction': 832, 'cap': 535, 'praises': 2252, 'putin': 2340, 'incredible': 1494, 'offer': 2033, 'special': 2745, 'counsel': 747, 'come': 666, 'work': 3278, 'farmers': 1122, 'file': 1154, 'alleging': 215, 'sold': 2723, 'inferior': 1505, 'seeds': 2604, 'purpose': 2333, 'agents': 179, '18': 21, 'human': 1444, 'smugglers': 2715, '117': 7, 'charges': 591, 'stormy': 2820, 'daniels': 804, 'dismissed': 913, 'strip': 2831, 'club': 647, 'northern': 2005, 'ends': 1022, 'contract': 721, 'pardons': 2106, 'ranchers': 2362, 'arrests': 289, 'led': 1711, 'occupation': 2028, 'wildlife': 3253, 'refuge': 2401, '91': 106, 'beaten': 369, 'brick': 472, 'told': 2992, 'country': 750, 'highest': 1393, 'level': 1727, 'wwii': 3299, 'malls': 1797, 'empty': 1015, 'unexpectedly': 3090, 'reveals': 2476, 'scott': 2581, 'pruitt': 2320, 'resigned': 2454, 'former': 1212, 'attorney': 311, 'scrubbed': 2589, 'name': 1953, 'twitter': 3074, 'idaho': 1459, 'refugees': 2402, 'targeted': 2901, 'stabbings': 2771, 'street': 2825, 'boise': 434, '72': 93, 'hour': 1434, 'waiting': 3181, 'period': 2155, 'requirement': 2447, 'right': 2494, 'kennedy': 1622, 'retiring': 2471, 'gets': 1266, '2nd': 58, 'pick': 2178, 'approves': 271, 'first': 1179, 'plant': 2197, 'derived': 867, 'drug': 967, 'epilepsy': 1044, 'hbo': 1363, 'oliver': 2051, 'skewers': 2696, 'xi': 3300, 'employees': 1014, 'reportedly': 2439, 'encouraged': 1018, 'unethical': 3089, 'tactics': 2890, 'drive': 959, 'directv': 895, 'subscriptions': 2840, 'stopping': 2816, 'highways': 1396, 'england': 1029, 'check': 595, 'citizenship': 621, 'humiliated': 1445, 'walgreens': 3183, 'drugs': 968, 'pregnancy': 2253, 'order': 2065, 'migrant': 1876, 'separation': 2628, 'players': 2203, 'association': 302, 'may': 1827, 'challenge': 581, 'teens': 2920, 'having': 1361, 'less': 1723, 'doing': 928, 'often': 2043, 're': 2373, 'sad': 2542, 'general': 1261, 'foundation': 1216, 'well': 3229, 'extensive': 1091, 'persistent': 2160, 'lawbreaking': 1684, 'dancing': 800, 'dropped': 964, 'backflip': 329, 'revoked': 2483, '291': 57, 'concealed': 691, 'weapons': 3213, 'permits': 2158, 'employee': 1013, 'reviewing': 2480, 'background': 330, 'checks': 596, 'yes': 3309, 'll': 1751, 'elizabeth': 1001, 'feds': 1137, 'follow': 1199, 'navy': 1967, 'intelligence': 1529, 'compromised': 688, 'hackers': 1330, 'data': 807, 'breach': 464, 'anthony': 249, 'bourdain': 453, '61': 86, 'billions': 411, 'solar': 2722, 'projects': 2294, 'shelved': 2655, 'panel': 2100, 'tariff': 2904, 'soon': 2733, 'biggest': 406, 'labor': 1658, 'strike': 2829, 'decades': 825, 'survivor': 2874, 'david': 810, 'hogg': 1413, 'swatted': 2885, 'morning': 1922, 'justices': 1610, 'side': 2677, 'colorado': 660, 'baker': 337, 'same': 2550, 'cake': 512, 'epa': 1042, '560': 81, '12': 8, 'fountain': 1218, 'pens': 2146, 'thieves': 2958, 'inglewood': 1510, 'steal': 2797, '18k': 25, 'chemo': 599, 'medicine': 1849, 'battling': 362, 'hitting': 1410, 'pay': 2132, 'dirt': 896, 'firms': 1178, 'reveal': 2474, 'gulf': 1319, 'between': 400, 'bosses': 447, 'either': 994, 'already': 222, 'or': 2064, 'considering': 707, 'imposing': 1480, 'higher': 1392, 'taxes': 2911, 'companies': 680, 'especially': 1054, 'gaps': 1250, 'dick': 884, 'soaring': 2718, 'prove': 2316, 'succeed': 2842, 'without': 3269, 'rifles': 2493, 'grand': 1300, 'jury': 1607, 'indicts': 1498, 'rape': 2365, 'ambien': 227, 'maker': 1792, 'responds': 2461, 'roseanne': 2519, 'racism': 2351, 'known': 1649, 'economy': 985, 'grew': 1307, 'slightly': 2705, 'slower': 2708, 'quarter': 2345, 'revised': 2481, 'gdp': 1258, 'figures': 1153, 'missouri': 1903, 'eric': 1049, 'greitens': 1306, 'resigns': 2456, 'harvard': 1353, 'defendants': 834, 'longer': 1761, 'sentences': 2626, 'gop': 1291, 'appointed': 267, 'judges': 1601, 'abc': 112, 'cancels': 528, 'rant': 2364, 'rudy': 2525, 'giuliani': 1272, 'booed': 439, 'yankee': 3303, 'birthday': 414, 'ex': 1067, 'green': 1303, 'beret': 392, 'nfler': 1989, 'weighs': 3224, 'rule': 2526, 'telemarketing': 2921, 'losing': 1769, 'robocalls': 2508, 'install': 1522, 'app': 259, 'phone': 2173, 'else': 1004, 'done': 934, 'mid': 1873, 'terms': 2931, 'think': 2959, 'favoured': 1128, 'contest': 719, 'finely': 1168, 'balanced': 339, 'hospitalized': 1430, 'experiencing': 1080, 'low': 1775, 'blood': 426, 'pressure': 2261, 'sunday': 2852, 'sharks': 2650, 'finned': 1171, 'alive': 208, 'bats': 361, 'mark': 1811, 'violent': 3157, 'day': 812, 'weekend': 3220, 'airlines': 198, 'passenger': 2120, 'refused': 2403, 'beer': 377, 'so': 2717, 'screamed': 2586, 'fought': 1214, 'spit': 2757, 'ball': 340, 'chain': 577, 'curb': 779, 'contracts': 723, 'make': 1791, 'harder': 1348, 'jobs': 1590, 'non': 2002, 'compete': 683, 'agreements': 185, 'startlingly': 2788, 'even': 1061, 'teacher': 2913, 'corrects': 738, 'letter': 1725, 'sends': 2620, 'totalbiscuit': 3004, 'gaming': 1249, 'youtubers': 3318, 'passed': 2119, 'away': 324, 'changes': 584, 'undocumented': 3087, 'fatal': 1125, 'kills': 1638, 'oklahoma': 2048, 'restaurant': 2465, 'male': 1795, 'detained': 870, 'indiana': 1496, 'middle': 1874, 'noblesville': 2000, 'adult': 156, 'juvenile': 1611, 'transported': 3031, 'shots': 2667, 'elon': 1003, 'musk': 1945, 'develop': 875, 'bias': 402, 'rating': 2371, 'freaks': 1227, 'pulls': 2327, 'korea': 1650, 'summit': 2851, 'jets': 1585, 'chris': 611, 'johnson': 1593, 'fines': 1169, 'protest': 2313, 'block': 421, 'move': 1929, 'parents': 2109, 'trailer': 3023, 'traffic': 3020, 'stop': 2814, 'refuses': 2404, 'require': 2446, 'panels': 2101, 'houses': 1438, 'volcano': 3166, 'lava': 1682, 'flows': 1194, 'power': 2248, 'sparking': 2740, 'fears': 1135, 'deadly': 818, 'gas': 1252, 'release': 2415, 'sinkhole': 2689, 'appears': 265, 'lawn': 1686, 'kim': 1639, 'delayed': 844, 'barack': 353, 'michelle': 1871, 'films': 1159, 'netflix': 1981, 'headed': 1366, 'chemical': 597, 'pollution': 2225, 'intervention': 1540, 'official': 2040, 'warned': 3195, 'findings': 1164, 'would': 3290, 'public': 2323, 'relations': 2413, 'nightmare': 1995, 'payers': 2135, 'revolt': 2484, 'tired': 2987, 'priced': 2266, 'fighting': 1151, 'whatever': 3236, 'pharma': 2166, 'should': 2669, 'queasy': 2346, 'fyi': 1243, 'english': 1030, 'isn': 1562, 'language': 1667, 'lot': 1771, 'multilingual': 1937, 'countries': 749, 'promote': 2297, 'never': 1984, 'fact': 1100, 'import': 1477, 'significantly': 2680, 'increase': 1492, 'houston': 1439, 'inaction': 1486, 'control': 725, 'texans': 2940, 'defensive': 837, 'funerals': 1242, 'april': 272, 'walked': 3185, 'today': 2990, 'live': 1747, 'santa': 2555, 'fe': 1132, 'eight': 992, 'birth': 413, 'diaper': 881, 'baby': 327, 'bottle': 450, 'feeling': 1140, 'pinch': 2183, 'yelling': 3306, 'opens': 2060, 'golf': 1285, 'resort': 2459, '25': 52, 'posed': 2234, 'isd': 1560, 'relive': 2420, 'basketball': 359, 'glory': 1277, 'hillcrest': 1398, 'explosive': 1087, 'eruption': 1051, 'rocks': 2510, 'kilauea': 1632, 'usgs': 3122, 'returned': 2472, 'dad': 790, '70': 92, 'stood': 2813, 'beside': 396, 'save': 2561, 'proving': 2319, 'shame': 2645, 'still': 2806, 'works': 3283, 'sometimes': 2730, 'documents': 923, 'ajit': 200, 'pai': 2092, 'met': 1865, 'execs': 1069, 'started': 2787, 'insects': 1518, 'hedgehogs': 1374, 'goats': 1279, 'emotional': 1012, 'animals': 241, 'tom': 2994, 'wolfe': 3271, 'pioneering': 2185, 'journalist': 1597, '88': 103, 'melania': 1854, 'kidney': 1630, 'procedure': 2281, 'resign': 2453, 'salmonella': 2548, 'caused': 565, 'eggs': 991, 'largest': 1670, 'recall': 2378, '2010': 39, '67': 91, 'environmental': 1041, 'way': 3208, 'denied': 855, 'payment': 2137, 'connected': 703, 'billionaire': 410, 'turns': 3067, 'authorities': 317, 'respond': 2460, 'highland': 1394, 'palmdale': 2099, 'hurting': 1453, 'davidson': 811, 'close': 642, 'kansas': 1616, 'mormon': 1921, 'church': 615, 'severing': 2642, 'ties': 2982, 'boy': 456, 'ending': 1021, 'century': 574, 'bond': 437, 'university': 3097, 'tour': 3009, 'made': 1783, 'nervous': 1979, 'residence': 2450, 'open': 2058, 'kind': 1640, 'guy': 1324, 'peered': 2143, 'duffel': 970, 'bag': 335, 'tiger': 2983, 'cub': 776, 'cosby': 741, 'officers': 2039, 'praised': 2251, 'weathering': 3216, 'profane': 2286, 'outburst': 2077, 'suspected': 2877, 'east': 980, 'area': 275, 'rapist': 2367, 'murdered': 1940, 'raped': 2366, '45': 74, 'held': 1376, 'sacramento': 2541, 'waffle': 3178, 'once': 2053, 'trespassing': 3036, 'near': 1971, 'law': 1683, 'mike': 1877, 'pence': 2144, 'ruled': 2527, 'unconstitutional': 3083, '7th': 96, 'minnesota': 1894, 'prince': 2271, 'profile': 2288, 'casualty': 561, 'fentanyl': 1144, 'laced': 1659, 'pill': 2181, 'scourge': 2582, 'thursday': 2978, 'carver': 555, 'county': 752, 'metz': 1867, 'evidence': 1066, 'suggested': 2847, 'unknowingly': 3098, 'counterfeit': 748, 'vicodin': 3146, 'painkillers': 2095, 'actually': 142, 'contained': 715, 'wells': 3230, 'fargo': 1120, 'fined': 1167, 'cannot': 534, 'planned': 2194, 'parenthood': 2108, 'funds': 1240, 'fcc': 1130, 'broadband': 478, 'adviser': 160, '43': 72, 'booth': 444, 'broke': 481, 'auditors': 314, 'tsa': 3054, 'finds': 1165, 'loaded': 1752, 'guns': 1323, 'tampa': 2899, 'international': 1537, 'arranged': 286, 'payoff': 2139, 'playboy': 2201, 'playmate': 2205, 'republican': 2442, 'fundraiser': 1239, 'source': 2735, 'millennials': 1881, 'know': 1648, 'jews': 1587, 'holocaust': 1418, 'zuckerberg': 3323, 'deflects': 839, 'effort': 989, 'fda': 1131, 'accepting': 122, 'comments': 674, 'reclassify': 2385, 'point': 2214, 'rally': 2359, 'erased': 1048, 'final': 1160, 'raid': 2354, 'tower': 3013, 'floor': 1191, 'sprinklers': 2765, '572': 82, 'pummel': 2328, 'stocks': 2809, 'sent': 2623, 'doctor': 922, 'mission': 1901, 'hospitals': 1431, 'share': 2647, 'patient': 2127, 'begging': 380, 'rebellion': 2377, 'shuts': 2674, 'schools': 2575, 'pastor': 2124, 'defrauding': 840, 'elderly': 996, 'emma': 1011, 'gonzález': 1287, 'rip': 2496, 'constitution': 710, 'jared': 1575, 'kushner': 1656, 'younger': 3314, 'brother': 485, 'had': 1332, 'vowed': 3174, 'marchforourlives': 1805, 'march': 1804, 'our': 2074, 'lives': 1749, 'single': 2688, 'sell': 2612, 'daughter': 809, 'patriots': 2129, 'loan': 1753, 'plane': 2192, 'trip': 3043, 'crown': 772, 'boasted': 428, 'pocket': 2212, 'blocks': 424, 'mississippi': 1902, 'ban': 343, 'lockdown': 1758, 'consultants': 711, 'filmed': 1157, 'saying': 2565, 'bribes': 471, 'entrap': 1039, 'politicians': 2221, 'watch': 3205, 'tops': 3000, '21': 47, 'trillion': 3041, 'ever': 1062, 'walkout': 3186, 'nickelodeon': 1990, 'air': 195, 'minutes': 1895, 'recognizing': 2387, 'weeks': 3222, 'another': 246, 'injured': 1513, 'what': 3235, 'warning': 3196, 'site': 2692, 'the_donald': 2947, 'propaganda': 2302, 'virginia': 3160, 'closing': 644, 'monday': 1912, 'set': 2635, 'enter': 1035, '12th': 9, 'accused': 127, 'bullying': 495, 'infowars': 1509, 'daily': 792, 'beast': 367, 'buy': 506, 'decent': 826, 'chair': 579, 'hud': 1442, 'staffer': 2774, 'complaint': 685, 'ben': 389, 'carson': 553, 'redecoration': 2397, 'broward': 487, 'deputies': 865, 'unless': 3099, 'cameras': 521, 'pharmacist': 2167, 'tell': 2922, '20': 34, 'prescription': 2256, 'moving': 1932, 'gag': 1244, 'clauses': 633, 'prohibit': 2293, 'pharmacists': 2168, 'customers': 784, 'rather': 2370, 'using': 3123, 'insurance': 1528, 'considers': 708, 'let': 1724, 'learn': 1705, 'fla': 1185, 'receive': 2380, 'threats': 2971, 'theories': 2952, 'circulate': 618, 'actors': 141, 'statewide': 2792, 'announced': 244, 'teachers': 2914, 'hero': 1388, 'stops': 2817, 'shoot': 2660, 'silent': 2685, 'photo': 2174, 'signing': 2681, 'weaken': 3211, 'investigated': 1546, 'inspector': 1521, 'football': 1205, 'coach': 649, 'shielded': 2658, 'lived': 1748, 'putting': 2341, 'head': 1365, 'needs': 1976, 'fly': 1196, 'class': 629, 'because': 373, 'mean': 1837, 'pepsi': 2151, 'laying': 1692, 'touted': 3011, 'melinda': 1855, 'gates': 1254, 'attention': 310, 'toward': 3012, 'poverty': 2245, 'budget': 490, 'poor': 2229, 'hardest': 1349, 'aims': 193, 'replace': 2436, 'stamps': 2777, 'meal': 1836, 'kits': 1641, 'thinks': 2960, 'reasonable': 2376, 'flight': 1187, 'launches': 1680, 'aetna': 164, 'director': 893, 'didn': 886, 'patients': 2128, 'denying': 859, 'them': 2949, 'treatment': 3033, 'flu': 1195, 'hospitalizations': 1429, 'pretty': 2263, 'clear': 635, 'meddled': 1843, 'orders': 2067, 'parade': 2103, 'index': 1495, '175': 20, '2008': 37, 'financial': 1163, 'crisis': 768, 'lunged': 1778, 'larry': 1671, 'nasser': 1958, 'false': 1113, 'alert': 205, 'worker': 3280, 'imminent': 1472, 'saved': 2562, 'miner': 1889, 'deaths': 821, 'double': 943, 'cvs': 788, 'manipulation': 1800, 'store': 2818, 'beauty': 372, 'brands': 463, 'pressures': 2262, 'suppliers': 2856, 'ordered': 2066, 'leave': 1708, 'twice': 3073, 'computer': 689, 'lab': 1657, 'older': 2050, 'viewers': 3152, 'different': 890, 'planet': 2193, 'administrators': 151, 'indicted': 1497, 'inhales': 1511, 'golden': 1283, 'pot': 2241, 'comically': 670, 'progressive': 2292, 'cities': 619, 'convictions': 730, 'priority': 2272, 'setting': 2636, 'legal': 1714, 'shops': 2665, 'doj': 929, 'supremacist': 2861, 'terrorism': 2933, 'anyone': 255, 'train': 3024, 'nebraska': 1973, 'intent': 1531, 'harm': 1351, 'att': 306, 'sued': 2845, 'layoffs': 1693, 'promising': 2296, 'wrongly': 3297, 'mine': 1888, 'expansion': 1076, 'nab': 1950, 'nigerian': 1992, 'slidell': 2704, 'knew': 1647, 'christmas': 613, 'instead': 1524, 'played': 2202, 'thomas': 2963, 'recorded': 2389, 'defying': 842, 'again': 172, 'gov': 1294, 'jerry': 1583, 'brown': 488, 'deported': 862, 'giving': 1275, '200': 35, 'senator': 2616, 'bring': 476, 'repeal': 2433, 'molesting': 1908, 'rep': 2431, 'dan': 798, 'commits': 677, 'suicide': 2848, 'doug': 944, 'defeats': 833, 'roy': 2524, 'moore': 1919, '230': 50, 'acres': 131, 'fifth': 1149, 'modern': 1907, 'gymnastics': 1326, 'team': 2915, 'pornography': 2231, 'approached': 269, 'dramatic': 953, 'tale': 2896, 'sting': 2807, 'operation': 2061, 'key': 1627, 'surge': 2864, 'ok': 2047, 'ptsd': 2322, 'happens': 1345, 'bite': 417, 'dust': 975, 'wheeler': 3237, 'discusses': 906, 'means': 1838, 'see': 2603, 'ditched': 918, 'portugal': 2233, 'charles': 592, 'manson': 1801, 'mastermind': 1824, '1969': 29, 'murders': 1943, '83': 99, 'hepatitis': 1383, 'untreated': 3107, 'taxpayers': 2912, 'millions': 1884, 'keystone': 1628, 'pipeline': 2186, 'closed': 643, 'major': 1790, 'oil': 2046, 'boomtown': 441, 'shouldn': 2670, 'exist': 1074, 'coral': 736, 'built': 492, 'total': 3003, 'lies': 1736, 'storm': 2819, 'wipe': 3259, 'map': 1803, 'oh': 2044, 'also': 223, 'joe': 1591, 'repeatedly': 2435, 'discouraged': 902, 'amazon': 226, 'faces': 1098, 'warehouse': 3193, 'many': 1802, 'buys': 507, 'land': 1664, '80': 97, 'create': 759, 'smart': 2712, 'scientology': 2579, 'lose': 1767, 'exempt': 1072, 'status': 2796, 'attacked': 308, 'demolished': 852, 'frank': 1224, 'pomeroy': 2227, 'leaders': 1696, 'southern': 2738, 'baptist': 351, 'convention': 727, 'earlier': 979, 'too': 2996, 'painful': 2094, 'continue': 720, 'place': 2190, 'worship': 3286, 'alt': 224, 'blogger': 425, 'jenna': 1579, 'abrams': 117, 'followers': 1200, 'does': 924, 'created': 760, 'st': 2769, 'petersburg': 2164, 'troll': 3045, 'previously': 2265, 'escaped': 1053, 'mental': 1863, 'institution': 1525, 'adverts': 159, 'fight': 1150, 'wildfires': 3252, 'choice': 609, 'female': 1143, 'inmate': 1514, 'bodies': 431, '27': 54, 'sutherland': 2882, 'springs': 2764, 'party': 2117, 'both': 449, 'parties': 2114, 'worse': 3285, 'scream': 2585, 'helplessly': 1381, 'sky': 2697, 'killer': 1635, 'navajo': 1966, 'nation': 1959, 'sentence': 2624, 'stole': 2810, '23': 49, 'lamonte': 1663, 'mcintyre': 1834, 'compensation': 682, 'offers': 2036, 'zero': 3320, 'individuals': 1499, 'later': 1676, 'exonerated': 1075, 'hustler': 1456, 'flynt': 1198, 'runs': 2532, 'offering': 2035, 'smoking': 2714, 'authoritarian': 316, 'threat': 2968, 'shut': 2673, 'critical': 769, 'stations': 2794, '36': 65, 'actor': 140, 'terry': 2936, 'crews': 763, 'groped': 1309, 'executive': 1070, 'maricopa': 1807, 'tent': 2929, 'officially': 2041, 'wolfenstein': 3272, 'ii': 1464, 'angers': 239, 'nazis': 1969, 'slogans': 2707, 'vp': 3175, 'walks': 3187, 'colts': 661, 'kneeled': 1646, 'fearless': 1134, '5m': 83, 'fine': 1166, 'corp': 737, 'settles': 2638, 'race': 2349, 'gender': 1259, 'discrimination': 905, 'pays': 2140, '85': 100, 'fund': 1237, 'scammed': 2568, '50': 77, 'hurt': 1452, 'las': 1672, 'vegas': 3136, 'active': 136, 'casino': 559, 'lashes': 1673, 'san': 2551, 'juan': 1599, 'begged': 379, 'academy': 120, 'cadets': 511, 'outraged': 2079, 'racial': 2350, 'slurs': 2710, 'removes': 2428, 'swastika': 2884, 'tattoos': 2909, 'unlikely': 3100, 'friendship': 1232, 'ny': 2021, 'cuomo': 778, 'arguing': 277, 'protests': 2315, 'start': 2786, 'helping': 1380, 'puerto': 2325, 'rico': 2491, 'bounty': 452, 'hunters': 1449, 'wrong': 3295, 'columbus': 662, 'walmart': 3188, '950': 110, 'flint': 1188, 'unborn': 3081, 'babies': 326, 'moms': 1911, 'drank': 954, 'couldn': 745, 'born': 446, 'switch': 2889, 'river': 2502, '150': 14, 'grams': 1299, 'lighter': 1741, 'those': 2964, 'areas': 276, 'gained': 1245, 'weight': 3225, 'agencies': 176, 'kaspersky': 1617, 'software': 2721, 'nurse': 2019, 'violated': 3155, 'codes': 655, 'irma': 1557, 'nursing': 2020, 'left': 1713, 'hampshire': 1337, 'biracial': 412, 'hung': 1447, 'tree': 3035, 'equifax': 1046, 'action': 135, 'lawsuits': 1690, 'cyberbreach': 789, 'risks': 2501, 'devastation': 874, 'rick': 2490, 'defunded': 841, 'wetlands': 3234, 'agency': 177, 'stock': 2808, 'before': 378, 'hack': 1329, 'disclosed': 899, 'sheriff': 2656, 'offenders': 2032, 'welcome': 3228, 'shelters': 2654, 'medic': 1845, 'job': 1589, 'emergency': 1009, 'superstorm': 2854, 'path': 2126, 'wiretap': 3262, 'screaming': 2587, 'handcuffed': 1340, 'refusing': 2405, 'unconscious': 3082, 'leonardo': 1722, 'dicaprio': 883, 'gave': 1256, 'scum': 2590, 'die': 887, 'painted': 2096, 'headquarters': 1367, 'lexington': 1729, 'doomed': 937, 'dogs': 927, 'airlift': 196, '417m': 70, 'civil': 623, 'linking': 1746, 'talcum': 2895, 'powder': 2246, 'totally': 3006, 'boston': 448, 'damaged': 796, 'summer': 2850, 'swarm': 2883, 'charlottesville': 593, 'kkk': 1642, 'fascist': 1123, '850': 101, 'interest': 1534, 'jacked': 1568, 'prime': 2270, 'misleading': 1898, 'vendor': 3138, 'scaramucci': 2570, 'distract': 916, 'important': 1478, 'chilling': 606, 'transgender': 3030, 'laughed': 1678, 'drowned': 966, 'tennessee': 2928, 'inmates': 1515, 'offered': 2034, 'reduced': 2400, 'getting': 1267, 'vasectomy': 3134, 'exploring': 1086, 'ways': 3209, 'hamper': 1336, 'pardon': 2105, 'directed': 891, 'enforcement': 1025, 'darknet': 805, 'markets': 1812, 'alphabay': 221, 'suspended': 2878, 'camera': 519, 'planting': 2199, 'disgraced': 908, 'speaker': 2742, 'dennis': 858, 'hastert': 1357, 'offender': 2031, 'hours': 1435, 'audio': 312, 'interview': 1541, 'dejuan': 843, 'guillory': 1317, 'unarmed': 3080, 'moves': 1930, '44': 73, 'commission': 676, 'demand': 847, 'info': 1507, 'buzz': 508, 'aldrin': 204, 'speech': 2747, 'maine': 1789, 'governments': 1296, 'failures': 1105, 'nevada': 1983, 'poll': 2223, 'alarmed': 202, 'uneasy': 3088, 'shoots': 2664, 'boyfriend': 457, 'stunt': 2836, 'boost': 442, 'online': 2056, 'buffett': 491, 'problem': 2280, 'hires': 1403, 'sketch': 2695, 'artist': 290, 'warmbier': 3194, 'mining': 1892, 'museum': 1944, 'converts': 728, 'mueller': 1936, 'investigating': 1548, 'finances': 1162, 'polygamous': 2226, 'sect': 2601, 'leader': 1695, 'lyle': 1780, 'jeffs': 1577, 'captured': 543, 'alexandria': 207, 'volunteer': 3167, 'miami': 1869, 'roll': 2515, 'cuba': 777, 'professor': 2287, 'leaker': 1702, 'loses': 1768, 'bail': 336, 'asking': 296, 'deliver': 845, 'announcement': 245, 'proceed': 2282, 'strategy': 2822, 'adopted': 154, '2007': 36, 'pursuing': 2335, 'aggressive': 180, 'reduce': 2399, 'emissions': 1010, 'doorway': 939, 'profit': 2289, 'visit': 3162, 'visitor': 3164, 'logs': 1759, 'lobbying': 1754, 'witnesses': 3270, 'throats': 2974, 'max': 1826, 'muslim': 1946, 'northeast': 2004, 'portland': 2232, 'customer': 783, 'word': 3276, 'unimaginable': 3092, 'cruelty': 774, 'entire': 1037, 'gasoline': 1253, 'reserve': 2449, 'households': 1437, 'roger': 2512, 'ailes': 190, 'comey': 669, 'flynn': 1197, 'corrine': 739, 'counts': 751, 'mail': 1786, 'wire': 3261, '110': 6, 'colbert': 657, 'controversial': 726, 'insult': 1527, 'call': 514, 'broker': 483, 'leads': 1699, '33': 63, 'judgment': 1602, 'terrorist': 2934, 'lied': 1735, 'become': 374, 'allow': 216, 'drill': 957, 'monuments': 1918, 'orleans': 2071, 'begins': 381, 'removal': 2425, 'confederate': 695, 'appalachian': 260, 'looking': 1765, 'renewables': 2429, 'reilly': 2408, 'severance': 2641, 'hernandez': 1387, 'cleveland': 637, 'stephens': 2803, 'pursuit': 2336, 'announce': 243, 'reward': 2485, 'search': 2593, 'intensifies': 1530, 'privately': 2276, 'surviving': 2873, 'person': 2161, '1800s': 22, 'age': 174, 'hudson': 1443, 'elementary': 1000, 'bernardino': 393, 'violently': 3158, 'drag': 951, 'airline': 197, 'overbooked': 2084, 'irs': 1558, 'managed': 1799, 'accounts': 126, 'stacked': 2772, 'millionaires': 1883, 'disclosures': 900, 'isps': 1563, 'browsing': 489, 'advertisers': 158, 'teenage': 2919, 'burglars': 496, 'boxes': 455, 'encourage': 1017, 'safe': 2543, 'sleep': 2701, 'habits': 1328, 'bannon': 348, 'conservatives': 705, 'debate': 822, 'devin': 878, 'nunes': 2018, 'vanished': 3133, 'night': 1993, 'surveillance': 2870, 'chairman': 580, 'got': 1293, 'message': 1864, 'jumped': 1605, 'uber': 3078, 'next': 1987, 'based': 357, 'classified': 631, '89': 104, 'improper': 1483, 'relationship': 2414, 'waiter': 3180, 'latinas': 1677, 'proof': 2301, 'residency': 2451, 'upscale': 3113, 'huntington': 1450, 'beach': 366, 'eatery': 982, 'chuck': 614, 'berry': 395, '90': 105, 'helped': 1379, 'define': 838, 'rock': 2509, 'louisville': 1773, 'greg': 1305, 'fischer': 1180, 'abuse': 118, 'youth': 3316, 'explorer': 1085, 'program': 2290, 'nypd': 2024, 'assaulted': 298, 'postal': 2239, 'acquitted': 130, 'conservative': 704, 'felonies': 1141, 'prostitution': 2309, 'idea': 1460, 'grow': 1312, 'grows': 1314, 'awful': 325, 'basically': 358, 'useless': 3120, 'poland': 2216, 'extradition': 1093, 'exposed': 1088, 'associated': 301, 'press': 2259, 'commander': 672, 'ss': 2768, 'unit': 3095, 'burned': 498, 'polish': 2219, 'villages': 3154, 'civilians': 624, 'world': 3284, 'prosecutors': 2308, 'sen': 2614, 'tim': 2984, 'kaine': 1614, 'among': 234, 'several': 2640, 'disrupt': 915, 'sikh': 2683, 'apparent': 261, 'kent': 1623, 'seattle': 2596, 'wa': 3176, 'unanimously': 3079, 'funding': 1238, 'inadequate': 1487, 'legislature': 1719, 'june': 1606, 'deadline': 817, 'enact': 1016, 'scrambling': 2584, 'legislative': 1718, 'consumed': 712, 'sprawling': 2763, 'engineer': 1028, 'handed': 1341, 'written': 3294, 'test': 2937, 'bbc': 364, 'leaks': 1703, 'add': 144, '54': 79, 'slashing': 2699, 'domestic': 931, 'aid': 188, 'belief': 384, 'lead': 1694, 'fuller': 1236, 'jails': 1572, 'fights': 1152, 'kubiiki': 1655, 'pride': 2268, 'scrolling': 2588, 'through': 2976, 'ads': 155, 'backpage': 331, 'com': 663, 'saw': 2563, 'selling': 2613, 'something': 2729, 'belonged': 387, 'month': 1916, 'hear': 1371, 'rights': 2495, 'need': 1974, 'license': 1734, 'weapon': 3212, 'headstones': 1369, 'jewish': 1586, 'cemetery': 570, 'swedish': 2887, 'pm': 2210, 'spoke': 2758, 'sweden': 2886, 'education': 987, 'secretary': 2599, 'devos': 879, 'criticized': 771, 'visited': 3163, 'resistance': 2457, 'winning': 3256, 'whines': 3241, 'redirect': 2398, 'rich': 2488, 'temperatures': 2925, 'fahrenheit': 1102, 'depths': 864, 'winter': 3258, 'myrtle': 1949, 'planning': 2195, 'spirit': 2756, 'dylann': 976, 'roof': 2517, 'withheld': 3268, 'truth': 3052, 'repeated': 2434, 'contacts': 714, 'posts': 2240, 'versions': 3142, '188': 24, 'evacuated': 1059, 'declared': 828, 'oroville': 2072, 'dam': 795, 'threatens': 2970, 'floods': 1190, 'card': 545, 'holder': 1415, 'revealed': 2475, 'taskforce': 2908, 'standing': 2781, 'activists': 138, 'kellyanne': 1621, 'conway': 731, 'targeting': 2902, 'cartels': 554, 'statement': 2790, 'rate': 2368, 'sheriffs': 2657, 'every': 1063, 'criticize': 770, 'branches': 462, 'trafficking': 3021, 'raids': 2355, 'peter': 2163, 'thiel': 2957, 'bought': 451, 'zealand': 3319, 'acting': 134, 'introduced': 1544, 'nations': 1961, 'erupt': 1050, 'charge': 589, 'demonstrators': 853, 'overtime': 2086, 'costs': 743, 'sioux': 2691, 'tribe': 3038, 'dakota': 793, 'access': 123, 'senior': 2621, 'rnc': 2503, 'economic': 984, 'advisor': 162, '284m': 56, 'payday': 2134, 'goldman': 1284, 'sachs': 2539, 'steaming': 2800, 'learning': 1706, 'invoke': 1553, 'withdrawing': 3267, 'tpp': 3015, 'cancel': 527, 'mortgage': 1924, 'premium': 2255, 'entry': 1040, 'lands': 1665, 'discounting': 901, 'revenue': 2477, 'cia': 616, 'agrees': 186, 'marines': 1810, 'affected': 166, 'toxic': 3014, 'agreed': 184, 'provide': 2317, 'disability': 897, 'totaling': 3005, 'contaminated': 716, 'drinking': 958, 'assigned': 300, 'lejeune': 1720, 'bombs': 435, 'feeding': 1138, 'homelessâ': 1421, 'beating': 370, 'megyn': 1853, 'kelly': 1620, 'nbc': 1970, 'struggled': 2832, 'jump': 1604, 'carrie': 550, 'fisher': 1182, '75': 95, 'imprisoned': 1482, '31': 62, 'nuke': 2016, 'experts': 1081, 'tweet': 3070, 'very': 3143, 'bad': 333, 'sign': 2678, 'clothes': 646, 'union': 3094, 'complains': 684, 'dea': 815, 'classifies': 632, 'cbd': 568, 'schedule': 2571, 'aging': 181, 'boomers': 440, 'increasingly': 1493, 'embrace': 1008, 'heavy': 1373, 'alcohol': 203, 'aim': 191, 'outlaw': 2078, 'medicinal': 1848, 'extracts': 1092, 'falsely': 1114, 'claimed': 625, 'subway': 2841, 'damages': 797, 'minister': 1893, '250': 53, 'rand': 2363, 'paul': 2131, 'pushes': 2338, 'hacking': 1331, 'philadelphia': 2170, 'corruption': 740, 'number': 2017, 'triple': 3044, '300': 60, 'additional': 147, 'analysts': 237, 'heroin': 1389, 'surpass': 2868, 'homicides': 1426, 'sandy': 2553, 'hook': 1427, 'denier': 856, 'seeks': 2606, 'massachusetts': 1821, 'appealing': 262, 'infant': 1501, 'mortality': 1923, 'finland': 1170, 'comet': 668, 'ping': 2184, 'pong': 2228, 'pizzeria': 2188, 'rifle': 2492, 'self': 2611, 'related': 2412, 'explore': 1084, 'route': 2523, 'sane': 2554, 'radicalism': 2353, 'political': 2220, 'spectrum': 2746, 'opinion': 2063, '1k': 32, 'bringing': 477, 'supplies': 2857, 'sperm': 2754, 'donor': 935, 'update': 3112, 'evacuation': 1060, 'propose': 2306, 'outsourcing': 2081, 'prevention': 2264, 'keep': 1619, 'participate': 2113, 'recount': 2392, 'eye': 1094, 'interference': 1536, 'presidential': 2258, 'candidates': 531, 'editing': 986, 'pro': 2277, 'wal': 3182, 'mart': 1817, 'minimum': 1891, 'wage': 3179, 'awards': 322, 'truck': 3048, 'drivers': 961, 'faked': 1108, 'then': 2950, 'clash': 628, 'settlement': 2637, 'cases': 557, 'muslims': 1947, 'rational': 2372, 'per': 2152, 'cent': 571, 'elect': 997, 'compromise': 687, 'making': 1794, 'murderer': 1941, 'brendan': 468, 'dassey': 806, 'agree': 183, 'improve': 1484, 'unsatisfactory': 3104, 'kremlin': 1653, 'salary': 2546, 'solution': 2725, 'tickets': 2981, 'philly': 2172, '1990s': 30, 'pastors': 2125, 'mayors': 1829, 'sending': 2619, 'addicts': 146, 'hiv': 1411, 'positive': 2235, 'lafayette': 1661, 'claiming': 626, 'supporters': 2859, 'glenn': 1276, 'greenwald': 1304, 'vast': 3135, 'powers': 2249, 'thank': 2943, '3rd': 67, 'nationwide': 1962, 'days': 813, 'potus': 2242, 'butter': 505, 'relieve': 2419, 'seizures': 2610, 'chained': 578, 'property': 2303, 'seven': 2639, 'confessions': 697, 'solved': 2726, 'wright': 3292, 'saturday': 2559, 'coney': 694, 'hillary': 1397, 'wiped': 3260, 'briefing': 475, 'recent': 2382, 'busted': 502, 'dade': 791, 'korean': 1651, '40': 68, 'enlistment': 1031, 'decade': 824, 'residents': 2452, 'someone': 2728, 'freed': 1230, 'subpoena': 2839, 'wikileaks': 3249, 'releases': 2417, 'transcripts': 3029, 'speeches': 2748, 'librarian': 1732, 'library': 1733, 'defending': 835, 'hpd': 1441, '911': 107, 'operator': 2062, 'ain': 194, 'nobody': 2001, 'hangs': 1343, 'callers': 516, 'affecting': 167, 'derek': 866, 'schmidt': 2573, 'surveyed': 2871, 'interesting': 1535, 'results': 2469, 'pursue': 2334, 'contempt': 717, 'arpaio': 285, 'yahoo': 3301, 'ten': 2927, 'stolen': 2811, 'disgruntled': 909, 'wearing': 3215, 'uniform': 3091, 'nine': 1997, 'murdering': 1942, 'congressmen': 702, 'kratom': 1652, 'combetta': 665, 'stonetear': 2812, 'thread': 2967, 'dot': 941, 'tulsa': 3059, 'betty': 399, 'shelby': 2653, 'hands': 1342, 'christie': 612, 'closings': 645, 'happened': 1344, 'device': 877, 'station': 2793, 'explodes': 1083, 'investigates': 1547, 'added': 145, 'august': 315, 'abducted': 113, 'calls': 517, 'captor': 542, 'sleeps': 2702, 'discovery': 904, 'trust': 3051, 'lowest': 1777, 'gallup': 1247, 'benghazi': 391, 'stupid': 2837, 'witch': 3265, 'hunt': 1448, 'condi': 693, 'brain': 460, 'amoeba': 233, 'contracting': 722, 'infection': 1504, 'vacation': 3126, 'shining': 2659, 'light': 1740, 'pneumonia': 2211, 'politico': 2222, 'essentially': 1056, 'zika': 3322, 'docs': 921, 'aware': 323, 'classification': 630, 'weekly': 3221, 'standard': 2780, 'pilot': 2182, 'finally': 1161, 'laid': 1662, 'rest': 2464, 'arlington': 281, 'isis': 1561, 'trained': 3025, 'recently': 2383, '2014': 41, 'pj': 2189, 'herbal': 1385, 'supplement': 2855, 'laptop': 1669, 'clintonâ': 641, 'mails': 1787, 'gone': 1286, 'hampton': 1338, 'roads': 2504, 'regional': 2406, 'filing': 1156, 'grievance': 1308, 'remember': 2424, 'brock': 479, 'turner': 3066, 'ago': 182, 'emailed': 1006, 'leaving': 1709, 'dislike': 911, 'recovers': 2393, 'involving': 1554, 'gene': 1260, 'wilder': 3250, 'frankenstein': 1225, 'entrants': 1038, 'ensure': 1034, 'overstay': 2085, 'visas': 3161, 'dr': 950, 'drew': 955, 'talking': 2897, 'threw': 2973, 'boiled': 433, 'gay': 1257, 'army': 283, 'fudged': 1235, 'trillions': 3042, 'dollars': 930, 'auditor': 313, 'unprecedented': 3102, 'fish': 1181, 'parks': 2111, '183': 23, 'miles': 1879, 'yellowstone': 3307, 'gardiner': 1251, 'laurel': 1681, 'fishing': 1183, 'wading': 3177, 'floating': 1189, 'tubing': 3055, 'boating': 429, 'parasite': 2104, 'pennsylvania': 2145, 'kane': 1615, 'perjury': 2156, 'obstruction': 2027, 'wounded': 3291, '24': 51, 'levels': 1728, 'chemicals': 598, '73': 94, 'role': 2514, 'playing': 2204, 'hoas': 1412, 'hell': 1377, 'associations': 303, 'protected': 2310, 'torment': 3001, 'penthouse': 2149, 'magazine': 1785, 'targets': 2903, 'declaring': 830, 'graduate': 1298, 'homeownership': 1422, 'drops': 965, '1965': 28, 'surrounds': 2869, 'nato': 1964, 'nuclear': 2015, 'base': 356, 'turkish': 3063, 'troops': 3047, 'sealed': 2592, 'incirlik': 1490, 'freddie': 1228, 'gray': 1302, 'remaining': 2422, 'dnc': 919, 'leak': 1700, 'mechanics': 1842, 'slanted': 2698, 'leaked': 1701, 'donors': 936, 'appointments': 268, 'wasserman': 3204, 'schultz': 2576, 'resigning': 2455, 'marine': 1809, '81': 98, 'hostage': 1433, 'motel': 1926, 'faced': 1097, 'deal': 819, 'comedian': 667, 'possessing': 2236, 'bb': 363, 'filming': 1158, 'movie': 1931, 'capt': 540, 'robert': 2506, 'melton': 1856, 'launch': 1679, 'peanut': 2142, 'drone': 962, 'strikes': 2830, 'endangered': 1020, 'ferrets': 1145, 'kerry': 1626, 'view': 3151, 'doesn': 925, 'hand': 1339, 'mr': 1933, 'gülen': 1327, 'reclusive': 2386, 'influential': 1506, 'cleric': 636, 'imposed': 1479, 'exile': 1073, 'highway': 1395, 'baton': 360, 'rouge': 2521, 'lapd': 1668, 'model': 1906, 'shared': 2648, 'shaming': 2646, 'naked': 1952, 'secretly': 2600, 'commentator': 673, 'faking': 1109, 'everything': 1065, 'love': 1774, 'eat': 981, 'protecting': 2311, 'sons': 2732, 'current': 781, 'measles': 1839, 'downtown': 947, 'alton': 225, 'sterling': 2804, 'philando': 2171, 'castile': 560, 'streetlights': 2826, 'carrier': 551, 'decision': 827, 'prosecute': 2307, 'menendez': 1862, 'nj': 1998, 'possible': 2237, 'impact': 1474, 'bob': 430, 'mcdonnell': 1833, 'lifted': 1739, 'july': 1603, 'nyc': 2022, 'care': 547, 'centers': 573, 'directs': 894, 'businesses': 501, 'raise': 2356, 'era': 1047, 'starbucks': 2784, 'cards': 546, 'hold': 1414, 'sized': 2694, '1st': 33, 'soda': 2720, 'yale': 3302, 'cave': 566, 'poets': 2213, 'course': 754, 'dragged': 952, 'gator': 1255, 'disney': 914, 'floridian': 1193, 'killings': 1637, 'lgbt': 1730, 'rose': 2518, '2015': 42, 'gunmakers': 1321, 'orlando': 2070, 'nightclub': 1994, 'massacre': 1822, 'tosses': 3002, 'restructuring': 2468, 'responsibility': 2463, 'around': 284, 'lifetime': 1738, 'swimming': 2888, 'whistleblower': 3242, 'peacekeepers': 2141, 'failure': 1104, 'innovative': 1517, 'diamond': 880, 'design': 868, 'implemented': 1476, '62': 87, 'intersections': 1539, '22': 48, '2009': 38, 'far': 1119, 'worked': 3279, 'pressed': 2260, 'fracking': 1222, 'combat': 664, 'command': 671, 'poultry': 2243, 'wear': 3214, 'diapers': 882, 'clinics': 639, 'blue': 427, 'birthrate': 415, 'hispanics': 1406, 'blacks': 419, 'trial': 3037, 'testify': 2938, 'harriet': 1352, 'tubman': 3056, 'african': 170, 'currency': 780, 'brooklyn': 484, 'primary': 2269, 'taking': 2894, 'given': 1274, 'nye': 2023, 'denial': 854, 'steam': 2799, 'thanks': 2944, 'stealing': 2798, 'candy': 532, 'owner': 2088, 'campus': 524, 'liberal': 1731, 'leaning': 1704, 'vermont': 3141, 'voter': 3170, 'advocates': 163, 'speed': 2749, 'acceptance': 121, 'nsfw': 2014, 'intentionally': 1532, 'dog': 926, 'iphone': 1556, 'ku': 1654, 'klux': 1645, 'klan': 1643, 'anaheim': 236, 'erupts': 1052, 'stabbed': 2770, 'msnbc': 1934, 'condemns': 692, 'trans': 3028, 'pacific': 2090, 'partnership': 2116, 'throwing': 2977, 'tomatoes': 2995, 'pakistan': 2097, 'eighteen': 993, 'alone': 219, 'adds': 149, '65': 90, '1999': 31, 'seizure': 2609, 'notice': 2008, 'jan': 1574, 'ruthlessly': 2538, 'beats': 371, 'k9': 1612, 'picks': 2179, 'animal': 240, 'rams': 2361, 'dothan': 942, 'planted': 2198, 'district': 917, 'valeska': 3130, 'complicit': 686, 'excluded': 1068, 'supremacists': 2862, 'untrustworthy': 3108, 'dishonest': 910, 'nsa': 2013, 'tyson': 3077, 'foods': 1203, 'punching': 2329, 'heads': 1368, 'broiler': 480, 'chickens': 602, 'mega': 1851, 'meat': 1841, 'producer': 2283, 'plants': 2200, 'slaughtered': 2700, 'cameraman': 520, 'reporter': 2440, 'values': 3131, 'activist': 137, 'josh': 1596, 'duggar': 971, 'ashley': 293, 'madison': 1784, 'coddling': 654, 'mind': 1887, 'demanding': 848, 'protection': 2312, 'words': 3277, 'ideas': 1461, 'here': 1386, 'disastrous': 898, 'silence': 2684, 'raises': 2358, 'praise': 2250, 'promotes': 2299, 'narcissism': 1955, 'longitudinal': 1762, 'supports': 2860, 'unrealistically': 3103, 'views': 3153, 'kids': 1631, 'foster': 1213, 'narcissistic': 1956, 'qualities': 2343, 'marriage': 1814, 'ellen': 1002, 'pao': 2102, '276': 55, 'kleiner': 1644, 'perkins': 2157, 'reimburse': 2409, 'expenses': 1078, 'husband': 1454, 'cheating': 594, 'returns': 2473, 'vaccines': 3128, 'vacuous': 3129, 'starlets': 2785, 'sentiment': 2627, 'put': 2339, 'everyone': 1064, 'geographical': 1262, 'unintelligent': 3093, 'brainwashed': 461, 'choose': 610, 'cred': 762, 'success': 2843, 'barkley': 354, 'trooper': 3046, 'cooperative': 732, 'taser': 2906, 'nothing': 2007}\n"
          ],
          "name": "stdout"
        }
      ]
    },
    {
      "cell_type": "code",
      "metadata": {
        "colab_type": "code",
        "id": "i9UKtD9w6pac",
        "colab": {}
      },
      "source": [
        "# term frequency -inverse dense frequency\n",
        "#focusing on only the important keywords by getting rid of the a, an, the -\n",
        "# the ones which most often, but does not contribute to the sentiment of the sentence\n"
      ],
      "execution_count": 0,
      "outputs": []
    },
    {
      "cell_type": "code",
      "metadata": {
        "colab_type": "code",
        "id": "ABJXx2-U81QK",
        "colab": {}
      },
      "source": [
        "from sklearn.feature_extraction.text import TfidfVectorizer"
      ],
      "execution_count": 0,
      "outputs": []
    },
    {
      "cell_type": "code",
      "metadata": {
        "colab_type": "code",
        "id": "9cJM8OJE5FPE",
        "colab": {}
      },
      "source": [
        "tfidfv1 = TfidfVectorizer( min_df=0.03, max_df=0.98, max_features = 200000, ngram_range = (2, 2))\n",
        "tf_train = tfidfv1.fit_transform(allNewsTrain)"
      ],
      "execution_count": 0,
      "outputs": []
    },
    {
      "cell_type": "code",
      "metadata": {
        "colab_type": "code",
        "id": "AxCHN_389FdS",
        "colab": {}
      },
      "source": [
        "tf_lr = LogisticRegression()\n",
        "tf_lr = tf_lr.fit(tf_train ,trainNews[\"Label_News\"])"
      ],
      "execution_count": 0,
      "outputs": []
    },
    {
      "cell_type": "code",
      "metadata": {
        "colab_type": "code",
        "id": "N3-PtdmB9wmn",
        "outputId": "6fc67b07-3467-46ec-efe5-f50eec6a56a3",
        "colab": {
          "base_uri": "https://localhost:8080/",
          "height": 34
        }
      },
      "source": [
        "tftest=tfidfv.transform(allNewsTest)\n",
        "prediction=tf_lr.predict(tftest)\n",
        "#print(prediction)\n",
        "accuracy=accuracy_score(testNews[\"Label_News\"],prediction)\n",
        "print(\"Accuracy LR\", accuracy)"
      ],
      "execution_count": 0,
      "outputs": [
        {
          "output_type": "stream",
          "text": [
            "Accuracy LR 0.4080267558528428\n"
          ],
          "name": "stdout"
        }
      ]
    },
    {
      "cell_type": "code",
      "metadata": {
        "colab_type": "code",
        "id": "YVj9qUCS-1Sb",
        "colab": {}
      },
      "source": [
        "tfidfv = TfidfVectorizer( min_df=0.01, max_df=0.5, max_features = 200000, ngram_range = (2, 2))\n",
        "tf_train = tfidfv.fit_transform(allNewsTrain)"
      ],
      "execution_count": 0,
      "outputs": []
    },
    {
      "cell_type": "code",
      "metadata": {
        "colab_type": "code",
        "id": "UOAKPAyM_o11",
        "colab": {}
      },
      "source": [
        "#tried changing the lower and upper value ranges- ngram_range\n",
        "#frequency lower than 0.01 and frequency higher than 0.5 - those\n",
        "#words would be omitted "
      ],
      "execution_count": 0,
      "outputs": []
    },
    {
      "cell_type": "code",
      "metadata": {
        "colab_type": "code",
        "id": "hdfSNBtI_ZmZ",
        "colab": {}
      },
      "source": [
        "tf_lr = LogisticRegression()\n",
        "tf_lr = tf_lr.fit(tf_train ,trainNews[\"Label_News\"])"
      ],
      "execution_count": 0,
      "outputs": []
    },
    {
      "cell_type": "code",
      "metadata": {
        "colab_type": "code",
        "id": "1S03Sfam_Wus",
        "outputId": "ccdb8b81-e09e-4603-d415-3e7957cfc4f2",
        "colab": {
          "base_uri": "https://localhost:8080/",
          "height": 34
        }
      },
      "source": [
        "tftest=tfidfv.transform(allNewsTest)\n",
        "prediction=tf_lr.predict(tftest)\n",
        "#print(prediction)\n",
        "accuracy=accuracy_score(testNews[\"Label_News\"],prediction)\n",
        "print(\"Accuracy LR\", accuracy)"
      ],
      "execution_count": 0,
      "outputs": [
        {
          "output_type": "stream",
          "text": [
            "Accuracy LR 0.411371237458194\n"
          ],
          "name": "stdout"
        }
      ]
    },
    {
      "cell_type": "code",
      "metadata": {
        "colab_type": "code",
        "id": "FFJnoB6PBgiW",
        "colab": {}
      },
      "source": [
        "tfidfv = TfidfVectorizer( min_df=0.01, max_df=0.5, max_features = 200000, ngram_range = (2, 2))\n",
        "tf_train = tfidfv.fit_transform(allNewsTrain)"
      ],
      "execution_count": 0,
      "outputs": []
    },
    {
      "cell_type": "code",
      "metadata": {
        "colab_type": "code",
        "id": "9-_8lElWDR-7",
        "colab": {}
      },
      "source": [
        "from sklearn.naive_bayes import MultinomialNB"
      ],
      "execution_count": 0,
      "outputs": []
    },
    {
      "cell_type": "code",
      "metadata": {
        "colab_type": "code",
        "id": "Xtl0t4vzAfKX",
        "colab": {}
      },
      "source": [
        "nb=MultinomialNB(alpha=0.01)\n",
        "nb=nb.fit(tf_train, trainNews[\"Label_News\"])"
      ],
      "execution_count": 0,
      "outputs": []
    },
    {
      "cell_type": "code",
      "metadata": {
        "colab_type": "code",
        "id": "X7XBvOEu_r7z",
        "outputId": "7e03166b-0705-469d-c043-f021a4463df9",
        "scrolled": true,
        "colab": {
          "base_uri": "https://localhost:8080/",
          "height": 34
        }
      },
      "source": [
        "tftest=tfidfv.transform(allNewsTest)\n",
        "prediction=nb.predict(tftest)\n",
        "#print(prediction)\n",
        "accuracy=accuracy_score(testNews[\"Label_News\"],prediction)\n",
        "print(\"Accuracy LR\", accuracy)"
      ],
      "execution_count": 0,
      "outputs": [
        {
          "output_type": "stream",
          "text": [
            "Accuracy LR 0.411371237458194\n"
          ],
          "name": "stdout"
        }
      ]
    },
    {
      "cell_type": "code",
      "metadata": {
        "colab_type": "code",
        "id": "IzG4RYpUD1Bb",
        "colab": {}
      },
      "source": [
        "tfidfv = TfidfVectorizer( min_df=0.02, max_df=0.9, max_features = 200000, ngram_range = (1, 1))\n",
        "tf_train = tfidfv.fit_transform(allNewsTrain)"
      ],
      "execution_count": 0,
      "outputs": []
    },
    {
      "cell_type": "code",
      "metadata": {
        "id": "ZJrlz6olWCbt",
        "colab_type": "code",
        "colab": {}
      },
      "source": [
        "from sklearn.ensemble import RandomForestClassifier"
      ],
      "execution_count": 0,
      "outputs": []
    },
    {
      "cell_type": "code",
      "metadata": {
        "colab_type": "code",
        "id": "b-Fxf8Jg_hKk",
        "colab": {}
      },
      "source": [
        "rfc = RandomForestClassifier()\n",
        "rfc = rfc.fit(tf_train, trainNews[\"Label_News\"])"
      ],
      "execution_count": 0,
      "outputs": []
    },
    {
      "cell_type": "code",
      "metadata": {
        "colab_type": "code",
        "id": "0lZhYHMu-xSN",
        "colab": {}
      },
      "source": [
        "tftest=tfidfv.transform(allNewsTest)"
      ],
      "execution_count": 0,
      "outputs": []
    },
    {
      "cell_type": "code",
      "metadata": {
        "colab_type": "code",
        "id": "p27jNoqr-kRZ",
        "colab": {}
      },
      "source": [
        "prediction=rfc.predict(tftest)\n",
        "accuracy=accuracy_score(testNews[\"Label_News\"],prediction)"
      ],
      "execution_count": 0,
      "outputs": []
    },
    {
      "cell_type": "code",
      "metadata": {
        "colab_type": "code",
        "id": "M270Atfp9uWk",
        "outputId": "b14b105f-e2d6-474c-ec52-fd61e3d664d0",
        "colab": {
          "base_uri": "https://localhost:8080/",
          "height": 187
        }
      },
      "source": [
        "print(prediction)\n",
        "print(accuracy)"
      ],
      "execution_count": 0,
      "outputs": [
        {
          "output_type": "stream",
          "text": [
            "[1 0 1 0 0 0 1 2 1 0 2 0 1 2 0 1 0 0 1 0 2 1 1 1 1 0 1 0 0 0 0 2 1 0 1 0 0\n",
            " 1 1 0 1 2 0 1 1 1 1 0 0 1 1 1 1 0 1 1 0 1 0 2 2 1 2 0 1 1 0 0 2 2 2 2 2 0\n",
            " 1 1 0 1 1 0 1 0 1 0 1 1 1 1 1 1 0 1 1 1 1 0 0 0 1 0 1 2 0 1 2 2 0 2 1 0 2\n",
            " 0 0 0 2 0 1 0 1 0 1 0 0 2 1 0 0 0 2 0 1 1 1 1 1 0 1 2 1 2 2 1 1 2 0 2 1 1\n",
            " 0 2 2 0 1 1 0 2 1 2 1 1 1 1 0 2 1 0 0 2 2 0 0 0 0 1 0 1 0 0 1 0 0 2 0 1 1\n",
            " 1 0 2 0 0 2 1 1 1 0 1 0 1 0 0 2 2 0 1 1 0 1 0 0 1 0 0 1 2 0 1 1 0 1 0 1 1\n",
            " 0 0 1 1 1 2 1 0 1 1 1 0 2 0 2 0 1 1 1 1 1 2 0 0 1 1 1 2 1 0 0 1 0 2 0 1 0\n",
            " 1 0 2 1 0 1 0 0 0 1 0 0 0 0 1 2 1 0 0 2 2 0 1 1 1 1 1 1 2 2 0 0 1 1 0 1 1\n",
            " 2 1 0]\n",
            "0.3612040133779264\n"
          ],
          "name": "stdout"
        }
      ]
    },
    {
      "cell_type": "code",
      "metadata": {
        "colab_type": "code",
        "id": "S3ey8aHx9bVk",
        "colab": {}
      },
      "source": [
        "#another try, tweaking the parameters\n",
        "tfidfv = TfidfVectorizer( min_df=0.01, max_df=0.45, max_features = 200000, ngram_range = (2,2))\n",
        "tf_train = tfidfv.fit_transform(allNewsTrain)\n",
        "#n-gram model, (1,1) uni-gram, this means single bag of words"
      ],
      "execution_count": 0,
      "outputs": []
    },
    {
      "cell_type": "code",
      "metadata": {
        "colab_type": "code",
        "id": "y7LTmAAg83YY",
        "colab": {}
      },
      "source": [
        "rfc2 = RandomForestClassifier()\n",
        "rfc2 = rfc2.fit(tf_train, trainNews[\"Label_News\"])"
      ],
      "execution_count": 0,
      "outputs": []
    },
    {
      "cell_type": "code",
      "metadata": {
        "colab_type": "code",
        "id": "_MBZMifv8vLR",
        "colab": {}
      },
      "source": [
        "tftest=tfidfv.transform(allNewsTest)"
      ],
      "execution_count": 0,
      "outputs": []
    },
    {
      "cell_type": "code",
      "metadata": {
        "colab_type": "code",
        "id": "0EIV70o74AKl",
        "colab": {}
      },
      "source": [
        "prediction=rfc2.predict(tftest)\n",
        "accuracy=accuracy_score(testNews[\"Label_News\"],prediction)"
      ],
      "execution_count": 0,
      "outputs": []
    },
    {
      "cell_type": "code",
      "metadata": {
        "colab_type": "code",
        "id": "AGfuVREU3h7t",
        "outputId": "50e77500-381a-4791-e1ae-65e3c126e3d0",
        "colab": {
          "base_uri": "https://localhost:8080/",
          "height": 187
        }
      },
      "source": [
        "print(prediction)\n",
        "print(accuracy)"
      ],
      "execution_count": 0,
      "outputs": [
        {
          "output_type": "stream",
          "text": [
            "[1 1 1 1 1 1 1 0 1 1 0 1 1 1 1 1 1 1 1 1 1 1 2 1 1 1 1 1 1 1 1 1 1 1 1 1 1\n",
            " 1 1 1 1 1 1 1 1 1 1 1 0 1 1 1 0 1 1 0 1 1 1 1 1 0 1 1 1 1 1 1 1 1 0 1 1 1\n",
            " 1 1 1 1 1 1 1 1 1 1 1 1 1 1 1 1 0 1 1 1 1 1 1 1 1 1 1 1 1 1 1 1 1 1 1 1 1\n",
            " 1 1 1 1 1 1 1 1 1 2 1 1 2 1 1 1 1 1 1 1 1 1 1 1 1 1 1 1 1 0 1 1 1 1 1 1 1\n",
            " 1 2 1 1 1 1 1 1 1 1 1 1 0 1 1 1 1 1 1 1 1 1 1 1 1 0 1 1 1 1 1 1 1 1 1 1 1\n",
            " 1 1 1 1 1 1 1 1 1 1 1 1 1 1 1 1 1 1 1 1 1 1 1 1 0 1 1 1 1 1 1 1 1 0 1 0 1\n",
            " 1 1 1 1 1 1 0 1 1 1 1 1 1 1 1 1 1 1 1 1 1 1 1 1 1 1 1 1 0 1 1 0 1 1 1 1 1\n",
            " 1 1 1 0 1 1 1 1 1 1 1 1 1 2 1 1 0 1 1 1 1 1 1 1 1 1 1 1 1 1 1 1 1 1 1 1 1\n",
            " 1 1 1]\n",
            "0.411371237458194\n"
          ],
          "name": "stdout"
        }
      ]
    },
    {
      "cell_type": "code",
      "metadata": {
        "colab_type": "code",
        "id": "oSHgbMzg3dmT",
        "colab": {}
      },
      "source": [
        "# accuracy is decreasing"
      ],
      "execution_count": 0,
      "outputs": []
    },
    {
      "cell_type": "code",
      "metadata": {
        "colab_type": "code",
        "id": "8tCIFBxy3BYN",
        "colab": {}
      },
      "source": [
        "#Gradient Boosting"
      ],
      "execution_count": 0,
      "outputs": []
    },
    {
      "cell_type": "code",
      "metadata": {
        "colab_type": "code",
        "id": "iCNOCQKD25XW",
        "colab": {}
      },
      "source": [
        "tfidfv = TfidfVectorizer( min_df=0.1, max_df=0.9, max_features = 200000, ngram_range = (1, 1))\n",
        "tf_train = tfidfv.fit_transform(allNewsTrain)\n",
        "#n-gram model, (2,2) bi-gram - two words in a vocabulary set, \n",
        "#the last word of first repeated as the first word of the next set"
      ],
      "execution_count": 0,
      "outputs": []
    },
    {
      "cell_type": "code",
      "metadata": {
        "id": "QqTqSp4uWCjZ",
        "colab_type": "code",
        "colab": {}
      },
      "source": [
        "from sklearn.ensemble import GradientBoostingClassifier"
      ],
      "execution_count": 0,
      "outputs": []
    },
    {
      "cell_type": "code",
      "metadata": {
        "colab_type": "code",
        "id": "Dkayzjw1zdPt",
        "colab": {}
      },
      "source": [
        "gbc1 = GradientBoostingClassifier()\n",
        "gbc1 = gbc1.fit(tf_train, trainNews[\"Label_News\"])"
      ],
      "execution_count": 0,
      "outputs": []
    },
    {
      "cell_type": "code",
      "metadata": {
        "colab_type": "code",
        "id": "_4we6h_GzTw4",
        "colab": {}
      },
      "source": [
        "tftest=tfidfv.transform(allNewsTest)"
      ],
      "execution_count": 0,
      "outputs": []
    },
    {
      "cell_type": "code",
      "metadata": {
        "colab_type": "code",
        "id": "JksLO25Iu3Vs",
        "outputId": "ddcdc60f-bfc8-4955-e1d6-a891b9ab22f3",
        "colab": {
          "base_uri": "https://localhost:8080/",
          "height": 187
        }
      },
      "source": [
        "prediction=gbc1.predict(tftest)\n",
        "accuracy=accuracy_score(testNews[\"Label_News\"],prediction)\n",
        "\n",
        "print(prediction)\n",
        "print(accuracy)"
      ],
      "execution_count": 0,
      "outputs": [
        {
          "output_type": "stream",
          "text": [
            "[1 1 0 0 2 0 0 2 0 0 2 0 1 2 0 1 2 0 2 0 2 1 1 1 2 0 1 0 0 0 1 1 2 2 0 0 0\n",
            " 1 0 1 1 2 0 0 2 1 0 0 2 0 0 1 0 0 1 1 0 0 0 2 0 1 2 1 0 1 1 0 2 0 0 0 2 0\n",
            " 1 1 0 1 2 0 0 2 2 1 1 0 2 0 1 2 2 1 1 1 1 0 1 1 1 2 1 0 0 1 0 0 1 1 2 0 2\n",
            " 0 0 1 0 1 0 0 1 2 1 0 2 0 0 1 1 0 1 1 1 1 2 0 1 0 1 1 1 0 2 1 1 1 2 0 1 1\n",
            " 0 2 0 0 2 1 0 0 2 0 0 0 1 0 1 2 0 0 0 0 0 0 1 1 0 1 1 2 2 0 2 0 0 0 1 0 1\n",
            " 0 0 2 0 0 0 0 1 1 0 1 0 0 0 1 0 0 0 2 0 1 1 1 0 0 0 0 1 0 1 1 0 0 1 0 0 0\n",
            " 0 0 1 0 1 1 0 1 0 2 1 0 0 0 2 1 1 1 1 1 1 0 1 0 1 1 0 0 1 0 0 1 2 1 0 1 1\n",
            " 1 1 0 2 1 0 0 0 0 0 0 0 1 2 2 1 0 1 0 0 0 0 2 1 1 0 1 1 2 0 2 0 1 1 0 0 0\n",
            " 1 1 0]\n",
            "0.35451505016722407\n"
          ],
          "name": "stdout"
        }
      ]
    },
    {
      "cell_type": "code",
      "metadata": {
        "colab_type": "code",
        "id": "x1KWQVW7uY4_",
        "colab": {}
      },
      "source": [
        "tfidfv = TfidfVectorizer( min_df=0.01, max_df=0.9, max_features = 200000, ngram_range = (2,2))\n",
        "tf_train = tfidfv.fit_transform(allNewsTrain)"
      ],
      "execution_count": 0,
      "outputs": []
    },
    {
      "cell_type": "code",
      "metadata": {
        "colab_type": "code",
        "id": "jZtatpTBrBtQ",
        "colab": {}
      },
      "source": [
        "gbc2 = GradientBoostingClassifier()\n",
        "gbc2 = gbc2.fit(tf_train, trainNews[\"Label_News\"])"
      ],
      "execution_count": 0,
      "outputs": []
    },
    {
      "cell_type": "code",
      "metadata": {
        "colab_type": "code",
        "id": "1aKGqJ6uq7ZW",
        "colab": {}
      },
      "source": [
        "tftest=tfidfv.transform(allNewsTest)"
      ],
      "execution_count": 0,
      "outputs": []
    },
    {
      "cell_type": "code",
      "metadata": {
        "colab_type": "code",
        "id": "KkMxzVK0oMg3",
        "outputId": "b11e371d-78cb-4390-80ed-e5cca30c938e",
        "colab": {
          "base_uri": "https://localhost:8080/",
          "height": 187
        }
      },
      "source": [
        "prediction=gbc2.predict(tftest)\n",
        "accuracy=accuracy_score(testNews[\"Label_News\"],prediction)\n",
        "\n",
        "print(prediction)\n",
        "print(accuracy)"
      ],
      "execution_count": 0,
      "outputs": [
        {
          "output_type": "stream",
          "text": [
            "[1 1 1 1 1 1 1 0 1 1 0 1 1 1 1 1 1 1 1 1 1 1 2 1 1 1 1 1 1 1 1 1 1 1 1 1 1\n",
            " 1 1 1 1 1 1 1 1 1 1 1 0 1 1 1 0 1 1 0 1 1 1 1 1 0 1 1 1 1 1 1 1 1 0 1 1 1\n",
            " 1 1 1 1 1 1 1 1 1 1 1 1 1 1 1 1 0 1 1 1 1 1 1 1 1 1 1 1 1 1 1 1 1 1 1 1 1\n",
            " 1 1 1 1 1 1 1 1 1 1 1 1 2 1 1 1 1 1 1 1 1 1 1 1 1 1 1 1 1 0 1 1 1 1 1 1 1\n",
            " 1 2 1 1 1 1 1 1 1 1 1 1 0 1 1 1 1 1 1 1 1 1 1 1 1 0 1 1 1 1 1 1 1 1 1 1 1\n",
            " 1 1 1 1 1 1 1 1 1 1 1 1 1 1 1 1 1 1 1 1 1 1 1 1 0 1 1 1 1 1 1 1 1 0 1 0 1\n",
            " 1 1 1 1 1 1 0 1 1 1 1 1 1 1 1 1 1 1 1 1 1 1 1 1 1 1 1 1 0 1 1 0 1 1 1 1 1\n",
            " 1 1 1 0 1 1 1 1 1 1 1 1 1 2 1 1 0 1 1 1 1 1 1 1 1 1 1 1 1 1 1 1 1 1 1 1 1\n",
            " 1 1 1]\n",
            "0.41471571906354515\n"
          ],
          "name": "stdout"
        }
      ]
    },
    {
      "cell_type": "code",
      "metadata": {
        "colab_type": "code",
        "id": "kN_9Q82BoBUh",
        "colab": {}
      },
      "source": [
        "#another try with gbc3"
      ],
      "execution_count": 0,
      "outputs": []
    },
    {
      "cell_type": "code",
      "metadata": {
        "colab_type": "code",
        "id": "EEA1pDc-iSIW",
        "colab": {}
      },
      "source": [
        "tfidfv = TfidfVectorizer( min_df=0.01, max_df=0.175, max_features = 200000, ngram_range = (1, 1))\n",
        "tf_train = tfidfv.fit_transform(allNewsTrain)"
      ],
      "execution_count": 0,
      "outputs": []
    },
    {
      "cell_type": "code",
      "metadata": {
        "colab_type": "code",
        "id": "qs5ixg0aiFS4",
        "colab": {}
      },
      "source": [
        "gbc3 = GradientBoostingClassifier()\n",
        "gbc3 = gbc3.fit(tf_train, trainNews[\"Label_News\"])"
      ],
      "execution_count": 0,
      "outputs": []
    },
    {
      "cell_type": "code",
      "metadata": {
        "colab_type": "code",
        "id": "ULlGhRDqYN8X",
        "colab": {}
      },
      "source": [
        "tftest=tfidfv.transform(allNewsTest)"
      ],
      "execution_count": 0,
      "outputs": []
    },
    {
      "cell_type": "code",
      "metadata": {
        "colab_type": "code",
        "id": "-S8UOeZ1Xzeu",
        "outputId": "478df7ad-9de0-4b2c-a53c-e1c34a2126ef",
        "colab": {
          "base_uri": "https://localhost:8080/",
          "height": 187
        }
      },
      "source": [
        "prediction=gbc3.predict(tftest)\n",
        "accuracy=accuracy_score(testNews[\"Label_News\"],prediction)\n",
        "\n",
        "print(prediction)\n",
        "print(accuracy)"
      ],
      "execution_count": 0,
      "outputs": [
        {
          "output_type": "stream",
          "text": [
            "[1 1 1 1 1 2 1 1 0 1 2 0 1 0 0 1 0 1 1 1 0 1 1 2 2 0 1 1 1 0 1 1 0 1 0 1 2\n",
            " 1 0 1 1 0 1 1 1 0 1 0 1 1 1 1 1 1 1 0 1 1 0 1 1 1 2 0 1 1 1 0 0 2 2 1 1 0\n",
            " 0 2 0 1 1 0 1 0 1 1 0 1 1 0 0 1 0 2 1 0 1 1 1 1 1 2 0 1 2 1 1 2 1 0 0 1 0\n",
            " 1 1 1 0 0 2 0 1 0 0 0 0 1 0 0 0 1 1 0 1 1 1 0 1 2 1 1 2 1 1 0 1 2 0 1 1 1\n",
            " 1 1 0 1 1 2 2 2 0 1 1 2 0 2 1 0 0 0 1 2 2 0 1 1 2 0 2 1 1 0 2 1 0 0 1 1 1\n",
            " 1 1 2 0 2 2 0 1 1 0 1 1 1 1 2 1 1 2 1 0 1 1 1 1 0 0 1 1 1 0 1 1 1 1 0 1 1\n",
            " 0 1 1 1 1 2 1 0 2 1 1 1 0 0 2 0 1 1 1 1 1 2 2 1 2 0 1 2 1 2 2 1 0 0 1 1 1\n",
            " 1 1 2 2 0 0 1 1 2 1 2 0 2 1 1 2 1 0 0 2 1 1 1 0 1 1 1 1 0 1 0 0 1 1 1 0 1\n",
            " 2 1 0]\n",
            "0.3879598662207358\n"
          ],
          "name": "stdout"
        }
      ]
    },
    {
      "cell_type": "code",
      "metadata": {
        "colab_type": "code",
        "id": "2Ca7vdZAXQMm",
        "colab": {}
      },
      "source": [
        "#getting into deep learning and implementing Multilayer perceptron"
      ],
      "execution_count": 0,
      "outputs": []
    },
    {
      "cell_type": "code",
      "metadata": {
        "colab_type": "code",
        "id": "lQoIRh2IWC7U",
        "outputId": "21c305db-dbbe-49ed-bc63-0c4043f75c90",
        "colab": {
          "base_uri": "https://localhost:8080/",
          "height": 51
        }
      },
      "source": [
        "tfidfv = TfidfVectorizer( min_df=0.01, max_df=0.5, max_features = 200000, ngram_range = (2,2))\n",
        "tftrain = tfidfv.fit_transform(allNewsTrain)\n",
        "\n",
        "\n",
        "tftest=tfidfv.transform(allNewsTest)\n",
        "print(tftrain.shape)\n",
        "print(tftest.shape)"
      ],
      "execution_count": 0,
      "outputs": [
        {
          "output_type": "stream",
          "text": [
            "(700, 15)\n",
            "(299, 15)\n"
          ],
          "name": "stdout"
        }
      ]
    },
    {
      "cell_type": "code",
      "metadata": {
        "id": "8kCXb61L1EsD",
        "colab_type": "code",
        "outputId": "31ac130c-31e2-4e92-c614-0f682f4f6d6e",
        "colab": {
          "base_uri": "https://localhost:8080/",
          "height": 51
        }
      },
      "source": [
        "tftest"
      ],
      "execution_count": 0,
      "outputs": [
        {
          "output_type": "execute_result",
          "data": {
            "text/plain": [
              "<299x15 sparse matrix of type '<class 'numpy.float64'>'\n",
              "\twith 56 stored elements in Compressed Sparse Row format>"
            ]
          },
          "metadata": {
            "tags": []
          },
          "execution_count": 411
        }
      ]
    },
    {
      "cell_type": "code",
      "metadata": {
        "colab_type": "code",
        "id": "cHEUSwM8U4b1",
        "colab": {}
      },
      "source": [
        "batch=32\n",
        "class1=3\n",
        "from keras.utils import np_utils"
      ],
      "execution_count": 0,
      "outputs": []
    },
    {
      "cell_type": "code",
      "metadata": {
        "colab_type": "code",
        "id": "5g0Snss0Ux0B",
        "outputId": "88f83fea-bdeb-4637-f792-b67866584f30",
        "colab": {
          "base_uri": "https://localhost:8080/",
          "height": 34
        }
      },
      "source": [
        "x_train=tftrain.toarray()\n",
        "x_test=tftest.toarray()\n",
        "x_train.shape"
      ],
      "execution_count": 0,
      "outputs": [
        {
          "output_type": "execute_result",
          "data": {
            "text/plain": [
              "(700, 15)"
            ]
          },
          "metadata": {
            "tags": []
          },
          "execution_count": 408
        }
      ]
    },
    {
      "cell_type": "code",
      "metadata": {
        "id": "O0T4wdp03Sg1",
        "colab_type": "code",
        "outputId": "98b94654-a27a-484d-e051-7095241ed029",
        "colab": {
          "base_uri": "https://localhost:8080/",
          "height": 136
        }
      },
      "source": [
        "x_train"
      ],
      "execution_count": 0,
      "outputs": [
        {
          "output_type": "execute_result",
          "data": {
            "text/plain": [
              "array([[0., 0., 0., ..., 0., 0., 0.],\n",
              "       [0., 1., 0., ..., 0., 0., 0.],\n",
              "       [0., 0., 0., ..., 0., 0., 0.],\n",
              "       ...,\n",
              "       [0., 0., 0., ..., 0., 0., 0.],\n",
              "       [0., 0., 0., ..., 0., 0., 0.],\n",
              "       [0., 0., 0., ..., 0., 0., 0.]])"
            ]
          },
          "metadata": {
            "tags": []
          },
          "execution_count": 413
        }
      ]
    },
    {
      "cell_type": "code",
      "metadata": {
        "id": "INAufVx13IjI",
        "colab_type": "code",
        "outputId": "21ae0a8d-0a64-424e-dffc-b148470fd915",
        "colab": {
          "base_uri": "https://localhost:8080/",
          "height": 136
        }
      },
      "source": [
        "x_test"
      ],
      "execution_count": 0,
      "outputs": [
        {
          "output_type": "execute_result",
          "data": {
            "text/plain": [
              "array([[0., 0., 0., ..., 0., 0., 0.],\n",
              "       [0., 0., 0., ..., 0., 0., 0.],\n",
              "       [0., 0., 0., ..., 0., 0., 0.],\n",
              "       ...,\n",
              "       [0., 0., 0., ..., 0., 0., 0.],\n",
              "       [0., 0., 0., ..., 0., 0., 0.],\n",
              "       [0., 0., 0., ..., 0., 0., 0.]])"
            ]
          },
          "metadata": {
            "tags": []
          },
          "execution_count": 412
        }
      ]
    },
    {
      "cell_type": "code",
      "metadata": {
        "colab_type": "code",
        "id": "gWbY2mfIPVo2",
        "outputId": "a45c5e6a-8ee5-42eb-f74a-a86edd9340e4",
        "colab": {
          "base_uri": "https://localhost:8080/",
          "height": 34
        }
      },
      "source": [
        "x_test.shape"
      ],
      "execution_count": 0,
      "outputs": [
        {
          "output_type": "execute_result",
          "data": {
            "text/plain": [
              "(299, 15)"
            ]
          },
          "metadata": {
            "tags": []
          },
          "execution_count": 397
        }
      ]
    },
    {
      "cell_type": "code",
      "metadata": {
        "id": "hgYrU863CCik",
        "colab_type": "code",
        "colab": {}
      },
      "source": [
        "y_train1 = np.array(trainNews[\"Label_News\"])\n",
        "y_test1 = np.array(testNews[\"Label_News\"])"
      ],
      "execution_count": 0,
      "outputs": []
    },
    {
      "cell_type": "code",
      "metadata": {
        "id": "0ecp-2mvsJdM",
        "colab_type": "code",
        "outputId": "c1cfaae9-f01c-4c0b-eb09-1c49dafac43f",
        "colab": {
          "base_uri": "https://localhost:8080/",
          "height": 34
        }
      },
      "source": [
        "y_train1.shape"
      ],
      "execution_count": 0,
      "outputs": [
        {
          "output_type": "execute_result",
          "data": {
            "text/plain": [
              "(700,)"
            ]
          },
          "metadata": {
            "tags": []
          },
          "execution_count": 371
        }
      ]
    },
    {
      "cell_type": "code",
      "metadata": {
        "id": "vtlSaGIF3qXx",
        "colab_type": "code",
        "outputId": "1c688965-4c28-4e6c-8ad1-66bf3f4cc031",
        "colab": {
          "base_uri": "https://localhost:8080/",
          "height": 136
        }
      },
      "source": [
        "y_train"
      ],
      "execution_count": 0,
      "outputs": [
        {
          "output_type": "execute_result",
          "data": {
            "text/plain": [
              "array([[0., 0., 1., 0.],\n",
              "       [0., 0., 1., 0.],\n",
              "       [1., 0., 0., 0.],\n",
              "       ...,\n",
              "       [0., 0., 1., 0.],\n",
              "       [1., 0., 0., 0.],\n",
              "       [0., 0., 1., 0.]], dtype=float32)"
            ]
          },
          "metadata": {
            "tags": []
          },
          "execution_count": 414
        }
      ]
    },
    {
      "cell_type": "code",
      "metadata": {
        "id": "ZRLOFKWZ7ipm",
        "colab_type": "code",
        "colab": {}
      },
      "source": [
        "#y_train_new = [j for i in y_train1 for j in i] "
      ],
      "execution_count": 0,
      "outputs": []
    },
    {
      "cell_type": "code",
      "metadata": {
        "id": "_C2thGlI9zD5",
        "colab_type": "code",
        "outputId": "477df455-b6cc-434b-e58c-bd6fd90566ed",
        "colab": {
          "base_uri": "https://localhost:8080/",
          "height": 561
        }
      },
      "source": [
        "y_train_new=y_train1.flatten()\n",
        "y_train_new"
      ],
      "execution_count": 0,
      "outputs": [
        {
          "output_type": "execute_result",
          "data": {
            "text/plain": [
              "array([2, 2, 0, 2, 2, 0, 0, 0, 0, 2, 2, 0, 0, 1, 1, 1, 0, 0, 1, 2, 2, 2,\n",
              "       0, 1, 1, 2, 2, 0, 2, 2, 2, 1, 1, 0, 0, 1, 1, 2, 2, 2, 2, 2, 2, 0,\n",
              "       0, 0, 0, 2, 2, 1, 1, 1, 0, 0, 0, 0, 0, 0, 2, 2, 0, 1, 1, 1, 1, 1,\n",
              "       2, 1, 1, 1, 0, 2, 0, 1, 0, 0, 0, 2, 1, 0, 2, 0, 0, 0, 0, 1, 2, 2,\n",
              "       0, 0, 0, 0, 1, 1, 2, 2, 1, 0, 2, 1, 1, 1, 1, 0, 1, 1, 1, 1, 0, 2,\n",
              "       2, 0, 1, 1, 1, 1, 1, 2, 0, 0, 1, 0, 0, 1, 2, 1, 0, 0, 0, 1, 1, 2,\n",
              "       1, 1, 1, 0, 0, 1, 2, 0, 0, 0, 1, 1, 1, 2, 2, 3, 1, 1, 0, 2, 1, 1,\n",
              "       1, 2, 2, 0, 0, 1, 1, 1, 2, 1, 0, 1, 1, 1, 1, 1, 1, 2, 2, 1, 1, 1,\n",
              "       0, 2, 2, 0, 2, 0, 0, 0, 0, 2, 2, 1, 1, 1, 1, 1, 2, 1, 0, 0, 0, 0,\n",
              "       1, 1, 1, 1, 0, 0, 2, 2, 2, 2, 2, 2, 2, 2, 2, 2, 2, 2, 0, 0, 0, 0,\n",
              "       0, 1, 1, 1, 1, 1, 1, 1, 0, 0, 0, 1, 1, 2, 2, 2, 2, 1, 1, 1, 1, 1,\n",
              "       1, 0, 0, 1, 1, 1, 0, 0, 0, 1, 2, 1, 1, 1, 1, 1, 0, 0, 1, 1, 0, 2,\n",
              "       0, 0, 0, 0, 0, 1, 2, 0, 0, 0, 1, 2, 2, 0, 1, 2, 0, 1, 2, 2, 2, 0,\n",
              "       0, 1, 1, 2, 1, 2, 1, 0, 1, 0, 0, 0, 2, 2, 1, 0, 2, 1, 1, 1, 1, 1,\n",
              "       1, 1, 1, 1, 2, 0, 1, 1, 2, 0, 0, 0, 2, 2, 2, 1, 1, 2, 1, 2, 2, 1,\n",
              "       2, 2, 1, 1, 0, 1, 1, 2, 1, 1, 1, 2, 0, 1, 2, 2, 1, 0, 1, 1, 2, 0,\n",
              "       0, 1, 0, 0, 1, 1, 0, 2, 1, 2, 0, 1, 1, 1, 0, 0, 2, 2, 1, 1, 2, 2,\n",
              "       1, 0, 0, 2, 1, 1, 1, 1, 1, 1, 2, 2, 1, 0, 0, 0, 2, 2, 1, 2, 2, 1,\n",
              "       0, 0, 1, 2, 1, 1, 1, 0, 2, 0, 0, 0, 1, 0, 0, 2, 0, 2, 2, 2, 1, 1,\n",
              "       1, 2, 0, 1, 1, 1, 1, 2, 2, 1, 2, 1, 1, 2, 1, 1, 1, 1, 1, 0, 1, 0,\n",
              "       2, 2, 2, 0, 0, 1, 2, 0, 0, 0, 0, 1, 2, 0, 1, 0, 0, 2, 0, 0, 1, 2,\n",
              "       2, 1, 1, 0, 2, 2, 2, 0, 1, 0, 0, 2, 0, 0, 0, 0, 1, 2, 2, 1, 0, 1,\n",
              "       2, 2, 2, 2, 2, 1, 0, 1, 1, 1, 2, 2, 1, 1, 1, 1, 1, 1, 0, 0, 2, 0,\n",
              "       1, 1, 1, 1, 1, 1, 1, 2, 0, 0, 0, 1, 0, 0, 1, 1, 0, 0, 1, 2, 0, 0,\n",
              "       1, 0, 1, 1, 2, 1, 1, 1, 0, 1, 0, 2, 2, 1, 0, 2, 1, 2, 2, 2, 1, 1,\n",
              "       2, 1, 1, 1, 1, 0, 0, 2, 2, 2, 2, 1, 1, 2, 0, 2, 2, 0, 2, 1, 2, 2,\n",
              "       2, 0, 1, 1, 1, 0, 1, 1, 0, 2, 1, 0, 0, 0, 2, 0, 1, 0, 0, 1, 2, 0,\n",
              "       0, 0, 2, 2, 1, 1, 0, 0, 0, 0, 2, 0, 0, 0, 0, 2, 0, 1, 0, 1, 0, 2,\n",
              "       1, 0, 0, 0, 0, 0, 0, 2, 0, 1, 1, 1, 1, 2, 2, 1, 1, 1, 2, 1, 1, 0,\n",
              "       1, 2, 2, 1, 0, 0, 1, 0, 1, 0, 0, 0, 0, 0, 2, 2, 0, 1, 1, 1, 1, 1,\n",
              "       1, 0, 1, 0, 1, 2, 2, 0, 1, 1, 1, 1, 2, 1, 1, 1, 0, 0, 0, 0, 1, 1,\n",
              "       2, 0, 0, 1, 1, 0, 0, 0, 0, 2, 1, 1, 0, 0, 1, 2, 0, 2])"
            ]
          },
          "metadata": {
            "tags": []
          },
          "execution_count": 426
        }
      ]
    },
    {
      "cell_type": "code",
      "metadata": {
        "id": "mZuR4RNosM58",
        "colab_type": "code",
        "outputId": "1537303a-ff23-4f73-bb85-9718dd0d23af",
        "colab": {
          "base_uri": "https://localhost:8080/",
          "height": 34
        }
      },
      "source": [
        "y_test1.shape"
      ],
      "execution_count": 0,
      "outputs": [
        {
          "output_type": "execute_result",
          "data": {
            "text/plain": [
              "(299,)"
            ]
          },
          "metadata": {
            "tags": []
          },
          "execution_count": 372
        }
      ]
    },
    {
      "cell_type": "code",
      "metadata": {
        "id": "tyoRHN4_-9DH",
        "colab_type": "code",
        "colab": {}
      },
      "source": [
        "y_test_new=y_test1.flatten()\n",
        "y_test_new"
      ],
      "execution_count": 0,
      "outputs": []
    },
    {
      "cell_type": "code",
      "metadata": {
        "id": "5Jvo-MnQAFVN",
        "colab_type": "code",
        "colab": {}
      },
      "source": [
        "y_train = tf.keras.utils.to_categorical(y_train_new)"
      ],
      "execution_count": 0,
      "outputs": []
    },
    {
      "cell_type": "code",
      "metadata": {
        "id": "TxgA3Da6q7yz",
        "colab_type": "code",
        "colab": {}
      },
      "source": [
        "y_train_new"
      ],
      "execution_count": 0,
      "outputs": []
    },
    {
      "cell_type": "code",
      "metadata": {
        "id": "kkt0rPHqBvi0",
        "colab_type": "code",
        "colab": {}
      },
      "source": [
        "y_test = np_utils.to_categorical(y_test_new)"
      ],
      "execution_count": 0,
      "outputs": []
    },
    {
      "cell_type": "code",
      "metadata": {
        "colab_type": "code",
        "id": "Xuzp9GX0LFk1",
        "outputId": "824e268d-98fd-4ced-840b-92886b51759a",
        "colab": {
          "base_uri": "https://localhost:8080/",
          "height": 85
        }
      },
      "source": [
        "print(y_test_new.shape)\n",
        "print(y_train_new.shape)\n",
        "print(x_test.shape)\n",
        "print(x_train.shape)"
      ],
      "execution_count": 0,
      "outputs": [
        {
          "output_type": "stream",
          "text": [
            "(299,)\n",
            "(700,)\n",
            "(299, 15)\n",
            "(700, 15)\n"
          ],
          "name": "stdout"
        }
      ]
    },
    {
      "cell_type": "code",
      "metadata": {
        "id": "_BQFTHeyWCqW",
        "colab_type": "code",
        "colab": {}
      },
      "source": [
        "import tensorflow as tf\n",
        "import keras\n",
        "from keras.models import Sequential\n",
        "from keras.layers import Dense, Activation, Dropout\n",
        "#Dropout API is used to handle over-fitting"
      ],
      "execution_count": 0,
      "outputs": []
    },
    {
      "cell_type": "code",
      "metadata": {
        "colab_type": "code",
        "id": "wpPOZmd5K_oH",
        "colab": {}
      },
      "source": [
        "layer=Sequential()\n",
        "layer.add(Dense(256, activation='sigmoid'))\n",
        "layer.add(Dense(128, activation='sigmoid'))\n",
        "layer.add(Dense(1, activation='softmax'))"
      ],
      "execution_count": 0,
      "outputs": []
    },
    {
      "cell_type": "code",
      "metadata": {
        "id": "NCYDUwilwlzd",
        "colab_type": "code",
        "colab": {}
      },
      "source": [
        "#First parameter represents the number of units (neurons).\n",
        "#input_shape represent the shape of input data.\n",
        "#kernel_initializer represent initializer to be used\n",
        "#Generates value using normal distribution of input data - random normal\n",
        "#kernel_regularizer represent regularizer to be used. None is set as value.\n",
        "#kernel_constraint represent constraint to be used. MaxNorm function is set as value.\n",
        "#activation represent activation to be used. relu(Rectified Linear Unit) and sigmoid function is set as value."
      ],
      "execution_count": 0,
      "outputs": []
    },
    {
      "cell_type": "code",
      "metadata": {
        "colab_type": "code",
        "id": "p3XTpXiEIhgu",
        "colab": {}
      },
      "source": [
        "layer.compile(optimizer='adam', loss='categorical_crossentropy')"
      ],
      "execution_count": 0,
      "outputs": []
    },
    {
      "cell_type": "code",
      "metadata": {
        "colab_type": "code",
        "id": "xuueLAapIP01",
        "outputId": "68a0cd91-baf3-4170-9e14-4f6b2dea1866",
        "colab": {
          "base_uri": "https://localhost:8080/",
          "height": 105
        }
      },
      "source": [
        "layer.fit(x_train, y_train_new, batch_size=16,validation_split=0.15)"
      ],
      "execution_count": 0,
      "outputs": [
        {
          "output_type": "stream",
          "text": [
            "Train on 595 samples, validate on 105 samples\n",
            "Epoch 1/1\n",
            "595/595 [==============================] - 0s 309us/step - loss: 0.4381 - val_loss: 3.6308\n"
          ],
          "name": "stdout"
        },
        {
          "output_type": "execute_result",
          "data": {
            "text/plain": [
              "<keras.callbacks.callbacks.History at 0x7f61bab8acc0>"
            ]
          },
          "metadata": {
            "tags": []
          },
          "execution_count": 439
        }
      ]
    },
    {
      "cell_type": "code",
      "metadata": {
        "colab_type": "code",
        "id": "c0Nktp4mIMqI",
        "outputId": "bca4729c-194b-47c9-b899-3ec446cb9b18",
        "colab": {
          "base_uri": "https://localhost:8080/",
          "height": 51
        }
      },
      "source": [
        "layer.evaluate(x_train, y_train_new)"
      ],
      "execution_count": 0,
      "outputs": [
        {
          "output_type": "stream",
          "text": [
            "700/700 [==============================] - 0s 34us/step\n"
          ],
          "name": "stdout"
        },
        {
          "output_type": "execute_result",
          "data": {
            "text/plain": [
              "0.9149543067387172"
            ]
          },
          "metadata": {
            "tags": []
          },
          "execution_count": 441
        }
      ]
    },
    {
      "cell_type": "code",
      "metadata": {
        "colab_type": "code",
        "id": "w2I_Qxe1H2vQ",
        "outputId": "8521bf94-4d3f-425c-e84c-7d70db5f0f05",
        "colab": {
          "base_uri": "https://localhost:8080/",
          "height": 34
        }
      },
      "source": [
        "pred_mlp=layer.predict_classes(x_test)\n",
        "accuracy_mlp=accuracy_score(testNews[\"Label_News\"], pred)\n",
        "accuracy_mlp"
      ],
      "execution_count": 0,
      "outputs": [
        {
          "output_type": "execute_result",
          "data": {
            "text/plain": [
              "0.4080267558528428"
            ]
          },
          "metadata": {
            "tags": []
          },
          "execution_count": 443
        }
      ]
    },
    {
      "cell_type": "code",
      "metadata": {
        "colab_type": "code",
        "id": "2lz8RjDJByXG",
        "colab": {}
      },
      "source": [
        "#LSTM"
      ],
      "execution_count": 0,
      "outputs": []
    },
    {
      "cell_type": "code",
      "metadata": {
        "id": "0eIyLt6fAVro",
        "colab_type": "code",
        "colab": {}
      },
      "source": [
        "max_features = 10000\n",
        "EMBEDDING_DIM = 100\n",
        "VALIDATION_SPLIT = 0.1\n",
        "maxlen = 200\n",
        "batch_size = 32\n",
        "nb_classes = 2"
      ],
      "execution_count": 0,
      "outputs": []
    },
    {
      "cell_type": "code",
      "metadata": {
        "id": "Ttg4M9_9Auni",
        "colab_type": "code",
        "colab": {}
      },
      "source": [
        "from keras.preprocessing.text import Tokenizer"
      ],
      "execution_count": 0,
      "outputs": []
    },
    {
      "cell_type": "code",
      "metadata": {
        "id": "6k6shBSyAkZ0",
        "colab_type": "code",
        "outputId": "594d33cc-0c96-4a4e-ed04-8580f3828048",
        "colab": {
          "base_uri": "https://localhost:8080/",
          "height": 51
        }
      },
      "source": [
        "# vectorize the text samples into a 2D integer tensor\n",
        "tokenizer = Tokenizer(nb_words=max_features)\n",
        "tokenizer.fit_on_texts(allNewsTrain)\n",
        "lstm_train = tokenizer.texts_to_sequences(allNewsTrain)\n",
        "lstm_test = tokenizer.texts_to_sequences(allNewsTest)"
      ],
      "execution_count": 451,
      "outputs": [
        {
          "output_type": "stream",
          "text": [
            "/usr/local/lib/python3.6/dist-packages/keras_preprocessing/text.py:178: UserWarning: The `nb_words` argument in `Tokenizer` has been renamed `num_words`.\n",
            "  warnings.warn('The `nb_words` argument in `Tokenizer` '\n"
          ],
          "name": "stderr"
        }
      ]
    },
    {
      "cell_type": "code",
      "metadata": {
        "id": "x3JNFo5GKXl5",
        "colab_type": "code",
        "colab": {}
      },
      "source": [
        "from keras.preprocessing import sequence"
      ],
      "execution_count": 0,
      "outputs": []
    },
    {
      "cell_type": "code",
      "metadata": {
        "id": "obBaXHgwAwf4",
        "colab_type": "code",
        "colab": {
          "base_uri": "https://localhost:8080/",
          "height": 68
        },
        "outputId": "834d30d8-0bde-45e1-dd5c-667037cf8831"
      },
      "source": [
        "print('Pad sequences (samples x time)')\n",
        "x_train = sequence.pad_sequences(sequences_train, maxlen=maxlen)\n",
        "x_test = sequence.pad_sequences(sequences_test, maxlen=maxlen)"
      ],
      "execution_count": 494,
      "outputs": [
        {
          "output_type": "stream",
          "text": [
            "Pad sequences (samples x time)\n",
            "x_train shape: (700, 200)\n",
            "x_test shape: (299, 200)\n"
          ],
          "name": "stdout"
        }
      ]
    },
    {
      "cell_type": "code",
      "metadata": {
        "id": "9CHGxpYSTGYv",
        "colab_type": "code",
        "colab": {}
      },
      "source": [
        "#print(y_test_newl.shape, y_train_newl.shape)"
      ],
      "execution_count": 0,
      "outputs": []
    },
    {
      "cell_type": "code",
      "metadata": {
        "id": "zFyefjR5cXp0",
        "colab_type": "code",
        "colab": {}
      },
      "source": [
        "#y_test_2d = y_test_new.reshape((2999,2))\n",
        "#y_test_2d"
      ],
      "execution_count": 0,
      "outputs": []
    },
    {
      "cell_type": "code",
      "metadata": {
        "id": "mX2HJLgqeEvs",
        "colab_type": "code",
        "colab": {}
      },
      "source": [
        "#y_train_2d=y_train_new.reshape((700,2))\n",
        "#y_train_2d.shape"
      ],
      "execution_count": 0,
      "outputs": []
    },
    {
      "cell_type": "code",
      "metadata": {
        "id": "k5zQ5BeChYML",
        "colab_type": "code",
        "colab": {
          "base_uri": "https://localhost:8080/",
          "height": 34
        },
        "outputId": "a19ace6b-837f-4e87-f4f8-1b48fdbda1de"
      },
      "source": [
        "print(y_train_new.shape, y_test_new.shape)"
      ],
      "execution_count": 516,
      "outputs": [
        {
          "output_type": "stream",
          "text": [
            "(700,) (299,)\n"
          ],
          "name": "stdout"
        }
      ]
    },
    {
      "cell_type": "code",
      "metadata": {
        "id": "n8KX1feDfjPp",
        "colab_type": "code",
        "colab": {}
      },
      "source": [
        "#y_train_newl = np_utils.to_categorical(y_train_new)\n",
        "#y_test_newl = np_utils.to_categorical(y_test_new)"
      ],
      "execution_count": 0,
      "outputs": []
    },
    {
      "cell_type": "code",
      "metadata": {
        "id": "j3xcYi1fhueD",
        "colab_type": "code",
        "colab": {}
      },
      "source": [
        "#print(y_train_newl.shape, y_test_newl.shape)"
      ],
      "execution_count": 0,
      "outputs": []
    },
    {
      "cell_type": "code",
      "metadata": {
        "id": "2bKxyUapfo6N",
        "colab_type": "code",
        "colab": {
          "base_uri": "https://localhost:8080/",
          "height": 51
        },
        "outputId": "406d88c5-ae25-4718-aeb9-fa5f89708e05"
      },
      "source": [
        "print('x_train shape:', x_train.shape)\n",
        "print('x_test shape:', x_test.shape)"
      ],
      "execution_count": 507,
      "outputs": [
        {
          "output_type": "stream",
          "text": [
            "x_train shape: (700, 200)\n",
            "x_test shape: (299, 200)\n"
          ],
          "name": "stdout"
        }
      ]
    },
    {
      "cell_type": "code",
      "metadata": {
        "id": "dNGK3b3tLxN9",
        "colab_type": "code",
        "colab": {}
      },
      "source": [
        "from keras.layers.embeddings import Embedding\n",
        "from keras.layers.recurrent import LSTM"
      ],
      "execution_count": 0,
      "outputs": []
    },
    {
      "cell_type": "code",
      "metadata": {
        "id": "2A9JThp4LZMu",
        "colab_type": "code",
        "colab": {
          "base_uri": "https://localhost:8080/",
          "height": 105
        },
        "outputId": "8062de03-9d29-4fdd-95e2-d23025ce3a2d"
      },
      "source": [
        "layer = Sequential()\n",
        "layer.add(Embedding(max_features, 128, dropout=0.2))\n",
        "layer.add(LSTM(128, dropout_W=0.2, dropout_U=0.2)) \n",
        "layer.add(Dense(1))\n",
        "layer.add(Activation('softmax'))"
      ],
      "execution_count": 526,
      "outputs": [
        {
          "output_type": "stream",
          "text": [
            "/usr/local/lib/python3.6/dist-packages/ipykernel_launcher.py:2: UserWarning: The `dropout` argument is no longer support in `Embedding`. You can apply a `keras.layers.SpatialDropout1D` layer right after the `Embedding` layer to get the same behavior.\n",
            "  \n",
            "/usr/local/lib/python3.6/dist-packages/ipykernel_launcher.py:3: UserWarning: Update your `LSTM` call to the Keras 2 API: `LSTM(128, dropout=0.2, recurrent_dropout=0.2)`\n",
            "  This is separate from the ipykernel package so we can avoid doing imports until\n"
          ],
          "name": "stderr"
        }
      ]
    },
    {
      "cell_type": "code",
      "metadata": {
        "id": "nLXfNzbJOFxm",
        "colab_type": "code",
        "colab": {}
      },
      "source": [
        "layer.compile(loss='binary_crossentropy',\n",
        "              optimizer='adam',\n",
        "              metrics=['accuracy'])"
      ],
      "execution_count": 0,
      "outputs": []
    },
    {
      "cell_type": "code",
      "metadata": {
        "id": "pZCycFa0S0gy",
        "colab_type": "code",
        "colab": {
          "base_uri": "https://localhost:8080/",
          "height": 34
        },
        "outputId": "d7d43b77-a8c0-4a12-fd34-ba451cdd1c02"
      },
      "source": [
        "print(x_train.shape, y_train_new.shape)"
      ],
      "execution_count": 512,
      "outputs": [
        {
          "output_type": "stream",
          "text": [
            "(700, 200) (700, 4, 2, 2, 2, 2)\n"
          ],
          "name": "stdout"
        }
      ]
    },
    {
      "cell_type": "code",
      "metadata": {
        "id": "9ClVYiI3OHnF",
        "colab_type": "code",
        "colab": {
          "base_uri": "https://localhost:8080/",
          "height": 224
        },
        "outputId": "1da874cd-da91-4414-fb84-2caf70d2c730"
      },
      "source": [
        "layer.fit(x_train, y_train_new, batch_size=batch_size, nb_epoch=3)"
      ],
      "execution_count": 528,
      "outputs": [
        {
          "output_type": "stream",
          "text": [
            "/usr/local/lib/python3.6/dist-packages/ipykernel_launcher.py:1: UserWarning: The `nb_epoch` argument in `fit` has been renamed `epochs`.\n",
            "  \"\"\"Entry point for launching an IPython kernel.\n",
            "/usr/local/lib/python3.6/dist-packages/tensorflow/python/framework/indexed_slices.py:434: UserWarning: Converting sparse IndexedSlices to a dense Tensor of unknown shape. This may consume a large amount of memory.\n",
            "  \"Converting sparse IndexedSlices to a dense Tensor of unknown shape. \"\n"
          ],
          "name": "stderr"
        },
        {
          "output_type": "stream",
          "text": [
            "Epoch 1/3\n",
            "700/700 [==============================] - 7s 9ms/step - loss: 0.9200 - accuracy: 0.3986\n",
            "Epoch 2/3\n",
            "700/700 [==============================] - 6s 9ms/step - loss: 0.9200 - accuracy: 0.3986\n",
            "Epoch 3/3\n",
            "700/700 [==============================] - 6s 9ms/step - loss: 0.9200 - accuracy: 0.3986\n"
          ],
          "name": "stdout"
        },
        {
          "output_type": "execute_result",
          "data": {
            "text/plain": [
              "<keras.callbacks.callbacks.History at 0x7f61ba8870f0>"
            ]
          },
          "metadata": {
            "tags": []
          },
          "execution_count": 528
        }
      ]
    },
    {
      "cell_type": "code",
      "metadata": {
        "id": "iMHFsz6AOYmR",
        "colab_type": "code",
        "colab": {
          "base_uri": "https://localhost:8080/",
          "height": 34
        },
        "outputId": "f86f6915-4706-44b2-bc91-7d9f858eaf27"
      },
      "source": [
        "score, acc = layer.evaluate(x_test, y_test_new,\n",
        "                            batch_size=batch_size)"
      ],
      "execution_count": 530,
      "outputs": [
        {
          "output_type": "stream",
          "text": [
            "299/299 [==============================] - 1s 2ms/step\n"
          ],
          "name": "stdout"
        }
      ]
    },
    {
      "cell_type": "code",
      "metadata": {
        "id": "Sfw5RyDhAncz",
        "colab_type": "code",
        "colab": {
          "base_uri": "https://localhost:8080/",
          "height": 51
        },
        "outputId": "b93804fb-ffba-483c-d8a9-d635135e25b0"
      },
      "source": [
        "print('Test score:', score)\n",
        "print('Test accuracy:', acc)\n",
        "\n",
        "predlstm = layer.predict_classes(x_test, verbose=0)\n",
        "acclstm = accuracy_score(testNews['Label_News'], predlstm)"
      ],
      "execution_count": 533,
      "outputs": [
        {
          "output_type": "stream",
          "text": [
            "Test score: 0.05100080560282321\n",
            "Test accuracy: 0.4080267548561096\n"
          ],
          "name": "stdout"
        }
      ]
    }
  ]
}