{
  "nbformat": 4,
  "nbformat_minor": 0,
  "metadata": {
    "colab": {
      "name": "D3.ipynb",
      "provenance": [],
      "collapsed_sections": []
    },
    "kernelspec": {
      "name": "python3",
      "display_name": "Python 3"
    }
  },
  "cells": [
    {
      "cell_type": "code",
      "metadata": {
        "id": "tUjTgNadAlzP",
        "colab_type": "code",
        "colab": {
          "base_uri": "https://localhost:8080/",
          "height": 71
        },
        "outputId": "bdcd30a1-bdbb-43ee-abbc-9508c1209cee"
      },
      "source": [
        "import pandas as pd\n",
        "import seaborn as sns\n",
        "import numpy as np"
      ],
      "execution_count": 1,
      "outputs": [
        {
          "output_type": "stream",
          "text": [
            "/usr/local/lib/python3.6/dist-packages/statsmodels/tools/_testing.py:19: FutureWarning: pandas.util.testing is deprecated. Use the functions in the public API at pandas.testing instead.\n",
            "  import pandas.util.testing as tm\n"
          ],
          "name": "stderr"
        }
      ]
    },
    {
      "cell_type": "code",
      "metadata": {
        "id": "hzibCbIkA6ig",
        "colab_type": "code",
        "colab": {}
      },
      "source": [
        "sdata = pd.read_csv('2014_2020DJIA.csv')"
      ],
      "execution_count": 0,
      "outputs": []
    },
    {
      "cell_type": "code",
      "metadata": {
        "id": "LK34ktLTBHpr",
        "colab_type": "code",
        "colab": {
          "base_uri": "https://localhost:8080/",
          "height": 204
        },
        "outputId": "af652d72-d52f-4df4-cbe6-b940512c0835"
      },
      "source": [
        "sdata.head()"
      ],
      "execution_count": 3,
      "outputs": [
        {
          "output_type": "execute_result",
          "data": {
            "text/html": [
              "<div>\n",
              "<style scoped>\n",
              "    .dataframe tbody tr th:only-of-type {\n",
              "        vertical-align: middle;\n",
              "    }\n",
              "\n",
              "    .dataframe tbody tr th {\n",
              "        vertical-align: top;\n",
              "    }\n",
              "\n",
              "    .dataframe thead th {\n",
              "        text-align: right;\n",
              "    }\n",
              "</style>\n",
              "<table border=\"1\" class=\"dataframe\">\n",
              "  <thead>\n",
              "    <tr style=\"text-align: right;\">\n",
              "      <th></th>\n",
              "      <th>Date</th>\n",
              "      <th>Open</th>\n",
              "      <th>High</th>\n",
              "      <th>Low</th>\n",
              "      <th>Close</th>\n",
              "      <th>Adj Close</th>\n",
              "      <th>Volume</th>\n",
              "      <th>Label</th>\n",
              "    </tr>\n",
              "  </thead>\n",
              "  <tbody>\n",
              "    <tr>\n",
              "      <th>0</th>\n",
              "      <td>9/2/2014</td>\n",
              "      <td>17097.41992</td>\n",
              "      <td>17113.50977</td>\n",
              "      <td>17009.07031</td>\n",
              "      <td>17067.56055</td>\n",
              "      <td>17067.56055</td>\n",
              "      <td>64820000</td>\n",
              "      <td>0</td>\n",
              "    </tr>\n",
              "    <tr>\n",
              "      <th>1</th>\n",
              "      <td>9/3/2014</td>\n",
              "      <td>17067.24023</td>\n",
              "      <td>17151.89063</td>\n",
              "      <td>17060.21094</td>\n",
              "      <td>17078.27930</td>\n",
              "      <td>17078.27930</td>\n",
              "      <td>62770000</td>\n",
              "      <td>1</td>\n",
              "    </tr>\n",
              "    <tr>\n",
              "      <th>2</th>\n",
              "      <td>9/4/2014</td>\n",
              "      <td>17083.60938</td>\n",
              "      <td>17161.55078</td>\n",
              "      <td>17030.11914</td>\n",
              "      <td>17069.58008</td>\n",
              "      <td>17069.58008</td>\n",
              "      <td>68120000</td>\n",
              "      <td>0</td>\n",
              "    </tr>\n",
              "    <tr>\n",
              "      <th>3</th>\n",
              "      <td>9/5/2014</td>\n",
              "      <td>17065.89063</td>\n",
              "      <td>17137.35938</td>\n",
              "      <td>17009.61914</td>\n",
              "      <td>17137.35938</td>\n",
              "      <td>17137.35938</td>\n",
              "      <td>76630000</td>\n",
              "      <td>1</td>\n",
              "    </tr>\n",
              "    <tr>\n",
              "      <th>4</th>\n",
              "      <td>9/8/2014</td>\n",
              "      <td>17131.71094</td>\n",
              "      <td>17137.88086</td>\n",
              "      <td>17079.16992</td>\n",
              "      <td>17111.41992</td>\n",
              "      <td>17111.41992</td>\n",
              "      <td>65640000</td>\n",
              "      <td>0</td>\n",
              "    </tr>\n",
              "  </tbody>\n",
              "</table>\n",
              "</div>"
            ],
            "text/plain": [
              "       Date         Open         High  ...    Adj Close    Volume  Label\n",
              "0  9/2/2014  17097.41992  17113.50977  ...  17067.56055  64820000      0\n",
              "1  9/3/2014  17067.24023  17151.89063  ...  17078.27930  62770000      1\n",
              "2  9/4/2014  17083.60938  17161.55078  ...  17069.58008  68120000      0\n",
              "3  9/5/2014  17065.89063  17137.35938  ...  17137.35938  76630000      1\n",
              "4  9/8/2014  17131.71094  17137.88086  ...  17111.41992  65640000      0\n",
              "\n",
              "[5 rows x 8 columns]"
            ]
          },
          "metadata": {
            "tags": []
          },
          "execution_count": 3
        }
      ]
    },
    {
      "cell_type": "code",
      "metadata": {
        "id": "j5eCux5iFmwj",
        "colab_type": "code",
        "colab": {
          "resources": {
            "http://localhost:8080/nbextensions/google.colab/files.js": {
              "data": "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",
              "ok": true,
              "headers": [
                [
                  "content-type",
                  "application/javascript"
                ]
              ],
              "status": 200,
              "status_text": ""
            }
          },
          "base_uri": "https://localhost:8080/",
          "height": 74
        },
        "outputId": "9b97bd0a-5b4b-41ba-c2c2-896ec1c91a49"
      },
      "source": [
        "\n",
        "from google.colab import files\n",
        "uploaded = files.upload()"
      ],
      "execution_count": 4,
      "outputs": [
        {
          "output_type": "display_data",
          "data": {
            "text/html": [
              "\n",
              "     <input type=\"file\" id=\"files-b1a4ef2c-4566-428b-a2d5-a5fc25a52033\" name=\"files[]\" multiple disabled />\n",
              "     <output id=\"result-b1a4ef2c-4566-428b-a2d5-a5fc25a52033\">\n",
              "      Upload widget is only available when the cell has been executed in the\n",
              "      current browser session. Please rerun this cell to enable.\n",
              "      </output>\n",
              "      <script src=\"/nbextensions/google.colab/files.js\"></script> "
            ],
            "text/plain": [
              "<IPython.core.display.HTML object>"
            ]
          },
          "metadata": {
            "tags": []
          }
        },
        {
          "output_type": "stream",
          "text": [
            "Saving NewsHeadlines3.csv to NewsHeadlines3.csv\n"
          ],
          "name": "stdout"
        }
      ]
    },
    {
      "cell_type": "code",
      "metadata": {
        "id": "1oIruf1iI8o6",
        "colab_type": "code",
        "colab": {}
      },
      "source": [
        "import pandas as pd\n",
        "newsdata1 = pd.read_csv('NewsHeadlines3.csv')"
      ],
      "execution_count": 0,
      "outputs": []
    },
    {
      "cell_type": "code",
      "metadata": {
        "id": "6huPyMTwPPkC",
        "colab_type": "code",
        "colab": {
          "base_uri": "https://localhost:8080/",
          "height": 153
        },
        "outputId": "bfac14e8-0c28-41dc-91d9-af4ea89196dd"
      },
      "source": [
        "print(newsdata1.shape)\n",
        "print(newsdata1.dtypes)"
      ],
      "execution_count": 7,
      "outputs": [
        {
          "output_type": "stream",
          "text": [
            "(999, 6)\n",
            "Index           int64\n",
            "title          object\n",
            "date           object\n",
            "Label_News      int64\n",
            "Unnamed: 4    float64\n",
            "Unnamed: 5    float64\n",
            "dtype: object\n"
          ],
          "name": "stdout"
        }
      ]
    },
    {
      "cell_type": "code",
      "metadata": {
        "id": "BTVAQT8DNOJN",
        "colab_type": "code",
        "colab": {
          "base_uri": "https://localhost:8080/",
          "height": 187
        },
        "outputId": "dcf9a398-cd23-43ae-8fe7-3938a3fa06b4"
      },
      "source": [
        "print(sdata.shape)\n",
        "print(sdata.dtypes)"
      ],
      "execution_count": 8,
      "outputs": [
        {
          "output_type": "stream",
          "text": [
            "(1408, 8)\n",
            "Date          object\n",
            "Open         float64\n",
            "High         float64\n",
            "Low          float64\n",
            "Close        float64\n",
            "Adj Close    float64\n",
            "Volume         int64\n",
            "Label          int64\n",
            "dtype: object\n"
          ],
          "name": "stdout"
        }
      ]
    },
    {
      "cell_type": "code",
      "metadata": {
        "id": "DWqxG734Vzeo",
        "colab_type": "code",
        "colab": {}
      },
      "source": [
        "sdata['Date'] = pd.to_datetime(sdata['Date'])"
      ],
      "execution_count": 0,
      "outputs": []
    },
    {
      "cell_type": "code",
      "metadata": {
        "id": "NPWhjHxYV_mC",
        "colab_type": "code",
        "colab": {
          "base_uri": "https://localhost:8080/",
          "height": 170
        },
        "outputId": "4370ac6d-83ca-4a4c-94bc-72085bbc20bd"
      },
      "source": [
        "print(sdata.dtypes)"
      ],
      "execution_count": 11,
      "outputs": [
        {
          "output_type": "stream",
          "text": [
            "Date         datetime64[ns]\n",
            "Open                float64\n",
            "High                float64\n",
            "Low                 float64\n",
            "Close               float64\n",
            "Adj Close           float64\n",
            "Volume                int64\n",
            "Label                 int64\n",
            "dtype: object\n"
          ],
          "name": "stdout"
        }
      ]
    },
    {
      "cell_type": "code",
      "metadata": {
        "id": "ErTBcTNrPXNg",
        "colab_type": "code",
        "colab": {}
      },
      "source": [
        "train = sdata[(sdata['Date']) < '2017-06-13']\n",
        "test = sdata[(sdata['Date']) > '2017-06-09']"
      ],
      "execution_count": 0,
      "outputs": []
    },
    {
      "cell_type": "code",
      "metadata": {
        "id": "JPz8WCNR08_b",
        "colab_type": "code",
        "colab": {
          "base_uri": "https://localhost:8080/",
          "height": 204
        },
        "outputId": "7df4c4bf-8f99-406e-ec1a-0af67a1cce05"
      },
      "source": [
        "print(train.shape)\n",
        "print(train.dtypes)\n",
        "print(test.shape)"
      ],
      "execution_count": 31,
      "outputs": [
        {
          "output_type": "stream",
          "text": [
            "(700, 8)\n",
            "Date         datetime64[ns]\n",
            "Open                float64\n",
            "High                float64\n",
            "Low                 float64\n",
            "Close               float64\n",
            "Adj Close           float64\n",
            "Volume                int64\n",
            "Label                 int64\n",
            "dtype: object\n",
            "(709, 8)\n"
          ],
          "name": "stdout"
        }
      ]
    },
    {
      "cell_type": "code",
      "metadata": {
        "id": "_JywPwQTqUSv",
        "colab_type": "code",
        "colab": {}
      },
      "source": [
        "trainNews = newsdata1[(newsdata1['Index']) < 701]\n",
        "testNews = newsdata1[(newsdata1['Index']) > 700]"
      ],
      "execution_count": 0,
      "outputs": []
    },
    {
      "cell_type": "code",
      "metadata": {
        "id": "VASz-LJtq2Zz",
        "colab_type": "code",
        "colab": {
          "base_uri": "https://localhost:8080/",
          "height": 153
        },
        "outputId": "738bb118-57f0-4527-df4d-2a3b33af7d00"
      },
      "source": [
        "print(trainNews.shape)\n",
        "print(trainNews.dtypes)"
      ],
      "execution_count": 14,
      "outputs": [
        {
          "output_type": "stream",
          "text": [
            "(700, 6)\n",
            "Index           int64\n",
            "title          object\n",
            "date           object\n",
            "Label_News      int64\n",
            "Unnamed: 4    float64\n",
            "Unnamed: 5    float64\n",
            "dtype: object\n"
          ],
          "name": "stdout"
        }
      ]
    },
    {
      "cell_type": "code",
      "metadata": {
        "id": "nLqDoCP3ZnSQ",
        "colab_type": "code",
        "colab": {}
      },
      "source": [
        "#for count vectorizer model we need the keywords\n",
        "words=[]\n",
        "for value in range(0, len(train.index)):\n",
        "  #joining string with space\n",
        "  words.append(''.join(str(i) for i in trainNews.iloc[value,1:51]))\n",
        "  #iloc - interger position"
      ],
      "execution_count": 0,
      "outputs": []
    },
    {
      "cell_type": "code",
      "metadata": {
        "id": "eDr5EZLs1gmf",
        "colab_type": "code",
        "colab": {
          "base_uri": "https://localhost:8080/",
          "height": 54
        },
        "outputId": "a5acbdb8-1e3d-4eec-bec7-780de0f3481c"
      },
      "source": [
        "print(words)"
      ],
      "execution_count": 51,
      "outputs": [
        {
          "output_type": "stream",
          "text": [
            "['Two Cops Taser Black Man Trying To Pick Up His Kids From School, in Minnesota for doing nothing wrong8/30/20142nannan', 'Video shows S.C. trooper shoot unarmed, cooperative man9/25/20140nannan', \"'Unintelligent' blacks 'brainwashed' to choose street cred over success: Charles Barkley10/26/20142nannan\", 'Netflix is Planning to put an End to Geographical Blocking1/22/20151nannan', 'Measles returns: Of vaccines and vacuous starlets - A rise in anti-vaccine sentiment has put everyone at risk1/30/20150nannan', \"Ellen Pao's Husband accused of cheating Massachusetts and Louisiana cops and firefighters out of more than $100 million and not paying close to $3 million in taxes.6/12/20150nannan\", 'Judge rules Ellen Pao must pay $276,000 to Kleiner Perkins to reimburse the venture capital firm for its expenses during the five-week trial6/18/20151nannan', 'Supreme Court Declares Same-Sex Marriage Legal In All 50 States6/26/20151nannan', 'Too Much Praise Promotes Narcissism: The first longitudinal study in children supports the theory that parents with unrealistically positive views of their kids foster narcissistic qualities7/12/20152nannan', 'Police are Killing Native Americans at Higher Rate than Any Race, and Nobody is Talking About It8/3/20150nannan', 'Police kill a white teen, and the silence raises questions8/7/20150nannan', 'The Coddling of the American Mind: In the name of emotional well-being, college students are increasingly demanding protection from words and ideas they don’t like. Here’s why that’s disastrous for education—and mental health.8/11/20150nannan', 'Family Values Activist Josh Duggar Had a Paid Ashley Madison Account8/20/20150nannan', 'Cameraman and Reporter shot during live interview. Gunman on the run8/26/20151nannan', \"The hero Army veteran who was shot five times as he 'charged at Oregon college shooter'10/2/20151nannan\", \"An anti-animal cruelty group says it has secretly recorded Tyson Foods workers punching, throwing and pulling the heads off of live broiler chickens at one of the mega meat producer's plants in Mississippi where up to 2.5 million chickens are slaughtered each week.10/29/20150nannan\", 'Court says it’s again legal for NSA to spy on you because Congress says it’s OK10/30/20150nannan', 'New Poll Shows 60% of Americans Think Hillary Clinton is Untrustworthy and Dishonest11/8/20152nannan', 'White supremacists charged in terror plot11/17/20151nannan', 'Maine Wants Candy, Soda Excluded From Food Stamps11/27/20151nannan', 'Leaked Documents Reveal Dothan Police Department Planted Drugs on Young Black Men For Years, District Attorney Doug Valeska Complicit12/2/20150nannan', 'Cop Ruthlessly Beats his k9 Dog, Picks Animal Up and Rams Its Body Into the Ground12/24/20150nannan', 'California law allowing seizure of guns without notice begins Jan. 112/30/20150nannan', 'U.S. adds 2.65 million jobs in 2015 for 2nd best year since 19991/8/20160nannan', 'Since 9/11, according to congressional reports, U.S. taxpayers have given Pakistan at least eighteen billion dollars, much of it to the military. Last year alone, the U.S. gave Pakistan $1.5 billion dollars.1/26/20161nannan', 'Man Charged for Throwing Tomatoes at Donald Trump During Iowa City Stop1/28/20161nannan', 'MSNBC cuts away from Bernie Sanders as he condemns Trans-pacific partnership2/24/20161nannan', 'Ku Klux Klan rally in Anaheim erupts in violence; three stabbed2/28/20162nannan', 'NY judge: US cannot make Apple provide iPhone data3/1/20161nannan', 'NSFW Cop with hand on gun intentionally walks up to dog to shoot it, owner stops him and then gets assaulted.3/4/20161nannan', 'Liberal-leaning Vermont could become the first U.S. state to legalize recreational marijuana use through legislation, rather than by voter initiative, in a move that advocates for the drug say could speed its acceptance across the nation.3/15/20161nannan', 'Cops: Gun store owner stops would-be campus shooter3/29/20161nannan', 'Man Faces Life In Prison For Stealing $31 Worth Of Candy4/5/20160nannan', 'Bill Nye Says Climate Change Denial Is \"Running Out of Steam,\" Thanks to Millennials4/9/20162nannan', 'Supreme court considers taking case of man given life in prison for growing pot4/16/20162nannan', '54,000 Brooklyn voters ‘vanish’ ahead of primary day4/20/20161nannan', 'Harriet Tubman to be first African-American on U.S. currency4/21/20160nannan', 'Trump Accused Of Fraud & will go to trial, N.Y. judge rules, Trump could testify during campaign4/27/20161nannan', 'Teen birthrate hits all-time low, led by 50 percent decline among Hispanics and blacks4/29/20160nannan', 'Abortion Clinics In Blue States Are Closing, Too5/2/20161nannan', 'Denied Breaks, U.S. Poultry Workers Wear Diapers on the Job5/12/20161nannan', 'Female General Becomes First Woman to Lead US Military Combat Command5/16/20161nannan', 'Hillary Clinton’s Energy Initiative Pressed Countries to Embrace Fracking, New Emails Reveal5/24/20161nannan', 'The innovative diamond design of highways has been implemented in 62 intersections across 22 states and since 2009, so far, has worked6/7/20161nannan', 'A United Nations whistleblower who was suspended for exposing the sexual abuse of children by peacekeepers has resigned over the organization’s failure to hold senior officials to account6/8/20161nannan', 'Rapist Brock Turner gets lifetime ban from Team USA swimming6/10/20160nannan', '50 Killed in Florida Nightclub Shooting6/12/20162nannan', 'Florida Nightclub Shooting: Around 20 Killed, 42 Injured, Say Police6/12/20162nannan', 'ISIS Officially Claims Responsibility For Orlando Massacre6/13/20160nannan', \"Gunmakers' shares jump after Orlando nightclub massacre6/14/20160nannan\", \"U.S. top court tosses Puerto Rico's debt restructuring law6/14/20160nannan\", \"Toddler dragged by gator into water near Disney's Grand Floridian6/15/20160nannan\", 'Killings of LGBT and HIV-affected people rose 20% in 2015, report finds6/15/20160nannan', \"Yale may cave on English poets course after students called it 'too white'6/16/20161nannan\", 'Philadelphia Becomes 1st Major U.S. City To Pass A Tax On Soda6/17/20160nannan', 'Starbucks Cards Hold So Much Money The Company Could Be A Mid-Sized Bank6/20/20161nannan', 'Trump directs nearly one-fifth of his money to his own businesses6/22/20160nannan', 'Donald Trump on Pace to Raise Less Money Than Almost Any Presidential Candidate in Modern Era6/22/20160nannan', \"Heroin use at 20-year high in U.S. drug 'epidemic', U.N. says6/23/20161nannan\", \"NYC faked day care centers' lead water level test records6/25/20162nannan\", 'Ban on transgender troops to be lifted July 16/26/20162nannan', 'The U.S. Supreme Court decision making it harder to prosecute public officials could help U.S. Senator Robert Menendez (D-NJ) as he fights federal corruption charges [re: possible impact of Bob McDonnell case]6/29/20161nannan', 'No charges for concealed carrier who wounded South Carolina club shooter7/5/20160nannan', 'Streetlights May Be Hurting Public Health7/6/20161nannan', 'Reports of shots fired at downtown Dallas rally following deaths of Alton Sterling, Philando Castile7/8/20161nannan', 'Arizona is site of largest current US measles outbreak7/9/20162nannan', \"She wasn't a cop and she wasn't white, but she took a bullet in Dallas while protecting her sons7/11/20161nannan\", 'No racial bias in police shootings, study by Harvard professor shows7/14/20161nannan', 'Everything we love to eat is a scam7/15/20161nannan', 'Former Fox News commentator sentenced to prison for faking CIA ties7/16/20162nannan', 'LAPD Investigating Playboy Model Who Shared Body-Shaming Photo of Naked Woman Secretly Shot at Gym7/17/20162nannan', \"Secretary Kerry's Call With Turkish Minister. Turkish government officials on Saturday said they would view the U.S. as an enemy if the Obama administration doesn’t hand over Mr. Gülen, who is a reclusive but influential Turkish cleric living in self-imposed exile in the U.S. for nearly two decades.7/18/20161nannan\", 'Three officers dead; 1 suspect dead as officers work active shooting on Airline Highway in Baton Rouge, Louisiana7/18/20161nannan', 'The feds want to launch peanut butter drone strikes to save endangered ferrets7/19/20161nannan', 'Police Capt. Robert Melton has died; second Kansas City, Kansas officer shot and killed in two months7/20/20161nannan', 'Faced with 30 years in prison, New Jersey actor takes plea deal on gun charge - comedian/actor faced charges for possessing a BB gun while filming a movie last year7/21/20160nannan', 'Police: Ex-Marine, 81, held hostage in motel for 4 years7/23/20162nannan', 'Leaked DNC Documents Show Plans To Reward Big Donors With Federal Appointments7/25/20160nannan', 'Wasserman Schultz resigning as party leader7/25/20160nannan', 'DNC Leak Shows Mechanics of a Slanted Campaign7/26/20160nannan', 'Freddie Gray case: Charges against three remaining officers dropped7/28/20160nannan', 'Turkey surrounds NATO US nuclear base. Turkish troops have sealed off Incirlik base.8/1/20160nannan', 'Homeownership Rate in the U.S. Drops to Lowest Since 19658/2/20160nannan', 'With 1 vote today, New Jersey will make it harder to graduate from high school8/4/20161nannan', 'Penthouse Magazine Targets Utah For Declaring Pornography A Health Crisis8/7/20162nannan', 'HOAs from hell: Homes associations that once protected residents now torment them8/8/20160nannan', 'Woman, 73, fatally shot by Florida officer role-playing as ‘bad guy’ during citizen police academy8/11/20161nannan', 'Study: High levels of toxic chemicals in drinking water of 6 million Americans8/12/20160nannan', '5 dead, 19 wounded in Chicago shootings in less than 24 hours8/15/20161nannan', 'Jury: Pennsylvania Attorney General Kane guilty of perjury, obstruction, all other charges8/16/20160nannan', 'In an unprecedented move, Montana Fish, Wildlife and Parks is closing 183 miles of the Yellowstone River from Gardiner to Laurel to all water-based recreation — fishing, wading, floating, tubing, boating — due to a parasite outbreak.8/20/20162nannan', 'FBI found nearly 15,000 new Hillary Clinton emails - Washington Times8/22/20160nannan', 'U.S. Army fudged its accounts by trillions of dollars, auditor finds8/23/20160nannan', 'Georgia man who threw boiled water on gay men gets 40 years8/25/20160nannan', \"Dr Drew fired by CNN for talking about Clinton's health8/26/20160nannan\", \"Donald Trump wants to track U.S. entrants to ensure they don't overstay their visas8/28/20162nannan\", 'Gene Wilder Dead: ‘Young Frankenstein’ Star Was 838/30/20160nannan', 'Clinton emailed classified information after leaving State Dept. | New York Post8/31/20160nannan', 'A record number of Americans now dislike Hillary Clinton8/31/20160nannan', 'FBI Recovers 30 Hillary Clinton Emails Involving Benghazi Attack | TIME8/31/20160nannan', 'Virginia: Man dies in Hampton Roads Regional Jail 2 days after filing emergency grievance begging for help9/1/20161nannan', \"Remember Brock Turner? From 3 Months Ago? He'll Leave Jail On Friday.9/1/20161nannan\", 'The DEA thinks herbal supplement kratom is as dangerous as heroin9/3/20162nannan', 'FBI Says a Laptop That Held Clintonâ\\x80\\x99s E-Mails Has Gone Missing9/3/20162nannan', 'New ISIS Military Commander Was Trained by State Department as Recently as 2014 | PJ Media9/7/20160nannan', 'Female WWII pilot will finally be laid to rest at Arlington9/8/20160nannan', 'More State Department Docs Show Hillary Should Have Been Aware of Classification Rules | The Weekly Standard9/9/20160nannan', \"CDC Director: 'Essentially out of money' to fight Zika9/11/20162nannan\", 'Hillary Clinton has pneumonia, doctor says - POLITICO9/12/20161nannan', 'Colin Powell Called Benghazi ‘Stupid Witch Hunt’ In Email To Condi Rice9/14/20160nannan', \"New York Teen Dies from Brain-Eating Amoeba After Contracting Infection on Vacation: 'She Was a Shining Light,' Says Mom9/14/20160nannan\", 'American trust in news media falls to lowest level in history: Gallup poll9/15/20161nannan', 'Abducted Woman Calls 911 as Alleged Captor Sleeps – Leading to Discovery of 3 More Bodies9/16/20160nannan', 'California added 63,000 jobs in August, 42% of U.S. total9/17/20162nannan', 'Device near New Jersey train station explodes while FBI investigates9/19/20160nannan', 'Tulsa, OK Police Officer Betty Shelby Shot Unarmed Man With Hands Up9/20/20160nannan', 'Chris Christie Knew About Bridge Lane Closings as They Happened, Prosecutors Say9/20/20160nannan', \"Paul Combetta, 'Stonetear,' and the Reddit Thread that could Rock Hillary Clinton | The Daily Dot9/21/20161nannan\", '45 Congressmen Ask DEA Not to Ban Kratom Next Week9/24/20162nannan', 'Officer accused of murdering 6-year-old claims self-defense9/26/20160nannan', \"'Disgruntled' Houston lawyer wearing Nazi uniform opens fire at strip mall; nine injured, suspect shot dead by police9/27/20161nannan\", 'A black 17-year-old reported his stolen car using an app ... and police reportedly arrested him instead9/30/20161nannan', 'WikiLeaks plans to release documents on US election and Google over the next ten weeks10/4/20160nannan', 'Yahoo helped the U.S. government spy on emails, report says10/5/20161nannan', 'DOJ will pursue criminal contempt charge against Sheriff Joe Arpaio10/12/20161nannan', \"Colorado pot isn’t affecting Kansas like you think - Kansas State Attorney General Derek Schmidt surveyed the state's law enforcement agencies, with some interesting results.10/13/20161nannan\", 'HPD: 911 operator says \"ain\\'t nobody got time for this\" and hangs up on callers10/14/20160nannan', 'Librarian Arrested at Kansas City Public Library for Defending Free Speech10/15/20162nannan', 'Freed From Gag Order, Google Reveals It Received Secret FBI Subpoena10/16/20162nannan', 'WikiLeaks releases transcripts of Clinton Goldman Sachs speeches10/16/20162nannan', \"Study: 'Only' 36 percent of Colorado residents would kill someone for money10/18/20161nannan\", 'Thousands of California soldiers forced to repay enlistment bonuses a decade after going to war10/23/20162nannan', 'South Korean Adopted At Age 3 Is To Be Deported Nearly 40 Years Later10/28/20160nannan', 'Recent Poll Shows More Americans Want Clinton Indicted than Want Her to Be President10/29/20162nannan', 'Two women busted for election fraud in Miami-Dade10/29/20162nannan', \"FBI director James Coney accused of breaking law as Hillary Clinton's 12-point lead 'wiped out': Monday US election briefing11/1/20160nannan\", 'The man arrested after authorities found a woman chained on his property in rural South Carolina killed at least seven people, and his confessions have solved a 13-year-old case, Sheriff Chuck Wright said Saturday.11/6/20162nannan', 'Idaho mom loses custody of children after giving daughter marijuana butter to relieve seizures11/8/20161nannan', \"This is Donald Trump's contract for the first 100 days as POTUS11/10/20161nannan\", 'Glenn Greenwald: Trump will have vast powers. He can thank Democrats for them.11/12/20162nannan', 'Anti-Trump protests, some violent, erupt for 3rd night nationwide11/12/20162nannan', \"Puerto Rico's solution to heroin crisis: one-way tickets to Philly - Since the late 1990s, pastors, police, and mayors in Puerto Rico have been sending hundreds of heroin addicts, many of them HIV-positive, to Philadelphia, New York, Chicago, and other cities.11/13/20162nannan\", 'Lafayette woman faces criminal charges after falsely claiming Trump supporters attacked her11/13/20162nannan', 'Donald Trump Says He Won’t Take A Salary While President. “I’ll take $1 a year,” he vowed.11/14/20160nannan', 'Day Five of Anti-Trump: Protests Planned in a Number of Cities11/14/20160nannan', 'Trump, Putin agree in phone call to improve ‘unsatisfactory’ relations between their countries, Kremlin says11/15/20161nannan', 'Almost 60 per cent of Americans say President-elect Donald Trump should compromise with Democrats11/17/20161nannan', \"'Making a Murderer': Brendan Dassey to Be Released by End of Week11/17/20161nannan\", \"Donald Trump's 'new national security adviser' thinks fear of Muslims is 'rational'11/18/20161nannan\", 'Trump agrees to $25 million settlement in Trump University fraud cases11/19/20162nannan', 'Standing Rock protest: hundreds clash with police over Dakota Access Pipeline11/21/20161nannan', 'Dallas woman faked a pregnancy - then killed another woman and stole her baby: police11/23/20161nannan', 'Wal-Mart loses minimum wage pay fight as jury awards California truck drivers $54 million11/24/20162nannan', \"Wisconsin Agrees To Presidential Vote Recount At Third-Party Candidates' Request11/26/20162nannan\", \"Reddit CEO admits editing pro-Trump users' comments11/26/20162nannan\", 'Bernie Sanders to propose Outsourcing Prevention Act to keep jobs in US11/27/20162nannan', 'Clinton campaign will participate in Wisconsin recount, with an eye on ‘outside interference,’ lawyer says11/27/20161nannan', 'UPDATE: Governor orders immediate evacuation of Dakota Access...11/29/20160nannan', 'Kansas judge rules sperm donor not on hook for child support11/30/20161nannan', \"BREAKING: Sheriff's Dept to Fine People $1K for Bringing in Food and Supplies to Standing Rock12/1/20162nannan\", 'Next test for pipeline protesters: the North Dakota winter12/3/20162nannan', 'America Needs a Sane Left -- Radicalism at one end of the political spectrum means radicalism at the other [Opinion]12/4/20160nannan', 'North Carolina man told police he went to Comet Ping Pong pizzeria in D.C. with assault rifle to ‘self-investigate’ election-related conspiracy theory, charged with assault with a dangerous weapon12/5/20160nannan', 'Federal Officials to Explore Different Route for Dakota Pipeline12/5/20161nannan', 'To Reduce Infant Mortality, U.S. Cities Adopt the Finland Way12/6/20161nannan', 'As her rapist seeks to have a relationship with her child, a Massachusetts woman is appealing to the highest court in the state.12/8/20161nannan', 'Sandy Hook denier arrested after death threats made to parent of victim12/9/20161nannan', 'Heroin deaths surpass gun homicides for the first time, CDC data shows12/10/20162nannan', 'The Number of Marijuana Jobs Could Triple in the Years to Come. The pot industry could add up to 300,000 additional jobs, according to analysts.12/12/20161nannan', 'Ex-Philadelphia congressman gets 10 years for corruption12/13/20161nannan', \"Sen. Rand Paul Pushes For Probe Into Russia's Election Hacking12/14/20160nannan\", 'Ohio Supreme Court rules damages cap means girl raped by minister will get $250,000 — not $3.5 million12/15/20161nannan', 'New DEA rules aim to outlaw medicinal marijuana CBD extracts12/16/20160nannan', \"Police charge Muslim woman who falsely claimed she was called a 'terrorist' on the subway12/16/20160nannan\", 'Aging baby boomers increasingly embrace marijuana, heavy alcohol use12/18/20162nannan', 'DEA Quietly Classifies CBD Oil as Schedule 1 Drug12/19/20161nannan', 'Four more officials charged over Flint, Michigan, water crisis12/21/20160nannan', \"Walmart Pulling Some 'Black Lives Matter' Clothes After Police Union Complains12/22/20160nannan\", 'Man gets $75 after being wrongly imprisoned for 31 years12/23/20161nannan', 'Nuke Experts Say Trump’s Tweet Is ‘A Very Bad Sign’12/23/20161nannan', 'Carrie Fisher Dies at 6012/28/20160nannan', 'The Pentagon has struggled with a jump in child abuse in military families since America went to war12/30/20160nannan', 'Report: Megyn Kelly To Leave Fox News For NBC1/4/20171nannan', '4 arrested in Facebook Live beating1/5/20170nannan', 'In Tampa, Food Not Bombs activists arrested for feeding the homelessâ\\x80\\x94again1/9/20170nannan', 'US agrees to pay billions to Marines affected by toxic water - The Obama administration has agreed to provide disability benefits totaling more than $2 billion to veterans who had been exposed to contaminated drinking water while assigned to Camp Lejeune in North Carolina.1/13/20170nannan', 'CIA director rips into Donald Trump over tweets, Russia1/16/20172nannan', 'Anti-Trump protesters block some entry points to inauguration1/20/20171nannan', 'Congress moves to give away national lands, discounting billions in revenue and millions of jobs1/20/20171nannan', \"Trump's first executive action: Cancel Obama's mortgage premium cuts1/23/20171nannan\", \"Trump signs order withdrawing from TPP, reinstate 'Mexico City policy' on abortion1/24/20171nannan\", 'California steaming: Democrats are learning to invoke states’ rights -- America’s most progressive state is set to lead the new fight against federal power1/25/20171nannan', 'Trump White House senior staff have private RNC email accounts1/26/20171nannan', 'Donald Trump’s chief economic advisor set to receive $284m payday from Goldman Sachs1/26/20171nannan', 'Standing Rock Sioux tribe says Trump is breaking law with Dakota Access order1/27/20170nannan', 'Minnesota protesters erupt after Republicans pass bill to charge demonstrators for police overtime costs1/28/20172nannan', 'A bill has already been introduced in Congress to remove the US from the United Nations1/30/20170nannan', 'Trump Fires Acting Attorney General1/31/20170nannan', 'Billionaire Trump Adviser Peter Thiel Bought His New Zealand Citizenship, Documents Show2/3/20171nannan', 'Mike Pence: Trump ‘Has Every Right to Criticize’ Other Branches of Government2/6/20171nannan', 'Nearly 500 arrested in California human trafficking raids2/6/20171nannan', 'Trump makes false statement about U.S. murder rate to sheriffs’ group2/8/20171nannan', \"Kellyanne Conway Tells Americans To Buy Ivanka Trump's Products2/10/20171nannan\", 'Trump Signs 3 Executive Orders Targeting Drug Cartels, Crimes Against Police2/10/20171nannan', 'Revealed: FBI terrorism taskforce investigating Standing Rock activists | US news2/11/20172nannan', 'Republican green-card holder who voted illegally in Texas gets 8 years in prison2/12/20172nannan', '188,000 evacuated, emergency declared as California’s massive Oroville Dam threatens floods2/13/20171nannan', 'Trump campaign aides had repeated contacts with Russian intelligence2/15/20171nannan', \"White House posts wrong versions of Trump's orders on its website2/15/20171nannan\", 'Donald Trump knew for weeks that Michael Flynn withheld the truth on his call with Russia2/16/20170nannan', \"FBI arrests man in Myrtle Beach allegedly planning attack 'in the spirit of Dylann Roof'2/17/20171nannan\", 'Oklahoma just hit temperatures of 100 Fahrenheit in the depths of winter2/18/20172nannan', \"Education Secretary DeVos criticized teachers at D.C. school she visited — and they're not having it.2/19/20172nannan\", 'The Resistance Is Winning As Trump Whines About Senate Democrats Refusing To Work With Him2/19/20172nannan', 'Republican Health Proposal Would Redirect Money From Poor to Rich2/19/20172nannan', 'Former Swedish PM: More murders in Florida where Trump spoke than in Sweden last year2/20/20172nannan', 'Up to 200 headstones damaged at Jewish cemetery, director says2/22/20171nannan', 'You No Longer Need A License To Carry A Concealed Weapon In New Hampshire2/23/20170nannan', 'Next month, the U.S. Supreme court will hear its first transgender rights case. This is the high school student behind it.2/24/20171nannan', 'Mother finds missing teenage daughter being sold on website, fights back - Kubiiki Pride was scrolling through ads on Backpage.com when she saw an ad selling something that belonged to her. It was her missing 14-year-old daughter.2/25/20172nannan', 'Justice Department will again use private prisons2/26/20172nannan', \"Attorney General Sessions has said 'good people don't smoke marijuana' — that belief could lead to fuller jails2/27/20171nannan\", 'Trump says Obama behind leaks2/28/20170nannan', 'Trump wants to add $54 billion to defense budget while slashing domestic spending and foreign aid2/28/20170nannan', 'Nigerian engineer handed written test at New York airport - BBC News3/2/20170nannan', 'The Kansas Supreme Court on Thursday ruled unanimously that state funding to schools is inadequate and gave the Legislature a June deadline to enact changes, scrambling a legislative session already consumed by a sprawling budget debate.3/3/20170nannan', 'Sikh man shot in an apparent hate crime in Kent, near Seattle WA.3/5/20172nannan', 'Sen. Tim Kaine’s son among several arrested after protesters disrupt Trump rally in Minnesota3/9/20170nannan', 'Poland will seek the arrest and extradition of a Minnesota man exposed by The Associated Press as a former commander in an SS-led unit that burned Polish villages and killed civilians in World War II, prosecutors said Monday.3/14/20170nannan', 'The federal government has no idea how to grow marijuana. The US grows marijuana for research. But it’s so awful it’s basically useless.3/15/20171nannan', 'Conservative Oklahoma senator charged with three felonies after child prostitution investigation3/17/20170nannan', 'Kentucky: Louisville Mayor Greg Fischer announced Friday that he has asked the FBI to investigate what he called “our worst nightmare,” the alleged sexual abuse of children in the police department’s Youth Explorer program.3/18/20172nannan', 'NYPD officers who assaulted postal worker acquitted by judge.3/18/20172nannan', \"Chuck Berry Dies at 90; Helped Define Rock 'n' Roll3/19/20172nannan\", \"Waiter fired after asking Latinas for 'proof of residency' at upscale Huntington Beach eatery3/20/20170nannan\", 'Texas teacher charged with improper relationship with a student3/22/20171nannan', 'Bernie Sanders thinks this $89,000-a-year drug should be $1,000 a year3/23/20171nannan', \"Report: Bannon told conservatives 'this is not a debate,' you have to back bill.3/26/20172nannan\", 'Devin Nunes Vanished the Night Before He Made Trump Surveillance Claims. The Republican intelligence chairman got a message and jumped out of an Uber. The next morning he dropped a bombshell based on classified information.3/26/20172nannan', 'States Give New Parents Baby Boxes To Encourage Safe Sleep Habits3/27/20171nannan', 'Congress just voted to let ISPs sell your browsing history to advertisers3/29/20170nannan', 'Three teenage burglars shot dead in US3/29/20170nannan', 'White House stacked with millionaires, financial disclosures reveal.4/2/20172nannan', 'The IRS took millions from innocent people because of how they managed their bank accounts, Inspector General finds4/5/20170nannan', 'Police violently drag man from United plane after airline reportedly overbooked flight4/10/20170nannan', 'Police: Shooting reported at elementary school in San Bernardino4/11/20171nannan', \"United States' first female Muslim judge found dead in Hudson River4/13/20170nannan\", 'Last surviving person born in 1800s dies at age 1174/16/20172nannan', 'Trump privately signs anti-Planned Parenthood law4/17/20171nannan', 'Police announce $50,000 reward for arrest of Facebook killer as search intensifies4/18/20170nannan', 'Aaron Hernandez commits suicide in prison4/19/20170nannan', 'Cleveland murder suspect Steve Stephens kills himself after pursuit4/19/20170nannan', 'Bill O’Reilly Severance: Fox News Host to Get $25 Million4/21/20170nannan', 'Appalachian Power president says company is looking toward renewables - “At the end of the day, West Virginia may not require us to be clean, but our customers are.”4/23/20172nannan', 'New Orleans begins controversial removal of Confederate monuments4/24/20171nannan', 'Convicted terrorist admits she lied to become US citizen4/27/20170nannan', 'Donald Trump signs executive order that could allow companies to mine and drill for oil at national monuments4/27/20170nannan', 'Miami doctor’s call to broker during baby’s delivery leads to $33.8 million judgment4/30/20172nannan', 'FCC opens investigation into Stephen Colbert’s controversial Trump insult5/6/20172nannan', \"Woman who said Johnson's baby powder gave her cancer wins $110.5 million in lawsuit5/7/20172nannan\", 'FBI Director James Comey Is Fired by Trump5/10/20170nannan', 'Florida: Former U.S. Rep. Corrine Brown was convicted Thursday on 18 counts of conspiracy, mail and wire fraud, and tax charges.5/12/20171nannan', 'Trump asked Comey to end investigation of Michael Flynn: source5/17/20170nannan', \"Fox News' ex-CEO Roger Ailes dead5/18/20171nannan\", 'U.S. households now have as much debt as they had in 20085/23/20171nannan', 'Clinton: Trump\\'s budget shows \"unimaginable level of cruelty\"5/24/20171nannan', 'Trump budget would sell entire U.S. Northeast gasoline reserve5/24/20171nannan', \"Walmart to ban woman who told customer to 'go back to Mexico,' called another the N-word5/26/20171nannan\", 'Witnesses: Man Cut the Throats of Two MAX Passengers Who Tried to Stop Anti-Muslim Bullying of Women on Northeast Portland Train5/27/20172nannan', 'After Trump announcement, Minnesota will proceed with its own climate change strategy - With a plan adopted in 2007, the state has been a national leader in pursuing an aggressive plan to reduce emissions.6/2/20171nannan', 'Doorway to profit: When bosses visit the White House, their firms make more money -- White House visitor logs help show that lobbying pays6/2/20171nannan', 'Walmart is asking employees to deliver packages on their way home from work6/4/20172nannan', 'Accused Leaker of Top-Secret U.S. Report Loses Bail Request6/9/20171nannan', 'White Professor Fired From Black College Gets $4.9 Million6/10/20172nannan', \"Trump, in Miami speech, set to roll back Obama's Cuba policy6/11/20172nannan\", 'Bernie Sanders says Alexandria shooter was campaign volunteer6/15/20171nannan', \"Special counsel Mueller investigating Jared Kushner's finances, Washington Post reports6/16/20171nannan\", 'Polygamous sect leader Lyle Jeffs captured after a year on the run6/16/20171nannan', 'Kentucky Coal Mining Museum converts to solar power6/19/20171nannan', \"Tour group says no more Americans to North Korea after Warmbier's death6/20/20170nannan\", 'White House blocks cameras, CNN hires sketch artist6/24/20172nannan', \"Billionaire Warren Buffett says 'the real problem' with the US economy is people like him6/28/20171nannan\", \"Poll: Americans feel 'alarmed' and 'uneasy' about Trump, Washington6/30/20171nannan\", \"US woman shoots boyfriend dead in YouTube stunt to 'boost online profile'6/30/20171nannan\", 'Maine and New Jersey state governments shut down by budget failures7/2/20172nannan', 'Nevada launches sales of legal recreational marijuana7/2/20172nannan', 'Buzz Aldrin’s many faces during Trump’s space speech7/4/20172nannan', \"Now 44 States Have Refused Trump Commission's Demand For Personal Info On Voters7/5/20170nannan\", 'Trump moves to dismiss lawsuit from woman who accused him of assault7/9/20172nannan', 'Audio Interview Confirms Dejuan Guillory Was Unarmed, Lying on Ground When Cop Shot Him in the Back7/11/20170nannan', '30 people shot, 3 fatally, in 18 hours in Chicago7/17/20170nannan', 'Disgraced former U.S. House Speaker Dennis Hastert faces sex-offender treatment with prison release7/19/20171nannan', 'Cop Suspended After Body Camera Video Shows Him Planting Drugs7/20/20170nannan', 'Donald Trump reportedly exploring ways to hamper Russia probe, pardon himself7/21/20170nannan', 'Sessions: Trump Directed Law Enforcement Agencies to Go After Darknet Markets Like AlphaBay7/21/20170nannan', 'Tennessee county inmates offered reduced jail time for getting a vasectomy7/22/20172nannan', 'Teens who laughed as man drowned will face charges7/24/20170nannan', 'Trump: no transgender people will serve in U.S. military - Twitter7/26/20171nannan', \"Trump, Scaramucci distract from ‘most important,' chilling Senate hearing8/1/20171nannan\", 'Amazon jacked up Prime Day prices, misleading consumers, says vendor8/2/20171nannan', 'Chicago Public Schools to pay $850 million in interest on $500 million loan8/5/20172nannan', 'Protesters Swarm Trump Tower After Charlottesville: ‘No Trump, No KKK, No Fascist USA!’8/14/20171nannan', 'Holocaust Memorial in Boston damaged for second time this summer8/15/20170nannan', 'Trump is Totally Wrong, Anti-Racist Protesters Actually Did Have Permits8/17/20170nannan', 'Court: Johnson & Johnson ordered to pay $417M in civil lawsuit linking talcum powder to cancer8/22/20171nannan', 'More than 200 doomed Puerto Rico dogs saved by airlift to US8/26/20172nannan', '‘Nazi scum,’ ‘Die Nazi!’ painted across Republican headquarters in Lexington8/27/20172nannan', 'Leonardo DiCaprio Just Gave $1 Million Toward Hurricane Harvey Relief Efforts9/1/20171nannan', 'Video shows Utah nurse screaming, being handcuffed after refusing to take blood from unconscious victim9/2/20172nannan', 'DOJ confirms Obama did not wiretap Trump during 2016 campaign9/3/20172nannan', \"Utah nurse who was arrested says officer was on a 'war path'9/5/20170nannan\", 'Police Officer Who Arrested Utah Nurse Gets Fired From Medic Job9/6/20170nannan', 'Florida Declares State of Emergency as Hurricane Irma Becomes Category 5 Superstorm9/6/20170nannan', 'Hurricane Irma: Florida sheriff warns sex offenders not welcome at storm shelters9/8/20171nannan', 'Equifax execs sold stock before hack was disclosed9/9/20172nannan', 'Florida Risks More Irma Devastation Because Gov. Rick Scott Defunded Wetlands Agency9/10/20172nannan', 'New Hampshire family says 8-year-old biracial boy injured after he was hung from a tree9/12/20171nannan', 'Equifax hit with at least 23 class-action lawsuits over massive cyberbreach9/12/20171nannan', 'Irma: Six dead at Florida nursing home left without power9/13/20171nannan', \"Utah blood nurse arrest 'violated police codes', says report9/14/20171nannan\", 'U.S. Bans All Federal Agencies From Using Kaspersky Software9/15/20171nannan', \"Study: Flint water killed unborn babies; many moms who drank it couldn't get pregnant - Babies born in Flint after switch to river water also nearly 150 grams lighter than those born in other areas of Michigan, and gained less weight.9/22/20171nannan\", 'Georgia: Bounty hunters took the wrong woman into custody at Columbus Walmart. A jury awarded her $950,000.9/23/20172nannan', 'NY Governor Cuomo: Stop arguing about football protests and start helping Puerto Rico9/25/20170nannan', 'Former neo-Nazi removes swastika tattoos after unlikely friendship9/26/20170nannan', \"Head Of Air Force Academy Tells Cadets: 'You Should Be Outraged' By Racial Slurs9/29/20171nannan\", 'Trump lashes out at San Juan mayor who begged for more help10/1/20172nannan', 'More than 50 people killed, 200 hurt in Las Vegas Strip shooting10/2/20171nannan', \"'Active shooter' near Las Vegas casino10/2/20172nannan\", 'This Couple Scammed Amazon Out of $1.2 Million. Now They Have to Pay It Back10/3/20171nannan', 'Oregon pays out $85 million in pot taxes to school fund, cops, other services10/7/20172nannan', \"Company behind 'Fearless Girl' statue hit with $5M fine for underpaid female workers - State Street Corp. settles with U.S. Dept. of Labor for race and gender discrimination10/8/20172nannan\", 'Nazi-killing video game \"Wolfenstein II\" angers Nazis with \\'Make America Nazi-Free Again\\' slogans10/9/20170nannan', 'VP Pence walks out of Colts game after National Anthem.( Players kneeled)10/9/20170nannan', \"Arizona: Maricopa County's Tent City jail officially shut down10/10/20171nannan\", 'U.S. House panel approves $36.5 billion for hurricane, wildfire relief10/11/20171nannan', 'Actor Terry Crews says he was groped by a ‘high level Hollywood executive’10/11/20171nannan', 'Donald Trump attacked for authoritarian threat to shut down critical news stations10/12/20170nannan', 'Hustler’s Flynt runs ad offering $10 million for ‘smoking gun’ leading to Trump impeachment10/15/20172nannan', \"Kansas stole 23 years of Lamonte McIntyre's life. His compensation: $0 - Kansas is one of 18 states that offers zero compensation for individuals who have been wrongly incarcerated and later exonerated.10/17/20171nannan\", 'Killer of Navajo Nation girl gets life prison sentence10/21/20172nannan', \"Thousands of Americans Will Scream Helplessly at the Sky on Trump's Election Anniversary10/30/20170nannan\", 'The party is over -- Both the Republican and Democratic Parties are in crisis — and may be headed for worse10/31/20171nannan', 'At least 27 people have been killed and 30 people have been injured in a mass shooting at a church in Sutherland Springs, Texas.11/6/20171nannan', 'Fox News cancels Donald Trump impeachment adverts11/7/20170nannan', 'The Incarcerated Women Who Fight California’s Wildfires -- By choice, for less than $2 an hour, the female inmate firefighters of California work their bodies to the breaking point. Sometimes they even risk their lives.11/7/20170nannan', 'Texas church shooter previously escaped mental health institution while facing military charges11/8/20171nannan', 'Alt-right blogger Jenna Abrams, who has 70,000 followers, does not exist, was created by St. Petersburg troll farm11/9/20170nannan', 'Pastor: Texas church that was attacked will be demolished. Pastor Frank Pomeroy told leaders of the Southern Baptist Convention earlier this week that it would be too painful to continue using First Baptist Church as a place of worship.11/10/20170nannan', 'Trump thinks Scientology should lose tax-exempt status11/11/20172nannan', \"Bill Gates firm buys Arizona land for $80 million to create 'smart city11/13/20171nannan\", 'Amazon faces fines following the death of a second warehouse worker in as many months11/14/20171nannan', 'Joe Biden claims Barack Obama repeatedly discouraged him from running for US president11/15/20170nannan', 'The Boomtown That Shouldn’t Exist -- Cape Coral, Florida, was built on total lies. One big storm could wipe it off the map. Oh, and it’s also the fastest-growing city in the United States.11/16/20171nannan', 'Keystone Pipeline closed after major oil spill11/18/20172nannan', 'Florida let hepatitis C go untreated in prisons. Now it may cost taxpayers millions.11/19/20172nannan', 'Charles Manson, mastermind of 1969 murders, dies at 8311/20/20171nannan', 'If you want to see what America would be like if it ditched net neutrality, just look at Portugal11/22/20170nannan', 'Former FCC chair Tom Wheeler discusses what ending net neutrality means.11/23/20172nannan', \"What happens once 'net neutrality' rules bite the dust?11/24/20171nannan\", 'Veterans are key as surge of states OK medical cannabis for PTSD11/27/20171nannan', 'A woman approached The Post with dramatic — and false — tale about Roy Moore. She appears to be part of undercover sting operation.11/28/20171nannan', 'U.S. gymnastics team doctor sentenced to 60 years for child pornography12/9/20172nannan', 'At 230,000 acres, Thomas fire is now the fifth-largest wildfire in modern California history12/11/20171nannan', 'Alabama: Doug Jones defeats Roy Moore for U.S. Senate seat12/13/20171nannan', 'Accused of molesting teen, Kentucky Rep. Dan Johnson commits suicide12/14/20170nannan', 'California state senator pledges to bring back net neutrality rules just as FCC votes to repeal them12/15/20171nannan', 'AT&T is giving $1,000 bonuses to 200,000 employees after tax bill12/21/20171nannan', 'California: Defying Trump again, Gov. Jerry Brown pardons immigrants about to be deported12/24/20172nannan', 'Thomas Fire becomes the largest in recorded California history12/25/20172nannan', 'Donald Trump said he’d be ‘back to work’ the day after Christmas but instead he played golf12/27/20171nannan', \"Louisiana: Police nab 'Nigerian prince.' He's a 67-year-old guy in Slidell. Who knew?12/30/20172nannan\", 'U.S. officials say they wrongly announced coal mine expansion1/1/20182nannan', 'ATT sued over layoffs after promising more investment because of tax cut1/5/20181nannan', 'FBI: Man with white supremacist ties stopped train in rural Nebraska with intent to harm passengers1/6/20182nannan', \"The DOJ Charged a White Supremacist With Terrorism But Didn't Tell Anyone1/9/20181nannan\", 'California inhales: The Golden State’s new pot laws are almost comically progressive -- Some cities plan to give people with marijuana convictions priority when setting up legal pot shops1/11/20181nannan', 'Idaho: Girl ordered to leave school after being twice raped in computer lab by older boy files lawsuit in federal court1/13/20182nannan', 'Obama rips Fox News viewers: ‘You are living on a different planet’1/13/20182nannan', 'Colorado administrators indicted for suspending student who reported sex assault by teacher1/13/20182nannan', 'CVS bans photo manipulation in store beauty brands, pressures suppliers1/16/20180nannan', '\"I’m the one that saved coal,” says Trump as miner deaths nearly double in first year of office1/29/20180nannan', 'Hawaii’s false missile alert sent by worker who thought attack on U.S. was imminent, FCC says1/31/20180nannan', \"Judge says she will not punish victims' father who lunged at Larry Nasser2/3/20182nannan\", 'Dow Jones share index down 1,175 points on closing in biggest ever one-day point drop and biggest fall since 2008 financial crisis2/6/20181nannan', 'Donald Trump orders Pentagon to plan grand military parade | US news2/7/20181nannan', \"George Bush: 'pretty clear evidence Russia meddled' in US election2/8/20180nannan\", 'Flu still on the rise, hospitalizations high, CDC says2/10/20182nannan', \"California launches probe into Aetna after former director admits he didn't look at patients' medical records when denying them treatment2/12/20181nannan\", \"Trump's budget hits poor Americans the hardest; aims to replace food stamps with high-end meal kits2/13/20181nannan\", 'EPA chief Scott Pruitt thinks $1,600 is reasonable for a D.C.-New York flight2/13/20181nannan', \"Pepsi announced it's laying off employees the same day it touted $1,000 bonuses because of the new tax law2/14/20181nannan\", 'Bill, Melinda Gates turn attention toward poverty in America2/14/20181nannan', 'A football coach who shielded students from the Florida shooter died as he lived -- by putting himself second2/15/20181nannan', 'EPA Head Says He Needs to Fly First Class Because People Are Mean to Him in Coach2/15/20181nannan', 'White House refuses to release photo of Trump signing bill to weaken gun law2/16/20181nannan', \"Ajit Pai Is Reportedly Being Investigated by the FCC's Inspector General2/16/20181nannan\", 'Hero Citizen Stops Mass Shooting in a Church, Cops Show Up and Shoot HIM—Media Silent2/19/20182nannan', 'West Virginia: Statewide walkout announced for school teachers, employees on Thursday and Friday2/20/20180nannan', 'Fla. shooting survivor and family receive death threats after conspiracy theories circulate that they are \"actors\"2/23/20181nannan', 'Trump considers pulling ICE out of California to let the state learn2/24/20182nannan', \"Why Your Pharmacist Can't Tell You That $20 Prescription Could Cost Only $8 - States are moving to block “gag clauses” that prohibit pharmacists from telling customers that they could save money by paying cash for prescription drugs rather than using their health insurance.2/25/20182nannan\", 'Broward Deputies Reportedly Told Not To Enter School During Shooting Unless Body Cameras Were On2/27/20180nannan', \"'$5,000 will not even buy a decent chair': HUD staffer files complaint over Ben Carson office redecoration2/28/20180nannan\", 'Alex Jones Accused of Sexual Harassment, Bullying at InfoWars - The Daily Beast3/1/20180nannan', 'West Virginia Schools Closing Monday as Strike Set to Enter 12th Day3/5/20181nannan', 'Reddit Confirms What Users Were Warning — The Site, Especially The_Donald, Was Haven For Russian Propaganda3/6/20180nannan', 'Shooting at Alabama high school; one student killed, another injured3/8/20181nannan', 'There have been 17 officers shot to death in the first 10 weeks of this year3/11/20182nannan', 'National Walkout: Nickelodeon off air for 17 minutes recognizing Parkland3/15/20181nannan', \"Under Trump's watch, national debt tops $21 trillion for first time ever3/17/20182nannan\", 'high school on lockdown after shooting in maryland.3/20/20181nannan', 'Trump’s election consultants filmed saying they use bribes and sex workers to entrap politicians3/20/20181nannan', 'Federal judge blocks Mississippi 15-week abortion ban from going into effect3/21/20180nannan', 'Saudi Crown Prince Boasted That Jared Kushner Was “In His Pocket”3/22/20180nannan', 'Patriots loan plane to Parkland students for D.C. trip3/24/20182nannan', \"March for Our Lives could be the biggest single-day protest in D.C.'s history3/25/20182nannan\", 'Father gets 60 years for trying to sell 4-year-old daughter for sex3/25/20182nannan', \"Jared Kushner's Younger Brother Had Vowed To #MarchForOurLives. And He Did.3/26/20181nannan\", 'No, Parkland Student Emma González Did Not Rip Up the U.S. Constitution3/27/20180nannan', 'Texas megachurch pastor charged by federal authorities with defrauding elderly investors4/1/20182nannan', \"'Tired of begging': Teacher rebellion shuts down Oklahoma, Kentucky schools4/4/20181nannan\", 'Facebook sent a doctor on a secret mission to ask hospitals to share patient data4/6/20180nannan', 'Dow tumbles 572 points as trade war fears pummel stocks4/7/20182nannan', 'Trump Tower blaze kills man on floor without sprinklers4/8/20182nannan', \"Dow's 400-point rally is nearly erased in final hour on report of FBI raid of Trump's lawyer4/10/20181nannan\", 'Zuckerberg deflects senators’ Facebook questions, and gets $3 billion for the effort4/11/20180nannan', 'FDA now accepting comments to reclassify marijuana4/11/20180nannan', \"4 in 10 millennials don't know 6 million Jews were killed in Holocaust, study shows4/13/20180nannan\", 'Trump lawyer arranged $1.6 million payoff to Playboy Playmate for Republican fundraiser: source4/14/20182nannan', 'TSA finds three loaded guns in one morning at Tampa International Airport4/17/20181nannan', 'Ajit Pai’s FCC broadband adviser arrested on fraud charges4/18/20180nannan', 'E.P.A. Chief’s $43,000 Phone Booth Broke the Law, Congressional Auditors Say4/18/20180nannan', 'U.S. appeals court says Ohio cannot block Planned Parenthood funds4/19/20180nannan', 'Minnesota: Prince was a high-profile casualty to fentanyl-laced pill scourge - On Thursday, Carver County Attorney Mark Metz said evidence suggested that Prince unknowingly took counterfeit Vicodin painkillers that actually contained fentanyl.4/20/20180nannan', 'Wells Fargo will be fined $1 billion4/20/20180nannan', 'Indiana abortion law signed by Mike Pence ruled unconstitutional by 7th Circuit4/21/20182nannan', 'Waffle House shooter was once arrested by Secret Service for trespassing near White House4/23/20180nannan', \"N.J. officers praised after weathering official's profane outburst4/26/20181nannan\", 'Report: Suspected East Area Rapist — who murdered 12, raped 45 — held in Sacramento jail4/26/20181nannan', \"Bill Cosby 'guilty' of sexual assault4/27/20180nannan\", 'Federal agents peered into a duffel bag on the Mexico border. They found a tiger cub.5/2/20180nannan', \"Native American men removed from university tour after parent tells cops they made her 'nervous'5/3/20181nannan\", \"Homeless man breaks into California governor's residence, says he's an 'open-door policy kind of guy'5/3/20181nannan\", 'Mormon church severing ties with Boy Scouts, ending century-long bond5/9/20181nannan', 'Authorities respond to reports of shots fired at Highland High School in Palmdale, California5/11/20181nannan', 'Hurting from low sales and Trump tariffs, Harley Davidson will close its Kansas City plant5/11/20181nannan', 'Firm That Denied Its Cohen Payment Was Connected to Russian Billionaire Turns Out to Be Super-Connected to Russian Billionaire5/12/20182nannan', '67 Environmental Rules on the Way Out Under Trump5/14/20181nannan', 'Melania Trump hospitalized after kidney procedure5/15/20180nannan', 'Google Employees Resign in Protest Against Pentagon Contract5/15/20180nannan', 'The US has a salmonella outbreak caused by eggs, leading to the largest recall since 20105/15/20180nannan', 'Documents show Ajit Pai met with AT&T execs right after the company started paying Michael Cohen.5/16/20181nannan', 'American Airlines bans insects, hedgehogs and goats as emotional support animals5/16/20181nannan', \"Tom Wolfe, pioneering 'New Journalist,' dead at 885/16/20181nannan\", \"When a 5-year-old returned to school for the first time after his police officer dad's death, 70 cops stood beside him5/17/20180nannan\", 'Senate Votes to Save Net Neutrality, Proving Shame Still Works Sometimes5/17/20180nannan', 'LIVE COVERAGE: At least 8 killed in Santa Fe High School shooting5/18/20181nannan', \"'Eight killed' in Texas school shooting5/18/20181nannan\", 'US birth rates hit record low and diaper, baby bottle companies are feeling the pinch5/18/20181nannan', 'Man yelling about the President opens fire at Trump golf resort5/18/20181nannan', '25-year-old posed as Dallas ISD student to relive basketball glory at Hillcrest High, officials say5/18/20181nannan', \"Explosive eruption rocks Hawaii's Kilauea volcano: USGS5/18/20181nannan\", 'Houston Texans defensive end to pay for Texas shooting funerals5/19/20182nannan', 'In April, they walked out to protest school shootings. Today, they were victims of one5/19/20182nannan', \"China will 'significantly increase' purchases of US goods and services5/20/20182nannan\", 'Houston Police Chief Says He’s Sick Of Inaction On Gun Control5/20/20182nannan', \"FYI: English isn't the official language of the United States. A lot of multilingual countries promote an official language, but the United States has never done so with English. In fact, the US has no official language.5/21/20181nannan\", 'US and China halt imposing import tariffs5/21/20181nannan', 'Barack and Michelle Obama to make TV and films for Netflix5/22/20180nannan', \"White House, EPA headed off chemical pollution study -- The intervention by Scott Pruitt’s aides came after one White House official warned the findings would cause a ‘public relations nightmare.'5/22/20180nannan\", 'The payers’ revolt: Americans, tired of high-priced drugs, are fighting back -- Whatever Donald Trump says, pharma firms should feel queasy5/22/20180nannan', \"Judge rules 30-year-old must move out of his parents' house5/23/20181nannan\", 'Nearly 100 illegal immigrants found hiding in trailer during traffic stop5/23/20181nannan', 'US couple sue son who refuses to move out5/23/20181nannan', 'California Becomes First State to Require Solar Panels on New Houses5/23/20181nannan', 'Hawaii volcano lava flows into power plant, sparking fears of deadly gas release5/23/20181nannan', 'Sinkhole appears on White House lawn5/23/20181nannan', 'Trump says summit with Kim may be delayed5/23/20181nannan', 'Trump pulls out of North Korea summit5/24/20180nannan', \"Jets CEO Chris Johnson Says He'll Pay The Fines For His Players Who Want To Protest During Anthem5/24/20180nannan\", 'Judge Rules Trump Can’t Block People on Twitter5/24/20180nannan', 'Suspect in custody after shots reported fired at a Indiana middle school5/25/20180nannan', 'Elon Musk To Develop Media Bias Rating Website: Media Freaks Out5/25/20180nannan', \"TotalBiscuit, one of gaming's most popular YouTubers, has passed away5/26/20182nannan\", \"Border Patrol slightly changes account of undocumented woman's fatal shooting5/26/20182nannan\", 'BREAKING: Armed Citizen Kills Mass Shooter At Oklahoma Restaurant5/26/20182nannan', 'Male student detained as suspect in shooting at Indiana middle school, Noblesville police chief says. Adult teacher, juvenile shooter transported to hospital5/26/20182nannan', 'Shootings mark a violent Memorial Day weekend in DC5/27/20182nannan', 'An American Airlines Passenger Was Refused Beer - So He Screamed, Fought And Spit Blood, FBI Says5/27/20182nannan', 'Ball and chain: Lawmakers are trying to curb contracts that make it harder to change jobs -- Non-compete agreements are startlingly common in America, even for workers on low pay5/27/20182nannan', 'Teacher corrects White House letter, sends it back to Trump5/27/20182nannan', 'Telemarketing: America is losing the war against robocalls -- Install a blocking app on your phone—not much else can be done5/28/20182nannan', 'The mid-terms: We think the Democrats are favoured to take the House -- But the contest is finely balanced5/28/20182nannan', 'President George H.W. Bush hospitalized after experiencing low blood pressure Sunday5/28/20182nannan', 'California video shows sharks being finned alive and beaten with bats5/28/20182nannan', 'Rudy Giuliani booed by Yankee fans on his birthday5/29/20180nannan', 'Ex-Green Beret, NFLer weighs in on anthem rule5/29/20180nannan', 'U.S. economy grew slightly slower 2.2% in first quarter, revised GDP figures show5/30/20181nannan', 'Missouri Governor Eric Greitens resigns amid sex scandal5/30/20181nannan', 'Harvard study: Black defendants get longer sentences from GOP-appointed judges5/30/20181nannan', \"ABC cancels 'Roseanne' after star's racist Twitter rant5/30/20181nannan\", 'Hitting pay dirt: American firms reveal the gulf between bosses’ and workers’ pay -- Some states either already have, or are considering imposing, higher taxes on companies with especially big gaps5/31/20180nannan', \"Dick's soaring sales prove it can succeed without assault rifles5/31/20180nannan\", 'Grand jury indicts Harvey Weinstein in rape case5/31/20180nannan', 'Ambien maker responds to Roseanne: Racism is ‘not a known side effect’5/31/20180nannan', 'Thieves in Inglewood steal $18K in chemo medicine from man battling cancer6/1/20181nannan', 'EPA paid $1,560 for 12 fountain pens6/2/20182nannan', 'Justices side with Colorado baker on same-sex wedding cake6/4/20181nannan', 'America may soon face its biggest labor strike in decades6/6/20181nannan', 'The home of Parkland survivor David Hogg was swatted this morning6/6/20181nannan', 'Billions in U.S. solar projects shelved after Trump panel tariff6/7/20181nannan', \"CNN's Anthony Bourdain dead at 616/8/20181nannan\", 'Navy intelligence compromised by Chinese hackers in massive data breach: Report6/9/20182nannan', \"Trump: Yes, I'll probably back Elizabeth Warren's bill to force the feds to follow state marijuana laws6/10/20182nannan\", 'Florida revoked 291 concealed weapons permits after an employee stopped reviewing background checks6/12/20180nannan', 'Dancing FBI agent who dropped gun during backflip charged in shooting6/13/20180nannan', \"Teens are having less sex and doing drugs less often, but they're sad6/15/20180nannan\", 'New York\\'s attorney general is suing the Trump Foundation, as well as Donald Trump and his children, alleging \"extensive and persistent\" lawbreaking.6/15/20180nannan', 'NFL Players Association May Challenge New Anthem Policy In Court6/16/20182nannan', 'Trump signs order to end migrant separation6/21/20180nannan', 'Border patrol agents are stopping people on highways in New England to check their citizenship6/24/20182nannan', \"Woman 'humiliated' by Walgreens over drugs to end pregnancy6/24/20182nannan\", 'AT&T Employees Reportedly Encouraged to Use Unethical Sales Tactics to Drive Up DirecTV Now Subscriptions6/25/20180nannan', 'U.S. approves first marijuana plant-derived drug for epilepsy6/26/20181nannan', 'HBO Website Is Down in China After John Oliver Skewers Xi6/26/20181nannan', 'Justice Kennedy retiring; Trump gets 2nd Supreme Court pick6/28/20181nannan', 'Iowa Supreme Court rejects 72-hour abortion waiting period requirement, says women have right to abortion6/30/20182nannan', 'Idaho: 9 people, including refugees, targeted in stabbings on State Street in Boise, police say7/1/20182nannan', \"Former Donald Trump personal attorney Michael Cohen scrubbed the president's name from his Twitter account7/5/20181nannan\", \"US malls haven't been this empty since 20127/6/20181nannan\", 'Trump unexpectedly reveals Scott Pruitt has resigned7/6/20181nannan', 'National debt at highest level since after WWII7/9/20181nannan', \"91-year-old man beaten with brick, told 'go back to your own country'7/10/20181nannan\", 'Northern California jail ends federal immigration contract7/11/20180nannan', 'Trump pardons ranchers whose arrests led to armed occupation of wildlife refuge7/11/20181nannan', 'Charges against Stormy Daniels are dismissed after Ohio strip club arrest7/13/20181nannan', 'ICE agents arrest 18 human smugglers, 117 illegal immigrants in Texas, New Mexico7/14/20182nannan', \"Black farmers file lawsuit alleging company sold 'inferior' seeds on purpose7/16/20181nannan\", \"Trump praises Putin's 'incredible' offer for special counsel investigators to 'come and work' with Russia on probe7/17/20181nannan\", 'States sue U.S. to void state and local tax deduction cap7/18/20181nannan', 'Measure to break California into 3 states removed from November ballot after court ruling7/19/20180nannan', 'Secret Service agent traveling with Trump dies in Scotland7/19/20180nannan', 'Steve Tisch rips President Trump, says Giants won’t punish anthem protesters7/21/20182nannan', 'Father of Parkland survivors shot dead7/21/20182nannan', 'U.S. home sales fall as prices hit record high7/24/20181nannan', 'U.S. border guards target Canadian cannabis executives. At least a dozen executives in the past three months have been banned for life from entering America7/26/20181nannan', 'U.S. Senate quietly votes to cut tariffs on hundreds of Chinese goods7/27/20181nannan', 'Facebook suspends US conspiracy theorist Alex Jones | Technology7/28/20182nannan', \"New York Times urges Trump to end 'enemy' rhetoric7/30/20180nannan\", 'Supreme Court rejects Trump bid to halt climate change case7/31/20181nannan', 'Ted Cruz 2018 election: new polls show challenger Beto O’Rourke has a real shot8/2/20181nannan', \"Sarah Jeong's racist tweets spotlighted after New York Times hiring: 'White men are bulls--'. Writer: 'It's sick how much joy I get from being cruel to old white men'8/3/20183nannan\", '395 People in 15 States Infected in McDonald’s Salad Outbreak8/4/20182nannan', \"'It's going to be hard': Sears pension payments cut by 30% this week | CBC News8/5/20182nannan\", 'No, U.S. Steel is not opening six new mills as Donald Trump said8/6/20181nannan', 'West Hollywood City Council passes resolution to remove Donald Trump Walk of Fame star: Mayor8/7/20181nannan', 'Facebook, Apple, YouTube and Spotify take down Alex Jones content8/7/20181nannan', 'The private prison industry, explained -- The federal government was phasing out private prisons until the Trump administration took office. Why the reversal?8/8/20180nannan', 'Sex scandal claims megachurch leadership8/9/20180nannan', 'There Will Now Likely Be Two Democratic Socialists of America Members in Congress8/9/20180nannan', \"Ark. officer fired for telling black men they 'don't belong' in city8/12/20182nannan\", 'Trump signs defense bill suspending delivery of F-35 warplanes to Turkey8/14/20181nannan', 'Reddit sleuth identifies car part leading to hit-and-run arrest8/15/20180nannan', 'Google tracks users who turn off location history8/15/20180nannan', '87-year-old woman tasered by US police while cutting dandelions in Georgia8/17/20181nannan', 'Teen who survived fall from 60-foot bridge speaks out: I want pusher in jail8/17/20181nannan', 'NYU Makes Tuition Free for All Medical Students School has raised more than $450 million of its estimated $600 million needed to cover tuition in perpetuity8/17/20181nannan', 'Satanic Temple Unveils Baphomet Statue at Arkansas Capitol8/18/20182nannan', 'ICE says man taken while rushing pregnant wife to hospital is wanted for murder in Mexico8/20/20181nannan', \"Twenty-two states ask U.S. appeals court to reinstate 'net neutrality' rules8/21/20181nannan\", 'Hurricane Lane Strengthens to Category 5, Hawaii Braces for ‘Life-Threatening’ Winds8/22/20180nannan', 'Immigrant charged with murder of Iowa college student MONTEZUMA, Iowa (AP) — A man from Mexico living in the U.S. illegally has confessed to kidnapping college student Mollie Tibbetts while she was running in her small Iowa hometown, killing her and dumping her body in a rural field8/22/20180nannan', 'Verizon Throttled California Firefighters’ Internet Speeds Amid Blaze8/23/20180nannan', 'Longtime Trump Organization CFO Weisselberg granted immunity in Cohen probe8/24/20181nannan', \"Trump meets with promoter of 'QAnon' conspiracy theory in Oval Office8/25/20182nannan\", \"'Mass shooting' at Madden video game tournament in Jacksonville, Florida8/27/20181nannan\", \"Trump accuses Google of hiding 'fair media' coverage of him8/28/20180nannan\", 'White House urged to lower flag for McCain8/28/20180nannan', \"Jacksonville shooter legally armed himself in state with one of USA's toughest gun laws8/29/20181nannan\", 'California looks to adopt Obama-style net neutrality rules8/31/20180nannan', \"John McCain's 106-year-old mother expected to attend memorial services in DC, Maryland8/31/20180nannan\", 'You Did It: California Net Neutrality Passes State Assembly9/1/20182nannan', 'Kavanaugh Hearing Instantly Melts Down: ‘This is a Charade and a Mockery’9/4/20181nannan', \"Colin Kaepernick Named Face of Nike's 30th Anniversary of 'Just Do It' Campaign9/4/20181nannan\", \"US police captain's son jailed for terror plot9/6/20181nannan\", 'Lawmakers seek answers for why Native American women vanish9/6/20181nannan', \"LeBron James: 'I Stand with Nike' After Colin Kaepernick 'Just Do It' Ad9/6/20181nannan\", \"Colin Kaepernick's Nike commercial is a big hit with consumers, according to industry group9/7/20180nannan\", 'A teen who spent his free time speaking out against gun violence was shot and killed in Chicago9/8/20182nannan', 'Ford Recalls 2,000,000 Pickup Trucks; Seat Belts Can Cause Fires9/9/20182nannan', 'Louisiana Mayor Bans All Nike Purchases For City Recreation Programs9/10/20180nannan', 'President Trump caught cracking joke about terrorists while discussing Niger ambush where four U.S. soldiers died9/11/20181nannan', 'Pentagon Was Not Notified Of Proposal To Change Military Lending Act : NPR9/12/20181nannan', 'BREAKING: 6 people dead, including suspect, following multiple shootings in Southeast Bakersfield9/13/20181nannan', 'Court rules man in ICE custody for nearly two years is US citizen: report9/13/20181nannan', \"Brett Kavanaugh 'sexual assault victim' speaks9/17/20180nannan\", 'New research shows that, post net neutrality, internet providers are slowing down your streaming9/18/20181nannan', \"Trump's Space Force could cost nearly $13B over 5 years9/18/20181nannan\", \"McCaskill says she's voting 'no' on Brett Kavanaugh for Supreme Court9/20/20181nannan\", 'Duke Energy confirms new coal ash spill in North Carolina9/21/20181nannan', 'Man who impregnated 10-year-old girl sentenced to 160 years in prison9/22/20182nannan', 'Dallas officer fired for killing innocent man in his own apartment9/25/20180nannan', 'Ford CEO says metals tariffs cost company $1 billion9/27/20181nannan', 'Nashville police officer charged with criminal homicide after shooting black man in the back9/28/20182nannan', \"Warren plans to take a 'hard look' at running for president9/30/20182nannan\", \"California's tough net neutrality bill prompts US lawsuit10/1/20181nannan\", 'L.A. airport allowing passengers to carry marijuana10/2/20181nannan', 'Trump Engaged in Suspect Tax Schemes as He Reaped Riches From His Father10/3/20180nannan', 'Palin’s son to spend year in custody after third assault allegation10/4/20180nannan', 'Undercover cops break Facebook rules to track protesters, ensnare criminals10/5/20180nannan', 'Heitkamp To Vote No On Kavanaugh10/5/20180nannan', 'Popular sparkling water company LaCroix is facing a lawsuit that alleges its products are mislabeled as \"all-natural,\" and the allegations are weighing on the shares of its parent company National Beverage10/6/20182nannan', 'Officer who fatally shot Tamir Rice hired by Bellaire, Ohio, police department10/7/20182nannan', \"Colin Powell Says Donald Trump has Turned America from 'We the People' to 'Me the President'10/8/20181nannan\", 'Bride goes ahead with wedding photos, despite tragic loss of firefighter fiance10/10/20180nannan', 'Utah just experienced its driest year since scientists have kept records10/11/20180nannan', 'Chief Justice Roberts Requests Tenth Circuit To Investigate Kavanaugh Ethics Questions10/12/20180nannan', 'Video Released of White Man Shooting at 14-Year-Old Black Teen Who Asked for Directions10/12/20180nannan', 'Rates of unvaccinated children on the rise, says CDC10/13/20182nannan', 'U.S. retailer Sears files for Chapter 11 bankruptcy10/15/20180nannan', 'Over 1,000 Remain Missing A Week After Hurricane Michael10/17/20181nannan', 'Remains of 63 Fetuses and Infants Found at Second Detroit Funeral Home10/21/20182nannan', 'Mikhail Gorbachev warns Donald Trump against pulling out of missile treaty with Russia10/22/20180nannan', \"Secret Service intercepts 2 'suspicious packages' addressed to Obama, Clinton10/24/20180nannan\", 'New Jersey mom helps thwart school shooting plot in Kentucky10/24/20180nannan', 'Dow tumbles more than 600 points and sheds year-to-date gains amid late-session drop10/25/20181nannan', 'Google sacks dozens over sexual harassment10/26/20180nannan', 'Texas admits: Voting machines are changing Texas voters ballots10/28/20182nannan', 'Trump’s Saudi Arabia Response Shows His Foreign Policy Is Only About Money10/29/20180nannan', 'Local, national officials decline to appear with Trump in Pittsburgh10/30/20181nannan', 'The Cop Said He “Slipped.” The Video Shows Him Forcing An 11-Year-Old Girl To The Ground. He Wasn’t Punished.10/31/20181nannan', \"In Wisconsin, Some Fear Foxconn Factory's Main Product Is Smoke and Mirrors11/1/20181nannan\", 'Utah mayor killed in \"insider attack\" in Afghanistan, officials say11/4/20182nannan', \"Three US Girl Scouts killed 'by intoxicated driver' in hit-and-run11/6/20181nannan\", \"Ivanka Trump's Business Wins Approval for 16 New Chinese Trademarks Despite Shutting Down11/6/20181nannan\", 'Michigan becomes 10th state to legalize recreational use of Marijuana11/7/20181nannan', 'Reports of long lines, broken machines as voters go to polls11/7/20181nannan', 'Sessions out at Justice Department11/8/20181nannan', \"Antifa at Tucker Carlson's home: Group breaks door, chants at Fox host11/9/20180nannan\", 'Fires across California have forced 157,000 people from their homes; 5 found dead in vehicles11/10/20182nannan', 'CA-48 NEWS: Harley Rouda declares victory, unseating antigay Congressman Dana Rohrabacher11/11/20182nannan', \"Veterans haven't received GI Bill benefits for months due to ongoing IT issues at VA11/12/20180nannan\", 'CNN sues President Trump and top White House aides for barring Jim Acosta11/13/20180nannan', 'Death toll in California wildfire rises to 42, marking worst in state history11/13/20180nannan', 'Security guard Jemel Roberson shot dead by police while holding suspect at Chicago bar11/13/20180nannan', \"Marvel's Stan Lee dies, aged 95.11/13/20180nannan\", 'FBI: Reported hate crimes surged by 17 percent in US last year11/14/20180nannan', 'Montana: Federal judge denies motion to dismiss case against publisher of neo-Nazi website11/15/20181nannan', 'Coast Guard seizes about $500 million worth of cocaine11/16/20181nannan', 'New Jersey couple and homeless man whose feel-good story went viral charged with GoFundMe scam. Their GoFundMe story was fake11/16/20181nannan', 'Living with an Unmarried Partner Now Common for Young Adults11/18/20182nannan', 'Bankrupt Sears wants to give executives $19 million in bonuses11/18/20182nannan', 'Ivanka Trump used a personal email account to send hundreds of emails about government business last year11/20/20180nannan', 'Anti-vaccine community behind North Carolina chickenpox outbreak11/20/20180nannan', \"‘You don’t go to jail for lying on TV’: GoFundMe scam suspect allegedly says in bombshell recording. Woman arrested in $400,000 GoFundMe fraud scandal was just trying to help homeless veteran and is 'a bit naive,' lawyer says.11/20/20180nannan\", 'PSA: CDC warns against eating any type of Romaine lettuce due to health risk11/21/20180nannan', 'Oregon man tried to bribe ICE officer to deport his wife and her child. Antonio Burgos married the woman and brought her and her child to the United States from El Salvador, according to his guilty plea.11/22/20182nannan', 'Nearly 30 families to be released from South Texas detention center after a federal judge blocked new rules by President Donald Trump that limited the ability of immigrants to request asylum.11/22/20182nannan', 'NFL star Aaron Rodgers pledges $1 million to Camp Fire relief efforts11/22/20182nannan', '190 sea turtles found frozen to death along Cape Cod11/24/20182nannan', 'Girl Who Wrote Essay About “Senseless Gun Violence” Killed by Stray Bullet in Milwaukee11/24/20182nannan', \"Black man killed by Alabama police during mall shooting was 'likely' not the gunman11/25/20182nannan\", \"Bernie Sanders: I will probably run in 2020 if I'm the best candidate to beat Trump11/27/20181nannan\", \"Stephen Hillenburg, creator of 'SpongeBob SquarePants,' has died11/28/20181nannan\", \"Veterans Affairs Dept. tells congressional staffers it won't repay underpaid GI Bill benefits recipients11/29/20180nannan\", \"Mom suing U.S. government for $60 million after toddler dies following 'neglectful' immigration detainment11/29/20180nannan\", 'U.S. Marshal shot and killed outside Arizona house while trying to serve felony warrant11/30/20181nannan', 'Republicans Senators Who Tried to Kill Yemen War Resolution Were Paid by Saudi Lobbyists11/30/20181nannan', 'George HW Bush dies at 9412/1/20182nannan', \"'SpongeBob SquarePants' Fans Petition NFL for Super Bowl Tribute to Late Creator12/2/20182nannan\", 'More than 5,500 women came to Illinois to have an abortion last year amid growing restrictions in the Midwest12/2/20182nannan', 'Lobbyists Are Working to Sneak a Dangerous Copyright Bill into Must-Pass Spending Legislation that Could Revive Website Blocking Proposals Like SOPA12/4/20180nannan', 'Serial sex abuser Jeffrey Epstein apologizes — but not to his victims12/5/20182nannan', 'Dow sinks nearly 600 points as U.S.-China trade, falling 10-year yield spook investors12/5/20182nannan', 'California Democrats plan to extend Medicaid to illegal immigrants12/6/20181nannan', 'Border Patrol agent charged with capital murder in Texas, after telling investigators he killed four sex workers whom he considered worthless and that he thought he was performing a service for his Texas border hometown12/6/20181nannan', 'Tucker Carlson says Trump is ‘not capable’ and hasn’t kept his promises12/7/20180nannan', 'Renowned Chinese-American Stanford theoretical physicist Shoucheng Zhang who discovered a new state of matter called topological insulator, explained fractional quantum Hall effect and founded venture capital firm Danhua Capital dies at 5512/8/20182nannan', 'Dow falls 600 points after Trump advisers simultaneously contradict each other on trade12/8/20182nannan', '13-year-old student with autism dies after being physically restrained at school12/9/20182nannan', \"Trump 'at center of massive fraud against Americans', top Democrat says12/10/20181nannan\", 'Inslee, Governor of Washington State, wants 100 percent clean energy in Washington by 204512/11/20180nannan', \"Biden hits Sanders' home turf as he tests 2020 waters12/11/20180nannan\", 'Trump said he is not afraid of an impeachment12/12/20181nannan', 'Publisher of National Enquirer admits paying hush money to help Trump ahead of 2016 election12/13/20181nannan', 'National Debt Under Trump Is Surging at Its Fastest Pace Since 201212/13/20181nannan', 'Trump Inauguration Spending Under Criminal Investigation12/14/20180nannan', 'Alleged Russian spy Maria Butina pleads guilty to engaging in conspiracy against US12/14/20180nannan', \"Harvey Weinstein 'bragged of sex with Jennifer Lawrence', lawsuit alleges12/15/20182nannan\", 'Mobile billboard takes over the D.C. streets exposing “Net Neutrality Traitors” who have failed to support the Congressional Review Act12/15/20182nannan', 'Almost half of U.S. adults have seen a family member jailed, study shows -- About 6.5 million adults have an immediate family member incarcerated.12/19/20180nannan', 'An Epidemic Is Killing Thousands Of Coal Miners. Regulators Could Have Stopped It12/20/20180nannan', 'Staff at a bank in Ohio called police on a black man trying to cash his paycheck12/20/20180nannan', 'Trump signs farm bill that backs climate change programs, avoids food stamp cuts12/21/20180nannan', \"Man wrongfully convicted for doppelganger's crime awarded $1.1 million12/22/20182nannan\", \"Ruth Bader Ginsburg Eager to Hit the Gym After Cancer Surgery: 'When Can We Go Back to Training?'12/23/20182nannan\", 'Jennie-O Recalls More Than 164,000 Pounds of Ground Turkey12/24/20180nannan', 'President Donald Trump on Friday signed legislation ramping up quantum computing research and development: \"The National Quantum Initiative Act (H.R. 6227) authorizes $1.2 billion over five years for federal activities aimed at boosting investment in quantum information science\"12/25/20182nannan', \"Most people who sat out the 2018 elections now say they wish they'd voted12/29/20182nannan\"]\n"
          ],
          "name": "stdout"
        }
      ]
    },
    {
      "cell_type": "code",
      "metadata": {
        "id": "bf1UY7LsivXy",
        "colab_type": "code",
        "colab": {}
      },
      "source": [
        "from sklearn.feature_extraction.text import CountVectorizer"
      ],
      "execution_count": 0,
      "outputs": []
    },
    {
      "cell_type": "code",
      "metadata": {
        "id": "q63c6i7diwCh",
        "colab_type": "code",
        "colab": {}
      },
      "source": [
        "#countVectorizer - Python Sci-kit Learn library - sklearn has this tool\n",
        "#It counts the occurrences of the words in the document to be tested\n",
        "#mostly used in "
      ],
      "execution_count": 0,
      "outputs": []
    },
    {
      "cell_type": "code",
      "metadata": {
        "id": "GLXbagBMiViv",
        "colab_type": "code",
        "colab": {
          "base_uri": "https://localhost:8080/",
          "height": 34
        },
        "outputId": "e8f0a0af-842d-412a-f7e6-419099dc07e1"
      },
      "source": [
        "cv=CountVectorizer()\n",
        "cvtrain=cv.fit_transform(words)\n",
        "print(cvtrain.shape)"
      ],
      "execution_count": 52,
      "outputs": [
        {
          "output_type": "stream",
          "text": [
            "(700, 3739)\n"
          ],
          "name": "stdout"
        }
      ]
    },
    {
      "cell_type": "code",
      "metadata": {
        "id": "-ZR28kbjiw-p",
        "colab_type": "code",
        "colab": {}
      },
      "source": [
        "#logisticRegression\n",
        "#categorical usage"
      ],
      "execution_count": 0,
      "outputs": []
    },
    {
      "cell_type": "code",
      "metadata": {
        "id": "V79RvFnWoJgs",
        "colab_type": "code",
        "colab": {}
      },
      "source": [
        "from sklearn.linear_model import LogisticRegression"
      ],
      "execution_count": 0,
      "outputs": []
    },
    {
      "cell_type": "code",
      "metadata": {
        "id": "qQ9HMY15oLXR",
        "colab_type": "code",
        "colab": {}
      },
      "source": [
        "trainNews['Index']"
      ],
      "execution_count": 0,
      "outputs": []
    },
    {
      "cell_type": "code",
      "metadata": {
        "id": "Npy5StS9imUW",
        "colab_type": "code",
        "colab": {}
      },
      "source": [
        "lr=LogisticRegression()\n",
        "lr=lr.fit(cvtrain, trainNews[\"Label_News\"])"
      ],
      "execution_count": 0,
      "outputs": []
    },
    {
      "cell_type": "code",
      "metadata": {
        "id": "OZDJD1Pj1kgg",
        "colab_type": "code",
        "colab": {}
      },
      "source": [
        "testwords=[]\n",
        "for value in range(0, len(testNews.index)):\n",
        "  testwords.append(''.join(str(i) for i in testNews.iloc[value,1:50]))"
      ],
      "execution_count": 0,
      "outputs": []
    },
    {
      "cell_type": "code",
      "metadata": {
        "id": "NlbdLncY5jnT",
        "colab_type": "code",
        "colab": {
          "base_uri": "https://localhost:8080/",
          "height": 54
        },
        "outputId": "b4fc3ab0-ee29-490a-badb-a38987b237f8"
      },
      "source": [
        "print(testwords)"
      ],
      "execution_count": 67,
      "outputs": [
        {
          "output_type": "stream",
          "text": [
            "['People Should Wash Avocados, 17 Percent Have Listeria on Peel: FDA12/30/20182nannan', 'U.S. and Israel officially withdraw from UNESCO1/2/20191nannan', \"A man attacked a McDonald's employee over a straw and she fought back1/3/20190nannan\", 'Arkansas law requiring state contractors pledge not to boycott Israel has court challenge1/5/20192nannan', 'Trump freezes raises for Pence and Cabinet amid shutdown1/6/20192nannan', 'Muslim youth group cleans up national parks amid government shutdown1/7/20191nannan', 'Chicago Seized And Sold Nearly 50,000 Cars Over Tickets Since 2011, Sticking Owners With Debt1/8/20191nannan', 'Supreme Court will not intervene in Mueller grand-jury subpoena case1/9/20191nannan', 'Oil executive arrested for throwing Chihuahuas off balcony1/10/20191nannan', 'Due to TSA absences, Miami airport will temporarily close one terminal early for 3 days1/11/20191nannan', 'Florida pardons 4 black men accused of 1949 rape1/12/20192nannan', 'Trump bears most blame for shutdown1/13/20192nannan', 'Second U.S. judge blocks Trump administration birth control rules1/15/20191nannan', 'Air traffic controller union official says if shutdown continues there won’t be any workers left1/16/20191nannan', 'Judge Orders Trump Administration To Remove 2020 Census Citizenship Question1/16/20191nannan', \"Ocasio-Cortez rips Trump in first House floor speech: 'It is not normal to shut down the government when we don’t get what we want'1/17/20191nannan\", \"GOP Sen. Lindsey Graham says Trump canceling Pelosi's overseas trip was 'sophomoric' and 'inappropriate'1/18/20191nannan\", 'Feeling the heat: California’s biggest utility is in deep trouble -- PG&E’s role in starting wildfires could mean a break-up or even bankruptcy1/19/20192nannan', 'Record number of Native American legislators in Montana are making their presence felt1/20/20192nannan', \"Ruth Bader Ginsburg to Make Cameo Appearance in 'Lego Movie 2'1/20/20192nannan\", \"Maga hat boy's mother blames 'black Muslims' for her son harassing Native American man1/21/20192nannan\", 'Brutal Arctic blast overtakes eastern US with wind chill falling to -30 degrees in some areas1/22/20190nannan', 'Trump: No State of the Union during shutdown after being disinvited by Pelosi1/24/20190nannan', \"Michael Cohen postpones testimony 'after Donald Trump threatens his family'1/24/20190nannan\", \"A study says 'AI' to hit hardest in U.S. heartland and among less-skilled1/25/20191nannan\", \"Senate panel subpoenas Michael Cohen, President Trump's former lawyer1/25/20191nannan\", 'Government to be opened for 3 weeks in new bill1/26/20192nannan', 'Measles Outbreak Grows in Northwest US, 31 Cases Reported1/27/20192nannan', \"Scientists Create Liquid Fuel That Can Store The Sun's Energy For Up to 18 Years1/28/20190nannan\", 'Washington Governor Declares State of Emergency In All Counties1/28/20190nannan', 'NY Columbia Engineers translate brain signals directly into speech: This breakthrough, harnessing the power of speech synthesizers and artificial intelligence, could lead to new ways for computers to communicate directly with the brain. It lays the groundwork for helping people who cannot speak.1/30/20191nannan', 'Catholic Church in Texas Names Nearly 300 Priests Accused of Sex Abuse2/1/20191nannan', 'TAKEN: How police departments make millions by seizing property2/3/20192nannan', 'Smoking ban: Hawaii aims to ban cigarettes, tobacco with legislation2/5/20191nannan', 'Rough ride: Harley-Davidson brought low by tariffs and demographics -- Sales keep plunging in the home market2/8/20191nannan', \"Arizona's 'In God We Trust' license plates fund anti-LGBT group2/10/20192nannan\", 'Fox News host Pete Hegseth: \"Germs are not a real thing. I can\\'t see them; therefore, they\\'re not real.\"2/11/20190nannan', 'The Green New Deal wants America to invest in high-speed rail: The section of the FAQ on transportation calls to “build out high-speed rail at a scale where air travel stops becoming necessary.”2/11/20190nannan', 'L.A. to Abandon Plan to Invest Billions in Fossil Fuels: Mayor Garcetti2/13/20191nannan', 'In 2018, Amazon Made $11.2B In Profit Yet Paid $0 In Federal Taxes2/16/20192nannan', 'Trump Declares National Emergency to Build Border Wall2/16/20192nannan', 'Postal Service starts using all-electric vans in California2/18/20192nannan', 'Alabama senator calls for newspaper editor to resign following editorial that called for return of Ku Klux Klan2/19/20191nannan', 'In North Carolina, Investigators Find Ballot ‘Scheme’ in House Race2/19/20191nannan', 'Brothers say Jussie Smollett paid them to participate in alleged attack, source says2/19/20191nannan', 'Texas border agents stop truck carrying frozen strawberries, discover nearly $13M of meth2/21/20190nannan', \"America's food banks are full to bursting with all the meat and produce that normally would be exported to China, but are going unsold because of the trade war.2/21/20190nannan\", 'Bill would provide free ID card for homeless: \"A 2006 national survey conducted by the Brennan Center found that as many as 11 percent of Americans, or more than 21 million people, don’t have government-issued photo ID.\"2/25/20190nannan', 'Senators who received Big Money from Big Pharma will be slated to question company CEOs on Capital Hill today.2/26/20191nannan', \"Warren Buffett says the wealthy are 'undertaxed' compared with the rest of the US population2/26/20191nannan\", 'New Hampshire House Passes Marijuana Legalization Bill2/28/20190nannan', 'Resolution Would Claw Back Presidential Power From In Emergency Declarations3/1/20191nannan', \"As questions loom about Jared Kushner's security clearance, House committee says White House not cooperating in probe3/1/20191nannan\", 'Bill raising minimum age for marriage in Utah from 15 to 16 clears the House3/2/20192nannan', 'U.S. to end large-scale military drills with South Korea3/2/20192nannan', 'NASA’s Curiosity Rover Is Back To Work After Bizarre Glitch3/3/20192nannan', 'Actor Luke Perry dies after stroke at 523/5/20190nannan', 'Congress is finally going to pot: Bills to loosen marijuana laws are gaining traction in both parties3/6/20190nannan', 'Trump cheered Kraft’s team to Super Bowl victory with founder of spa where he was busted3/8/20191nannan', 'Cohen Sues Trump Organization, Saying He Was Denied $1.9 Million in Legal Fees After Cooperating With Prosecutors3/8/20191nannan', 'Unvaccinated student infects at least 21 people with measles in NYC3/9/20192nannan', 'Kansas doctor sentenced to life in prison for selling opioid prescriptions for cash3/10/20192nannan', 'School bus driver tells children ‘go f*** yourselves’ then abandons them at gas station3/10/20192nannan', 'Man comes forward with ANOTHER tape that appears to show R. Kelly sexually abusing girls3/11/20191nannan', 'No tetanus vaccine = nealy a million dollars and weeks of agony for child3/12/20190nannan', 'CDC reports 228 measles cases in 12 states3/13/20191nannan', '6th Circuit rules Ohio’s move to defund Planned Parenthood is constitutional, delivering blow to abortion advocates3/13/20191nannan', 'The College Admissions System Is a Scam In Itself3/14/20191nannan', \"US court: Sandy Hook victims' families can sue Remington3/15/20191nannan\", 'Disney rehires James Gunn for Guardians of the Galaxy 3 after firing him over old tweets3/16/20192nannan', 'Lori Loughlin and Felicity Huffman sued for $500bn in college cheating scam3/16/20192nannan', '320-pound woman gets life sentence for sitting on, smothering girl3/17/20192nannan', 'Dozens of black partygoers were arrested over less than an ounce of marijuana. Now they’re suing.3/18/20191nannan', 'King of surf guitar Dick Dale dead at 813/18/20191nannan', 'California National Guard to leave border, help stop fires3/20/20190nannan', 'U.S. jury rules against Bayer in Roundup cancer case3/20/20190nannan', 'Man stole $122m from Facebook and Google by sending them random bills, which the companies dutifully paid3/25/20191nannan', 'New York county declares measles outbreak emergency3/27/20190nannan', 'NY County Bans Unvaccinated Kids From Public Over Measles3/27/20190nannan', \"Average Americans can't afford a home in 70 percent of the country3/28/20191nannan\", 'Half of Older Americans Have Nothing in Retirement Savings3/28/20191nannan', \"U.S. lawmakers introduce bill to stop NSA's mass data collection3/29/20191nannan\", \"Thousands of US bridges are 'structurally deficient,' industry group says4/2/20190nannan\", 'Apple employee detained by US border agents over his iPhone and laptop speaks out4/6/20192nannan', 'Mueller report: Senate Republicans keep blocking a resolution to make the report public4/6/20192nannan', 'Motel 6 will pay $12 million after several locations gave their guest lists to ICE4/8/20191nannan', 'Secret Service director out less than 24 hours after DHS secretary resigns4/9/20190nannan', 'Actress Felicity Huffman has agreed to plead guilty in the college admissions cheating scandal.4/9/20190nannan', \"Sen. Grassley: Pharmacy 'middlemen' hearing should lead to a bill to end drug industry 'secrecy'4/10/20190nannan\", 'New York City Council passes ban on pre-employment marijuana testing4/12/20191nannan', 'Kentucky Republicans Worried Inviting AOC to Meet with Coal Miners Might Backfire4/17/20190nannan', 'Denver may become the first US city to decriminalize psychedelic mushrooms4/18/20191nannan', '60 doctors, pharmacists charged in largest US opioid prescription bust4/18/20191nannan', \"Broward County, FL Sheriff's Office beating high school students..4/19/20192nannan\", 'Church Membership in US Has Plummeted in 20 Years4/19/20192nannan', '70% of Wall Street thinks Trump will be reelected in 20204/20/20192nannan', 'KKK leader’s wife admits to killing her husband4/21/20192nannan', 'California just made more clean energy than it needed – pv magazine USA4/23/20191nannan', 'American millennials have less money than other generations did at their age — but studies show an alarming amount of them have delusional ideas about their wealth4/24/20190nannan', 'Student Loans are Destroying Millennials’ Homeownership Ambitions4/24/20190nannan', 'Proposed bill would fine $10K per robocall4/27/20192nannan', 'An Apple lobbyist just sneakily pushed California to postpone its right-to-repair bill5/2/20190nannan', 'About 13m US children are living below the poverty line, rights group reveals5/3/20191nannan', 'By one vote, Minnesota House moves to ban wolf hunting – Twin Cities5/3/20191nannan', 'Joe Biden says he ‘doesn’t have time’ to lay out his healthcare plan5/5/20192nannan', 'As legal marijuana booms, Denver votes on decriminalizing hallucinogenic mushrooms - The Washington Post5/6/20191nannan', \"A 'Caravan' of Americans Is Crossing the Canadian Border to Get Affordable Medical Care5/8/20191nannan\", 'Georgia state abortion law fuels Hollywood boycott call5/12/20192nannan', 'Fourth-largest coal producer in the US files for bankruptcy5/15/20191nannan', \"Nation's oldest Medal of Honor recipient, who fell on German grenade, dies at 985/15/20191nannan\", 'Tribes across country push for better internet access5/16/20191nannan', 'Trump loses lawsuit challenging subpoena for financial records5/21/20191nannan', 'Fifty children saved as international paedophile ring busted5/24/20191nannan', 'Jessica Chastain and Sophie Turner vow to boycott US states with strict abortion laws5/29/20190nannan', 'Riley Howell, the student who died while tackling a gunman, just received a Purple Heart and Bronze Star5/29/20190nannan', 'Louisiana passes fetal heartbeat abortion ban, Democratic governor says he will sign into law5/30/20191nannan', 'Ted Cruz And Alexandria Ocasio-Cortez Make Pact To Address Lobbying6/1/20192nannan', 'Dallas police ask for FBI help after third transgender woman murdered6/4/20191nannan', 'Colorado Gov Polis unveils roadmap to 100% carbon free by 2040, signs 11 clean energy bills6/4/20191nannan', 'Undercover Group Exposes Fairlife Dairy(Coca-Cola Partner) Animal Cruelty6/5/20191nannan', 'More Than 2,300 Suspected Online Child Sex Offenders Arrested During Operation “Broken Heart”6/12/20190nannan', 'AOC’s push to ease limits on psychedelic research advances in House6/12/20190nannan', \"Republicans join Democrats to rebuke Trump's 'emergency' $8B arms sale to Saudis, Emiratis6/13/20191nannan\", 'Jay-Z Hires Lawyer For Black Family Held At Gunpoint By Phoenix Police Dept.6/18/20191nannan', 'Cancer-Causing Ingredient in Weedkiller Found in Cheerios6/20/20191nannan', 'Senate Decriminalizes Marijuana Use In New York State6/22/20192nannan', 'Johnson & Johnson faces multibillion opioids lawsuit that could upend big pharma6/23/20192nannan', 'Human trafficking in America among worst in world: report6/25/20190nannan', 'City of El Paso penalizes Trump campaign nearly $100K for unpaid bill6/26/20190nannan', 'Charlottesville car rammer James Alex Fields sentenced to life in prison6/29/20192nannan', 'Piles of poop, litter on trails, trampled wildflowers. In the social-media era, Washington’s public lands are being destroyed. What can be done?6/30/20192nannan', 'Park Service diverts $2.5 million in fees for Trump’s Fourth of July extravaganza7/4/20192nannan', '25 Dallas police officers are under investigation for allegedly posting racist and violent content on social media7/6/20192nannan', 'Billionaire sex offender Jeffrey Epstein arrested for alleged sex trafficking7/7/20192nannan', 'Louisiana: Woman found dead in trunk of car was founder of Baton Rouge African American history museum7/14/20192nannan', 'Ted Lieu: I have served in the Air Force and in Congress. People still tell me to ‘go back’ to China.7/17/20190nannan', 'In lopsided vote, House kills effort to impeach Trump -- The measure was being pushed by Texas Rep. Al Green, who says the president is unfit for office7/18/20191nannan', 'DEA Database Reveals Anti-Cannabis Utah Senate Majority Leader is County’s Largest Opiate Dealer7/23/20191nannan', 'Jeffrey Epstein found injured in New York jail cell7/25/20190nannan', 'Vehicle plows through crowd of peaceful protesters gathered at anti-violence rally in Wisconsin8/4/20192nannan', 'Mother of El Paso shooter called police about son owning assault rifle: Lawyers8/8/20191nannan', 'Jeffrey Epstein, accused sex trafficker, dies by suicide: Officials8/10/20192nannan', \"42% of Americans say they can't afford a vacation8/14/20190nannan\", \"It's raining plastic: microscopic fibers fall from the sky in Rocky Mountains8/14/20190nannan\", 'WaPo Reports Autopsy of Jeffrey Epstein’s Body Found Multiple Neck Bone Fractures8/15/20191nannan', 'Happy 73rd Anniversary President Jimmy and Rosalynn Carter8/17/20192nannan', \"Indiana Cyanide Leak Kills 3,000 Fish and Shut Down Beaches at America's Newest National Park8/21/20191nannan\", 'Oklahoma judge orders Johnson & Johnson to pay $572M in opioid suit8/27/20190nannan', 'Children of US Troops Born Overseas Will No Longer Get Automatic American Citizenship8/29/20191nannan', '$58,000 reward offered after more than 40 wild burros found shot dead in the Mojave Desert9/1/20192nannan', '14-year-old boy confesses to killing all 5 family members in home: Authorities9/4/20191nannan', 'Marijuana use by US college students up, highest in 35 years9/6/20191nannan', 'Supreme Court allows Trump administration to enforce toughest restriction yet on migrant asylum requests9/12/20190nannan', 'Eddie Money, ‘Two Tickets to Paradise’ Singer, Dies at 709/13/20191nannan', 'Whole Foods to cut healthcare for 1,900 part-time employees in 20209/13/20191nannan', 'Medicare for All Would Cut Poverty by Over 20 Percent9/13/20191nannan', '8 Years of Trump Tax Returns Are Subpoenaed by Manhattan D.A.9/17/20191nannan', 'Colt suspends production of AR-15 for civilian market9/20/20190nannan', 'Unvaccinated Children Are Now Barred From Going To School In New York — And Their Anti-Vax Parents Are Really Mad9/21/20192nannan', 'NY schools beginning to bar unvaccinated students from class9/23/20191nannan', 'Democrats launch Trump impeachment inquiry9/25/20191nannan', 'Speaker Nancy Pelosi to announce formal impeachment inquiry of President Trump9/25/20191nannan', 'House approves marijuana banking bill in historic vote!9/26/20190nannan', 'White students called a 10-year-old black girl the N-word as they beat her up on a bus, court documents say9/28/20192nannan', 'Texas deputy who wore Sikh turban and beard on the job killed during traffic stop9/28/20192nannan', 'Attorney General Barr personally asked foreign officials to aid inquiry into CIA, FBI activities in 201610/1/20190nannan', 'Americans Spent More on Taxes in 2018 Than on Food, Clothing and Health Care Combined10/2/20190nannan', 'Nearly 3 Billion Birds Gone -- A new study finds steep, long-term losses across virtually all groups of birds in the U.S. and Canada10/5/20192nannan', 'The Rich Really Do Pay Lower Taxes Than You10/8/20190nannan', 'Ted Cruz, Alexandria Ocasio-Cortez co-sign Congressional request that NBA suspend activities in China10/10/20191nannan', 'Officer seen on bodycam shooting, killing woman in her own home10/13/20192nannan', \"Opinion: LeBron James undermines values he's espoused in most disgraceful moment of career10/15/20191nannan\", \"Andrew Yang bashes Elizabeth Warren wealth tax, arguing it didn't work in Europe10/16/20191nannan\", 'Panama Papers law firm founders ‘investigated by the FBI’10/17/20190nannan', 'High school security guard fired for telling student not to call him the N-word10/19/20192nannan', 'Youth suicide rates are on the rise in the U.S. | No racial or ethnic group has been spared in this rising rate among young Americans, according to federal data.10/21/20190nannan', 'Google accused of spying with new tool that flags large employee meetings10/24/20190nannan', \"California plans to end 'lunch shaming' with a new bill that guarantees meals for all students10/24/20190nannan\", 'Family of British teen killed in collision with wife of US diplomat to sue Trump administration10/30/20191nannan', '$16.8 Million In Campaign Funds Went To Trump Businesses, Latest Records Reveal When the president holds a fundraiser at one of his properties, he gets donations while his business collects money for rent and catering. By Mary Papenfuss, HuffPost US Oct. 29, 201910/31/20190nannan', 'Keystone oil pipeline leaks 383,000 gallons in North Dakota11/1/20191nannan', \"'Our task was to set Americans against their own government': New details emerge about Russia's trolling operation Sonam Sheth Oct 17, 2017, 5:26 PM11/2/20192nannan\", 'A Michigan Man Underpaid His Property Taxes By $8.41. The County Seized His Property, Sold It—and Kept the Profits.11/6/20190nannan', 'ABC News Anchor Caught on Hot Mic Saying Network Spiked Jeffrey Epstein Story11/6/20190nannan', 'Georgia State Lawmaker Proposes Making Gender Transition Surgery for Minors a Felony BY MATT MARGOLIS OCTOBER 31, 201911/7/20191nannan', 'Stop Trying to Raise Successful Kids And start raising kind ones.11/9/20192nannan', 'Principal who banned gay books charged with child pornography11/14/20191nannan', 'Marijuana reform bill MORE Act of 2019 passes in historic vote11/21/20190nannan', 'Indiana church wipes out $7.8 million in medical debt for nearly 6,000 families11/24/20192nannan', 'Phoenix to stop using red-light, speed-enforcement cameras11/25/20191nannan', 'Animal cruelty is now a federal felony in the U.S.11/27/20191nannan', 'In a huge blow to Trump, the DOJ watchdog found no evidence to support the claim that the FBI spied on his 2016 campaign11/28/20192nannan', 'spill from the Keystone Pipeline nearly a month ago was roughly 10 times larger than first reported, officials now say11/30/20192nannan', 'Televangelist Acton Bowen Pleads Guilty To Sexually Abusing Multiple Children DECEMBER 2, 2019 BY MICHAEL STONE12/3/20191nannan', 'Body camera video shows California Police Officer shoot, kill 15-year-old boy without any verbal warning12/6/20191nannan', 'Far-Right Terrorism Has Increased 320 Percent in Just 4 Years, Extremism Watchdog Warns12/8/20192nannan', 'Female TV reporter seeks criminal charges against man who slapped her backside on camera12/12/20191nannan', \"How robocalls became America's most prevalent crime -- Today, half of all phone calls are automated scams.12/13/20191nannan\", '‘Nobody is above the law’: Americans take to streets in support of Trump impeachment12/19/20191nannan', 'Sex-trafficking victim faces life in jail for killing her rapist Brad Hunter Dec. 18, 201912/20/20190nannan', 'US raises tobacco and e-cigarette purchase age from 18 to 2112/21/20192nannan', \"Poll: Majority approves of Trump's impeachment12/23/20191nannan\", 'Senate confirms avalanche of Trump-backed judges despite impeachment12/30/20190nannan', '#PresidentSanders trends as Vermont senator reportedly leads Democratic fundraising race12/31/20191nannan', 'Army bans TikTok following guidance from the Pentagon1/2/20201nannan', 'Emails show Pentagon warned Trump Ukraine aid freeze broke the law1/3/20201nannan', \"Flashback: Trump Warned That a 'Weak' and 'Ineffective' President Would Start a War With Iran to 'Get Re-elected'1/4/20202nannan\", 'President Donald Trump advised all Americans to flee Iran immediately1/4/20202nannan', \"The Anarchist Daughter of the GOP's Gerrymandering Mastermind Just Dumped His Maps and Files on Google Drive1/7/20200nannan\", \"House to vote to limit Trump's military action against Iran without congressional approval1/10/20200nannan\", 'Video in apparent Epstein suicide attempt is lost, US says1/11/20202nannan', \"A man in Seattle killed himself thinking that he hurt someone. A cop's lie led to his death, watchdog says1/12/20202nannan\", 'Fact Check: Joe Biden Has Advocated Cutting Social Security for 40 Years1/14/20201nannan', 'Army Veteran Has Prosthetic Legs Repossessed After VA Refuses to Pay for Them1/14/20201nannan', 'At the Iowa Debate, Bernie Sanders’s Most Vociferous Opponent Was CNN1/15/20201nannan', 'Wisconsin pastor worries some congregation members worship Trump more than Jesus1/16/20201nannan', \"Jewish Democratic group: Trump's school prayer push is an attack on church-state separation1/18/20202nannan\", 'FBI: Saudi government almost certainly helps its citizens escape prosecution in US for serious crimes1/19/20202nannan', 'America has spent $6.4 trillion on wars in the Middle East and Asia since 2001, a new study says1/21/20200nannan', 'U.S. Supreme Court lets Flint, Michigan residents sue over water contamination1/22/20200nannan', 'New Jersey becomes first state to guarantee severance pay for mass layoffs1/23/20200nannan', 'Kobe Bryant and four others died today in a Helicopter Crash1/27/20200nannan', 'Chipotle Fined $1.3 Million for More Than 13,000 Child Labor Violations1/29/20200nannan', 'Head of Harvard’s chemistry department arrested for lying about work with China1/30/20201nannan', \"Exclusive Poll: 80% of Young Voters Think 'Global Warming Is a Major Threat to Life as We Know It'1/31/20200nannan\", 'Rick Scott accused of erasing evidence in nursing home deaths2/1/20200nannan', \"Stable genius Trump congratulates wrong state for Kansas City Chiefs' Super Bowl win2/3/20201nannan\", \"Kansas City Chiefs' Derrick Nnadi celebrates Super Bowl win by paying off KC Pet Project animal shelter adoption fees2/4/20201nannan\", 'State of the Union: Parkland father Fred Guttenberg ejected for yelling out as Trump touted Second Amendment rights2/5/20201nannan', 'Amazon paid a 1.2% tax rate on $13,285,000,000 in profit for 20192/6/20200nannan', 'Arizona Quietly Sells 16,810 Acres to Freeport-McMoRan for Mining Waste2/7/20200nannan', 'Facebook Hires Fox News Producer Who Has Poisoned Boomer Brains for Years2/8/20202nannan', \"Trump's Trade War Will Cost Average Family $1,277 This Year, Budget Office Reveals2/9/20202nannan\", 'Single-payer system could save US $600 billion in administrative costs2/9/20202nannan', 'Oklahoma inmate died after pleas for help, many caught on video, were ignored for days, suit says2/10/20201nannan', '14 more U.S. troops diagnosed with brain injury following Iranian missile attack2/10/20201nannan', 'Young, liberal voters made the difference for Bernie Sanders2/12/20201nannan', 'Mike Bloomberg once blamed banks making loans to black Americans as the cause of the 2008 financial crash2/14/20200nannan', 'Bernie Sanders surges to a 15 point lead over Biden, Bloomberg2/19/20201nannan', \"Over 1,000 veterans speak out over Trump's 'sustained attacks' on Vindman2/20/20200nannan\", 'Bernie Sanders releases plan for guaranteed child care and pre-K2/24/20200nannan', \"Bernie Sanders Is Right: 'Medicare For All' Is Best For US, Scientific Studies Confirm2/25/20200nannan\", 'Sanders most searched, most tweeted about candidate during Democratic debate2/26/20200nannan', \"US coronavirus tests are faulty and 'cannot be relied upon', New York says2/29/20202nannan\", '🇨🇳 Uyghurs being used as forced labor for 80+ brands, many of them American. Including Apple, Amazon, Nike, GM, Google and others...3/1/20202nannan', 'Bernie Sanders Leads Trump, All 2020 Candidates in Donations From Active-Duty Troops3/1/20202nannan', 'Alaska Officials Angered, Alarmed By JP Morgan Chase’s Refusal To Finance Arctic Oil Projects: “JPMorgan Chase is expanding its commitment to a low-carbon economy and further supporting the clean energy transition,” the bank said.3/2/20201nannan', 'Pete Buttigieg is dropping out of the presidential race3/2/20201nannan', \"Man Hacks Into A Scammer's CCTV And Watches How A Tech Support Scam Unfolds While He's On The Phone With Them3/3/20200nannan\", 'Greenpeace Gives Joe Biden a D- on Climate Change Report Card3/5/20200nannan', 'Andrew Yang launches nonprofit aimed at making his former campaign\\'s ideas a reality, also launches podcast: \"Our campaign grew so much because we had a clearer diagnosis of the problems that face our country and a real vision for how to solve them,\" Yang said in a statement.3/6/20201nannan', 'US Holocaust Museum Labels China’s Persecution of Uyghurs in Xinjiang ‘Crimes Against Humanity’3/7/20202nannan', \"Our nation's capital, the District of Colombia, has the first positive case of coronavirus.3/8/20202nannan\", \"The U.S. doesn't have enough ICU beds or ventilators to deal with even a moderate coronavirus outbreak3/9/20200nannan\", 'Virginia lawmakers vote to decriminalize marijuana, set $25 civil penalty for possession3/10/20201nannan', 'White House told federal health agency to classify coronavirus deliberations3/12/20200nannan', 'Coronavirus forces NCAA to cancel March Madness basketball tournaments3/13/20201nannan', 'Former Judge Resigns From the Supreme Court Bar3/14/20202nannan', 'Ivanka Trump works from home after interacting with official who tested for coronavirus3/14/20202nannan', 'The TSA Now Allows 12oz of Hand Sanitizer in Carry-On Luggage3/15/20202nannan', 'Maryland man fatally shot by police while asleep in his bedroom | US news3/15/20202nannan', 'Coronavirus: US man who stockpiled hand sanitiser probed for price gouging3/16/20200nannan', 'CDC recommends the cancellation of events with 50 or more people for the next eight weeks throughout US3/16/20200nannan', 'We need Ventilators — We Need You to Help Get Them Built3/17/20201nannan', 'White House Wants to Send Individual $1,000 Stimulus Checks Now3/18/20200nannan', 'Amazon closed its warehouse in Queens, NY after a worker tested positive for coronavirus3/19/20201nannan', 'Senate approves coronavirus bill for sick leave, free testing. Bill now goes to Trump’s desk3/19/20201nannan', 'GOP senators sold off their stocks ahead of coronavirus economic crash, reports say3/20/20200nannan', \"Sen. Kelly Loeffler reportedly 'dumped millions' in stock before coronavirus tanked markets3/20/20200nannan\", 'Woman who flew from U.S. to China for Coronavirus test faces criminal charges: A woman who flew from Massachusetts to Los Angeles — then to Beijing, where she tested positive — is under investigation on allegations of concealing her symptoms and putting fellow travelers at risk of infection.3/20/20200nannan', 'Sens. Dianne Feinstein, Jim Inhofe made stock trades before coronavirus pandemic3/21/20202nannan', 'Washington Post: US intelligence warned Trump in January and February as he dismissed coronavirus threat3/22/20202nannan', 'This 39-year-old New Orleans woman tested for coronavirus. She died before getting her results.3/22/20202nannan', 'College students in Florida test positive for coronavirus after spring break trip3/23/20200nannan', 'Hospitals Need to Repair Ventilators. Manufacturers Are Making That Impossible3/23/20200nannan', \"Tito’s vodka will make hand sanitizer during coronavirus pandemic. 'Currently, we are testing our formula, procuring necessary components of supplies and packaging, and preparing for production as we wait for the additional required ingredients to be delivered to the distillery,' the company said.3/24/20201nannan\", \"Hanes will start making masks. 'Hanes expects to ramp up to production of 1.5 million masks weekly, and the consortium of companies it has joined, led by Parkdale Mills America expected to ramp up to production of 5 million to 6 million masks weekly using HanesBrands’ design and patterns'3/24/20201nannan\", \"The US is confronting coronavirus without the CDC. It's 'like fighting with one hand tied behind your back,' ex-director says.3/25/20201nannan\", 'Exclusive: U.S. slashed CDC staff inside China prior to coronavirus outbreak3/26/20201nannan', 'Missouri loosens testing criteria for COVID-19, opening door for more sick people to get tests3/26/20201nannan', 'Trump’s campaign is trying to remove a video of him appearing to call the coronavirus a ‘hoax,’ saying it’s misleading3/27/20200nannan', 'Teenage boy whose death was linked to coronavirus turned away from urgent care for not having insurance3/28/20202nannan', 'Most Americans favor a national shutdown: Poll3/28/20202nannan', 'CDC to public: Do not take chemicals containing chloroquine phosphate for COVID-193/29/20202nannan', \"Fox Business parts ways with Trish Regan, host who dismissed coronavirus as 'impeachment scam'3/29/20202nannan\", 'Swastikas spray-painted at Bernie Sanders campaign office in Florida3/29/20202nannan', 'It Should Terrify You That Senators Are Dumb Enough To Think No One Would Notice Them Dumping Their Stocks3/30/20201nannan', \"Video emerges showing Trump talking about cutting pandemic team in 2018, despite saying last week 'I didn't know about it'3/30/20201nannan\", \"Cuomo and New York hospitals reject Trump's claim masks 'going out the back door' - The president offered no evidence to back his suggestion of something nefarious.3/31/20200nannan\", \"Bill Gates calls for nationwide shutdown: 'Shutdown anywhere means shutdown everywhere'4/1/20200nannan\", 'Doctor’s firing in coronavirus crisis shows a failure of corporate medicine4/1/20200nannan', \"Bernie Sanders calls on Wisconsin to delay primary so people don't 'risk their lives' to vote4/2/20201nannan\", 'Taiwan to donate 2M hospital masks to United States4/2/20201nannan', 'More than 1,000 in US die in a single day from coronavirus, doubling the worst daily death toll of the flu4/2/20201nannan', 'Most believe stopping virus is larger priority than saving economy: poll4/3/20200nannan', 'U.S. Navy relieves aircraft carrier commander who wrote letter urging coronavirus action4/3/20200nannan', 'NYC coronavirus first responders sleeping in cars for fear of infecting loved ones4/3/20200nannan', 'Trump fires intelligence community inspector general who flagged Ukraine whistleblower complaint4/4/20202nannan', \"Fact-check: Trump says some states aren't in jeopardy from the virus, denies saying it would go away by April4/5/20202nannan\"]\n"
          ],
          "name": "stdout"
        }
      ]
    },
    {
      "cell_type": "code",
      "metadata": {
        "id": "WluIcqK_1-NU",
        "colab_type": "code",
        "colab": {}
      },
      "source": [
        "cvtest=cv.transform(testwords)"
      ],
      "execution_count": 0,
      "outputs": []
    },
    {
      "cell_type": "code",
      "metadata": {
        "id": "ATsGbDIy2lA9",
        "colab_type": "code",
        "colab": {
          "base_uri": "https://localhost:8080/",
          "height": 170
        },
        "outputId": "cf2a954e-160c-424e-b913-11cf918a3cc4"
      },
      "source": [
        "prediction=lr.predict(cvtest)\n",
        "print(prediction)"
      ],
      "execution_count": 69,
      "outputs": [
        {
          "output_type": "stream",
          "text": [
            "[2 0 0 0 0 0 1 1 0 0 0 1 1 0 1 1 0 1 0 1 0 1 1 0 0 1 2 0 2 0 0 1 0 1 0 1 2\n",
            " 1 1 2 1 1 2 2 2 0 0 0 2 1 1 1 0 2 1 1 0 1 1 1 1 2 1 1 0 2 1 1 1 0 0 1 0 1\n",
            " 1 1 0 1 1 0 2 0 0 0 1 2 0 1 1 1 1 1 1 1 1 0 0 1 0 0 1 1 1 2 0 1 1 0 0 0 2\n",
            " 2 1 1 0 0 1 0 2 0 1 1 1 2 0 1 1 0 1 0 0 0 0 1 0 1 2 1 0 0 0 0 0 1 0 1 0 1\n",
            " 0 0 0 1 1 2 2 0 0 0 2 1 0 0 1 1 1 0 0 1 1 2 0 1 1 0 2 0 0 2 0 0 2 1 0 0 0\n",
            " 2 1 0 2 0 1 0 1 0 0 1 1 0 2 1 1 1 0 0 1 1 1 1 0 1 0 2 0 1 1 1 1 0 0 1 1 1\n",
            " 0 0 2 0 1 0 0 1 1 0 1 1 0 0 1 1 1 1 0 2 1 0 0 1 1 1 0 1 2 0 1 1 2 1 1 1 0\n",
            " 0 0 2 2 1 1 2 2 0 0 2 0 1 1 2 1 1 0 0 2 2 1 2 0 2 0 1 0 0 0 0 0 1 1 1 1 0\n",
            " 2 1 1]\n"
          ],
          "name": "stdout"
        }
      ]
    },
    {
      "cell_type": "code",
      "metadata": {
        "id": "A5ELpvj2292q",
        "colab_type": "code",
        "colab": {}
      },
      "source": [
        "from sklearn.metrics import accuracy_score, confusion_matrix"
      ],
      "execution_count": 0,
      "outputs": []
    },
    {
      "cell_type": "code",
      "metadata": {
        "id": "ZxBfOjpI2vbj",
        "colab_type": "code",
        "colab": {
          "base_uri": "https://localhost:8080/",
          "height": 34
        },
        "outputId": "8df1d638-e19b-471e-ca09-2be84bef2535"
      },
      "source": [
        "accuracy=accuracy_score(testNews[\"Label_News\"],prediction)\n",
        "print(\"Accuracy LR\", accuracy)"
      ],
      "execution_count": 86,
      "outputs": [
        {
          "output_type": "stream",
          "text": [
            "Accuracy LR 0.4080267558528428\n"
          ],
          "name": "stdout"
        }
      ]
    },
    {
      "cell_type": "code",
      "metadata": {
        "id": "6bualVw64Jyg",
        "colab_type": "code",
        "colab": {
          "base_uri": "https://localhost:8080/",
          "height": 54
        },
        "outputId": "08385927-2b87-460e-8c71-10d7ed739574"
      },
      "source": [
        "print(cv.vocabulary_)"
      ],
      "execution_count": 74,
      "outputs": [
        {
          "output_type": "stream",
          "text": [
            "{'two': 3456, 'cops': 825, 'taser': 3269, 'black': 473, 'man': 2005, 'trying': 3430, 'to': 3358, 'pick': 2429, 'up': 3492, 'his': 1570, 'kids': 1825, 'from': 1372, 'school': 2901, 'in': 1664, 'minnesota': 2118, 'for': 1344, 'doing': 1046, 'nothing': 2243, 'wrong8': 3701, '30': 81, '20142nannan': 47, 'video': 3541, 'shows': 3016, 'trooper': 3421, 'shoot': 2996, 'unarmed': 3461, 'cooperative': 823, 'man9': 2006, '25': 71, '20140nannan': 46, 'unintelligent': 3474, 'blacks': 474, 'brainwashed': 521, 'choose': 688, 'street': 3183, 'cred': 858, 'over': 2329, 'success': 3202, 'charles': 668, 'barkley10': 405, '26': 73, 'netflix': 2213, 'is': 1745, 'planning': 2449, 'put': 2622, 'an': 275, 'end': 1148, 'geographical': 1403, 'blocking1': 481, '22': 67, '20151nannan': 50, 'measles': 2054, 'returns': 2769, 'of': 2265, 'vaccines': 3515, 'and': 278, 'vacuous': 3516, 'starlets': 3140, 'rise': 2797, 'anti': 292, 'vaccine': 3514, 'sentiment': 2960, 'has': 1507, 'everyone': 1194, 'at': 351, 'risk1': 2800, '20150nannan': 49, 'ellen': 1131, 'pao': 2348, 'husband': 1630, 'accused': 158, 'cheating': 670, 'massachusetts': 2034, 'louisiana': 1978, 'firefighters': 1310, 'out': 2317, 'more': 2150, 'than': 3306, '100': 2, 'million': 2102, 'not': 2242, 'paying': 2385, 'close': 728, 'taxes': 3274, '12': 10, 'judge': 1792, 'rules': 2832, 'must': 2179, 'pay': 2380, '276': 75, '000': 0, 'kleiner': 1838, 'perkins': 2407, 'reimburse': 2696, 'the': 3310, 'venture': 3527, 'capital': 606, 'firm': 1313, 'its': 1754, 'expenses': 1208, 'during': 1099, 'five': 1320, 'week': 3619, 'trial6': 3412, '18': 23, 'supreme': 3225, 'court': 847, 'declares': 940, 'same': 2863, 'sex': 2978, 'marriage': 2026, 'legal': 1918, 'all': 245, '50': 99, 'states6': 3147, 'too': 3365, 'much': 2166, 'praise': 2520, 'promotes': 2581, 'narcissism': 2186, 'first': 1315, 'longitudinal': 1968, 'study': 3194, 'children': 683, 'supports': 3222, 'theory': 3320, 'that': 3309, 'parents': 2355, 'with': 3670, 'unrealistically': 3484, 'positive': 2500, 'views': 3544, 'their': 3312, 'foster': 1351, 'narcissistic': 2187, 'qualities7': 2626, '20152nannan': 51, 'police': 2474, 'are': 316, 'killing': 1830, 'native': 2195, 'americans': 270, 'higher': 1552, 'rate': 2653, 'any': 296, 'race': 2634, 'nobody': 2237, 'talking': 3259, 'about': 142, 'it8': 1753, 'kill': 1827, 'white': 3646, 'teen': 3282, 'silence': 3031, 'raises': 2643, 'questions8': 2632, 'coddling': 741, 'american': 269, 'mind': 2111, 'name': 2184, 'emotional': 1141, 'well': 3632, 'being': 434, 'college': 746, 'students': 3193, 'increasingly': 1673, 'demanding': 960, 'protection': 2594, 'words': 3681, 'ideas': 1637, 'they': 3322, 'don': 1050, 'like': 1946, 'here': 1544, 'why': 3650, 'disastrous': 1016, 'education': 1112, 'mental': 2079, 'health': 1522, '11': 5, 'family': 1247, 'values': 3518, 'activist': 169, 'josh': 1788, 'duggar': 1096, 'had': 1482, 'paid': 2339, 'ashley': 337, 'madison': 1991, 'account8': 155, '20': 36, 'cameraman': 581, 'reporter': 2732, 'shot': 3007, 'live': 1951, 'interview': 1724, 'gunman': 1470, 'on': 2291, 'run8': 2838, 'hero': 1546, 'army': 325, 'veteran': 3532, 'who': 3647, 'was': 3596, 'times': 3354, 'as': 335, 'he': 1516, 'charged': 662, 'oregon': 2310, 'shooter': 2997, '10': 1, 'animal': 280, 'cruelty': 873, 'group': 1457, 'says': 2884, 'it': 1751, 'secretly': 2933, 'recorded': 2674, 'tyson': 3458, 'foods': 1341, 'workers': 3686, 'punching': 2612, 'throwing': 3343, 'pulling': 2609, 'heads': 1520, 'off': 2266, 'broiler': 540, 'chickens': 680, 'one': 2294, 'mega': 2067, 'meat': 2056, 'producer': 2563, 'plants': 2455, 'mississippi': 2128, 'where': 3642, 'slaughtered': 3047, 'each': 1102, '29': 78, 'again': 206, 'nsa': 2249, 'spy': 3120, 'you': 3727, 'because': 424, 'congress': 787, 'ok10': 2286, 'new': 2218, 'poll': 2485, '60': 106, 'think': 3325, 'hillary': 1557, 'clinton': 724, 'untrustworthy': 3489, 'dishonest11': 1028, 'supremacists': 3224, 'terror': 3296, 'plot11': 2465, '17': 21, 'maine': 1996, 'wants': 3584, 'candy': 598, 'soda': 3067, 'excluded': 1198, 'food': 1340, 'stamps11': 3132, '27': 74, 'leaked': 1905, 'documents': 1041, 'reveal': 2770, 'dothan': 1061, 'department': 973, 'planted': 2453, 'drugs': 1092, 'young': 3728, 'men': 2077, 'years': 3716, 'district': 1035, 'attorney': 357, 'doug': 1063, 'valeska': 3517, 'complicit12': 774, 'cop': 824, 'ruthlessly': 2849, 'beats': 422, 'k9': 1804, 'dog': 1044, 'picks': 2431, 'rams': 2646, 'body': 491, 'into': 1725, 'ground12': 1456, '24': 70, 'california': 573, 'law': 1878, 'allowing': 254, 'seizure': 2942, 'guns': 1472, 'without': 3673, 'notice': 2244, 'begins': 432, 'jan': 1764, '112': 7, 'adds': 182, '65': 113, 'jobs': 1781, '2015': 48, '2nd': 80, 'best': 448, 'year': 3711, 'since': 3034, '19991': 33, '20160nannan': 53, 'according': 151, 'congressional': 789, 'reports': 2733, 'taxpayers': 3275, 'have': 1511, 'given': 1416, 'pakistan': 2343, 'least': 1911, 'eighteen': 1120, 'billion': 461, 'dollars': 1048, 'military': 2099, 'last': 1868, 'alone': 256, 'gave': 1395, '20161nannan': 54, 'tomatoes': 3364, 'donald': 1051, 'trump': 3425, 'iowa': 1741, 'city': 704, 'stop1': 3171, '28': 76, 'msnbc': 2165, 'cuts': 886, 'away': 370, 'bernie': 445, 'sanders': 2865, 'condemns': 780, 'trans': 3401, 'pacific': 2336, 'partnership2': 2363, 'ku': 1848, 'klux': 1839, 'klan': 1837, 'rally': 2644, 'anaheim': 276, 'erupts': 1181, 'violence': 3547, 'three': 3338, 'stabbed2': 3124, '20162nannan': 55, 'ny': 2257, 'us': 3498, 'cannot': 601, 'make': 1998, 'apple': 308, 'provide': 2600, 'iphone': 1742, 'data3': 910, 'nsfw': 2250, 'hand': 1490, 'gun': 1468, 'intentionally': 1715, 'walks': 3580, 'owner': 2334, 'stops': 3175, 'him': 1560, 'then': 3316, 'gets': 1408, 'assaulted': 344, 'liberal': 1935, 'leaning': 1908, 'vermont': 3529, 'could': 836, 'become': 425, 'state': 3144, 'legalize': 1919, 'recreational': 2682, 'marijuana': 2016, 'use': 3504, 'through': 3342, 'legislation': 1921, 'rather': 2655, 'by': 569, 'voter': 3562, 'initiative': 1692, 'move': 2160, 'advocates': 197, 'drug': 1090, 'say': 2877, 'speed': 3102, 'acceptance': 148, 'across': 163, 'nation': 2190, '15': 15, 'store': 3176, 'would': 3695, 'be': 416, 'campus': 588, 'shooter3': 2998, 'faces': 1228, 'life': 1941, 'prison': 2547, 'stealing': 3154, '31': 84, 'worth': 3693, 'candy4': 599, 'bill': 458, 'nye': 2259, 'climate': 722, 'change': 655, 'denial': 967, 'running': 2839, 'steam': 3155, 'thanks': 3308, 'millennials4': 2101, 'considers': 797, 'taking': 3256, 'case': 625, 'growing': 1461, 'pot4': 2508, '16': 18, '54': 101, 'brooklyn': 544, 'voters': 3563, 'vanish': 3519, 'ahead': 222, 'primary': 2543, 'day4': 918, 'harriet': 1504, 'tubman': 3433, 'african': 204, 'currency4': 879, '21': 66, 'fraud': 1364, 'will': 3657, 'go': 1420, 'trial': 3411, 'testify': 3302, 'campaign4': 585, 'birthrate': 470, 'hits': 1578, 'time': 3352, 'low': 1982, 'led': 1915, 'percent': 2403, 'decline': 942, 'among': 274, 'hispanics': 1571, 'blacks4': 475, 'abortion': 139, 'clinics': 723, 'blue': 485, 'states': 3146, 'closing': 730, 'too5': 3366, 'denied': 968, 'breaks': 527, 'poultry': 2510, 'wear': 3612, 'diapers': 998, 'job5': 1779, 'female': 1275, 'general': 1400, 'becomes': 426, 'woman': 3677, 'lead': 1897, 'combat': 751, 'command5': 758, 'energy': 1153, 'pressed': 2534, 'countries': 841, 'embrace': 1137, 'fracking': 1360, 'emails': 1136, 'reveal5': 2771, 'innovative': 1698, 'diamond': 996, 'design': 984, 'highways': 1556, 'been': 427, 'implemented': 1655, '62': 110, 'intersections': 1722, '2009': 41, 'so': 3064, 'far': 1249, 'worked6': 3684, 'united': 3477, 'nations': 2192, 'whistleblower': 3645, 'suspended': 3240, 'exposing': 1219, 'sexual': 2980, 'abuse': 144, 'peacekeepers': 2391, 'resigned': 2749, 'organization': 2311, 'failure': 1234, 'hold': 1583, 'senior': 2954, 'officials': 2280, 'account6': 153, 'rapist': 2652, 'brock': 539, 'turner': 3445, 'lifetime': 1942, 'ban': 393, 'team': 3279, 'usa': 3503, 'swimming6': 3250, 'killed': 1828, 'florida': 1329, 'nightclub': 2230, 'shooting6': 3003, 'shooting': 3000, 'around': 326, '42': 93, 'injured': 1693, 'police6': 2477, 'isis': 1747, 'officially': 2279, 'claims': 711, 'responsibility': 2759, 'orlando': 2312, 'massacre6': 2035, '13': 12, 'gunmakers': 1469, 'shares': 2985, 'jump': 1796, 'after': 205, '14': 14, 'top': 3368, 'tosses': 3372, 'puerto': 2608, 'rico': 2789, 'debt': 933, 'restructuring': 2764, 'law6': 1881, 'toddler': 3360, 'dragged': 1073, 'gator': 1394, 'water': 3602, 'near': 2203, 'disney': 1032, 'grand': 1445, 'floridian6': 1331, 'killings': 1831, 'lgbt': 1934, 'hiv': 1580, 'affected': 200, 'people': 2400, 'rose': 2822, 'report': 2727, 'finds6': 1299, 'yale': 3709, 'may': 2040, 'cave': 637, 'english': 1159, 'poets': 2470, 'course': 846, 'called': 576, 'philadelphia': 2421, '1st': 35, 'major': 1997, 'pass': 2365, 'tax': 3273, 'soda6': 3068, 'starbucks': 3139, 'cards': 614, 'money': 2140, 'company': 769, 'mid': 2092, 'sized': 3041, 'bank6': 395, 'directs': 1012, 'nearly': 2204, 'fifth': 1281, 'own': 2333, 'businesses6': 561, 'pace': 2335, 'raise': 2641, 'less': 1927, 'almost': 255, 'presidential': 2532, 'candidate': 596, 'modern': 2133, 'era6': 1176, 'heroin': 1547, 'high': 1550, 'epidemic': 1172, 'says6': 2891, '23': 68, 'nyc': 2258, 'faked': 1238, 'day': 916, 'care': 615, 'centers': 645, 'level': 1931, 'test': 3301, 'records6': 2678, 'transgender': 3403, 'troops': 3422, 'lifted': 1943, 'july': 1795, 'decision': 938, 'making': 2001, 'harder': 1500, 'prosecute': 2589, 'public': 2606, 'help': 1533, 'senator': 2949, 'robert': 2808, 'menendez': 2078, 'nj': 2234, 'fights': 1284, 'federal': 1268, 'corruption': 831, 'charges': 663, 're': 2658, 'possible': 2502, 'impact': 1651, 'bob': 488, 'mcdonnell': 2048, 'no': 2235, 'concealed': 779, 'carrier': 620, 'wounded': 3696, 'south': 3086, 'carolina': 617, 'club': 733, 'shooter7': 2999, 'streetlights': 3184, 'hurting': 1629, 'health7': 1523, 'shots': 3009, 'fired': 1308, 'downtown': 1068, 'dallas': 896, 'following': 1339, 'deaths': 931, 'alton': 262, 'sterling': 3160, 'philando': 2422, 'castile7': 631, 'arizona': 320, 'site': 3039, 'largest': 1864, 'current': 880, 'outbreak7': 2321, 'she': 2987, 'wasn': 3599, 'but': 563, 'took': 3367, 'bullet': 553, 'while': 3643, 'protecting': 2593, 'her': 1541, 'sons7': 3081, 'racial': 2635, 'bias': 453, 'shootings': 3004, 'harvard': 1505, 'professor': 2568, 'shows7': 3019, 'everything': 1195, 'we': 3607, 'love': 1981, 'eat': 1106, 'scam7': 2893, 'former': 1350, 'fox': 1358, 'news': 2219, 'commentator': 760, 'sentenced': 2958, 'faking': 1239, 'cia': 694, 'ties7': 3349, 'lapd': 1862, 'investigating': 1731, 'playboy': 2456, 'model': 2132, 'shared': 2984, 'shaming': 2982, 'photo': 2425, 'naked': 2183, 'gym7': 1475, 'secretary': 2932, 'kerry': 1820, 'call': 575, 'turkish': 3442, 'minister': 2117, 'government': 1439, 'saturday': 2872, 'said': 2856, 'view': 3542, 'enemy': 1152, 'if': 1639, 'obama': 2262, 'administration': 183, 'doesn': 1043, 'mr': 2164, 'gülen': 1477, 'reclusive': 2671, 'influential': 1686, 'cleric': 720, 'living': 1954, 'self': 2944, 'imposed': 1658, 'exile': 1203, 'decades': 935, 'officers': 2277, 'dead': 923, 'suspect': 3238, 'work': 3682, 'active': 168, 'airline': 232, 'highway': 1555, 'baton': 411, 'rouge': 2825, 'louisiana7': 1979, 'feds': 1269, 'want': 3582, 'launch': 1874, 'peanut': 2392, 'butter': 565, 'drone': 1083, 'strikes': 3188, 'save': 2874, 'endangered': 1149, 'ferrets7': 1277, '19': 28, 'capt': 608, 'melton': 2072, 'died': 1004, 'second': 2929, 'kansas': 1808, 'officer': 2276, 'months7': 2147, 'faced': 1227, 'jersey': 1774, 'actor': 172, 'takes': 3255, 'plea': 2461, 'deal': 928, 'charge': 661, 'comedian': 754, 'possessing': 2501, 'bb': 414, 'filming': 1290, 'movie': 2162, 'year7': 3715, 'ex': 1197, 'marine': 2021, '81': 121, 'held': 1531, 'hostage': 1606, 'motel': 2157, 'years7': 3718, 'dnc': 1037, 'show': 3013, 'plans': 2450, 'reward': 2782, 'big': 456, 'donors': 1055, 'appointments7': 310, 'wasserman': 3600, 'schultz': 2907, 'resigning': 2751, 'party': 2364, 'leader7': 1899, 'leak': 1904, 'mechanics': 2057, 'slanted': 3045, 'campaign7': 586, 'freddie': 1366, 'gray': 1447, 'against': 208, 'remaining': 2712, 'dropped7': 1087, 'turkey': 3439, 'surrounds': 3231, 'nato': 2196, 'nuclear': 2251, 'base': 407, 'sealed': 2923, 'incirlik': 1670, 'homeownership': 1592, 'drops': 1088, 'lowest': 1984, '19658': 30, 'vote': 3559, 'today': 3359, 'graduate': 1443, 'school8': 2904, 'penthouse': 2399, 'magazine': 1992, 'targets': 3265, 'utah': 3511, 'declaring': 941, 'pornography': 2495, 'crisis8': 867, 'hoas': 1581, 'hell': 1532, 'homes': 1593, 'associations': 349, 'once': 2293, 'protected': 2592, 'residents': 2747, 'now': 2247, 'torment': 3371, 'them8': 3315, '73': 117, 'fatally': 1257, 'role': 2817, 'playing': 2459, 'bad': 383, 'guy': 1473, 'citizen': 700, 'academy8': 147, 'levels': 1932, 'toxic': 3385, 'chemicals': 674, 'drinking': 1079, 'americans8': 271, 'chicago': 676, 'hours8': 1609, 'jury': 1799, 'pennsylvania': 2395, 'kane': 1807, 'guilty': 1466, 'perjury': 2406, 'obstruction': 2263, 'other': 2315, 'charges8': 667, 'unprecedented': 3483, 'montana': 2142, 'fish': 1317, 'wildlife': 3656, 'parks': 2358, '183': 25, 'miles': 2098, 'yellowstone': 3722, 'river': 2803, 'gardiner': 1390, 'laurel': 1876, 'based': 408, 'recreation': 2681, 'fishing': 1319, 'wading': 3570, 'floating': 1326, 'tubing': 3432, 'boating': 487, 'due': 1094, 'parasite': 2350, 'outbreak': 2319, 'fbi': 1261, 'found': 1353, 'washington': 3597, 'times8': 3355, 'fudged': 1374, 'accounts': 156, 'trillions': 3417, 'auditor': 359, 'finds8': 1300, 'georgia': 1405, 'threw': 3339, 'boiled': 492, 'gay': 1396, '40': 90, 'years8': 3719, 'dr': 1071, 'drew': 1076, 'cnn': 734, 'health8': 1524, 'track': 3387, 'entrants': 1167, 'ensure': 1163, 'overstay': 2331, 'visas8': 3552, 'gene': 1399, 'wilder': 3653, 'frankenstein': 1363, 'star': 3138, '838': 123, 'emailed': 1135, 'classified': 715, 'information': 1688, 'leaving': 1913, 'dept': 979, 'york': 3726, 'post8': 2504, 'record': 2673, 'number': 2253, 'dislike': 1029, 'clinton8': 726, 'recovers': 2680, 'involving': 1740, 'benghazi': 442, 'attack': 353, 'time8': 3353, 'virginia': 3551, 'dies': 1007, 'hampton': 1489, 'roads': 2806, 'regional': 2693, 'jail': 1758, 'days': 919, 'filing': 1288, 'emergency': 1138, 'grievance': 1453, 'begging': 431, 'help9': 1535, 'remember': 2714, 'months': 2145, 'ago': 217, 'll': 1955, 'leave': 1912, 'friday': 1369, 'dea': 922, 'thinks': 3326, 'herbal': 1543, 'supplement': 3216, 'kratom': 1846, 'dangerous': 904, 'heroin9': 1548, 'laptop': 1863, 'clintonâ': 727, 'mails': 1994, 'gone': 1429, 'missing9': 2126, 'commander': 759, 'trained': 3398, 'recently': 2668, '2014': 45, 'pj': 2443, 'media9': 2060, 'wwii': 3705, 'pilot': 2434, 'finally': 1293, 'laid': 1856, 'rest': 2760, 'arlington9': 323, 'docs': 1039, 'should': 3011, 'aware': 369, 'classification': 714, 'weekly': 3623, 'standard9': 3135, 'cdc': 640, 'director': 1011, 'essentially': 1185, 'fight': 1282, 'zika9': 3737, 'pneumonia': 2468, 'doctor': 1040, 'politico9': 2484, 'colin': 745, 'powell': 2514, 'stupid': 3196, 'witch': 3669, 'hunt': 1624, 'email': 1134, 'condi': 781, 'rice9': 2785, 'brain': 520, 'eating': 1108, 'amoeba': 273, 'contracting': 813, 'infection': 1684, 'vacation': 3513, 'shining': 2995, 'light': 1944, 'mom9': 2137, 'trust': 3428, 'media': 2059, 'falls': 1242, 'history': 1572, 'gallup': 1386, 'poll9': 2486, 'abducted': 137, 'calls': 578, '911': 131, 'alleged': 248, 'captor': 610, 'sleeps': 3049, 'leading': 1902, 'discovery': 1022, 'bodies9': 490, 'added': 178, '63': 112, 'august': 361, 'total9': 3374, 'device': 993, 'train': 3396, 'station': 3149, 'explodes': 1213, 'investigates9': 1730, 'tulsa': 3436, 'ok': 2285, 'betty': 450, 'shelby': 2989, 'hands': 1493, 'up9': 3493, 'chris': 689, 'christie': 690, 'knew': 1841, 'bridge': 534, 'lane': 1860, 'closings': 731, 'happened': 1495, 'prosecutors': 2590, 'say9': 2882, 'paul': 2379, 'combetta': 752, 'stonetear': 3168, 'reddit': 2683, 'thread': 3333, 'rock': 2811, 'daily': 894, 'dot9': 1060, '45': 96, 'congressmen': 791, 'ask': 338, 'next': 2223, 'week9': 3621, 'murdering': 2173, 'old': 2288, 'defense9': 948, 'disgruntled': 1027, 'houston': 1615, 'lawyer': 1893, 'wearing': 3613, 'nazi': 2200, 'uniform': 3472, 'opens': 2301, 'fire': 1307, 'strip': 3189, 'mall': 2003, 'nine': 2233, 'police9': 2478, 'reported': 2730, 'stolen': 3167, 'car': 612, 'using': 3510, 'app': 301, 'reportedly': 2731, 'arrested': 332, 'instead9': 1706, 'wikileaks': 3652, 'release': 2702, 'election': 1125, 'google': 1434, 'ten': 3291, 'weeks10': 3625, 'yahoo': 3708, 'helped': 1536, 'says10': 2886, 'doj': 1047, 'pursue': 2617, 'criminal': 862, 'contempt': 806, 'sheriff': 2992, 'joe': 1783, 'arpaio10': 327, 'colorado': 747, 'pot': 2507, 'isn': 1748, 'affecting': 201, 'derek': 982, 'schmidt': 2900, 'surveyed': 3233, 'enforcement': 1154, 'agencies': 211, 'some': 3075, 'interesting': 1718, 'results': 2765, 'hpd': 1617, 'operator': 2303, 'ain': 229, 'got': 1437, 'this': 3328, 'hangs': 1494, 'callers10': 577, 'librarian': 1936, 'library': 1937, 'defending': 946, 'free': 1367, 'speech10': 3099, 'freed': 1368, 'gag': 1383, 'order': 2306, 'reveals': 2773, 'received': 2666, 'secret': 2931, 'subpoena10': 3198, 'releases': 2706, 'transcripts': 3402, 'goldman': 1426, 'sachs': 2850, 'speeches10': 3101, 'only': 2298, '36': 87, 'someone': 3076, 'money10': 2141, 'thousands': 3332, 'soldiers': 3072, 'forced': 1346, 'repay': 2722, 'enlistment': 1160, 'bonuses': 497, 'decade': 934, 'going': 1424, 'war10': 3586, 'korean': 1845, 'adopted': 187, 'age': 209, 'deported': 977, 'later10': 1871, 'recent': 2667, 'indicted': 1677, 'president10': 2529, 'women': 3678, 'busted': 562, 'miami': 2087, 'dade10': 893, 'james': 1763, 'coney': 782, 'breaking': 526, 'point': 2471, 'wiped': 3664, 'monday': 2139, 'briefing11': 535, 'authorities': 363, 'chained': 650, 'property': 2585, 'rural': 2841, 'seven': 2974, 'confessions': 785, 'solved': 3074, 'chuck': 692, 'wright': 3697, 'idaho': 1635, 'mom': 2136, 'loses': 1974, 'custody': 881, 'giving': 1417, 'daughter': 913, 'relieve': 2709, 'seizures11': 2943, 'contract': 810, 'potus11': 2509, 'glenn': 1418, 'greenwald': 1449, 'vast': 3523, 'powers': 2519, 'can': 589, 'thank': 3307, 'democrats': 963, 'them': 3313, 'protests': 2598, 'violent': 3548, 'erupt': 1179, '3rd': 89, 'night': 2229, 'nationwide11': 2194, 'solution': 3073, 'crisis': 864, 'way': 3604, 'tickets': 3347, 'philly': 2423, 'late': 1869, '1990s': 32, 'pastors': 2373, 'mayors': 2043, 'sending': 2952, 'hundreds': 1622, 'addicts': 179, 'many': 2010, 'cities': 698, 'lafayette': 1855, 'falsely': 1244, 'claiming': 710, 'supporters': 3221, 'attacked': 354, 'her11': 1542, 'won': 3679, 'take': 3253, 'salary': 2859, 'president': 2528, 'vowed': 3567, 'planned': 2448, 'cities11': 699, 'putin': 2623, 'agree': 218, 'phone': 2424, 'improve': 1663, 'unsatisfactory': 3485, 'relations': 2700, 'between': 451, 'kremlin': 1847, 'says11': 2887, 'per': 2402, 'cent': 643, 'elect': 1124, 'compromise': 775, 'democrats11': 964, 'murderer': 2172, 'brendan': 528, 'dassey': 908, 'released': 2705, 'week11': 3620, 'national': 2191, 'security': 2935, 'adviser': 194, 'fear': 1265, 'muslims': 2178, 'rational': 2657, 'agrees': 221, 'settlement': 2972, 'university': 3478, 'cases11': 628, 'standing': 3136, 'protest': 2595, 'clash': 712, 'dakota': 895, 'access': 150, 'pipeline11': 2439, 'pregnancy': 2523, 'another': 287, 'stole': 3166, 'baby': 374, 'police11': 2475, 'wal': 3575, 'mart': 2029, 'minimum': 2115, 'wage': 3572, 'awards': 368, 'truck': 3423, 'drivers': 1082, 'million11': 2103, 'wisconsin': 3667, 'recount': 2679, 'third': 3327, 'candidates': 597, 'request11': 2738, 'ceo': 647, 'admits': 185, 'editing': 1111, 'pro': 2555, 'users': 3508, 'comments11': 762, 'propose': 2588, 'outsourcing': 2327, 'prevention': 2538, 'act': 164, 'keep': 1812, 'us11': 3499, 'campaign': 584, 'participate': 2360, 'eye': 1224, 'outside': 2326, 'interference': 1719, 'update': 3494, 'governor': 1442, 'orders': 2309, 'immediate': 1644, 'evacuation': 1189, 'sperm': 3107, 'donor': 1054, 'hook': 1598, 'child': 682, 'support11': 3220, 'fine': 1301, '1k': 34, 'bringing': 537, 'supplies': 3218, 'rock12': 2812, 'pipeline': 2438, 'protesters': 2596, 'north': 2239, 'winter12': 3661, 'america': 266, 'needs': 2208, 'sane': 2867, 'left': 1917, 'radicalism': 2638, 'political': 2482, 'spectrum': 3097, 'means': 2053, 'opinion': 2304, 'told': 3361, 'went': 3634, 'comet': 755, 'ping': 2436, 'pong': 2492, 'pizzeria': 2442, 'assault': 341, 'rifle': 2791, 'investigate': 1728, 'related': 2699, 'conspiracy': 798, 'weapon12': 3610, 'explore': 1214, 'different': 1008, 'route': 2827, 'pipeline12': 2440, 'reduce': 2686, 'infant': 1681, 'mortality': 2154, 'adopt': 186, 'finland': 1305, 'way12': 3605, 'seeks': 2939, 'relationship': 2701, 'appealing': 304, 'highest': 1553, 'sandy': 2866, 'denier': 969, 'death': 929, 'threats': 3337, 'made': 1990, 'parent': 2353, 'victim12': 3536, 'surpass': 3230, 'homicides': 1597, 'data': 909, 'shows12': 3017, 'triple': 3419, 'come': 753, 'industry': 1680, 'add': 177, '300': 82, 'additional': 180, 'analysts': 277, 'congressman': 790, 'corruption12': 832, 'sen': 2947, 'rand': 2648, 'pushes': 2621, 'probe': 2557, 'russia': 2843, 'hacking12': 1481, 'ohio': 2283, 'damages': 899, 'cap': 602, 'girl': 1413, 'raped': 2651, 'get': 1407, '250': 72, 'million12': 2104, 'aim': 226, 'outlaw': 2324, 'medicinal': 2064, 'cbd': 639, 'extracts12': 1222, 'muslim': 2177, 'claimed': 709, 'terrorist': 3298, 'subway12': 3200, 'aging': 216, 'boomers': 500, 'heavy': 1528, 'alcohol': 239, 'use12': 3505, 'quietly': 2633, 'classifies': 716, 'oil': 2284, 'schedule': 2898, 'drug12': 1091, 'four': 1357, 'flint': 1325, 'michigan': 2091, 'crisis12': 865, 'walmart': 3581, 'lives': 1953, 'matter': 2038, 'clothes': 732, 'union': 3475, 'complains12': 772, '75': 118, 'wrongly': 3703, 'imprisoned': 1661, 'years12': 3717, 'nuke': 2252, 'experts': 1211, 'tweet': 3449, 'very': 3531, 'sign': 3025, 'carrie': 619, 'fisher': 1318, '6012': 108, 'pentagon': 2398, 'struggled': 3190, 'families': 1246, 'war12': 3587, 'megyn': 2069, 'kelly': 1813, 'nbc1': 2202, '20171nannan': 57, 'facebook': 1226, 'beating1': 421, '20170nannan': 56, 'tampa': 3261, 'bombs': 494, 'activists': 170, 'feeding': 1270, 'homelessâ': 1591, 'again1': 207, 'billions': 466, 'marines': 2022, 'agreed': 219, 'disability': 1015, 'benefits': 441, 'totaling': 3376, 'veterans': 3533, 'exposed': 1218, 'contaminated': 805, 'assigned': 346, 'camp': 583, 'lejeune': 1924, 'rips': 2796, 'tweets': 3450, 'russia1': 2844, '20172nannan': 58, 'block': 478, 'entry': 1169, 'points': 2472, 'inauguration1': 1668, 'moves': 2161, 'give': 1415, 'lands': 1859, 'discounting': 1019, 'revenue': 2774, 'millions': 2108, 'jobs1': 1782, 'executive': 1200, 'action': 167, 'cancel': 591, 'mortgage': 2155, 'premium': 2526, 'cuts1': 887, 'signs': 3029, 'withdrawing': 3671, 'tpp': 3386, 'reinstate': 2697, 'mexico': 2084, 'policy': 2479, 'abortion1': 140, 'steaming': 3156, 'learning': 1910, 'invoke': 1739, 'rights': 2794, 'most': 2156, 'progressive': 2574, 'set': 2970, 'power1': 2516, 'house': 1610, 'staff': 3127, 'private': 2553, 'rnc': 2805, 'accounts1': 157, 'chief': 681, 'economic': 1109, 'advisor': 196, 'receive': 2665, '284m': 77, 'payday': 2383, 'sachs1': 2851, 'sioux': 3038, 'tribe': 3413, 'order1': 2307, 'republicans': 2736, 'demonstrators': 966, 'overtime': 2332, 'costs1': 835, 'already': 259, 'introduced': 1727, 'remove': 2716, 'nations1': 2193, 'fires': 1311, 'acting': 166, 'general1': 1401, 'billionaire': 464, 'peter': 2414, 'thiel': 3323, 'bought': 511, 'zealand': 3734, 'citizenship': 702, 'show2': 3014, 'mike': 2096, 'pence': 2394, 'every': 1193, 'right': 2793, 'criticize': 869, 'branches': 522, 'government2': 1440, '500': 100, 'human': 1620, 'trafficking': 3393, 'raids2': 2640, 'makes': 2000, 'false': 1243, 'statement': 3145, 'murder': 2170, 'sheriffs': 2993, 'group2': 1458, 'kellyanne': 1814, 'conway': 822, 'tells': 3288, 'buy': 566, 'ivanka': 1755, 'products2': 2566, 'targeting': 3264, 'cartels': 623, 'crimes': 861, 'police2': 2476, 'revealed': 2772, 'terrorism': 3297, 'taskforce': 3271, 'news2': 2220, 'republican': 2735, 'green': 1448, 'card': 613, 'holder': 1584, 'voted': 3560, 'illegally': 1642, 'texas': 3305, 'prison2': 2548, '188': 26, 'evacuated': 1188, 'declared': 939, 'massive': 2036, 'oroville': 2314, 'dam': 897, 'threatens': 3336, 'floods2': 1327, 'aides': 224, 'repeated': 2724, 'contacts': 803, 'russian': 2847, 'intelligence2': 1712, 'posts': 2506, 'wrong': 3700, 'versions': 3530, 'website2': 3617, 'weeks': 3624, 'michael': 2088, 'flynn': 1335, 'withheld': 3672, 'truth': 3429, 'russia2': 2846, 'arrests': 333, 'myrtle': 2180, 'beach': 417, 'allegedly': 249, 'spirit': 3110, 'dylann': 1101, 'roof': 2821, 'oklahoma': 2287, 'just': 1800, 'hit': 1577, 'temperatures': 3289, 'fahrenheit': 1232, 'depths': 980, 'winter2': 3662, 'devos': 995, 'criticized': 870, 'teachers': 3278, 'visited': 3554, 'having': 1513, 'resistance': 2753, 'winning': 3659, 'whines': 3644, 'senate': 2948, 'refusing': 2692, 'him2': 1561, 'proposal': 2586, 'redirect': 2685, 'poor': 2493, 'rich2': 2786, 'swedish': 3249, 'pm': 2467, 'murders': 2174, 'spoke': 3112, 'sweden': 3248, 'year2': 3713, '200': 37, 'headstones': 1521, 'damaged': 898, 'jewish': 1776, 'cemetery': 642, 'says2': 2889, 'longer': 1967, 'need': 2206, 'license': 1938, 'carry': 621, 'weapon': 3609, 'hampshire2': 1488, 'month': 2144, 'hear': 1525, 'student': 3191, 'behind': 433, 'mother': 2158, 'finds': 1297, 'missing': 2125, 'teenage': 3283, 'sold': 3071, 'website': 3615, 'back': 375, 'kubiiki': 1849, 'pride': 2542, 'scrolling': 2919, 'ads': 188, 'backpage': 381, 'com': 750, 'when': 3641, 'saw': 2876, 'ad': 175, 'selling': 2946, 'something': 3077, 'belonged': 438, 'justice': 1801, 'prisons2': 2552, 'sessions': 2969, 'good': 1431, 'smoke': 3060, 'belief': 435, 'fuller': 1375, 'jails2': 1762, 'leaks2': 1907, 'defense': 947, 'budget': 550, 'slashing': 3046, 'domestic': 1049, 'spending': 3105, 'foreign': 1349, 'aid2': 223, 'nigerian': 2228, 'engineer': 1157, 'handed': 1492, 'written': 3699, 'airport': 234, 'bbc': 415, 'news3': 2221, 'thursday': 3344, 'ruled': 2831, 'unanimously': 3460, 'funding': 1377, 'schools': 2905, 'inadequate': 1666, 'legislature': 1923, 'june': 1798, 'deadline': 926, 'enact': 1145, 'changes': 656, 'scrambling': 2915, 'legislative': 1922, 'session': 2968, 'consumed': 801, 'sprawling': 3117, 'debate': 932, 'sikh': 3030, 'apparent': 303, 'hate': 1510, 'crime': 860, 'kent': 1816, 'seattle': 2928, 'wa': 3569, 'tim': 3351, 'kaine': 1806, 'son': 3080, 'several': 2975, 'disrupt': 1033, 'minnesota3': 2119, 'poland': 2473, 'seek': 2938, 'arrest': 329, 'extradition': 1223, 'associated': 347, 'press': 2533, 'ss': 3122, 'unit': 3476, 'burned': 558, 'polish': 2481, 'villages': 3545, 'civilians': 708, 'world': 3689, 'war': 3585, 'ii': 1640, 'idea': 1636, 'how': 1616, 'grow': 1460, 'grows': 1462, 'research': 2743, 'awful': 372, 'basically': 409, 'useless': 3507, 'conservative': 793, 'felonies': 1273, 'prostitution': 2591, 'investigation3': 1734, 'kentucky': 1817, 'louisville': 1980, 'mayor': 2041, 'greg': 1450, 'fischer': 1316, 'announced': 285, 'asked': 339, 'what': 3638, 'our': 2316, 'worst': 3692, 'nightmare': 2231, 'youth': 3731, 'explorer': 1215, 'program': 2571, 'nypd': 2260, 'postal': 2505, 'worker': 3685, 'acquitted': 161, 'berry': 446, '90': 129, 'define': 950, 'roll3': 2819, 'waiter': 3573, 'asking': 340, 'latinas': 1872, 'proof': 2583, 'residency': 2746, 'upscale': 3495, 'huntington': 1626, 'eatery3': 1107, 'teacher': 3276, 'improper': 1662, 'student3': 3192, '89': 128, 'year3': 3714, 'bannon': 399, 'conservatives': 794, 'devin': 994, 'nunes': 2254, 'vanished': 3521, 'before': 429, 'surveillance': 3232, 'intelligence': 1711, 'chairman': 652, 'message': 2080, 'jumped': 1797, 'uber': 3459, 'morning': 2152, 'dropped': 1086, 'bombshell': 495, 'boxes': 515, 'encourage': 1146, 'safe': 2855, 'sleep': 3048, 'habits3': 1478, 'let': 1928, 'isps': 1749, 'sell': 2945, 'your': 3730, 'browsing': 549, 'advertisers3': 192, 'burglars': 556, 'us3': 3501, 'stacked': 3126, 'millionaires': 2107, 'financial': 1295, 'disclosures': 1018, 'irs': 1744, 'innocent': 1697, 'managed': 2007, 'bank': 394, 'inspector': 1702, 'finds4': 1298, 'violently': 3549, 'drag': 1072, 'plane': 2446, 'overbooked': 2330, 'flight4': 1324, 'elementary': 1129, 'san': 2864, 'bernardino4': 444, 'hudson': 1619, 'river4': 2804, 'surviving': 3235, 'person': 2412, 'born': 506, '1800s': 24, '1174': 9, 'privately': 2554, 'parenthood': 2354, 'law4': 1880, 'announce': 284, 'killer': 1829, 'search': 2924, 'intensifies4': 1713, 'aaron': 135, 'hernandez': 1545, 'commits': 765, 'suicide': 3207, 'prison4': 2549, 'cleveland': 721, 'steve': 3161, 'stephens': 3159, 'kills': 1832, 'himself': 1565, 'pursuit4': 2619, 'reilly': 2695, 'severance': 2976, 'host': 1604, 'million4': 2105, 'appalachian': 302, 'power': 2515, 'looking': 1971, 'toward': 3383, 'renewables': 2719, 'west': 3636, 'require': 2741, 'clean': 718, 'customers': 883, 'orleans': 2313, 'controversial': 817, 'removal': 2715, 'confederate': 783, 'monuments4': 2148, 'convicted': 820, 'lied': 1939, 'citizen4': 701, 'allow': 253, 'companies': 768, 'mine': 2112, 'drill': 1078, 'broker': 543, 'delivery': 958, 'leads': 1903, '33': 85, 'judgment4': 1794, 'fcc': 1262, 'investigation': 1732, 'stephen': 3158, 'colbert': 744, 'insult5': 1709, 'johnson': 1785, 'powder': 2513, 'cancer': 593, 'wins': 3660, '110': 6, 'lawsuit5': 1891, 'comey': 756, 'trump5': 3427, 'rep': 2721, 'corrine': 830, 'brown': 548, 'counts': 843, 'mail': 1993, 'wire': 3665, 'source5': 3085, 'roger': 2815, 'ailes': 225, 'dead5': 924, 'households': 1613, '20085': 40, 'unimaginable': 3473, 'entire': 1166, 'northeast': 2240, 'gasoline': 1392, 'reserve5': 2744, 'customer': 882, 'word5': 3680, 'witnesses': 3674, 'cut': 884, 'throats': 3340, 'max': 2039, 'passengers': 2368, 'tried': 3415, 'stop': 3170, 'bullying': 555, 'portland': 2497, 'train5': 3397, 'announcement': 286, 'proceed': 2562, 'strategy': 3180, 'plan': 2445, '2007': 38, 'leader': 1898, 'pursuing': 2618, 'aggressive': 215, 'emissions': 1139, 'doorway': 1058, 'profit': 2570, 'bosses': 507, 'visit': 3553, 'firms': 1314, 'visitor': 3555, 'logs': 1965, 'lobbying': 1959, 'pays6': 2390, 'employees': 1143, 'deliver': 957, 'packages': 2337, 'home': 1588, 'work6': 3683, 'leaker': 1906, 'bail': 386, 'request6': 2739, 'million6': 2106, 'speech': 3098, 'roll': 2818, 'cuba': 876, 'policy6': 2480, 'alexandria': 243, 'volunteer6': 3558, 'special': 3096, 'counsel': 839, 'mueller': 2167, 'jared': 1765, 'kushner': 1850, 'finances': 1294, 'post': 2503, 'reports6': 2734, 'polygamous': 2490, 'sect': 2934, 'lyle': 1987, 'jeffs': 1767, 'captured': 611, 'run6': 2837, 'coal': 737, 'mining': 2116, 'museum': 2175, 'converts': 819, 'solar': 3070, 'power6': 2517, 'tour': 3380, 'korea': 1844, 'warmbier': 3589, 'death6': 930, 'blocks': 482, 'cameras': 582, 'hires': 1568, 'sketch': 3042, 'artist6': 334, 'warren': 3595, 'buffett': 551, 'real': 2659, 'problem': 2560, 'economy': 1110, 'him6': 1563, 'feel': 1271, 'alarmed': 238, 'uneasy': 3469, 'washington6': 3598, 'shoots': 3005, 'boyfriend': 517, 'youtube': 3732, 'stunt': 3195, 'boost': 502, 'online': 2297, 'profile': 2569, 'governments': 1441, 'shut': 3020, 'down': 1065, 'failures7': 1235, 'nevada': 2216, 'launches': 1875, 'sales': 2860, 'marijuana7': 2020, 'buzz': 568, 'aldrin': 240, 'space': 3089, 'speech7': 3100, '44': 95, 'refused': 2690, 'commission': 764, 'demand': 959, 'personal': 2413, 'info': 1687, 'voters7': 3564, 'dismiss': 1030, 'lawsuit': 1889, 'assault7': 343, 'audio': 358, 'confirms': 786, 'dejuan': 955, 'guillory': 1465, 'lying': 1986, 'ground': 1455, 'back7': 377, 'hours': 1608, 'chicago7': 677, 'disgraced': 1026, 'speaker': 3092, 'dennis': 971, 'hastert': 1509, 'offender': 2267, 'treatment': 3406, 'release7': 2704, 'camera': 580, 'planting': 2454, 'drugs7': 1093, 'exploring': 1216, 'ways': 3606, 'hamper': 1486, 'pardon': 2351, 'himself7': 1566, 'directed': 1009, 'darknet': 907, 'markets': 2024, 'alphabay7': 258, 'tennessee': 3292, 'county': 844, 'inmates': 1696, 'offered': 2270, 'reduced': 2687, 'getting': 1409, 'vasectomy7': 3522, 'teens': 3284, 'laughed': 1873, 'drowned': 1089, 'face': 1225, 'charges7': 666, 'serve': 2963, 'twitter7': 3455, 'scaramucci': 2897, 'distract': 1034, 'important': 1657, 'chilling': 684, 'hearing8': 1527, 'amazon': 263, 'jacked': 1756, 'prime': 2544, 'prices': 2541, 'misleading': 2123, 'consumers': 802, 'vendor8': 3526, '850': 125, 'interest': 1717, 'loan8': 1958, 'swarm': 3245, 'tower': 3384, 'charlottesville': 669, 'kkk': 1836, 'fascist': 1254, 'holocaust': 1587, 'memorial': 2076, 'boston': 508, 'summer8': 3210, 'totally': 3377, 'racist': 2637, 'actually': 174, 'did': 1001, 'permits8': 2409, 'ordered': 2308, '417m': 92, 'civil': 707, 'linking': 1950, 'talcum': 3257, 'cancer8': 595, 'doomed': 1056, 'dogs': 1045, 'saved': 2875, 'airlift': 231, 'us8': 3502, 'scum': 2921, 'die': 1003, 'painted': 2342, 'headquarters': 1519, 'lexington8': 1933, 'leonardo': 1926, 'dicaprio': 999, 'hurricane': 1627, 'harvey': 1506, 'relief': 2707, 'efforts9': 1117, 'nurse': 2255, 'screaming': 2918, 'handcuffed': 1491, 'blood': 484, 'unconscious': 3463, 'victim9': 3537, 'wiretap': 3666, '2016': 52, 'campaign9': 587, 'path': 2374, 'medic': 2061, 'job9': 1780, 'irma': 1743, 'category': 633, 'superstorm9': 3215, 'warns': 3592, 'offenders': 2268, 'welcome': 3631, 'storm': 3177, 'shelters9': 2990, 'equifax': 1175, 'execs': 1199, 'stock': 3164, 'hack': 1479, 'disclosed9': 1017, 'risks': 2802, 'devastation': 990, 'gov': 1438, 'rick': 2788, 'scott': 2912, 'defunded': 953, 'wetlands': 3637, 'agency9': 212, 'hampshire': 1487, 'biracial': 467, 'boy': 516, 'hung': 1623, 'tree9': 3409, 'class': 713, 'lawsuits': 1892, 'cyberbreach9': 891, 'six': 3040, 'nursing': 2256, 'power9': 2518, 'violated': 3546, 'codes': 742, 'report9': 2729, 'bans': 400, 'kaspersky': 1809, 'software9': 3069, 'unborn': 3462, 'babies': 373, 'moms': 2138, 'drank': 1075, 'couldn': 837, 'pregnant': 2525, 'switch': 3251, 'also': 260, '150': 16, 'grams': 1444, 'lighter': 1945, 'those': 3330, 'areas': 318, 'gained': 1384, 'weight': 3628, 'bounty': 512, 'hunters': 1625, 'columbus': 749, 'awarded': 367, '950': 134, 'cuomo': 877, 'arguing': 319, 'football': 1343, 'start': 3141, 'helping': 1537, 'rico9': 2790, 'neo': 2210, 'removes': 2718, 'swastika': 3246, 'tattoos': 3272, 'unlikely': 3481, 'friendship9': 1371, 'head': 1517, 'air': 230, 'force': 1345, 'academy': 146, 'cadets': 571, 'outraged': 2325, 'slurs9': 3057, 'lashes': 1867, 'juan': 1791, 'begged': 430, 'help10': 1534, 'hurt': 1628, 'las': 1866, 'vegas': 3524, 'shooting10': 3001, 'casino10': 630, 'couple': 845, 'scammed': 2894, 'back10': 376, 'pays': 2389, '85': 124, 'fund': 1376, 'services10': 2966, 'fearless': 1266, 'statue': 3151, '5m': 105, 'underpaid': 3467, 'corp': 828, 'settles': 2973, 'labor': 1852, 'gender': 1398, 'discrimination10': 1023, 'game': 1387, 'wolfenstein': 3676, 'angers': 279, 'nazis': 2201, 'slogans10': 3054, 'vp': 3568, 'colts': 748, 'anthem': 289, 'players': 2458, 'kneeled': 1840, 'maricopa': 2015, 'tent': 3293, 'down10': 1066, 'panel': 2346, 'approves': 313, 'wildfire': 3654, 'relief10': 2708, 'terry': 3300, 'crews': 859, 'groped': 1454, 'hollywood': 1586, 'authoritarian': 362, 'threat': 3334, 'critical': 868, 'stations10': 3150, 'hustler': 1632, 'flynt': 1336, 'runs': 2840, 'offering': 2271, 'smoking': 3061, 'impeachment10': 1653, 'lamonte': 1857, 'mcintyre': 2049, 'compensation': 770, 'offers': 2272, 'zero': 3735, 'individuals': 1679, 'incarcerated': 1669, 'later': 1870, 'exonerated': 1205, 'navajo': 2198, 'sentence10': 2957, 'scream': 2916, 'helplessly': 1538, 'sky': 3044, 'anniversary10': 283, 'both': 509, 'democratic': 962, 'parties': 2361, 'headed': 1518, 'worse10': 3690, 'mass': 2033, 'church': 693, 'sutherland': 3244, 'springs': 3118, 'cancels': 592, 'impeachment': 1652, 'adverts11': 193, 'wildfires': 3655, 'choice': 687, 'hour': 1607, 'inmate': 1695, 'bodies': 489, 'sometimes': 3078, 'even': 1190, 'risk': 2799, 'previously': 2539, 'escaped': 1182, 'institution': 1707, 'facing': 1229, 'charges11': 664, 'alt': 261, 'blogger': 483, 'jenna': 1769, 'abrams': 143, '70': 115, 'followers': 1338, 'does': 1042, 'exist': 1204, 'created': 855, 'st': 3123, 'petersburg': 2415, 'troll': 3420, 'farm11': 1252, 'pastor': 2372, 'demolished': 965, 'frank': 1362, 'pomeroy': 2491, 'leaders': 1900, 'southern': 3088, 'baptist': 402, 'convention': 818, 'earlier': 1104, 'painful': 2340, 'continue': 809, 'place': 2444, 'worship': 3691, 'scientology': 2910, 'lose': 1973, 'exempt': 1202, 'status11': 3152, 'gates': 1393, 'buys': 567, 'land': 1858, '80': 120, 'create': 854, 'smart': 3059, 'city11': 705, 'fines': 1304, 'warehouse': 3588, 'months11': 2146, 'biden': 455, 'barack': 404, 'repeatedly': 2725, 'discouraged': 1020, 'president11': 2530, 'boomtown': 501, 'shouldn': 3012, 'cape': 605, 'coral': 827, 'built': 552, 'total': 3373, 'lies': 1940, 'wipe': 3663, 'map': 2011, 'oh': 2282, 'fastest': 1255, 'keystone': 1822, 'closed': 729, 'spill11': 3109, 'hepatitis': 1540, 'untreated': 3488, 'prisons': 2551, 'cost': 834, 'manson': 2009, 'mastermind': 2037, '1969': 31, '8311': 122, 'see': 2936, 'ditched': 1036, 'net': 2212, 'neutrality': 2215, 'look': 1970, 'portugal11': 2498, 'chair': 651, 'tom': 3363, 'wheeler': 3640, 'discusses': 1024, 'ending': 1150, 'happens': 1496, 'bite': 472, 'dust': 1100, 'key': 1821, 'surge': 3226, 'medical': 2063, 'cannabis': 600, 'ptsd11': 2605, 'approached': 311, 'dramatic': 1074, 'tale': 3258, 'roy': 2828, 'moore': 2149, 'appears': 307, 'part': 2359, 'undercover': 3466, 'sting': 3163, 'operation': 2302, 'gymnastics': 1476, 'pornography12': 2496, '230': 69, 'acres': 162, 'thomas': 3329, 'history12': 1574, 'alabama': 237, 'jones': 1787, 'defeats': 944, 'seat12': 2927, 'molesting': 2134, 'dan': 900, 'suicide12': 3208, 'pledges': 2463, 'bring': 536, 'votes': 3565, 'repeal': 2723, 'them12': 3314, 'bill12': 459, 'defying': 954, 'jerry': 1773, 'pardons': 2352, 'immigrants': 1646, 'deported12': 978, 'christmas': 691, 'instead': 1705, 'played': 2457, 'golf12': 1428, 'nab': 2181, 'prince': 2545, '67': 114, 'slidell': 3051, 'expansion1': 1206, '20182nannan': 62, 'att': 352, 'sued': 3204, 'layoffs': 1896, 'promising': 2578, 'investment': 1736, 'cut1': 885, '20181nannan': 61, 'supremacist': 3223, 'ties': 3348, 'stopped': 3173, 'nebraska': 2205, 'intent': 1714, 'harm': 1503, 'passengers1': 2369, 'didn': 1002, 'tell': 3286, 'anyone1': 297, 'inhales': 1691, 'golden': 1425, 'laws': 1886, 'comically': 757, 'convictions': 821, 'priority': 2546, 'setting': 2971, 'shops1': 3006, 'twice': 3452, 'computer': 777, 'lab': 1851, 'older': 2289, 'files': 1287, 'court1': 848, 'viewers': 3543, 'planet': 2447, 'administrators': 184, 'suspending': 3241, 'teacher1': 3277, 'cvs': 890, 'manipulation': 2008, 'beauty': 423, 'brands': 523, 'pressures': 2536, 'suppliers1': 3217, '20180nannan': 60, 'miner': 2113, 'double': 1062, 'office1': 2274, 'hawaii': 1514, 'missile': 2124, 'alert': 241, 'sent': 2956, 'thought': 3331, 'imminent': 1649, 'says1': 2885, 'punish': 2613, 'victims': 3538, 'father': 1258, 'lunged': 1985, 'larry': 1865, 'nasser2': 2189, 'dow': 1064, 'share': 2983, 'index': 1675, '175': 22, 'biggest': 457, 'ever': 1191, 'drop': 1084, 'fall': 1240, '2008': 39, 'crisis2': 866, 'parade': 2349, 'george': 1404, 'bush': 559, 'pretty': 2537, 'clear': 719, 'evidence': 1196, 'meddled': 2058, 'election2': 1127, 'flu': 1333, 'still': 3162, 'hospitalizations': 1601, 'aetna': 198, 'patients': 2376, 'records': 2676, 'denying': 972, 'treatment2': 3407, 'hardest': 1501, 'aims': 228, 'replace': 2726, 'stamps': 3131, 'meal': 2051, 'kits2': 1835, 'epa': 1171, 'pruitt': 2603, '600': 107, 'reasonable': 2661, 'flight2': 1323, 'pepsi': 2401, 'laying': 1895, 'touted': 3382, 'law2': 1879, 'melinda': 2071, 'turn': 3443, 'attention': 356, 'poverty': 2512, 'america2': 267, 'coach': 735, 'shielded': 2994, 'lived': 1952, 'putting': 2624, 'second2': 2930, 'fly': 1334, 'mean': 2052, 'coach2': 736, 'refuses': 2691, 'signing': 3028, 'weaken': 3608, 'ajit': 236, 'pai': 2338, 'investigated': 1729, 'general2': 1402, 'silent2': 3032, 'statewide': 3148, 'walkout': 3579, 'friday2': 1370, 'fla': 1321, 'survivor': 3236, 'theories': 3318, 'circulate': 697, 'actors': 173, 'ice': 1634, 'learn2': 1909, 'pharmacist': 2418, 'prescription': 2527, 'moving': 2163, 'clauses': 717, 'prohibit': 2575, 'pharmacists': 2419, 'telling': 3287, 'cash': 629, 'insurance': 1710, 'broward': 547, 'deputies': 981, 'enter': 1164, 'unless': 3480, 'were': 3635, 'on2': 2292, 'decent': 937, 'hud': 1618, 'staffer': 3128, 'complaint': 773, 'ben': 440, 'carson': 622, 'office': 2273, 'redecoration2': 2684, 'alex': 242, 'harassment': 1497, 'infowars': 1689, 'beast3': 418, 'strike': 3187, '12th': 11, 'day3': 917, 'warning': 3591, 'especially': 1183, 'the_donald': 3311, 'haven': 1512, 'propaganda3': 2584, 'injured3': 1694, 'there': 3321, 'nickelodeon': 2226, 'minutes': 2120, 'recognizing': 2672, 'parkland3': 2357, 'under': 3465, 'watch': 3601, 'tops': 3370, 'trillion': 3416, 'ever3': 1192, 'lockdown': 1964, 'maryland': 2031, 'consultants': 800, 'filmed': 1289, 'saying': 2883, 'bribes': 531, 'entrap': 1168, 'politicians3': 2483, 'effect3': 1114, 'saudi': 2873, 'crown': 871, 'boasted': 486, 'pocket': 2469, 'patriots': 2377, 'loan': 1957, 'parkland': 2356, 'trip3': 3418, 'march': 2012, 'single': 3035, 'history3': 1575, 'sex3': 2979, 'younger': 3729, 'brother': 545, 'marchforourlives': 2013, 'emma': 1140, 'gonzález': 1430, 'rip': 2795, 'constitution3': 799, 'megachurch': 2068, 'defrauding': 952, 'elderly': 1123, 'investors4': 1738, 'tired': 3356, 'rebellion': 2662, 'shuts': 3021, 'schools4': 2906, 'mission': 2127, 'hospitals': 1603, 'patient': 2375, 'data4': 911, 'tumbles': 3437, '572': 104, 'trade': 3389, 'fears': 1267, 'pummel': 2611, 'stocks4': 3165, 'blaze': 476, 'floor': 1328, 'sprinklers4': 3119, '400': 91, 'erased': 1177, 'final': 1292, 'raid': 2639, 'lawyer4': 1894, 'zuckerberg': 3738, 'deflects': 951, 'senators': 2950, 'questions': 2630, 'effort4': 1115, 'fda': 1263, 'accepting': 149, 'comments': 761, 'reclassify': 2670, 'marijuana4': 2019, 'millennials': 2100, 'know': 1842, 'jews': 1777, 'shows4': 3018, 'arranged': 328, 'payoff': 2388, 'playmate': 2460, 'fundraiser': 1378, 'source4': 3084, 'tsa': 3431, 'loaded': 1956, 'international': 1720, 'airport4': 235, 'broadband': 538, 'charges4': 665, '43': 94, 'booth': 504, 'broke': 541, 'auditors': 360, 'say4': 2879, 'appeals': 305, 'funds4': 1379, 'casualty': 632, 'fentanyl': 1276, 'laced': 1853, 'pill': 2433, 'scourge': 2913, 'carver': 624, 'mark': 2023, 'metz': 2083, 'suggested': 3206, 'unknowingly': 3479, 'counterfeit': 840, 'vicodin': 3534, 'painkillers': 2341, 'contained': 804, 'wells': 3633, 'fargo': 1250, 'fined': 1302, 'billion4': 462, 'indiana': 1676, 'signed': 3026, 'unconstitutional': 3464, '7th': 119, 'circuit4': 696, 'waffle': 3571, 'service': 2964, 'trespassing': 3410, 'house4': 1611, 'praised': 2521, 'weathering': 3614, 'official': 2278, 'profane': 2567, 'outburst4': 2323, 'suspected': 3239, 'east': 1105, 'area': 317, 'murdered': 2171, 'sacramento': 2853, 'jail4': 1759, 'cosby': 833, 'assault4': 342, 'agents': 214, 'peered': 2393, 'duffel': 1095, 'bag': 385, 'border': 505, 'tiger': 3350, 'cub': 875, 'removed': 2717, 'nervous': 2211, 'homeless': 1590, 'residence': 2745, 'open': 2299, 'door': 1057, 'kind': 1834, 'mormon': 2151, 'severing': 2977, 'scouts': 2914, 'century': 646, 'long': 1966, 'bond5': 496, 'respond': 2756, 'highland': 1554, 'palmdale': 2345, 'california5': 574, 'tariffs': 3267, 'harley': 1502, 'davidson': 915, 'plant5': 2452, 'cohen': 743, 'payment': 2386, 'connected': 792, 'turns': 3446, 'super': 3214, 'billionaire5': 465, 'environmental': 1170, 'melania': 2070, 'hospitalized': 1602, 'kidney': 1824, 'procedure5': 2561, 'resign': 2748, 'contract5': 811, 'salmonella': 2861, 'caused': 636, 'eggs': 1118, 'recall': 2663, '20105': 42, 'met': 2081, 'started': 3142, 'airlines': 233, 'insects': 1699, 'hedgehogs': 1529, 'goats': 1421, 'support': 3219, 'animals5': 281, 'wolfe': 3675, 'pioneering': 2437, 'journalist': 1789, '885': 127, 'returned': 2768, 'dad': 892, 'stood': 3169, 'beside': 447, 'him5': 1562, 'proving': 2602, 'shame': 2981, 'works': 3688, 'sometimes5': 3079, 'coverage': 852, 'santa': 2868, 'fe': 1264, 'shooting5': 3002, 'eight': 1119, 'birth': 468, 'rates': 2654, 'diaper': 997, 'bottle': 510, 'feeling': 1272, 'pinch5': 2435, 'yelling': 3721, 'golf': 1427, 'resort5': 2755, 'posed': 2499, 'isd': 1746, 'relive': 2710, 'basketball': 410, 'glory': 1419, 'hillcrest': 1558, 'say5': 2880, 'explosive': 1217, 'eruption': 1180, 'rocks': 2813, 'kilauea': 1826, 'volcano': 3557, 'usgs5': 3509, 'texans': 3304, 'defensive': 949, 'funerals5': 1381, 'april': 314, 'walked': 3578, 'one5': 2295, 'china': 685, 'significantly': 3027, 'increase': 1672, 'purchases': 2615, 'goods': 1432, 'services5': 2967, 'sick': 3023, 'inaction': 1665, 'control5': 816, 'fyi': 1382, 'language': 1861, 'lot': 1977, 'multilingual': 2168, 'promote': 2579, 'never': 2217, 'done': 1052, 'fact': 1230, 'halt': 1485, 'imposing': 1659, 'import': 1656, 'tariffs5': 3268, 'michelle': 2090, 'tv': 3448, 'films': 1291, 'netflix5': 2214, 'chemical': 673, 'pollution': 2489, 'intervention': 1723, 'came': 579, 'warned': 3590, 'findings': 1296, 'cause': 635, 'payers': 2384, 'revolt': 2781, 'priced': 2540, 'fighting': 1283, 'whatever': 3639, 'pharma': 2417, 'queasy5': 2629, 'house5': 1612, 'illegal': 1641, 'hiding': 1549, 'trailer': 3395, 'traffic': 3392, 'stop5': 3172, 'sue': 3203, 'out5': 2318, 'panels': 2347, 'houses5': 1614, 'lava': 1877, 'flows': 1332, 'plant': 2451, 'sparking': 3090, 'deadly': 927, 'gas': 1391, 'release5': 2703, 'sinkhole': 3036, 'lawn5': 1884, 'summit': 3211, 'kim': 1833, 'delayed5': 956, 'pulls': 2610, 'summit5': 3212, 'jets': 1775, 'anthem5': 290, 'twitter5': 3454, 'middle': 2093, 'school5': 2903, 'elon': 1132, 'musk': 2176, 'develop': 991, 'rating': 2656, 'freaks': 1365, 'totalbiscuit': 3375, 'gaming': 1388, 'popular': 2494, 'youtubers': 3733, 'passed': 2366, 'away5': 371, 'patrol': 2378, 'slightly': 3052, 'account': 152, 'undocumented': 3468, 'fatal': 1256, 'armed': 324, 'restaurant5': 2761, 'male': 2002, 'detained': 986, 'noblesville': 2236, 'adult': 189, 'juvenile': 1803, 'transported': 3404, 'hospital5': 1600, 'weekend': 3622, 'dc5': 921, 'passenger': 2367, 'beer': 428, 'screamed': 2917, 'fought': 1352, 'spit': 3111, 'says5': 2890, 'ball': 390, 'chain': 649, 'lawmakers': 1883, 'curb': 878, 'contracts': 814, 'non': 2238, 'compete': 771, 'agreements': 220, 'startlingly': 3143, 'common': 766, 'pay5': 2381, 'corrects': 829, 'letter': 1929, 'sends': 2953, 'telemarketing': 3285, 'losing': 1975, 'robocalls': 2810, 'install': 1703, 'blocking': 480, 'else': 1133, 'done5': 1053, 'terms': 3295, 'favoured': 1260, 'contest': 808, 'finely': 1303, 'balanced5': 389, 'experiencing': 1210, 'pressure': 2535, 'sunday5': 3213, 'sharks': 2986, 'finned': 1306, 'alive': 244, 'beaten': 420, 'bats5': 412, 'rudy': 2829, 'giuliani': 1414, 'booed': 499, 'yankee': 3710, 'fans': 1248, 'birthday5': 469, 'beret': 443, 'nfler': 2225, 'weighs': 3627, 'rule5': 2830, 'grew': 1452, 'slower': 3055, 'quarter': 2628, 'revised': 2778, 'gdp': 1397, 'figures': 1285, 'show5': 3015, 'missouri': 2129, 'eric': 1178, 'greitens': 1451, 'resigns': 2752, 'amid': 272, 'scandal5': 2896, 'defendants': 945, 'sentences': 2959, 'gop': 1435, 'appointed': 309, 'judges5': 1793, 'abc': 136, 'roseanne': 2823, 'twitter': 3453, 'rant5': 2649, 'hitting': 1579, 'dirt': 1014, 'gulf': 1467, 'either': 1121, 'or': 2305, 'considering': 796, 'gaps5': 1389, 'dick': 1000, 'soaring': 3065, 'prove': 2599, 'succeed': 3201, 'rifles5': 2792, 'indicts': 1678, 'weinstein': 3629, 'rape': 2650, 'case5': 626, 'ambien': 264, 'maker': 1999, 'responds': 2757, 'racism': 2636, 'known': 1843, 'side': 3024, 'effect': 1113, 'thieves': 3324, 'inglewood': 1690, 'steal': 3153, '18k': 27, 'chemo': 675, 'medicine': 2065, 'battling': 413, 'cancer6': 594, '560': 103, 'fountain': 1356, 'pens6': 2396, 'justices': 1802, 'baker': 387, 'wedding': 3618, 'cake6': 572, 'soon': 3082, 'decades6': 936, 'david': 914, 'hogg': 1582, 'swatted': 3247, 'morning6': 2153, 'projects': 2576, 'shelved': 2991, 'tariff6': 3266, 'anthony': 291, 'bourdain': 513, '616': 109, 'navy': 2199, 'compromised': 776, 'chinese': 686, 'hackers': 1480, 'breach': 524, 'report6': 2728, 'yes': 3724, 'probably': 2556, 'elizabeth': 1130, 'follow': 1337, 'laws6': 1887, 'revoked': 2780, '291': 79, 'weapons': 3611, 'permits': 2408, 'employee': 1142, 'reviewing': 2777, 'background': 380, 'checks6': 672, 'dancing': 902, 'agent': 213, 'backflip': 379, 'often': 2281, 'sad6': 2854, 'suing': 3209, 'foundation': 1354, 'alleging': 252, 'extensive': 1221, 'persistent': 2411, 'lawbreaking': 1882, 'nfl': 2224, 'association': 348, 'challenge': 653, 'court6': 849, 'migrant': 2095, 'separation6': 2961, 'stopping': 3174, 'england': 1158, 'check': 671, 'citizenship6': 703, 'humiliated': 1621, 'walgreens': 3576, 'pregnancy6': 2524, 'encouraged': 1147, 'unethical': 3470, 'tactics': 3252, 'drive': 1080, 'directv': 1013, 'subscriptions6': 3199, 'derived': 983, 'epilepsy6': 1173, 'hbo': 1515, 'john': 1784, 'oliver': 2290, 'skewers': 3043, 'xi6': 3707, 'kennedy': 1815, 'retiring': 2767, 'pick6': 2430, 'rejects': 2698, '72': 116, 'waiting': 3574, 'period': 2405, 'requirement': 2742, 'abortion6': 141, 'including': 1671, 'refugees': 2689, 'targeted': 3263, 'stabbings': 3125, 'boise': 493, 'say7': 2881, 'scrubbed': 2920, 'account7': 154, 'malls': 2004, 'empty': 1144, '20127': 44, 'unexpectedly': 3471, 'resigned7': 2750, 'wwii7': 3706, '91': 130, 'brick': 532, 'country': 842, 'northern': 2241, 'ends': 1151, 'immigration': 1648, 'contract7': 812, 'ranchers': 2647, 'whose': 3649, 'occupation': 2264, 'refuge7': 2688, 'stormy': 3178, 'daniels': 906, 'dismissed': 1031, 'arrest7': 330, 'smugglers': 3062, '117': 8, 'mexico7': 2085, 'farmers': 1253, 'file': 1286, 'inferior': 1685, 'seeds': 2937, 'purpose7': 2616, 'praises': 2522, 'incredible': 1674, 'offer': 2269, 'investigators': 1735, 'probe7': 2558, 'void': 3556, 'local': 1962, 'deduction': 943, 'cap7': 603, 'measure': 2055, 'break': 525, 'november': 2246, 'ballot': 391, 'ruling7': 2834, 'traveling': 3405, 'scotland7': 2911, 'tisch': 3357, 'giants': 1411, 'protesters7': 2597, 'survivors': 3237, 'dead7': 925, 'high7': 1551, 'guards': 1464, 'target': 3262, 'canadian': 590, 'executives': 1201, 'dozen': 1069, 'past': 2371, 'banned': 398, 'entering': 1165, 'america7': 268, 'goods7': 1433, 'suspends': 3242, 'theorist': 3319, 'technology7': 3280, 'urges': 3497, 'rhetoric7': 2783, 'bid': 454, 'case7': 627, 'ted': 3281, 'cruz': 874, '2018': 59, 'polls': 2487, 'challenger': 654, 'beto': 449, 'rourke': 2826, 'shot8': 3008, 'sarah': 2869, 'jeong': 1772, 'spotlighted': 3116, 'hiring': 1569, 'bulls': 554, 'writer': 3698, 'joy': 1790, 'cruel': 872, '20183nannan': 63, '395': 88, 'infected': 1683, 'mcdonald': 2047, 'salad': 2858, 'outbreak8': 2322, 'hard': 1499, 'sears': 2925, 'pension': 2397, 'payments': 2387, 'cbc': 638, 'news8': 2222, 'steel': 3157, 'opening': 2300, 'mills': 2109, 'said8': 2857, 'council': 838, 'passes': 2370, 'resolution': 2754, 'walk': 3577, 'fame': 1245, 'mayor8': 2042, 'spotify': 3115, 'content8': 807, 'explained': 1212, 'phasing': 2420, 'until': 3487, 'reversal': 2775, 'scandal': 2895, 'leadership8': 1901, 'likely': 1947, 'socialists': 3066, 'members': 2075, 'congress8': 788, 'ark': 321, 'belong': 437, 'city8': 706, '35': 86, 'warplanes': 3593, 'turkey8': 3441, 'sleuth': 3050, 'identifies': 1638, 'run': 2835, 'arrest8': 331, 'tracks': 3388, 'location': 1963, 'history8': 1576, '87': 126, 'tasered': 3270, 'cutting': 889, 'dandelions': 903, 'georgia8': 1406, 'survived': 3234, 'foot': 1342, 'speaks': 3094, 'pusher': 2620, 'jail8': 1760, 'nyu': 2261, 'tuition': 3435, 'raised': 2642, '450': 97, 'estimated': 1186, 'needed': 2207, 'cover': 851, 'perpetuity8': 2410, 'satanic': 2871, 'temple': 3290, 'unveils': 3491, 'baphomet': 401, 'arkansas': 322, 'capitol8': 607, 'taken': 3254, 'rushing': 2842, 'wife': 3651, 'hospital': 1599, 'wanted': 3583, 'mexico8': 2086, 'twenty': 3451, 'rules8': 2833, 'strengthens': 3186, 'braces': 518, 'threatening': 3335, 'winds8': 3658, 'immigrant': 1645, 'montezuma': 2143, 'ap': 298, 'confessed': 784, 'kidnapping': 1823, 'mollie': 2135, 'tibbetts': 3346, 'small': 3058, 'hometown': 1594, 'dumping': 1098, 'field8': 1280, 'verizon': 3528, 'throttled': 3341, 'internet': 1721, 'speeds': 3103, 'blaze8': 477, 'longtime': 1969, 'cfo': 648, 'weisselberg': 3630, 'granted': 1446, 'immunity': 1650, 'probe8': 2559, 'meets': 2066, 'promoter': 2580, 'qanon': 2625, 'oval': 2328, 'office8': 2275, 'madden': 1989, 'tournament': 3381, 'jacksonville': 1757, 'florida8': 1330, 'accuses': 159, 'fair': 1236, 'him8': 1564, 'urged': 3496, 'lower': 1983, 'flag': 1322, 'mccain8': 2045, 'legally': 1920, 'toughest': 3379, 'laws8': 1888, 'looks': 1972, 'style': 3197, 'mccain': 2044, '106': 3, 'expected': 1207, 'attend': 355, 'services': 2965, 'dc': 920, 'maryland8': 2032, 'assembly9': 345, 'kavanaugh': 1810, 'hearing': 1526, 'instantly': 1704, 'melts': 2073, 'charade': 660, 'mockery': 2131, 'kaepernick': 1805, 'named': 2185, 'nike': 2232, '30th': 83, 'anniversary': 282, 'do': 1038, 'captain': 609, 'jailed': 1761, 'plot9': 2466, 'answers': 288, 'vanish9': 3520, 'lebron': 1914, 'stand': 3134, 'ad9': 176, 'commercial': 763, 'group9': 1459, 'spent': 3106, 'speaking': 3093, 'chicago9': 678, 'ford': 1348, 'recalls': 2664, 'pickup': 2432, 'trucks': 3424, 'seat': 2926, 'belts': 439, 'fires9': 1312, 'programs9': 2573, 'caught': 634, 'cracking': 853, 'joke': 1786, 'terrorists': 3299, 'discussing': 1025, 'niger': 2227, 'ambush': 265, 'died9': 1006, 'notified': 2245, 'lending': 1925, 'npr9': 2248, 'multiple': 2169, 'southeast': 3087, 'bakersfield9': 388, 'brett': 529, 'victim': 3535, 'speaks9': 3095, 'providers': 2601, 'slowing': 3056, 'streaming9': 3182, '13b': 13, 'years9': 3720, 'mccaskill': 2046, 'voting': 3566, 'court9': 850, 'duke': 1097, 'ash': 336, 'spill': 3108, 'carolina9': 618, 'impregnated': 1660, '160': 19, 'prison9': 2550, 'apartment9': 299, 'metals': 2082, 'billion9': 463, 'nashville': 2188, 'homicide': 1596, 'back9': 378, 'president9': 2531, 'tough': 3378, 'prompts': 2582, 'lawsuit10': 1890, 'marijuana10': 2017, 'engaged': 1155, 'schemes': 2899, 'reaped': 2660, 'riches': 2787, 'father10': 1259, 'palin': 2344, 'spend': 3104, 'allegation10': 246, 'ensnare': 1162, 'criminals10': 863, 'heitkamp': 1530, 'kavanaugh10': 1811, 'sparkling': 3091, 'lacroix': 1854, 'alleges': 250, 'products': 2565, 'mislabeled': 2122, 'natural': 2197, 'allegations': 247, 'weighing': 3626, 'beverage10': 452, 'tamir': 3260, 'rice': 2784, 'hired': 1567, 'bellaire': 436, 'department10': 974, 'turned': 3444, 'me': 2050, 'bride': 533, 'goes': 1422, 'photos': 2426, 'despite': 985, 'tragic': 3394, 'loss': 1976, 'firefighter': 1309, 'fiance10': 1279, 'experienced': 1209, 'driest': 1077, 'scientists': 2909, 'kept': 1819, 'records10': 2677, 'roberts': 2809, 'requests': 2740, 'tenth': 3294, 'circuit': 695, 'ethics': 1187, 'questions10': 2631, 'directions10': 1010, 'unvaccinated': 3490, 'cdc10': 641, 'retailer': 2766, 'chapter': 659, 'bankruptcy10': 397, 'remain': 2711, 'michael10': 2089, 'remains': 2713, 'fetuses': 1278, 'infants': 1682, 'detroit': 989, 'funeral': 1380, 'home10': 1589, 'mikhail': 2097, 'gorbachev': 1436, 'treaty': 3408, 'russia10': 2845, 'intercepts': 1716, 'suspicious': 3243, 'addressed': 181, 'clinton10': 725, 'helps': 1539, 'thwart': 3345, 'plot': 2464, 'kentucky10': 1818, 'sheds': 2988, 'date': 912, 'gains': 1385, 'drop10': 1085, 'sacks': 2852, 'dozens': 1070, 'harassment10': 1498, 'machines': 1988, 'changing': 657, 'ballots10': 392, 'arabia': 315, 'response': 2758, 'appear': 306, 'pittsburgh10': 2441, 'slipped': 3053, 'forcing': 1347, 'punished': 2614, 'foxconn': 1359, 'factory': 1231, 'main': 1995, 'product': 2564, 'mirrors11': 2121, 'insider': 1700, 'afghanistan': 202, 'say11': 2878, 'intoxicated': 1726, 'driver': 1081, 'run11': 2836, 'business': 560, 'approval': 312, 'trademarks': 3391, 'shutting': 3022, 'down11': 1067, '10th': 4, 'marijuana11': 2018, 'lines': 1949, 'broken': 542, 'polls11': 2488, 'department11': 975, 'antifa': 293, 'tucker': 3434, 'carlson': 616, 'chants': 658, 'host11': 1605, '157': 17, 'vehicles11': 3525, 'ca': 570, '48': 98, 'rouda': 2824, 'victory': 3540, 'unseating': 3486, 'antigay': 294, 'dana': 901, 'rohrabacher11': 2816, 'gi': 1410, 'ongoing': 2296, 'issues': 1750, 'va11': 3512, 'sues': 3205, 'barring': 406, 'jim': 1778, 'acosta11': 160, 'toll': 3362, 'rises': 2798, 'marking': 2025, 'history11': 1573, 'guard': 1463, 'jemel': 1768, 'roberson': 2807, 'holding': 1585, 'bar11': 403, 'marvel': 2030, 'stan': 3133, 'lee': 1916, 'aged': 210, '95': 133, 'surged': 3227, 'year11': 3712, 'denies': 970, 'motion': 2159, 'publisher': 2607, 'website11': 3616, 'coast': 738, 'seizes': 2941, 'cocaine11': 739, 'story': 3179, 'viral': 3550, 'gofundme': 1423, 'scam': 2892, 'fake11': 1237, 'unmarried': 3482, 'partner': 2362, 'adults11': 191, 'bankrupt': 396, 'bonuses11': 498, 'used': 3506, 'send': 2951, 'community': 767, 'chickenpox': 679, 'outbreak11': 2320, 'recording': 2675, 'bit': 471, 'naive': 2182, 'psa': 2604, 'type': 3457, 'romaine': 2820, 'lettuce': 1930, 'risk11': 2801, 'bribe': 530, 'deport': 976, 'antonio': 295, 'burgos': 557, 'married': 2027, 'brought': 546, 'el': 1122, 'salvador': 2862, 'detention': 988, 'center': 644, 'blocked': 479, 'limited': 1948, 'ability': 138, 'request': 2737, 'asylum': 350, 'rodgers': 2814, 'efforts11': 1116, '190': 29, 'sea': 2922, 'turtles': 3447, 'frozen': 1373, 'along': 257, 'cod11': 740, 'wrote': 3704, 'essay': 1184, 'senseless': 2955, 'stray': 3181, 'milwaukee11': 2110, 'gunman11': 1471, '2020': 64, 'beat': 419, 'trump11': 3426, 'hillenburg': 1559, 'creator': 856, 'spongebob': 3113, 'squarepants': 3121, 'died11': 1005, 'affairs': 199, 'staffers': 3129, 'recipients11': 2669, 'neglectful': 2209, 'detainment11': 987, 'marshal': 2028, 'felony': 1274, 'warrant11': 3594, 'yemen': 3723, 'lobbyists11': 1961, 'hw': 1633, '9412': 132, 'petition': 2416, 'bowl': 514, 'tribute': 3414, 'creator12': 857, 'illinois': 1643, 'restrictions': 2763, 'midwest12': 2094, 'lobbyists': 1960, 'working': 3687, 'sneak': 3063, 'copyright': 826, 'revive': 2779, 'proposals': 2587, 'sopa12': 3083, 'serial': 2962, 'abuser': 145, 'jeffrey': 1766, 'epstein': 1174, 'apologizes': 300, 'victims12': 3539, 'sinks': 3037, 'falling': 1241, 'yield': 3725, 'spook': 3114, 'investors12': 1737, 'extend': 1220, 'medicaid': 2062, 'immigrants12': 1647, 'whom': 3648, 'considered': 795, 'worthless': 3694, 'performing': 2404, 'hometown12': 1595, 'capable': 604, 'hasn': 1508, 'promises12': 2577, 'renowned': 2720, 'stanford': 3137, 'theoretical': 3317, 'physicist': 2428, 'shoucheng': 3010, 'zhang': 3736, 'discovered': 1021, 'topological': 3369, 'insulator': 1708, 'fractional': 1361, 'quantum': 2627, 'hall': 1484, 'founded': 1355, 'danhua': 905, '5512': 102, 'advisers': 195, 'simultaneously': 3033, 'contradict': 815, 'trade12': 3390, 'autism': 365, 'physically': 2427, 'restrained': 2762, 'school12': 2902, 'democrat': 961, 'says12': 2888, 'inslee': 1701, '204512': 65, 'turf': 3438, 'tests': 3303, 'waters12': 3603, 'afraid': 203, 'impeachment12': 1654, 'enquirer': 1161, 'hush': 1631, 'election12': 1126, 'surging': 3229, '201212': 43, 'inauguration': 1667, 'investigation12': 1733, 'maria': 2014, 'butina': 564, 'pleads': 2462, 'engaging': 1156, 'us12': 3500, 'bragged': 519, 'jennifer': 1771, 'lawrence': 1885, 'alleges12': 251, 'mobile': 2130, 'billboard': 460, 'streets': 3185, 'traitors': 3400, 'failed': 1233, 'review': 2776, 'act12': 165, 'half': 1483, 'adults': 190, 'seen': 2940, 'member': 2074, 'miners': 2114, 'regulators': 2694, 'it12': 1752, 'paycheck12': 2382, 'farm': 1251, 'backs': 382, 'programs': 2572, 'avoids': 366, 'stamp': 3130, 'cuts12': 888, 'wrongfully': 3702, 'doppelganger': 1059, 'ruth': 2848, 'bader': 384, 'ginsburg': 1412, 'eager': 1103, 'gym': 1474, 'surgery': 3228, 'training': 3399, 'jennie': 1770, '164': 20, 'pounds': 2511, 'turkey12': 3440, 'ramping': 2645, 'computing': 778, 'development': 992, '6227': 111, 'authorizes': 364, 'activities': 171, 'aimed': 227, 'boosting': 503, 'science': 2908, 'sat': 2870, 'elections': 1128, 'wish': 3668, 'voted12': 3561}\n"
          ],
          "name": "stdout"
        }
      ]
    },
    {
      "cell_type": "code",
      "metadata": {
        "id": "i9UKtD9w6pac",
        "colab_type": "code",
        "colab": {}
      },
      "source": [
        "# term frequency -inverse dense frequency\n",
        "#focusing on only the important keywords by getting rid of the a, an, the -\n",
        "# the ones which most often, but does not contribute to the sentiment of the sentence\n"
      ],
      "execution_count": 0,
      "outputs": []
    },
    {
      "cell_type": "code",
      "metadata": {
        "id": "ABJXx2-U81QK",
        "colab_type": "code",
        "colab": {}
      },
      "source": [
        "from sklearn.feature_extraction.text import TfidfVectorizer"
      ],
      "execution_count": 0,
      "outputs": []
    },
    {
      "cell_type": "code",
      "metadata": {
        "id": "9cJM8OJE5FPE",
        "colab_type": "code",
        "colab": {}
      },
      "source": [
        "tfidfv = TfidfVectorizer( min_df=0.03, max_df=0.98, max_features = 200000, ngram_range = (2, 2))\n",
        "tf_train = tfidfv.fit_transform(words)"
      ],
      "execution_count": 0,
      "outputs": []
    },
    {
      "cell_type": "code",
      "metadata": {
        "id": "AxCHN_389FdS",
        "colab_type": "code",
        "colab": {}
      },
      "source": [
        "tf_lr = LogisticRegression()\n",
        "tf_lr = tf_lr.fit(tf_train ,trainNews[\"Label_News\"])"
      ],
      "execution_count": 0,
      "outputs": []
    },
    {
      "cell_type": "code",
      "metadata": {
        "id": "N3-PtdmB9wmn",
        "colab_type": "code",
        "colab": {
          "base_uri": "https://localhost:8080/",
          "height": 187
        },
        "outputId": "078a7ab1-5143-47df-9ca2-dec2564db4d4"
      },
      "source": [
        "testwords=[]\n",
        "for value in range(0, len(testNews.index)):\n",
        "  testwords.append(''.join(str(i) for i in testNews.iloc[value,1:50]))\n",
        "tftest=tfidfv.transform(testwords)\n",
        "prediction=tf_lr.predict(tftest)\n",
        "print(prediction)\n",
        "accuracy=accuracy_score(testNews[\"Label_News\"],prediction)\n",
        "print(\"Accuracy LR\", accuracy)"
      ],
      "execution_count": 85,
      "outputs": [
        {
          "output_type": "stream",
          "text": [
            "[1 1 1 1 1 1 1 1 1 1 1 1 1 1 1 1 1 1 1 1 1 1 1 1 1 1 1 1 1 1 1 1 1 1 1 1 1\n",
            " 1 1 1 1 1 1 1 1 1 1 1 1 1 1 1 1 1 1 1 1 1 1 1 1 1 1 1 1 1 1 1 1 1 1 1 1 1\n",
            " 1 1 1 1 1 1 1 1 1 1 1 1 1 1 1 1 1 1 1 1 1 1 1 1 1 1 1 1 1 1 1 1 1 1 1 1 1\n",
            " 1 1 1 1 1 1 1 1 1 1 1 1 1 1 1 1 1 1 1 1 1 1 1 1 1 1 1 1 1 1 1 1 1 1 1 1 1\n",
            " 1 1 1 1 1 1 1 1 1 1 1 1 1 1 1 1 1 1 1 1 1 1 1 1 1 1 1 1 1 1 1 1 1 1 1 1 1\n",
            " 1 1 1 1 1 1 1 1 1 1 1 1 1 1 1 1 1 1 1 1 1 1 1 1 1 1 1 1 1 1 1 1 1 1 1 1 1\n",
            " 1 1 1 1 1 1 1 1 1 1 1 1 1 1 1 1 1 1 1 1 1 1 1 1 1 1 1 1 1 1 1 1 1 1 1 1 1\n",
            " 1 1 1 1 1 1 1 1 1 1 1 1 1 1 1 1 1 1 1 1 1 1 1 1 1 1 1 1 1 1 1 1 1 1 1 1 1\n",
            " 1 1 1]\n",
            "Accuracy LR 0.4080267558528428\n"
          ],
          "name": "stdout"
        }
      ]
    },
    {
      "cell_type": "code",
      "metadata": {
        "id": "YVj9qUCS-1Sb",
        "colab_type": "code",
        "colab": {}
      },
      "source": [
        "tfidfv = TfidfVectorizer( min_df=0.02, max_df=0.5, max_features = 200000, ngram_range = (2, 2))\n",
        "tf_train = tfidfv.fit_transform(words)"
      ],
      "execution_count": 0,
      "outputs": []
    },
    {
      "cell_type": "code",
      "metadata": {
        "id": "UOAKPAyM_o11",
        "colab_type": "code",
        "colab": {}
      },
      "source": [
        "#tried changing the lower and upper value ranges- ngram_range\n",
        "#frequency lower than 0.02 and frequency higher than 0.5 - those\n",
        "#words would be omitted "
      ],
      "execution_count": 0,
      "outputs": []
    },
    {
      "cell_type": "code",
      "metadata": {
        "id": "hdfSNBtI_ZmZ",
        "colab_type": "code",
        "colab": {}
      },
      "source": [
        "tf_lr = LogisticRegression()\n",
        "tf_lr = tf_lr.fit(tf_train ,trainNews[\"Label_News\"])"
      ],
      "execution_count": 0,
      "outputs": []
    },
    {
      "cell_type": "code",
      "metadata": {
        "id": "1S03Sfam_Wus",
        "colab_type": "code",
        "colab": {
          "base_uri": "https://localhost:8080/",
          "height": 187
        },
        "outputId": "c32738d9-aff0-46e1-ec40-ba2d15604dae"
      },
      "source": [
        "testwords=[]\n",
        "for value in range(0, len(testNews.index)):\n",
        "  testwords.append(''.join(str(i) for i in testNews.iloc[value,1:50]))\n",
        "tftest=tfidfv.transform(testwords)\n",
        "prediction=tf_lr.predict(tftest)\n",
        "print(prediction)\n",
        "accuracy=accuracy_score(testNews[\"Label_News\"],prediction)\n",
        "print(\"Accuracy LR\", accuracy)"
      ],
      "execution_count": 98,
      "outputs": [
        {
          "output_type": "stream",
          "text": [
            "[1 1 1 1 1 1 1 1 1 1 1 1 1 1 1 1 1 1 1 1 1 1 1 1 1 1 1 1 1 1 1 1 1 1 1 1 1\n",
            " 1 1 1 1 1 1 1 1 1 1 1 1 1 1 1 1 1 1 1 1 1 1 1 1 1 1 1 1 1 1 1 1 1 1 1 1 1\n",
            " 1 1 1 1 1 1 1 1 1 1 1 1 1 1 1 1 1 1 1 1 1 1 1 1 1 1 1 1 1 1 1 1 1 1 1 1 1\n",
            " 1 1 1 1 1 1 1 1 1 1 1 1 1 1 1 1 1 1 1 1 1 1 1 1 1 1 1 1 1 1 1 1 1 1 1 1 1\n",
            " 1 1 1 1 1 1 1 1 1 1 1 1 1 1 1 1 1 1 1 1 1 1 1 1 1 1 1 1 1 1 1 1 1 1 1 1 1\n",
            " 1 1 1 1 1 1 1 1 1 1 1 1 1 1 1 1 1 1 1 1 1 1 1 1 1 1 1 1 1 1 1 1 1 1 1 1 1\n",
            " 1 1 1 1 1 1 1 1 1 1 1 1 1 1 1 1 1 1 1 1 1 1 1 1 1 1 1 1 1 1 1 1 1 1 1 1 1\n",
            " 1 1 1 1 1 1 1 1 1 1 1 1 1 1 1 1 1 1 1 1 1 1 1 1 1 1 1 1 1 1 1 1 1 1 1 1 1\n",
            " 1 1 1]\n",
            "Accuracy LR 0.4080267558528428\n"
          ],
          "name": "stdout"
        }
      ]
    },
    {
      "cell_type": "code",
      "metadata": {
        "id": "FFJnoB6PBgiW",
        "colab_type": "code",
        "colab": {}
      },
      "source": [
        "tfidfv = TfidfVectorizer( min_df=0.02, max_df=0.5, max_features = 200000, ngram_range = (2, 2))\n",
        "tf_train = tfidfv.fit_transform(words)"
      ],
      "execution_count": 0,
      "outputs": []
    },
    {
      "cell_type": "code",
      "metadata": {
        "id": "9-_8lElWDR-7",
        "colab_type": "code",
        "colab": {}
      },
      "source": [
        "from sklearn.naive_bayes import MultinomialNB"
      ],
      "execution_count": 0,
      "outputs": []
    },
    {
      "cell_type": "code",
      "metadata": {
        "id": "Xtl0t4vzAfKX",
        "colab_type": "code",
        "colab": {}
      },
      "source": [
        "nb=MultinomialNB(alpha=0.01)\n",
        "nb=nb.fit(tf_train, trainNews[\"Label_News\"])"
      ],
      "execution_count": 0,
      "outputs": []
    },
    {
      "cell_type": "code",
      "metadata": {
        "id": "X7XBvOEu_r7z",
        "colab_type": "code",
        "colab": {
          "base_uri": "https://localhost:8080/",
          "height": 187
        },
        "outputId": "bcc1a165-d986-4568-b8c6-e59b421c3c57"
      },
      "source": [
        "testwords=[]\n",
        "for value in range(0, len(testNews.index)):\n",
        "  testwords.append(''.join(str(i) for i in testNews.iloc[value,1:50]))\n",
        "tftest=tfidfv.transform(testwords)\n",
        "prediction=nb.predict(tftest)\n",
        "print(prediction)\n",
        "accuracy=accuracy_score(testNews[\"Label_News\"],prediction)\n",
        "print(\"Accuracy LR\", accuracy)"
      ],
      "execution_count": 103,
      "outputs": [
        {
          "output_type": "stream",
          "text": [
            "[1 1 1 1 1 1 1 1 1 1 1 1 1 1 1 1 1 1 1 1 1 1 1 0 1 1 1 1 1 1 1 1 1 1 1 1 1\n",
            " 1 1 1 1 1 1 1 1 1 1 1 1 1 1 1 1 1 1 1 1 1 1 1 1 1 1 1 1 1 1 1 1 1 1 1 1 1\n",
            " 1 1 1 1 1 1 1 1 1 1 1 1 1 1 1 1 1 1 1 1 1 1 1 1 1 1 1 1 1 1 1 1 1 1 1 1 1\n",
            " 1 1 1 1 1 1 1 1 1 1 1 1 1 1 1 1 1 1 1 1 1 1 1 1 1 1 1 1 1 1 1 1 1 1 1 1 1\n",
            " 1 1 1 1 1 1 1 1 1 1 1 1 1 1 1 1 1 1 1 1 1 1 1 1 1 1 1 1 1 1 1 1 1 1 1 1 1\n",
            " 1 1 1 1 1 1 1 1 1 1 1 1 1 1 1 1 1 1 1 1 1 1 0 1 1 1 1 1 1 1 1 1 1 1 1 1 1\n",
            " 1 1 1 1 1 1 1 1 1 1 1 1 1 1 1 1 1 1 1 1 1 1 1 1 1 1 1 1 1 1 1 1 1 1 1 1 1\n",
            " 1 1 1 1 1 1 1 1 1 1 1 1 1 1 1 1 1 1 1 1 1 1 1 1 1 1 1 1 1 1 1 1 1 1 1 1 1\n",
            " 1 1 1]\n",
            "Accuracy LR 0.411371237458194\n"
          ],
          "name": "stdout"
        }
      ]
    },
    {
      "cell_type": "code",
      "metadata": {
        "id": "IzG4RYpUD1Bb",
        "colab_type": "code",
        "colab": {}
      },
      "source": [
        "#with increased max_df\n"
      ],
      "execution_count": 0,
      "outputs": []
    },
    {
      "cell_type": "code",
      "metadata": {
        "id": "b-Fxf8Jg_hKk",
        "colab_type": "code",
        "colab": {}
      },
      "source": [
        ""
      ],
      "execution_count": 0,
      "outputs": []
    },
    {
      "cell_type": "code",
      "metadata": {
        "id": "0lZhYHMu-xSN",
        "colab_type": "code",
        "colab": {}
      },
      "source": [
        ""
      ],
      "execution_count": 0,
      "outputs": []
    },
    {
      "cell_type": "code",
      "metadata": {
        "id": "p27jNoqr-kRZ",
        "colab_type": "code",
        "colab": {}
      },
      "source": [
        ""
      ],
      "execution_count": 0,
      "outputs": []
    },
    {
      "cell_type": "code",
      "metadata": {
        "id": "M270Atfp9uWk",
        "colab_type": "code",
        "colab": {}
      },
      "source": [
        ""
      ],
      "execution_count": 0,
      "outputs": []
    },
    {
      "cell_type": "code",
      "metadata": {
        "id": "S3ey8aHx9bVk",
        "colab_type": "code",
        "colab": {}
      },
      "source": [
        ""
      ],
      "execution_count": 0,
      "outputs": []
    },
    {
      "cell_type": "code",
      "metadata": {
        "id": "y7LTmAAg83YY",
        "colab_type": "code",
        "colab": {}
      },
      "source": [
        ""
      ],
      "execution_count": 0,
      "outputs": []
    },
    {
      "cell_type": "code",
      "metadata": {
        "id": "_MBZMifv8vLR",
        "colab_type": "code",
        "colab": {}
      },
      "source": [
        ""
      ],
      "execution_count": 0,
      "outputs": []
    },
    {
      "cell_type": "code",
      "metadata": {
        "id": "0EIV70o74AKl",
        "colab_type": "code",
        "colab": {}
      },
      "source": [
        ""
      ],
      "execution_count": 0,
      "outputs": []
    },
    {
      "cell_type": "code",
      "metadata": {
        "id": "AGfuVREU3h7t",
        "colab_type": "code",
        "colab": {}
      },
      "source": [
        ""
      ],
      "execution_count": 0,
      "outputs": []
    },
    {
      "cell_type": "code",
      "metadata": {
        "id": "oSHgbMzg3dmT",
        "colab_type": "code",
        "colab": {}
      },
      "source": [
        ""
      ],
      "execution_count": 0,
      "outputs": []
    },
    {
      "cell_type": "code",
      "metadata": {
        "id": "8tCIFBxy3BYN",
        "colab_type": "code",
        "colab": {}
      },
      "source": [
        ""
      ],
      "execution_count": 0,
      "outputs": []
    },
    {
      "cell_type": "code",
      "metadata": {
        "id": "iCNOCQKD25XW",
        "colab_type": "code",
        "colab": {}
      },
      "source": [
        ""
      ],
      "execution_count": 0,
      "outputs": []
    },
    {
      "cell_type": "code",
      "metadata": {
        "id": "Dkayzjw1zdPt",
        "colab_type": "code",
        "colab": {}
      },
      "source": [
        ""
      ],
      "execution_count": 0,
      "outputs": []
    },
    {
      "cell_type": "code",
      "metadata": {
        "id": "_4we6h_GzTw4",
        "colab_type": "code",
        "colab": {}
      },
      "source": [
        ""
      ],
      "execution_count": 0,
      "outputs": []
    },
    {
      "cell_type": "code",
      "metadata": {
        "id": "JksLO25Iu3Vs",
        "colab_type": "code",
        "colab": {}
      },
      "source": [
        ""
      ],
      "execution_count": 0,
      "outputs": []
    },
    {
      "cell_type": "code",
      "metadata": {
        "id": "x1KWQVW7uY4_",
        "colab_type": "code",
        "colab": {}
      },
      "source": [
        ""
      ],
      "execution_count": 0,
      "outputs": []
    },
    {
      "cell_type": "code",
      "metadata": {
        "id": "jZtatpTBrBtQ",
        "colab_type": "code",
        "colab": {}
      },
      "source": [
        ""
      ],
      "execution_count": 0,
      "outputs": []
    },
    {
      "cell_type": "code",
      "metadata": {
        "id": "1aKGqJ6uq7ZW",
        "colab_type": "code",
        "colab": {}
      },
      "source": [
        ""
      ],
      "execution_count": 0,
      "outputs": []
    },
    {
      "cell_type": "code",
      "metadata": {
        "id": "KkMxzVK0oMg3",
        "colab_type": "code",
        "colab": {}
      },
      "source": [
        ""
      ],
      "execution_count": 0,
      "outputs": []
    },
    {
      "cell_type": "code",
      "metadata": {
        "id": "kN_9Q82BoBUh",
        "colab_type": "code",
        "colab": {}
      },
      "source": [
        ""
      ],
      "execution_count": 0,
      "outputs": []
    },
    {
      "cell_type": "code",
      "metadata": {
        "id": "EEA1pDc-iSIW",
        "colab_type": "code",
        "colab": {}
      },
      "source": [
        ""
      ],
      "execution_count": 0,
      "outputs": []
    },
    {
      "cell_type": "code",
      "metadata": {
        "id": "qs5ixg0aiFS4",
        "colab_type": "code",
        "colab": {}
      },
      "source": [
        ""
      ],
      "execution_count": 0,
      "outputs": []
    },
    {
      "cell_type": "code",
      "metadata": {
        "id": "ULlGhRDqYN8X",
        "colab_type": "code",
        "colab": {}
      },
      "source": [
        ""
      ],
      "execution_count": 0,
      "outputs": []
    },
    {
      "cell_type": "code",
      "metadata": {
        "id": "-S8UOeZ1Xzeu",
        "colab_type": "code",
        "colab": {}
      },
      "source": [
        ""
      ],
      "execution_count": 0,
      "outputs": []
    },
    {
      "cell_type": "code",
      "metadata": {
        "id": "2Ca7vdZAXQMm",
        "colab_type": "code",
        "colab": {}
      },
      "source": [
        ""
      ],
      "execution_count": 0,
      "outputs": []
    },
    {
      "cell_type": "code",
      "metadata": {
        "id": "lQoIRh2IWC7U",
        "colab_type": "code",
        "colab": {}
      },
      "source": [
        ""
      ],
      "execution_count": 0,
      "outputs": []
    },
    {
      "cell_type": "code",
      "metadata": {
        "id": "cHEUSwM8U4b1",
        "colab_type": "code",
        "colab": {}
      },
      "source": [
        ""
      ],
      "execution_count": 0,
      "outputs": []
    },
    {
      "cell_type": "code",
      "metadata": {
        "id": "5g0Snss0Ux0B",
        "colab_type": "code",
        "colab": {}
      },
      "source": [
        ""
      ],
      "execution_count": 0,
      "outputs": []
    },
    {
      "cell_type": "code",
      "metadata": {
        "id": "gWbY2mfIPVo2",
        "colab_type": "code",
        "colab": {}
      },
      "source": [
        ""
      ],
      "execution_count": 0,
      "outputs": []
    },
    {
      "cell_type": "code",
      "metadata": {
        "id": "kUCNLFIoLzL5",
        "colab_type": "code",
        "colab": {}
      },
      "source": [
        ""
      ],
      "execution_count": 0,
      "outputs": []
    },
    {
      "cell_type": "code",
      "metadata": {
        "id": "IQcguTqxLYG5",
        "colab_type": "code",
        "colab": {}
      },
      "source": [
        ""
      ],
      "execution_count": 0,
      "outputs": []
    },
    {
      "cell_type": "code",
      "metadata": {
        "id": "Xuzp9GX0LFk1",
        "colab_type": "code",
        "colab": {}
      },
      "source": [
        ""
      ],
      "execution_count": 0,
      "outputs": []
    },
    {
      "cell_type": "code",
      "metadata": {
        "id": "wpPOZmd5K_oH",
        "colab_type": "code",
        "colab": {}
      },
      "source": [
        ""
      ],
      "execution_count": 0,
      "outputs": []
    },
    {
      "cell_type": "code",
      "metadata": {
        "id": "p3XTpXiEIhgu",
        "colab_type": "code",
        "colab": {}
      },
      "source": [
        ""
      ],
      "execution_count": 0,
      "outputs": []
    },
    {
      "cell_type": "code",
      "metadata": {
        "id": "xuueLAapIP01",
        "colab_type": "code",
        "colab": {}
      },
      "source": [
        ""
      ],
      "execution_count": 0,
      "outputs": []
    },
    {
      "cell_type": "code",
      "metadata": {
        "id": "c0Nktp4mIMqI",
        "colab_type": "code",
        "colab": {}
      },
      "source": [
        ""
      ],
      "execution_count": 0,
      "outputs": []
    },
    {
      "cell_type": "code",
      "metadata": {
        "id": "w2I_Qxe1H2vQ",
        "colab_type": "code",
        "colab": {}
      },
      "source": [
        ""
      ],
      "execution_count": 0,
      "outputs": []
    },
    {
      "cell_type": "code",
      "metadata": {
        "id": "0XhSQwfrGdMD",
        "colab_type": "code",
        "colab": {}
      },
      "source": [
        ""
      ],
      "execution_count": 0,
      "outputs": []
    },
    {
      "cell_type": "code",
      "metadata": {
        "id": "lcswu_y8F0zf",
        "colab_type": "code",
        "colab": {}
      },
      "source": [
        ""
      ],
      "execution_count": 0,
      "outputs": []
    },
    {
      "cell_type": "code",
      "metadata": {
        "id": "QvmJo0JHFpc6",
        "colab_type": "code",
        "colab": {}
      },
      "source": [
        ""
      ],
      "execution_count": 0,
      "outputs": []
    },
    {
      "cell_type": "code",
      "metadata": {
        "id": "R3pHVyQ2Fd7p",
        "colab_type": "code",
        "colab": {}
      },
      "source": [
        ""
      ],
      "execution_count": 0,
      "outputs": []
    },
    {
      "cell_type": "code",
      "metadata": {
        "id": "5erSdkkBEPFe",
        "colab_type": "code",
        "colab": {}
      },
      "source": [
        ""
      ],
      "execution_count": 0,
      "outputs": []
    },
    {
      "cell_type": "code",
      "metadata": {
        "id": "Rbb9X4hgCQbz",
        "colab_type": "code",
        "colab": {}
      },
      "source": [
        ""
      ],
      "execution_count": 0,
      "outputs": []
    },
    {
      "cell_type": "code",
      "metadata": {
        "id": "aupJv2DvB4El",
        "colab_type": "code",
        "colab": {}
      },
      "source": [
        ""
      ],
      "execution_count": 0,
      "outputs": []
    },
    {
      "cell_type": "code",
      "metadata": {
        "id": "2lz8RjDJByXG",
        "colab_type": "code",
        "colab": {}
      },
      "source": [
        ""
      ],
      "execution_count": 0,
      "outputs": []
    }
  ]
}